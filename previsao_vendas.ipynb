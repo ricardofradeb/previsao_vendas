{
  "nbformat": 4,
  "nbformat_minor": 0,
  "metadata": {
    "colab": {
      "provenance": [],
      "authorship_tag": "ABX9TyMlpwX9N/GKG/kKyzHlIa2o",
      "include_colab_link": true
    },
    "kernelspec": {
      "name": "python3",
      "display_name": "Python 3"
    },
    "language_info": {
      "name": "python"
    }
  },
  "cells": [
    {
      "cell_type": "markdown",
      "metadata": {
        "id": "view-in-github",
        "colab_type": "text"
      },
      "source": [
        "<a href=\"https://colab.research.google.com/github/ricardofradeb/previsao_vendas/blob/main/previsao_vendas.ipynb\" target=\"_parent\"><img src=\"https://colab.research.google.com/assets/colab-badge.svg\" alt=\"Open In Colab\"/></a>"
      ]
    },
    {
      "cell_type": "markdown",
      "source": [
        "## Previsão de vendas de um produto específico"
      ],
      "metadata": {
        "id": "IsggkrvXFuub"
      }
    },
    {
      "cell_type": "markdown",
      "source": [
        "Realização da importação das bibliotecas:\n",
        "\n",
        "*   pandas - para análise e manipulação dos dados\n",
        "*   seaborn - para plot de distribuição (histograma)\n",
        "*   plotly - usado para plotar graficos de pizza das principais váriveis\n"
      ],
      "metadata": {
        "id": "PTIozSRBGRQx"
      }
    },
    {
      "cell_type": "code",
      "execution_count": 2,
      "metadata": {
        "id": "AF1DnK3dFqli"
      },
      "outputs": [],
      "source": [
        "import pandas as pd\n",
        "import seaborn as sns\n",
        "import plotly.express as px"
      ]
    },
    {
      "cell_type": "markdown",
      "source": [
        "Leitura do dataset, que pode ser encontrado em [kaggle supplement sales](https://www.kaggle.com/sureshmecad/supplement-sales-prediction) e visualização das primeiras linhas.\n",
        "\n",
        "**Nossa variável de saída é a coluna** ```#Order``` **que representa o número de pedidos, dadas as condições apresentadas nas demais colunas**\n"
      ],
      "metadata": {
        "id": "IAF2GteqGisx"
      }
    },
    {
      "cell_type": "code",
      "source": [
        "data = pd.read_csv(\"/TRAIN.csv\")\n",
        "data.head()"
      ],
      "metadata": {
        "colab": {
          "base_uri": "https://localhost:8080/",
          "height": 206
        },
        "id": "295Juep2GktZ",
        "outputId": "966704f0-ccfc-4bce-e459-07de40689438"
      },
      "execution_count": 16,
      "outputs": [
        {
          "output_type": "execute_result",
          "data": {
            "text/plain": [
              "         ID  Store_id Store_Type Location_Type Region_Code        Date  \\\n",
              "0  T1000001         1         S1            L3          R1  2018-01-01   \n",
              "1  T1000002       253         S4            L2          R1  2018-01-01   \n",
              "2  T1000003       252         S3            L2          R1  2018-01-01   \n",
              "3  T1000004       251         S2            L3          R1  2018-01-01   \n",
              "4  T1000005       250         S2            L3          R4  2018-01-01   \n",
              "\n",
              "   Holiday Discount  #Order     Sales  \n",
              "0        1      Yes       9   7011.84  \n",
              "1        1      Yes      60  51789.12  \n",
              "2        1      Yes      42  36868.20  \n",
              "3        1      Yes      23  19715.16  \n",
              "4        1      Yes      62  45614.52  "
            ],
            "text/html": [
              "\n",
              "  <div id=\"df-6e602853-401e-4521-af2d-7c2b055fef0d\">\n",
              "    <div class=\"colab-df-container\">\n",
              "      <div>\n",
              "<style scoped>\n",
              "    .dataframe tbody tr th:only-of-type {\n",
              "        vertical-align: middle;\n",
              "    }\n",
              "\n",
              "    .dataframe tbody tr th {\n",
              "        vertical-align: top;\n",
              "    }\n",
              "\n",
              "    .dataframe thead th {\n",
              "        text-align: right;\n",
              "    }\n",
              "</style>\n",
              "<table border=\"1\" class=\"dataframe\">\n",
              "  <thead>\n",
              "    <tr style=\"text-align: right;\">\n",
              "      <th></th>\n",
              "      <th>ID</th>\n",
              "      <th>Store_id</th>\n",
              "      <th>Store_Type</th>\n",
              "      <th>Location_Type</th>\n",
              "      <th>Region_Code</th>\n",
              "      <th>Date</th>\n",
              "      <th>Holiday</th>\n",
              "      <th>Discount</th>\n",
              "      <th>#Order</th>\n",
              "      <th>Sales</th>\n",
              "    </tr>\n",
              "  </thead>\n",
              "  <tbody>\n",
              "    <tr>\n",
              "      <th>0</th>\n",
              "      <td>T1000001</td>\n",
              "      <td>1</td>\n",
              "      <td>S1</td>\n",
              "      <td>L3</td>\n",
              "      <td>R1</td>\n",
              "      <td>2018-01-01</td>\n",
              "      <td>1</td>\n",
              "      <td>Yes</td>\n",
              "      <td>9</td>\n",
              "      <td>7011.84</td>\n",
              "    </tr>\n",
              "    <tr>\n",
              "      <th>1</th>\n",
              "      <td>T1000002</td>\n",
              "      <td>253</td>\n",
              "      <td>S4</td>\n",
              "      <td>L2</td>\n",
              "      <td>R1</td>\n",
              "      <td>2018-01-01</td>\n",
              "      <td>1</td>\n",
              "      <td>Yes</td>\n",
              "      <td>60</td>\n",
              "      <td>51789.12</td>\n",
              "    </tr>\n",
              "    <tr>\n",
              "      <th>2</th>\n",
              "      <td>T1000003</td>\n",
              "      <td>252</td>\n",
              "      <td>S3</td>\n",
              "      <td>L2</td>\n",
              "      <td>R1</td>\n",
              "      <td>2018-01-01</td>\n",
              "      <td>1</td>\n",
              "      <td>Yes</td>\n",
              "      <td>42</td>\n",
              "      <td>36868.20</td>\n",
              "    </tr>\n",
              "    <tr>\n",
              "      <th>3</th>\n",
              "      <td>T1000004</td>\n",
              "      <td>251</td>\n",
              "      <td>S2</td>\n",
              "      <td>L3</td>\n",
              "      <td>R1</td>\n",
              "      <td>2018-01-01</td>\n",
              "      <td>1</td>\n",
              "      <td>Yes</td>\n",
              "      <td>23</td>\n",
              "      <td>19715.16</td>\n",
              "    </tr>\n",
              "    <tr>\n",
              "      <th>4</th>\n",
              "      <td>T1000005</td>\n",
              "      <td>250</td>\n",
              "      <td>S2</td>\n",
              "      <td>L3</td>\n",
              "      <td>R4</td>\n",
              "      <td>2018-01-01</td>\n",
              "      <td>1</td>\n",
              "      <td>Yes</td>\n",
              "      <td>62</td>\n",
              "      <td>45614.52</td>\n",
              "    </tr>\n",
              "  </tbody>\n",
              "</table>\n",
              "</div>\n",
              "      <button class=\"colab-df-convert\" onclick=\"convertToInteractive('df-6e602853-401e-4521-af2d-7c2b055fef0d')\"\n",
              "              title=\"Convert this dataframe to an interactive table.\"\n",
              "              style=\"display:none;\">\n",
              "        \n",
              "  <svg xmlns=\"http://www.w3.org/2000/svg\" height=\"24px\"viewBox=\"0 0 24 24\"\n",
              "       width=\"24px\">\n",
              "    <path d=\"M0 0h24v24H0V0z\" fill=\"none\"/>\n",
              "    <path d=\"M18.56 5.44l.94 2.06.94-2.06 2.06-.94-2.06-.94-.94-2.06-.94 2.06-2.06.94zm-11 1L8.5 8.5l.94-2.06 2.06-.94-2.06-.94L8.5 2.5l-.94 2.06-2.06.94zm10 10l.94 2.06.94-2.06 2.06-.94-2.06-.94-.94-2.06-.94 2.06-2.06.94z\"/><path d=\"M17.41 7.96l-1.37-1.37c-.4-.4-.92-.59-1.43-.59-.52 0-1.04.2-1.43.59L10.3 9.45l-7.72 7.72c-.78.78-.78 2.05 0 2.83L4 21.41c.39.39.9.59 1.41.59.51 0 1.02-.2 1.41-.59l7.78-7.78 2.81-2.81c.8-.78.8-2.07 0-2.86zM5.41 20L4 18.59l7.72-7.72 1.47 1.35L5.41 20z\"/>\n",
              "  </svg>\n",
              "      </button>\n",
              "      \n",
              "  <style>\n",
              "    .colab-df-container {\n",
              "      display:flex;\n",
              "      flex-wrap:wrap;\n",
              "      gap: 12px;\n",
              "    }\n",
              "\n",
              "    .colab-df-convert {\n",
              "      background-color: #E8F0FE;\n",
              "      border: none;\n",
              "      border-radius: 50%;\n",
              "      cursor: pointer;\n",
              "      display: none;\n",
              "      fill: #1967D2;\n",
              "      height: 32px;\n",
              "      padding: 0 0 0 0;\n",
              "      width: 32px;\n",
              "    }\n",
              "\n",
              "    .colab-df-convert:hover {\n",
              "      background-color: #E2EBFA;\n",
              "      box-shadow: 0px 1px 2px rgba(60, 64, 67, 0.3), 0px 1px 3px 1px rgba(60, 64, 67, 0.15);\n",
              "      fill: #174EA6;\n",
              "    }\n",
              "\n",
              "    [theme=dark] .colab-df-convert {\n",
              "      background-color: #3B4455;\n",
              "      fill: #D2E3FC;\n",
              "    }\n",
              "\n",
              "    [theme=dark] .colab-df-convert:hover {\n",
              "      background-color: #434B5C;\n",
              "      box-shadow: 0px 1px 3px 1px rgba(0, 0, 0, 0.15);\n",
              "      filter: drop-shadow(0px 1px 2px rgba(0, 0, 0, 0.3));\n",
              "      fill: #FFFFFF;\n",
              "    }\n",
              "  </style>\n",
              "\n",
              "      <script>\n",
              "        const buttonEl =\n",
              "          document.querySelector('#df-6e602853-401e-4521-af2d-7c2b055fef0d button.colab-df-convert');\n",
              "        buttonEl.style.display =\n",
              "          google.colab.kernel.accessAllowed ? 'block' : 'none';\n",
              "\n",
              "        async function convertToInteractive(key) {\n",
              "          const element = document.querySelector('#df-6e602853-401e-4521-af2d-7c2b055fef0d');\n",
              "          const dataTable =\n",
              "            await google.colab.kernel.invokeFunction('convertToInteractive',\n",
              "                                                     [key], {});\n",
              "          if (!dataTable) return;\n",
              "\n",
              "          const docLinkHtml = 'Like what you see? Visit the ' +\n",
              "            '<a target=\"_blank\" href=https://colab.research.google.com/notebooks/data_table.ipynb>data table notebook</a>'\n",
              "            + ' to learn more about interactive tables.';\n",
              "          element.innerHTML = '';\n",
              "          dataTable['output_type'] = 'display_data';\n",
              "          await google.colab.output.renderOutput(dataTable, element);\n",
              "          const docLink = document.createElement('div');\n",
              "          docLink.innerHTML = docLinkHtml;\n",
              "          element.appendChild(docLink);\n",
              "        }\n",
              "      </script>\n",
              "    </div>\n",
              "  </div>\n",
              "  "
            ]
          },
          "metadata": {},
          "execution_count": 16
        }
      ]
    },
    {
      "cell_type": "markdown",
      "source": [
        "Agora veremos algumas características necessárias para saber que tipo de dataset estamos trabalhando.\n",
        "Extraindo informações a respeito do tipo de dados em cada coluna, e contagem de valores, nulos e não nulos.\n",
        "\n",
        "As principais colunas (entradas) são ```Store_Type```, ```Location_Type```, ```Holiday```, ```Discount```, enquanto ```#Order``` será a saída do nosso sitema."
      ],
      "metadata": {
        "id": "1d2CFxquIZ3i"
      }
    },
    {
      "cell_type": "code",
      "source": [
        "data.info()"
      ],
      "metadata": {
        "colab": {
          "base_uri": "https://localhost:8080/"
        },
        "id": "6m7YJ8N0Ibpo",
        "outputId": "c78dfb51-b586-4247-b0ed-a76d9854d882"
      },
      "execution_count": 17,
      "outputs": [
        {
          "output_type": "stream",
          "name": "stdout",
          "text": [
            "<class 'pandas.core.frame.DataFrame'>\n",
            "RangeIndex: 188340 entries, 0 to 188339\n",
            "Data columns (total 10 columns):\n",
            " #   Column         Non-Null Count   Dtype  \n",
            "---  ------         --------------   -----  \n",
            " 0   ID             188340 non-null  object \n",
            " 1   Store_id       188340 non-null  int64  \n",
            " 2   Store_Type     188340 non-null  object \n",
            " 3   Location_Type  188340 non-null  object \n",
            " 4   Region_Code    188340 non-null  object \n",
            " 5   Date           188340 non-null  object \n",
            " 6   Holiday        188340 non-null  int64  \n",
            " 7   Discount       188340 non-null  object \n",
            " 8   #Order         188340 non-null  int64  \n",
            " 9   Sales          188340 non-null  float64\n",
            "dtypes: float64(1), int64(3), object(6)\n",
            "memory usage: 14.4+ MB\n"
          ]
        }
      ]
    },
    {
      "cell_type": "markdown",
      "source": [
        "Explicitando agora o total de valores nulos, que representam valores faltantes, podemos notar que o dataset não os apresenta."
      ],
      "metadata": {
        "id": "PqRgT8veIf4A"
      }
    },
    {
      "cell_type": "code",
      "source": [
        "data.isnull().sum()"
      ],
      "metadata": {
        "colab": {
          "base_uri": "https://localhost:8080/"
        },
        "id": "mS3I9Cc7IgeY",
        "outputId": "830d60bf-bbe3-4751-d48a-8c73687e75bd"
      },
      "execution_count": 18,
      "outputs": [
        {
          "output_type": "execute_result",
          "data": {
            "text/plain": [
              "ID               0\n",
              "Store_id         0\n",
              "Store_Type       0\n",
              "Location_Type    0\n",
              "Region_Code      0\n",
              "Date             0\n",
              "Holiday          0\n",
              "Discount         0\n",
              "#Order           0\n",
              "Sales            0\n",
              "dtype: int64"
            ]
          },
          "metadata": {},
          "execution_count": 18
        }
      ]
    },
    {
      "cell_type": "markdown",
      "source": [
        "Agora vamos explicitar as pricipais informações do dataset, como a média e o desvio padrão."
      ],
      "metadata": {
        "id": "nt6c3BExItNg"
      }
    },
    {
      "cell_type": "code",
      "source": [
        "data.describe()"
      ],
      "metadata": {
        "colab": {
          "base_uri": "https://localhost:8080/",
          "height": 300
        },
        "id": "c4pqi0oDItoo",
        "outputId": "fb18e647-2f79-4497-f634-f0270b69a1b3"
      },
      "execution_count": 19,
      "outputs": [
        {
          "output_type": "execute_result",
          "data": {
            "text/plain": [
              "            Store_id        Holiday         #Order          Sales\n",
              "count  188340.000000  188340.000000  188340.000000  188340.000000\n",
              "mean      183.000000       0.131783      68.205692   42784.327982\n",
              "std       105.366308       0.338256      30.467415   18456.708302\n",
              "min         1.000000       0.000000       0.000000       0.000000\n",
              "25%        92.000000       0.000000      48.000000   30426.000000\n",
              "50%       183.000000       0.000000      63.000000   39678.000000\n",
              "75%       274.000000       0.000000      82.000000   51909.000000\n",
              "max       365.000000       1.000000     371.000000  247215.000000"
            ],
            "text/html": [
              "\n",
              "  <div id=\"df-65230dc3-06d3-4316-9748-58dacd50924d\">\n",
              "    <div class=\"colab-df-container\">\n",
              "      <div>\n",
              "<style scoped>\n",
              "    .dataframe tbody tr th:only-of-type {\n",
              "        vertical-align: middle;\n",
              "    }\n",
              "\n",
              "    .dataframe tbody tr th {\n",
              "        vertical-align: top;\n",
              "    }\n",
              "\n",
              "    .dataframe thead th {\n",
              "        text-align: right;\n",
              "    }\n",
              "</style>\n",
              "<table border=\"1\" class=\"dataframe\">\n",
              "  <thead>\n",
              "    <tr style=\"text-align: right;\">\n",
              "      <th></th>\n",
              "      <th>Store_id</th>\n",
              "      <th>Holiday</th>\n",
              "      <th>#Order</th>\n",
              "      <th>Sales</th>\n",
              "    </tr>\n",
              "  </thead>\n",
              "  <tbody>\n",
              "    <tr>\n",
              "      <th>count</th>\n",
              "      <td>188340.000000</td>\n",
              "      <td>188340.000000</td>\n",
              "      <td>188340.000000</td>\n",
              "      <td>188340.000000</td>\n",
              "    </tr>\n",
              "    <tr>\n",
              "      <th>mean</th>\n",
              "      <td>183.000000</td>\n",
              "      <td>0.131783</td>\n",
              "      <td>68.205692</td>\n",
              "      <td>42784.327982</td>\n",
              "    </tr>\n",
              "    <tr>\n",
              "      <th>std</th>\n",
              "      <td>105.366308</td>\n",
              "      <td>0.338256</td>\n",
              "      <td>30.467415</td>\n",
              "      <td>18456.708302</td>\n",
              "    </tr>\n",
              "    <tr>\n",
              "      <th>min</th>\n",
              "      <td>1.000000</td>\n",
              "      <td>0.000000</td>\n",
              "      <td>0.000000</td>\n",
              "      <td>0.000000</td>\n",
              "    </tr>\n",
              "    <tr>\n",
              "      <th>25%</th>\n",
              "      <td>92.000000</td>\n",
              "      <td>0.000000</td>\n",
              "      <td>48.000000</td>\n",
              "      <td>30426.000000</td>\n",
              "    </tr>\n",
              "    <tr>\n",
              "      <th>50%</th>\n",
              "      <td>183.000000</td>\n",
              "      <td>0.000000</td>\n",
              "      <td>63.000000</td>\n",
              "      <td>39678.000000</td>\n",
              "    </tr>\n",
              "    <tr>\n",
              "      <th>75%</th>\n",
              "      <td>274.000000</td>\n",
              "      <td>0.000000</td>\n",
              "      <td>82.000000</td>\n",
              "      <td>51909.000000</td>\n",
              "    </tr>\n",
              "    <tr>\n",
              "      <th>max</th>\n",
              "      <td>365.000000</td>\n",
              "      <td>1.000000</td>\n",
              "      <td>371.000000</td>\n",
              "      <td>247215.000000</td>\n",
              "    </tr>\n",
              "  </tbody>\n",
              "</table>\n",
              "</div>\n",
              "      <button class=\"colab-df-convert\" onclick=\"convertToInteractive('df-65230dc3-06d3-4316-9748-58dacd50924d')\"\n",
              "              title=\"Convert this dataframe to an interactive table.\"\n",
              "              style=\"display:none;\">\n",
              "        \n",
              "  <svg xmlns=\"http://www.w3.org/2000/svg\" height=\"24px\"viewBox=\"0 0 24 24\"\n",
              "       width=\"24px\">\n",
              "    <path d=\"M0 0h24v24H0V0z\" fill=\"none\"/>\n",
              "    <path d=\"M18.56 5.44l.94 2.06.94-2.06 2.06-.94-2.06-.94-.94-2.06-.94 2.06-2.06.94zm-11 1L8.5 8.5l.94-2.06 2.06-.94-2.06-.94L8.5 2.5l-.94 2.06-2.06.94zm10 10l.94 2.06.94-2.06 2.06-.94-2.06-.94-.94-2.06-.94 2.06-2.06.94z\"/><path d=\"M17.41 7.96l-1.37-1.37c-.4-.4-.92-.59-1.43-.59-.52 0-1.04.2-1.43.59L10.3 9.45l-7.72 7.72c-.78.78-.78 2.05 0 2.83L4 21.41c.39.39.9.59 1.41.59.51 0 1.02-.2 1.41-.59l7.78-7.78 2.81-2.81c.8-.78.8-2.07 0-2.86zM5.41 20L4 18.59l7.72-7.72 1.47 1.35L5.41 20z\"/>\n",
              "  </svg>\n",
              "      </button>\n",
              "      \n",
              "  <style>\n",
              "    .colab-df-container {\n",
              "      display:flex;\n",
              "      flex-wrap:wrap;\n",
              "      gap: 12px;\n",
              "    }\n",
              "\n",
              "    .colab-df-convert {\n",
              "      background-color: #E8F0FE;\n",
              "      border: none;\n",
              "      border-radius: 50%;\n",
              "      cursor: pointer;\n",
              "      display: none;\n",
              "      fill: #1967D2;\n",
              "      height: 32px;\n",
              "      padding: 0 0 0 0;\n",
              "      width: 32px;\n",
              "    }\n",
              "\n",
              "    .colab-df-convert:hover {\n",
              "      background-color: #E2EBFA;\n",
              "      box-shadow: 0px 1px 2px rgba(60, 64, 67, 0.3), 0px 1px 3px 1px rgba(60, 64, 67, 0.15);\n",
              "      fill: #174EA6;\n",
              "    }\n",
              "\n",
              "    [theme=dark] .colab-df-convert {\n",
              "      background-color: #3B4455;\n",
              "      fill: #D2E3FC;\n",
              "    }\n",
              "\n",
              "    [theme=dark] .colab-df-convert:hover {\n",
              "      background-color: #434B5C;\n",
              "      box-shadow: 0px 1px 3px 1px rgba(0, 0, 0, 0.15);\n",
              "      filter: drop-shadow(0px 1px 2px rgba(0, 0, 0, 0.3));\n",
              "      fill: #FFFFFF;\n",
              "    }\n",
              "  </style>\n",
              "\n",
              "      <script>\n",
              "        const buttonEl =\n",
              "          document.querySelector('#df-65230dc3-06d3-4316-9748-58dacd50924d button.colab-df-convert');\n",
              "        buttonEl.style.display =\n",
              "          google.colab.kernel.accessAllowed ? 'block' : 'none';\n",
              "\n",
              "        async function convertToInteractive(key) {\n",
              "          const element = document.querySelector('#df-65230dc3-06d3-4316-9748-58dacd50924d');\n",
              "          const dataTable =\n",
              "            await google.colab.kernel.invokeFunction('convertToInteractive',\n",
              "                                                     [key], {});\n",
              "          if (!dataTable) return;\n",
              "\n",
              "          const docLinkHtml = 'Like what you see? Visit the ' +\n",
              "            '<a target=\"_blank\" href=https://colab.research.google.com/notebooks/data_table.ipynb>data table notebook</a>'\n",
              "            + ' to learn more about interactive tables.';\n",
              "          element.innerHTML = '';\n",
              "          dataTable['output_type'] = 'display_data';\n",
              "          await google.colab.output.renderOutput(dataTable, element);\n",
              "          const docLink = document.createElement('div');\n",
              "          docLink.innerHTML = docLinkHtml;\n",
              "          element.appendChild(docLink);\n",
              "        }\n",
              "      </script>\n",
              "    </div>\n",
              "  </div>\n",
              "  "
            ]
          },
          "metadata": {},
          "execution_count": 19
        }
      ]
    },
    {
      "cell_type": "markdown",
      "source": [
        "A seguir daremos inicio a tratativa de outliers.\n",
        "\n",
        "Analisamos a disitibuição, por meio de um histograma e estimativa de densidade kernel, assumindo com base nessa análise podemos aplicar o método Z-score para identificar  e remover os outliners. "
      ],
      "metadata": {
        "id": "o-4TbV9yIyaw"
      }
    },
    {
      "cell_type": "code",
      "source": [
        "# sns.displot(data['#Order'])\n",
        "%config InlineBackend.figure_format = 'svg'\n",
        "sns.set_theme(style=\"ticks\", color_codes=True)\n",
        "sns.displot(data=data, x=\"#Order\", kde=True)"
      ],
      "metadata": {
        "colab": {
          "base_uri": "https://localhost:8080/",
          "height": 502
        },
        "id": "CaoReUf5I03o",
        "outputId": "b4b9e338-841f-4744-8c39-4234940f4371"
      },
      "execution_count": 20,
      "outputs": [
        {
          "output_type": "execute_result",
          "data": {
            "text/plain": [
              "<seaborn.axisgrid.FacetGrid at 0x7fd4802f31c0>"
            ]
          },
          "metadata": {},
          "execution_count": 20
        },
        {
          "output_type": "display_data",
          "data": {
            "text/plain": [
              "<Figure size 360x360 with 1 Axes>"
            ],
            "image/svg+xml": "<?xml version=\"1.0\" encoding=\"utf-8\" standalone=\"no\"?>\n<!DOCTYPE svg PUBLIC \"-//W3C//DTD SVG 1.1//EN\"\n  \"http://www.w3.org/Graphics/SVG/1.1/DTD/svg11.dtd\">\n<!-- Created with matplotlib (https://matplotlib.org/) -->\n<svg height=\"347.739687pt\" version=\"1.1\" viewBox=\"0 0 347.08875 347.739687\" width=\"347.08875pt\" xmlns=\"http://www.w3.org/2000/svg\" xmlns:xlink=\"http://www.w3.org/1999/xlink\">\n <defs>\n  <style type=\"text/css\">\n*{stroke-linecap:butt;stroke-linejoin:round;}\n  </style>\n </defs>\n <g id=\"figure_1\">\n  <g id=\"patch_1\">\n   <path d=\"M 0 347.739687 \nL 347.08875 347.739687 \nL 347.08875 0 \nL 0 0 \nz\n\" style=\"fill:#ffffff;\"/>\n  </g>\n  <g id=\"axes_1\">\n   <g id=\"patch_2\">\n    <path d=\"M 60.30875 304.78 \nL 339.88875 304.78 \nL 339.88875 7.2 \nL 60.30875 7.2 \nz\n\" style=\"fill:#ffffff;\"/>\n   </g>\n   <g id=\"matplotlib.axis_1\">\n    <g id=\"xtick_1\">\n     <g id=\"line2d_1\">\n      <defs>\n       <path d=\"M 0 0 \nL 0 6 \n\" id=\"m332714394a\" style=\"stroke:#262626;stroke-width:1.25;\"/>\n      </defs>\n      <g>\n       <use style=\"fill:#262626;stroke:#262626;stroke-width:1.25;\" x=\"73.016932\" xlink:href=\"#m332714394a\" y=\"304.78\"/>\n      </g>\n     </g>\n     <g id=\"text_1\">\n      <!-- 0 -->\n      <defs>\n       <path d=\"M 31.78125 66.40625 \nQ 24.171875 66.40625 20.328125 58.90625 \nQ 16.5 51.421875 16.5 36.375 \nQ 16.5 21.390625 20.328125 13.890625 \nQ 24.171875 6.390625 31.78125 6.390625 \nQ 39.453125 6.390625 43.28125 13.890625 \nQ 47.125 21.390625 47.125 36.375 \nQ 47.125 51.421875 43.28125 58.90625 \nQ 39.453125 66.40625 31.78125 66.40625 \nz\nM 31.78125 74.21875 \nQ 44.046875 74.21875 50.515625 64.515625 \nQ 56.984375 54.828125 56.984375 36.375 \nQ 56.984375 17.96875 50.515625 8.265625 \nQ 44.046875 -1.421875 31.78125 -1.421875 \nQ 19.53125 -1.421875 13.0625 8.265625 \nQ 6.59375 17.96875 6.59375 36.375 \nQ 6.59375 54.828125 13.0625 64.515625 \nQ 19.53125 74.21875 31.78125 74.21875 \nz\n\" id=\"DejaVuSans-48\"/>\n      </defs>\n      <g style=\"fill:#262626;\" transform=\"translate(69.517557 322.638281)scale(0.11 -0.11)\">\n       <use xlink:href=\"#DejaVuSans-48\"/>\n      </g>\n     </g>\n    </g>\n    <g id=\"xtick_2\">\n     <g id=\"line2d_2\">\n      <g>\n       <use style=\"fill:#262626;stroke:#262626;stroke-width:1.25;\" x=\"141.524651\" xlink:href=\"#m332714394a\" y=\"304.78\"/>\n      </g>\n     </g>\n     <g id=\"text_2\">\n      <!-- 100 -->\n      <defs>\n       <path d=\"M 12.40625 8.296875 \nL 28.515625 8.296875 \nL 28.515625 63.921875 \nL 10.984375 60.40625 \nL 10.984375 69.390625 \nL 28.421875 72.90625 \nL 38.28125 72.90625 \nL 38.28125 8.296875 \nL 54.390625 8.296875 \nL 54.390625 0 \nL 12.40625 0 \nz\n\" id=\"DejaVuSans-49\"/>\n      </defs>\n      <g style=\"fill:#262626;\" transform=\"translate(131.026526 322.638281)scale(0.11 -0.11)\">\n       <use xlink:href=\"#DejaVuSans-49\"/>\n       <use x=\"63.623047\" xlink:href=\"#DejaVuSans-48\"/>\n       <use x=\"127.246094\" xlink:href=\"#DejaVuSans-48\"/>\n      </g>\n     </g>\n    </g>\n    <g id=\"xtick_3\">\n     <g id=\"line2d_3\">\n      <g>\n       <use style=\"fill:#262626;stroke:#262626;stroke-width:1.25;\" x=\"210.032369\" xlink:href=\"#m332714394a\" y=\"304.78\"/>\n      </g>\n     </g>\n     <g id=\"text_3\">\n      <!-- 200 -->\n      <defs>\n       <path d=\"M 19.1875 8.296875 \nL 53.609375 8.296875 \nL 53.609375 0 \nL 7.328125 0 \nL 7.328125 8.296875 \nQ 12.9375 14.109375 22.625 23.890625 \nQ 32.328125 33.6875 34.8125 36.53125 \nQ 39.546875 41.84375 41.421875 45.53125 \nQ 43.3125 49.21875 43.3125 52.78125 \nQ 43.3125 58.59375 39.234375 62.25 \nQ 35.15625 65.921875 28.609375 65.921875 \nQ 23.96875 65.921875 18.8125 64.3125 \nQ 13.671875 62.703125 7.8125 59.421875 \nL 7.8125 69.390625 \nQ 13.765625 71.78125 18.9375 73 \nQ 24.125 74.21875 28.421875 74.21875 \nQ 39.75 74.21875 46.484375 68.546875 \nQ 53.21875 62.890625 53.21875 53.421875 \nQ 53.21875 48.921875 51.53125 44.890625 \nQ 49.859375 40.875 45.40625 35.40625 \nQ 44.1875 33.984375 37.640625 27.21875 \nQ 31.109375 20.453125 19.1875 8.296875 \nz\n\" id=\"DejaVuSans-50\"/>\n      </defs>\n      <g style=\"fill:#262626;\" transform=\"translate(199.534244 322.638281)scale(0.11 -0.11)\">\n       <use xlink:href=\"#DejaVuSans-50\"/>\n       <use x=\"63.623047\" xlink:href=\"#DejaVuSans-48\"/>\n       <use x=\"127.246094\" xlink:href=\"#DejaVuSans-48\"/>\n      </g>\n     </g>\n    </g>\n    <g id=\"xtick_4\">\n     <g id=\"line2d_4\">\n      <g>\n       <use style=\"fill:#262626;stroke:#262626;stroke-width:1.25;\" x=\"278.540088\" xlink:href=\"#m332714394a\" y=\"304.78\"/>\n      </g>\n     </g>\n     <g id=\"text_4\">\n      <!-- 300 -->\n      <defs>\n       <path d=\"M 40.578125 39.3125 \nQ 47.65625 37.796875 51.625 33 \nQ 55.609375 28.21875 55.609375 21.1875 \nQ 55.609375 10.40625 48.1875 4.484375 \nQ 40.765625 -1.421875 27.09375 -1.421875 \nQ 22.515625 -1.421875 17.65625 -0.515625 \nQ 12.796875 0.390625 7.625 2.203125 \nL 7.625 11.71875 \nQ 11.71875 9.328125 16.59375 8.109375 \nQ 21.484375 6.890625 26.8125 6.890625 \nQ 36.078125 6.890625 40.9375 10.546875 \nQ 45.796875 14.203125 45.796875 21.1875 \nQ 45.796875 27.640625 41.28125 31.265625 \nQ 36.765625 34.90625 28.71875 34.90625 \nL 20.21875 34.90625 \nL 20.21875 43.015625 \nL 29.109375 43.015625 \nQ 36.375 43.015625 40.234375 45.921875 \nQ 44.09375 48.828125 44.09375 54.296875 \nQ 44.09375 59.90625 40.109375 62.90625 \nQ 36.140625 65.921875 28.71875 65.921875 \nQ 24.65625 65.921875 20.015625 65.03125 \nQ 15.375 64.15625 9.8125 62.3125 \nL 9.8125 71.09375 \nQ 15.4375 72.65625 20.34375 73.4375 \nQ 25.25 74.21875 29.59375 74.21875 \nQ 40.828125 74.21875 47.359375 69.109375 \nQ 53.90625 64.015625 53.90625 55.328125 \nQ 53.90625 49.265625 50.4375 45.09375 \nQ 46.96875 40.921875 40.578125 39.3125 \nz\n\" id=\"DejaVuSans-51\"/>\n      </defs>\n      <g style=\"fill:#262626;\" transform=\"translate(268.041963 322.638281)scale(0.11 -0.11)\">\n       <use xlink:href=\"#DejaVuSans-51\"/>\n       <use x=\"63.623047\" xlink:href=\"#DejaVuSans-48\"/>\n       <use x=\"127.246094\" xlink:href=\"#DejaVuSans-48\"/>\n      </g>\n     </g>\n    </g>\n    <g id=\"text_5\">\n     <!-- #Order -->\n     <defs>\n      <path d=\"M 51.125 44 \nL 36.921875 44 \nL 32.8125 27.6875 \nL 47.125 27.6875 \nz\nM 43.796875 71.78125 \nL 38.71875 51.515625 \nL 52.984375 51.515625 \nL 58.109375 71.78125 \nL 65.921875 71.78125 \nL 60.890625 51.515625 \nL 76.125 51.515625 \nL 76.125 44 \nL 58.984375 44 \nL 54.984375 27.6875 \nL 70.515625 27.6875 \nL 70.515625 20.21875 \nL 53.078125 20.21875 \nL 48 0 \nL 40.1875 0 \nL 45.21875 20.21875 \nL 30.90625 20.21875 \nL 25.875 0 \nL 18.015625 0 \nL 23.09375 20.21875 \nL 7.71875 20.21875 \nL 7.71875 27.6875 \nL 24.90625 27.6875 \nL 29 44 \nL 13.28125 44 \nL 13.28125 51.515625 \nL 30.90625 51.515625 \nL 35.890625 71.78125 \nz\n\" id=\"DejaVuSans-35\"/>\n      <path d=\"M 39.40625 66.21875 \nQ 28.65625 66.21875 22.328125 58.203125 \nQ 16.015625 50.203125 16.015625 36.375 \nQ 16.015625 22.609375 22.328125 14.59375 \nQ 28.65625 6.59375 39.40625 6.59375 \nQ 50.140625 6.59375 56.421875 14.59375 \nQ 62.703125 22.609375 62.703125 36.375 \nQ 62.703125 50.203125 56.421875 58.203125 \nQ 50.140625 66.21875 39.40625 66.21875 \nz\nM 39.40625 74.21875 \nQ 54.734375 74.21875 63.90625 63.9375 \nQ 73.09375 53.65625 73.09375 36.375 \nQ 73.09375 19.140625 63.90625 8.859375 \nQ 54.734375 -1.421875 39.40625 -1.421875 \nQ 24.03125 -1.421875 14.8125 8.828125 \nQ 5.609375 19.09375 5.609375 36.375 \nQ 5.609375 53.65625 14.8125 63.9375 \nQ 24.03125 74.21875 39.40625 74.21875 \nz\n\" id=\"DejaVuSans-79\"/>\n      <path d=\"M 41.109375 46.296875 \nQ 39.59375 47.171875 37.8125 47.578125 \nQ 36.03125 48 33.890625 48 \nQ 26.265625 48 22.1875 43.046875 \nQ 18.109375 38.09375 18.109375 28.8125 \nL 18.109375 0 \nL 9.078125 0 \nL 9.078125 54.6875 \nL 18.109375 54.6875 \nL 18.109375 46.1875 \nQ 20.953125 51.171875 25.484375 53.578125 \nQ 30.03125 56 36.53125 56 \nQ 37.453125 56 38.578125 55.875 \nQ 39.703125 55.765625 41.0625 55.515625 \nz\n\" id=\"DejaVuSans-114\"/>\n      <path d=\"M 45.40625 46.390625 \nL 45.40625 75.984375 \nL 54.390625 75.984375 \nL 54.390625 0 \nL 45.40625 0 \nL 45.40625 8.203125 \nQ 42.578125 3.328125 38.25 0.953125 \nQ 33.9375 -1.421875 27.875 -1.421875 \nQ 17.96875 -1.421875 11.734375 6.484375 \nQ 5.515625 14.40625 5.515625 27.296875 \nQ 5.515625 40.1875 11.734375 48.09375 \nQ 17.96875 56 27.875 56 \nQ 33.9375 56 38.25 53.625 \nQ 42.578125 51.265625 45.40625 46.390625 \nz\nM 14.796875 27.296875 \nQ 14.796875 17.390625 18.875 11.75 \nQ 22.953125 6.109375 30.078125 6.109375 \nQ 37.203125 6.109375 41.296875 11.75 \nQ 45.40625 17.390625 45.40625 27.296875 \nQ 45.40625 37.203125 41.296875 42.84375 \nQ 37.203125 48.484375 30.078125 48.484375 \nQ 22.953125 48.484375 18.875 42.84375 \nQ 14.796875 37.203125 14.796875 27.296875 \nz\n\" id=\"DejaVuSans-100\"/>\n      <path d=\"M 56.203125 29.59375 \nL 56.203125 25.203125 \nL 14.890625 25.203125 \nQ 15.484375 15.921875 20.484375 11.0625 \nQ 25.484375 6.203125 34.421875 6.203125 \nQ 39.59375 6.203125 44.453125 7.46875 \nQ 49.3125 8.734375 54.109375 11.28125 \nL 54.109375 2.78125 \nQ 49.265625 0.734375 44.1875 -0.34375 \nQ 39.109375 -1.421875 33.890625 -1.421875 \nQ 20.796875 -1.421875 13.15625 6.1875 \nQ 5.515625 13.8125 5.515625 26.8125 \nQ 5.515625 40.234375 12.765625 48.109375 \nQ 20.015625 56 32.328125 56 \nQ 43.359375 56 49.78125 48.890625 \nQ 56.203125 41.796875 56.203125 29.59375 \nz\nM 47.21875 32.234375 \nQ 47.125 39.59375 43.09375 43.984375 \nQ 39.0625 48.390625 32.421875 48.390625 \nQ 24.90625 48.390625 20.390625 44.140625 \nQ 15.875 39.890625 15.1875 32.171875 \nz\n\" id=\"DejaVuSans-101\"/>\n     </defs>\n     <g style=\"fill:#262626;\" transform=\"translate(178.01875 338.044062)scale(0.12 -0.12)\">\n      <use xlink:href=\"#DejaVuSans-35\"/>\n      <use x=\"83.789062\" xlink:href=\"#DejaVuSans-79\"/>\n      <use x=\"162.5\" xlink:href=\"#DejaVuSans-114\"/>\n      <use x=\"201.863281\" xlink:href=\"#DejaVuSans-100\"/>\n      <use x=\"265.339844\" xlink:href=\"#DejaVuSans-101\"/>\n      <use x=\"326.863281\" xlink:href=\"#DejaVuSans-114\"/>\n     </g>\n    </g>\n   </g>\n   <g id=\"matplotlib.axis_2\">\n    <g id=\"ytick_1\">\n     <g id=\"line2d_5\">\n      <defs>\n       <path d=\"M 0 0 \nL -6 0 \n\" id=\"mfc3095bda4\" style=\"stroke:#262626;stroke-width:1.25;\"/>\n      </defs>\n      <g>\n       <use style=\"fill:#262626;stroke:#262626;stroke-width:1.25;\" x=\"60.30875\" xlink:href=\"#mfc3095bda4\" y=\"304.78\"/>\n      </g>\n     </g>\n     <g id=\"text_6\">\n      <!-- 0 -->\n      <g style=\"fill:#262626;\" transform=\"translate(43.81 308.959141)scale(0.11 -0.11)\">\n       <use xlink:href=\"#DejaVuSans-48\"/>\n      </g>\n     </g>\n    </g>\n    <g id=\"ytick_2\">\n     <g id=\"line2d_6\">\n      <g>\n       <use style=\"fill:#262626;stroke:#262626;stroke-width:1.25;\" x=\"60.30875\" xlink:href=\"#mfc3095bda4\" y=\"262.001204\"/>\n      </g>\n     </g>\n     <g id=\"text_7\">\n      <!-- 1000 -->\n      <g style=\"fill:#262626;\" transform=\"translate(22.81375 266.180345)scale(0.11 -0.11)\">\n       <use xlink:href=\"#DejaVuSans-49\"/>\n       <use x=\"63.623047\" xlink:href=\"#DejaVuSans-48\"/>\n       <use x=\"127.246094\" xlink:href=\"#DejaVuSans-48\"/>\n       <use x=\"190.869141\" xlink:href=\"#DejaVuSans-48\"/>\n      </g>\n     </g>\n    </g>\n    <g id=\"ytick_3\">\n     <g id=\"line2d_7\">\n      <g>\n       <use style=\"fill:#262626;stroke:#262626;stroke-width:1.25;\" x=\"60.30875\" xlink:href=\"#mfc3095bda4\" y=\"219.222408\"/>\n      </g>\n     </g>\n     <g id=\"text_8\">\n      <!-- 2000 -->\n      <g style=\"fill:#262626;\" transform=\"translate(22.81375 223.401549)scale(0.11 -0.11)\">\n       <use xlink:href=\"#DejaVuSans-50\"/>\n       <use x=\"63.623047\" xlink:href=\"#DejaVuSans-48\"/>\n       <use x=\"127.246094\" xlink:href=\"#DejaVuSans-48\"/>\n       <use x=\"190.869141\" xlink:href=\"#DejaVuSans-48\"/>\n      </g>\n     </g>\n    </g>\n    <g id=\"ytick_4\">\n     <g id=\"line2d_8\">\n      <g>\n       <use style=\"fill:#262626;stroke:#262626;stroke-width:1.25;\" x=\"60.30875\" xlink:href=\"#mfc3095bda4\" y=\"176.443612\"/>\n      </g>\n     </g>\n     <g id=\"text_9\">\n      <!-- 3000 -->\n      <g style=\"fill:#262626;\" transform=\"translate(22.81375 180.622752)scale(0.11 -0.11)\">\n       <use xlink:href=\"#DejaVuSans-51\"/>\n       <use x=\"63.623047\" xlink:href=\"#DejaVuSans-48\"/>\n       <use x=\"127.246094\" xlink:href=\"#DejaVuSans-48\"/>\n       <use x=\"190.869141\" xlink:href=\"#DejaVuSans-48\"/>\n      </g>\n     </g>\n    </g>\n    <g id=\"ytick_5\">\n     <g id=\"line2d_9\">\n      <g>\n       <use style=\"fill:#262626;stroke:#262626;stroke-width:1.25;\" x=\"60.30875\" xlink:href=\"#mfc3095bda4\" y=\"133.664816\"/>\n      </g>\n     </g>\n     <g id=\"text_10\">\n      <!-- 4000 -->\n      <defs>\n       <path d=\"M 37.796875 64.3125 \nL 12.890625 25.390625 \nL 37.796875 25.390625 \nz\nM 35.203125 72.90625 \nL 47.609375 72.90625 \nL 47.609375 25.390625 \nL 58.015625 25.390625 \nL 58.015625 17.1875 \nL 47.609375 17.1875 \nL 47.609375 0 \nL 37.796875 0 \nL 37.796875 17.1875 \nL 4.890625 17.1875 \nL 4.890625 26.703125 \nz\n\" id=\"DejaVuSans-52\"/>\n      </defs>\n      <g style=\"fill:#262626;\" transform=\"translate(22.81375 137.843956)scale(0.11 -0.11)\">\n       <use xlink:href=\"#DejaVuSans-52\"/>\n       <use x=\"63.623047\" xlink:href=\"#DejaVuSans-48\"/>\n       <use x=\"127.246094\" xlink:href=\"#DejaVuSans-48\"/>\n       <use x=\"190.869141\" xlink:href=\"#DejaVuSans-48\"/>\n      </g>\n     </g>\n    </g>\n    <g id=\"ytick_6\">\n     <g id=\"line2d_10\">\n      <g>\n       <use style=\"fill:#262626;stroke:#262626;stroke-width:1.25;\" x=\"60.30875\" xlink:href=\"#mfc3095bda4\" y=\"90.88602\"/>\n      </g>\n     </g>\n     <g id=\"text_11\">\n      <!-- 5000 -->\n      <defs>\n       <path d=\"M 10.796875 72.90625 \nL 49.515625 72.90625 \nL 49.515625 64.59375 \nL 19.828125 64.59375 \nL 19.828125 46.734375 \nQ 21.96875 47.46875 24.109375 47.828125 \nQ 26.265625 48.1875 28.421875 48.1875 \nQ 40.625 48.1875 47.75 41.5 \nQ 54.890625 34.8125 54.890625 23.390625 \nQ 54.890625 11.625 47.5625 5.09375 \nQ 40.234375 -1.421875 26.90625 -1.421875 \nQ 22.3125 -1.421875 17.546875 -0.640625 \nQ 12.796875 0.140625 7.71875 1.703125 \nL 7.71875 11.625 \nQ 12.109375 9.234375 16.796875 8.0625 \nQ 21.484375 6.890625 26.703125 6.890625 \nQ 35.15625 6.890625 40.078125 11.328125 \nQ 45.015625 15.765625 45.015625 23.390625 \nQ 45.015625 31 40.078125 35.4375 \nQ 35.15625 39.890625 26.703125 39.890625 \nQ 22.75 39.890625 18.8125 39.015625 \nQ 14.890625 38.140625 10.796875 36.28125 \nz\n\" id=\"DejaVuSans-53\"/>\n      </defs>\n      <g style=\"fill:#262626;\" transform=\"translate(22.81375 95.06516)scale(0.11 -0.11)\">\n       <use xlink:href=\"#DejaVuSans-53\"/>\n       <use x=\"63.623047\" xlink:href=\"#DejaVuSans-48\"/>\n       <use x=\"127.246094\" xlink:href=\"#DejaVuSans-48\"/>\n       <use x=\"190.869141\" xlink:href=\"#DejaVuSans-48\"/>\n      </g>\n     </g>\n    </g>\n    <g id=\"ytick_7\">\n     <g id=\"line2d_11\">\n      <g>\n       <use style=\"fill:#262626;stroke:#262626;stroke-width:1.25;\" x=\"60.30875\" xlink:href=\"#mfc3095bda4\" y=\"48.107224\"/>\n      </g>\n     </g>\n     <g id=\"text_12\">\n      <!-- 6000 -->\n      <defs>\n       <path d=\"M 33.015625 40.375 \nQ 26.375 40.375 22.484375 35.828125 \nQ 18.609375 31.296875 18.609375 23.390625 \nQ 18.609375 15.53125 22.484375 10.953125 \nQ 26.375 6.390625 33.015625 6.390625 \nQ 39.65625 6.390625 43.53125 10.953125 \nQ 47.40625 15.53125 47.40625 23.390625 \nQ 47.40625 31.296875 43.53125 35.828125 \nQ 39.65625 40.375 33.015625 40.375 \nz\nM 52.59375 71.296875 \nL 52.59375 62.3125 \nQ 48.875 64.0625 45.09375 64.984375 \nQ 41.3125 65.921875 37.59375 65.921875 \nQ 27.828125 65.921875 22.671875 59.328125 \nQ 17.53125 52.734375 16.796875 39.40625 \nQ 19.671875 43.65625 24.015625 45.921875 \nQ 28.375 48.1875 33.59375 48.1875 \nQ 44.578125 48.1875 50.953125 41.515625 \nQ 57.328125 34.859375 57.328125 23.390625 \nQ 57.328125 12.15625 50.6875 5.359375 \nQ 44.046875 -1.421875 33.015625 -1.421875 \nQ 20.359375 -1.421875 13.671875 8.265625 \nQ 6.984375 17.96875 6.984375 36.375 \nQ 6.984375 53.65625 15.1875 63.9375 \nQ 23.390625 74.21875 37.203125 74.21875 \nQ 40.921875 74.21875 44.703125 73.484375 \nQ 48.484375 72.75 52.59375 71.296875 \nz\n\" id=\"DejaVuSans-54\"/>\n      </defs>\n      <g style=\"fill:#262626;\" transform=\"translate(22.81375 52.286364)scale(0.11 -0.11)\">\n       <use xlink:href=\"#DejaVuSans-54\"/>\n       <use x=\"63.623047\" xlink:href=\"#DejaVuSans-48\"/>\n       <use x=\"127.246094\" xlink:href=\"#DejaVuSans-48\"/>\n       <use x=\"190.869141\" xlink:href=\"#DejaVuSans-48\"/>\n      </g>\n     </g>\n    </g>\n    <g id=\"text_13\">\n     <!-- Count -->\n     <defs>\n      <path d=\"M 64.40625 67.28125 \nL 64.40625 56.890625 \nQ 59.421875 61.53125 53.78125 63.8125 \nQ 48.140625 66.109375 41.796875 66.109375 \nQ 29.296875 66.109375 22.65625 58.46875 \nQ 16.015625 50.828125 16.015625 36.375 \nQ 16.015625 21.96875 22.65625 14.328125 \nQ 29.296875 6.6875 41.796875 6.6875 \nQ 48.140625 6.6875 53.78125 8.984375 \nQ 59.421875 11.28125 64.40625 15.921875 \nL 64.40625 5.609375 \nQ 59.234375 2.09375 53.4375 0.328125 \nQ 47.65625 -1.421875 41.21875 -1.421875 \nQ 24.65625 -1.421875 15.125 8.703125 \nQ 5.609375 18.84375 5.609375 36.375 \nQ 5.609375 53.953125 15.125 64.078125 \nQ 24.65625 74.21875 41.21875 74.21875 \nQ 47.75 74.21875 53.53125 72.484375 \nQ 59.328125 70.75 64.40625 67.28125 \nz\n\" id=\"DejaVuSans-67\"/>\n      <path d=\"M 30.609375 48.390625 \nQ 23.390625 48.390625 19.1875 42.75 \nQ 14.984375 37.109375 14.984375 27.296875 \nQ 14.984375 17.484375 19.15625 11.84375 \nQ 23.34375 6.203125 30.609375 6.203125 \nQ 37.796875 6.203125 41.984375 11.859375 \nQ 46.1875 17.53125 46.1875 27.296875 \nQ 46.1875 37.015625 41.984375 42.703125 \nQ 37.796875 48.390625 30.609375 48.390625 \nz\nM 30.609375 56 \nQ 42.328125 56 49.015625 48.375 \nQ 55.71875 40.765625 55.71875 27.296875 \nQ 55.71875 13.875 49.015625 6.21875 \nQ 42.328125 -1.421875 30.609375 -1.421875 \nQ 18.84375 -1.421875 12.171875 6.21875 \nQ 5.515625 13.875 5.515625 27.296875 \nQ 5.515625 40.765625 12.171875 48.375 \nQ 18.84375 56 30.609375 56 \nz\n\" id=\"DejaVuSans-111\"/>\n      <path d=\"M 8.5 21.578125 \nL 8.5 54.6875 \nL 17.484375 54.6875 \nL 17.484375 21.921875 \nQ 17.484375 14.15625 20.5 10.265625 \nQ 23.53125 6.390625 29.59375 6.390625 \nQ 36.859375 6.390625 41.078125 11.03125 \nQ 45.3125 15.671875 45.3125 23.6875 \nL 45.3125 54.6875 \nL 54.296875 54.6875 \nL 54.296875 0 \nL 45.3125 0 \nL 45.3125 8.40625 \nQ 42.046875 3.421875 37.71875 1 \nQ 33.40625 -1.421875 27.6875 -1.421875 \nQ 18.265625 -1.421875 13.375 4.4375 \nQ 8.5 10.296875 8.5 21.578125 \nz\nM 31.109375 56 \nz\n\" id=\"DejaVuSans-117\"/>\n      <path d=\"M 54.890625 33.015625 \nL 54.890625 0 \nL 45.90625 0 \nL 45.90625 32.71875 \nQ 45.90625 40.484375 42.875 44.328125 \nQ 39.84375 48.1875 33.796875 48.1875 \nQ 26.515625 48.1875 22.3125 43.546875 \nQ 18.109375 38.921875 18.109375 30.90625 \nL 18.109375 0 \nL 9.078125 0 \nL 9.078125 54.6875 \nL 18.109375 54.6875 \nL 18.109375 46.1875 \nQ 21.34375 51.125 25.703125 53.5625 \nQ 30.078125 56 35.796875 56 \nQ 45.21875 56 50.046875 50.171875 \nQ 54.890625 44.34375 54.890625 33.015625 \nz\n\" id=\"DejaVuSans-110\"/>\n      <path d=\"M 18.3125 70.21875 \nL 18.3125 54.6875 \nL 36.8125 54.6875 \nL 36.8125 47.703125 \nL 18.3125 47.703125 \nL 18.3125 18.015625 \nQ 18.3125 11.328125 20.140625 9.421875 \nQ 21.96875 7.515625 27.59375 7.515625 \nL 36.8125 7.515625 \nL 36.8125 0 \nL 27.59375 0 \nQ 17.1875 0 13.234375 3.875 \nQ 9.28125 7.765625 9.28125 18.015625 \nL 9.28125 47.703125 \nL 2.6875 47.703125 \nL 2.6875 54.6875 \nL 9.28125 54.6875 \nL 9.28125 70.21875 \nz\n\" id=\"DejaVuSans-116\"/>\n     </defs>\n     <g style=\"fill:#262626;\" transform=\"translate(16.318125 173.808125)rotate(-90)scale(0.12 -0.12)\">\n      <use xlink:href=\"#DejaVuSans-67\"/>\n      <use x=\"69.824219\" xlink:href=\"#DejaVuSans-111\"/>\n      <use x=\"131.005859\" xlink:href=\"#DejaVuSans-117\"/>\n      <use x=\"194.384766\" xlink:href=\"#DejaVuSans-110\"/>\n      <use x=\"257.763672\" xlink:href=\"#DejaVuSans-116\"/>\n     </g>\n    </g>\n   </g>\n   <g id=\"patch_3\">\n    <path clip-path=\"url(#p6b715c176e)\" d=\"M 73.016932 304.78 \nL 73.828956 304.78 \nL 73.828956 303.924424 \nL 73.016932 303.924424 \nz\n\" style=\"fill:#4c72b0;fill-opacity:0.5;stroke:#ffffff;stroke-linejoin:miter;stroke-width:0.086703;\"/>\n   </g>\n   <g id=\"patch_4\">\n    <path clip-path=\"url(#p6b715c176e)\" d=\"M 73.828956 304.78 \nL 74.640981 304.78 \nL 74.640981 304.694442 \nL 73.828956 304.694442 \nz\n\" style=\"fill:#4c72b0;fill-opacity:0.5;stroke:#ffffff;stroke-linejoin:miter;stroke-width:0.086703;\"/>\n   </g>\n   <g id=\"patch_5\">\n    <path clip-path=\"url(#p6b715c176e)\" d=\"M 74.640981 304.78 \nL 75.453005 304.78 \nL 75.453005 303.496636 \nL 74.640981 303.496636 \nz\n\" style=\"fill:#4c72b0;fill-opacity:0.5;stroke:#ffffff;stroke-linejoin:miter;stroke-width:0.086703;\"/>\n   </g>\n   <g id=\"patch_6\">\n    <path clip-path=\"url(#p6b715c176e)\" d=\"M 75.453005 304.78 \nL 76.265029 304.78 \nL 76.265029 300.587678 \nL 75.453005 300.587678 \nz\n\" style=\"fill:#4c72b0;fill-opacity:0.5;stroke:#ffffff;stroke-linejoin:miter;stroke-width:0.086703;\"/>\n   </g>\n   <g id=\"patch_7\">\n    <path clip-path=\"url(#p6b715c176e)\" d=\"M 76.265029 304.78 \nL 77.077054 304.78 \nL 77.077054 296.865923 \nL 76.265029 296.865923 \nz\n\" style=\"fill:#4c72b0;fill-opacity:0.5;stroke:#ffffff;stroke-linejoin:miter;stroke-width:0.086703;\"/>\n   </g>\n   <g id=\"patch_8\">\n    <path clip-path=\"url(#p6b715c176e)\" d=\"M 77.077054 304.78 \nL 77.889078 304.78 \nL 77.889078 280.481644 \nL 77.077054 280.481644 \nz\n\" style=\"fill:#4c72b0;fill-opacity:0.5;stroke:#ffffff;stroke-linejoin:miter;stroke-width:0.086703;\"/>\n   </g>\n   <g id=\"patch_9\">\n    <path clip-path=\"url(#p6b715c176e)\" d=\"M 77.889078 304.78 \nL 78.701103 304.78 \nL 78.701103 292.117476 \nL 77.889078 292.117476 \nz\n\" style=\"fill:#4c72b0;fill-opacity:0.5;stroke:#ffffff;stroke-linejoin:miter;stroke-width:0.086703;\"/>\n   </g>\n   <g id=\"patch_10\">\n    <path clip-path=\"url(#p6b715c176e)\" d=\"M 78.701103 304.78 \nL 79.513127 304.78 \nL 79.513127 292.930273 \nL 78.701103 292.930273 \nz\n\" style=\"fill:#4c72b0;fill-opacity:0.5;stroke:#ffffff;stroke-linejoin:miter;stroke-width:0.086703;\"/>\n   </g>\n   <g id=\"patch_11\">\n    <path clip-path=\"url(#p6b715c176e)\" d=\"M 79.513127 304.78 \nL 80.325151 304.78 \nL 80.325151 295.454222 \nL 79.513127 295.454222 \nz\n\" style=\"fill:#4c72b0;fill-opacity:0.5;stroke:#ffffff;stroke-linejoin:miter;stroke-width:0.086703;\"/>\n   </g>\n   <g id=\"patch_12\">\n    <path clip-path=\"url(#p6b715c176e)\" d=\"M 80.325151 304.78 \nL 81.137176 304.78 \nL 81.137176 297.892614 \nL 80.325151 297.892614 \nz\n\" style=\"fill:#4c72b0;fill-opacity:0.5;stroke:#ffffff;stroke-linejoin:miter;stroke-width:0.086703;\"/>\n   </g>\n   <g id=\"patch_13\">\n    <path clip-path=\"url(#p6b715c176e)\" d=\"M 81.137176 304.78 \nL 81.9492 304.78 \nL 81.9492 293.486398 \nL 81.137176 293.486398 \nz\n\" style=\"fill:#4c72b0;fill-opacity:0.5;stroke:#ffffff;stroke-linejoin:miter;stroke-width:0.086703;\"/>\n   </g>\n   <g id=\"patch_14\">\n    <path clip-path=\"url(#p6b715c176e)\" d=\"M 81.9492 304.78 \nL 82.761225 304.78 \nL 82.761225 298.876526 \nL 81.9492 298.876526 \nz\n\" style=\"fill:#4c72b0;fill-opacity:0.5;stroke:#ffffff;stroke-linejoin:miter;stroke-width:0.086703;\"/>\n   </g>\n   <g id=\"patch_15\">\n    <path clip-path=\"url(#p6b715c176e)\" d=\"M 82.761225 304.78 \nL 83.573249 304.78 \nL 83.573249 299.133199 \nL 82.761225 299.133199 \nz\n\" style=\"fill:#4c72b0;fill-opacity:0.5;stroke:#ffffff;stroke-linejoin:miter;stroke-width:0.086703;\"/>\n   </g>\n   <g id=\"patch_16\">\n    <path clip-path=\"url(#p6b715c176e)\" d=\"M 83.573249 304.78 \nL 84.385273 304.78 \nL 84.385273 300.459342 \nL 83.573249 300.459342 \nz\n\" style=\"fill:#4c72b0;fill-opacity:0.5;stroke:#ffffff;stroke-linejoin:miter;stroke-width:0.086703;\"/>\n   </g>\n   <g id=\"patch_17\">\n    <path clip-path=\"url(#p6b715c176e)\" d=\"M 84.385273 304.78 \nL 85.197298 304.78 \nL 85.197298 300.245448 \nL 84.385273 300.245448 \nz\n\" style=\"fill:#4c72b0;fill-opacity:0.5;stroke:#ffffff;stroke-linejoin:miter;stroke-width:0.086703;\"/>\n   </g>\n   <g id=\"patch_18\">\n    <path clip-path=\"url(#p6b715c176e)\" d=\"M 85.197298 304.78 \nL 86.009322 304.78 \nL 86.009322 299.261535 \nL 85.197298 299.261535 \nz\n\" style=\"fill:#4c72b0;fill-opacity:0.5;stroke:#ffffff;stroke-linejoin:miter;stroke-width:0.086703;\"/>\n   </g>\n   <g id=\"patch_19\">\n    <path clip-path=\"url(#p6b715c176e)\" d=\"M 86.009322 304.78 \nL 86.821347 304.78 \nL 86.821347 288.010712 \nL 86.009322 288.010712 \nz\n\" style=\"fill:#4c72b0;fill-opacity:0.5;stroke:#ffffff;stroke-linejoin:miter;stroke-width:0.086703;\"/>\n   </g>\n   <g id=\"patch_20\">\n    <path clip-path=\"url(#p6b715c176e)\" d=\"M 86.821347 304.78 \nL 87.633371 304.78 \nL 87.633371 293.657513 \nL 86.821347 293.657513 \nz\n\" style=\"fill:#4c72b0;fill-opacity:0.5;stroke:#ffffff;stroke-linejoin:miter;stroke-width:0.086703;\"/>\n   </g>\n   <g id=\"patch_21\">\n    <path clip-path=\"url(#p6b715c176e)\" d=\"M 87.633371 304.78 \nL 88.445395 304.78 \nL 88.445395 289.550749 \nL 87.633371 289.550749 \nz\n\" style=\"fill:#4c72b0;fill-opacity:0.5;stroke:#ffffff;stroke-linejoin:miter;stroke-width:0.086703;\"/>\n   </g>\n   <g id=\"patch_22\">\n    <path clip-path=\"url(#p6b715c176e)\" d=\"M 88.445395 304.78 \nL 89.25742 304.78 \nL 89.25742 287.71126 \nL 88.445395 287.71126 \nz\n\" style=\"fill:#4c72b0;fill-opacity:0.5;stroke:#ffffff;stroke-linejoin:miter;stroke-width:0.086703;\"/>\n   </g>\n   <g id=\"patch_23\">\n    <path clip-path=\"url(#p6b715c176e)\" d=\"M 89.25742 304.78 \nL 90.069444 304.78 \nL 90.069444 283.176708 \nL 89.25742 283.176708 \nz\n\" style=\"fill:#4c72b0;fill-opacity:0.5;stroke:#ffffff;stroke-linejoin:miter;stroke-width:0.086703;\"/>\n   </g>\n   <g id=\"patch_24\">\n    <path clip-path=\"url(#p6b715c176e)\" d=\"M 90.069444 304.78 \nL 90.881469 304.78 \nL 90.881469 257.552209 \nL 90.069444 257.552209 \nz\n\" style=\"fill:#4c72b0;fill-opacity:0.5;stroke:#ffffff;stroke-linejoin:miter;stroke-width:0.086703;\"/>\n   </g>\n   <g id=\"patch_25\">\n    <path clip-path=\"url(#p6b715c176e)\" d=\"M 90.881469 304.78 \nL 91.693493 304.78 \nL 91.693493 274.535391 \nL 90.881469 274.535391 \nz\n\" style=\"fill:#4c72b0;fill-opacity:0.5;stroke:#ffffff;stroke-linejoin:miter;stroke-width:0.086703;\"/>\n   </g>\n   <g id=\"patch_26\">\n    <path clip-path=\"url(#p6b715c176e)\" d=\"M 91.693493 304.78 \nL 92.505517 304.78 \nL 92.505517 267.690784 \nL 91.693493 267.690784 \nz\n\" style=\"fill:#4c72b0;fill-opacity:0.5;stroke:#ffffff;stroke-linejoin:miter;stroke-width:0.086703;\"/>\n   </g>\n   <g id=\"patch_27\">\n    <path clip-path=\"url(#p6b715c176e)\" d=\"M 92.505517 304.78 \nL 93.317542 304.78 \nL 93.317542 264.097365 \nL 92.505517 264.097365 \nz\n\" style=\"fill:#4c72b0;fill-opacity:0.5;stroke:#ffffff;stroke-linejoin:miter;stroke-width:0.086703;\"/>\n   </g>\n   <g id=\"patch_28\">\n    <path clip-path=\"url(#p6b715c176e)\" d=\"M 93.317542 304.78 \nL 94.129566 304.78 \nL 94.129566 261.06007 \nL 93.317542 261.06007 \nz\n\" style=\"fill:#4c72b0;fill-opacity:0.5;stroke:#ffffff;stroke-linejoin:miter;stroke-width:0.086703;\"/>\n   </g>\n   <g id=\"patch_29\">\n    <path clip-path=\"url(#p6b715c176e)\" d=\"M 94.129566 304.78 \nL 94.941591 304.78 \nL 94.941591 205.190963 \nL 94.129566 205.190963 \nz\n\" style=\"fill:#4c72b0;fill-opacity:0.5;stroke:#ffffff;stroke-linejoin:miter;stroke-width:0.086703;\"/>\n   </g>\n   <g id=\"patch_30\">\n    <path clip-path=\"url(#p6b715c176e)\" d=\"M 94.941591 304.78 \nL 95.753615 304.78 \nL 95.753615 247.328077 \nL 94.941591 247.328077 \nz\n\" style=\"fill:#4c72b0;fill-opacity:0.5;stroke:#ffffff;stroke-linejoin:miter;stroke-width:0.086703;\"/>\n   </g>\n   <g id=\"patch_31\">\n    <path clip-path=\"url(#p6b715c176e)\" d=\"M 95.753615 304.78 \nL 96.565639 304.78 \nL 96.565639 240.526248 \nL 95.753615 240.526248 \nz\n\" style=\"fill:#4c72b0;fill-opacity:0.5;stroke:#ffffff;stroke-linejoin:miter;stroke-width:0.086703;\"/>\n   </g>\n   <g id=\"patch_32\">\n    <path clip-path=\"url(#p6b715c176e)\" d=\"M 96.565639 304.78 \nL 97.377664 304.78 \nL 97.377664 236.847272 \nL 96.565639 236.847272 \nz\n\" style=\"fill:#4c72b0;fill-opacity:0.5;stroke:#ffffff;stroke-linejoin:miter;stroke-width:0.086703;\"/>\n   </g>\n   <g id=\"patch_33\">\n    <path clip-path=\"url(#p6b715c176e)\" d=\"M 97.377664 304.78 \nL 98.189688 304.78 \nL 98.189688 230.216558 \nL 97.377664 230.216558 \nz\n\" style=\"fill:#4c72b0;fill-opacity:0.5;stroke:#ffffff;stroke-linejoin:miter;stroke-width:0.086703;\"/>\n   </g>\n   <g id=\"patch_34\">\n    <path clip-path=\"url(#p6b715c176e)\" d=\"M 98.189688 304.78 \nL 99.001713 304.78 \nL 99.001713 222.516375 \nL 98.189688 222.516375 \nz\n\" style=\"fill:#4c72b0;fill-opacity:0.5;stroke:#ffffff;stroke-linejoin:miter;stroke-width:0.086703;\"/>\n   </g>\n   <g id=\"patch_35\">\n    <path clip-path=\"url(#p6b715c176e)\" d=\"M 99.001713 304.78 \nL 99.813737 304.78 \nL 99.813737 130.199733 \nL 99.001713 130.199733 \nz\n\" style=\"fill:#4c72b0;fill-opacity:0.5;stroke:#ffffff;stroke-linejoin:miter;stroke-width:0.086703;\"/>\n   </g>\n   <g id=\"patch_36\">\n    <path clip-path=\"url(#p6b715c176e)\" d=\"M 99.813737 304.78 \nL 100.625761 304.78 \nL 100.625761 211.436667 \nL 99.813737 211.436667 \nz\n\" style=\"fill:#4c72b0;fill-opacity:0.5;stroke:#ffffff;stroke-linejoin:miter;stroke-width:0.086703;\"/>\n   </g>\n   <g id=\"patch_37\">\n    <path clip-path=\"url(#p6b715c176e)\" d=\"M 100.625761 304.78 \nL 101.437786 304.78 \nL 101.437786 195.822406 \nL 100.625761 195.822406 \nz\n\" style=\"fill:#4c72b0;fill-opacity:0.5;stroke:#ffffff;stroke-linejoin:miter;stroke-width:0.086703;\"/>\n   </g>\n   <g id=\"patch_38\">\n    <path clip-path=\"url(#p6b715c176e)\" d=\"M 101.437786 304.78 \nL 102.24981 304.78 \nL 102.24981 196.121858 \nL 101.437786 196.121858 \nz\n\" style=\"fill:#4c72b0;fill-opacity:0.5;stroke:#ffffff;stroke-linejoin:miter;stroke-width:0.086703;\"/>\n   </g>\n   <g id=\"patch_39\">\n    <path clip-path=\"url(#p6b715c176e)\" d=\"M 102.24981 304.78 \nL 103.061835 304.78 \nL 103.061835 188.25056 \nL 102.24981 188.25056 \nz\n\" style=\"fill:#4c72b0;fill-opacity:0.5;stroke:#ffffff;stroke-linejoin:miter;stroke-width:0.086703;\"/>\n   </g>\n   <g id=\"patch_40\">\n    <path clip-path=\"url(#p6b715c176e)\" d=\"M 103.061835 304.78 \nL 103.873859 304.78 \nL 103.873859 64.363166 \nL 103.061835 64.363166 \nz\n\" style=\"fill:#4c72b0;fill-opacity:0.5;stroke:#ffffff;stroke-linejoin:miter;stroke-width:0.086703;\"/>\n   </g>\n   <g id=\"patch_41\">\n    <path clip-path=\"url(#p6b715c176e)\" d=\"M 103.873859 304.78 \nL 104.685883 304.78 \nL 104.685883 177.299188 \nL 103.873859 177.299188 \nz\n\" style=\"fill:#4c72b0;fill-opacity:0.5;stroke:#ffffff;stroke-linejoin:miter;stroke-width:0.086703;\"/>\n   </g>\n   <g id=\"patch_42\">\n    <path clip-path=\"url(#p6b715c176e)\" d=\"M 104.685883 304.78 \nL 105.497908 304.78 \nL 105.497908 179.823137 \nL 104.685883 179.823137 \nz\n\" style=\"fill:#4c72b0;fill-opacity:0.5;stroke:#ffffff;stroke-linejoin:miter;stroke-width:0.086703;\"/>\n   </g>\n   <g id=\"patch_43\">\n    <path clip-path=\"url(#p6b715c176e)\" d=\"M 105.497908 304.78 \nL 106.309932 304.78 \nL 106.309932 172.721857 \nL 105.497908 172.721857 \nz\n\" style=\"fill:#4c72b0;fill-opacity:0.5;stroke:#ffffff;stroke-linejoin:miter;stroke-width:0.086703;\"/>\n   </g>\n   <g id=\"patch_44\">\n    <path clip-path=\"url(#p6b715c176e)\" d=\"M 106.309932 304.78 \nL 107.121957 304.78 \nL 107.121957 172.037396 \nL 106.309932 172.037396 \nz\n\" style=\"fill:#4c72b0;fill-opacity:0.5;stroke:#ffffff;stroke-linejoin:miter;stroke-width:0.086703;\"/>\n   </g>\n   <g id=\"patch_45\">\n    <path clip-path=\"url(#p6b715c176e)\" d=\"M 107.121957 304.78 \nL 107.933981 304.78 \nL 107.933981 166.305037 \nL 107.121957 166.305037 \nz\n\" style=\"fill:#4c72b0;fill-opacity:0.5;stroke:#ffffff;stroke-linejoin:miter;stroke-width:0.086703;\"/>\n   </g>\n   <g id=\"patch_46\">\n    <path clip-path=\"url(#p6b715c176e)\" d=\"M 107.933981 304.78 \nL 108.746005 304.78 \nL 108.746005 21.370476 \nL 107.933981 21.370476 \nz\n\" style=\"fill:#4c72b0;fill-opacity:0.5;stroke:#ffffff;stroke-linejoin:miter;stroke-width:0.086703;\"/>\n   </g>\n   <g id=\"patch_47\">\n    <path clip-path=\"url(#p6b715c176e)\" d=\"M 108.746005 304.78 \nL 109.55803 304.78 \nL 109.55803 158.177066 \nL 108.746005 158.177066 \nz\n\" style=\"fill:#4c72b0;fill-opacity:0.5;stroke:#ffffff;stroke-linejoin:miter;stroke-width:0.086703;\"/>\n   </g>\n   <g id=\"patch_48\">\n    <path clip-path=\"url(#p6b715c176e)\" d=\"M 109.55803 304.78 \nL 110.370054 304.78 \nL 110.370054 165.962807 \nL 109.55803 165.962807 \nz\n\" style=\"fill:#4c72b0;fill-opacity:0.5;stroke:#ffffff;stroke-linejoin:miter;stroke-width:0.086703;\"/>\n   </g>\n   <g id=\"patch_49\">\n    <path clip-path=\"url(#p6b715c176e)\" d=\"M 110.370054 304.78 \nL 111.182078 304.78 \nL 111.182078 166.005586 \nL 110.370054 166.005586 \nz\n\" style=\"fill:#4c72b0;fill-opacity:0.5;stroke:#ffffff;stroke-linejoin:miter;stroke-width:0.086703;\"/>\n   </g>\n   <g id=\"patch_50\">\n    <path clip-path=\"url(#p6b715c176e)\" d=\"M 111.182078 304.78 \nL 111.994103 304.78 \nL 111.994103 160.743794 \nL 111.182078 160.743794 \nz\n\" style=\"fill:#4c72b0;fill-opacity:0.5;stroke:#ffffff;stroke-linejoin:miter;stroke-width:0.086703;\"/>\n   </g>\n   <g id=\"patch_51\">\n    <path clip-path=\"url(#p6b715c176e)\" d=\"M 111.994103 304.78 \nL 112.806127 304.78 \nL 112.806127 23.808868 \nL 111.994103 23.808868 \nz\n\" style=\"fill:#4c72b0;fill-opacity:0.5;stroke:#ffffff;stroke-linejoin:miter;stroke-width:0.086703;\"/>\n   </g>\n   <g id=\"patch_52\">\n    <path clip-path=\"url(#p6b715c176e)\" d=\"M 112.806127 304.78 \nL 113.618152 304.78 \nL 113.618152 158.562075 \nL 112.806127 158.562075 \nz\n\" style=\"fill:#4c72b0;fill-opacity:0.5;stroke:#ffffff;stroke-linejoin:miter;stroke-width:0.086703;\"/>\n   </g>\n   <g id=\"patch_53\">\n    <path clip-path=\"url(#p6b715c176e)\" d=\"M 113.618152 304.78 \nL 114.430176 304.78 \nL 114.430176 165.49224 \nL 113.618152 165.49224 \nz\n\" style=\"fill:#4c72b0;fill-opacity:0.5;stroke:#ffffff;stroke-linejoin:miter;stroke-width:0.086703;\"/>\n   </g>\n   <g id=\"patch_54\">\n    <path clip-path=\"url(#p6b715c176e)\" d=\"M 114.430176 304.78 \nL 115.2422 304.78 \nL 115.2422 166.989498 \nL 114.430176 166.989498 \nz\n\" style=\"fill:#4c72b0;fill-opacity:0.5;stroke:#ffffff;stroke-linejoin:miter;stroke-width:0.086703;\"/>\n   </g>\n   <g id=\"patch_55\">\n    <path clip-path=\"url(#p6b715c176e)\" d=\"M 115.2422 304.78 \nL 116.054225 304.78 \nL 116.054225 177.299188 \nL 115.2422 177.299188 \nz\n\" style=\"fill:#4c72b0;fill-opacity:0.5;stroke:#ffffff;stroke-linejoin:miter;stroke-width:0.086703;\"/>\n   </g>\n   <g id=\"patch_56\">\n    <path clip-path=\"url(#p6b715c176e)\" d=\"M 116.054225 304.78 \nL 116.866249 304.78 \nL 116.866249 39.72258 \nL 116.054225 39.72258 \nz\n\" style=\"fill:#4c72b0;fill-opacity:0.5;stroke:#ffffff;stroke-linejoin:miter;stroke-width:0.086703;\"/>\n   </g>\n   <g id=\"patch_57\">\n    <path clip-path=\"url(#p6b715c176e)\" d=\"M 116.866249 304.78 \nL 117.678274 304.78 \nL 117.678274 179.523685 \nL 116.866249 179.523685 \nz\n\" style=\"fill:#4c72b0;fill-opacity:0.5;stroke:#ffffff;stroke-linejoin:miter;stroke-width:0.086703;\"/>\n   </g>\n   <g id=\"patch_58\">\n    <path clip-path=\"url(#p6b715c176e)\" d=\"M 117.678274 304.78 \nL 118.490298 304.78 \nL 118.490298 177.513082 \nL 117.678274 177.513082 \nz\n\" style=\"fill:#4c72b0;fill-opacity:0.5;stroke:#ffffff;stroke-linejoin:miter;stroke-width:0.086703;\"/>\n   </g>\n   <g id=\"patch_59\">\n    <path clip-path=\"url(#p6b715c176e)\" d=\"M 118.490298 304.78 \nL 119.302322 304.78 \nL 119.302322 183.159883 \nL 118.490298 183.159883 \nz\n\" style=\"fill:#4c72b0;fill-opacity:0.5;stroke:#ffffff;stroke-linejoin:miter;stroke-width:0.086703;\"/>\n   </g>\n   <g id=\"patch_60\">\n    <path clip-path=\"url(#p6b715c176e)\" d=\"M 119.302322 304.78 \nL 120.114347 304.78 \nL 120.114347 183.416556 \nL 119.302322 183.416556 \nz\n\" style=\"fill:#4c72b0;fill-opacity:0.5;stroke:#ffffff;stroke-linejoin:miter;stroke-width:0.086703;\"/>\n   </g>\n   <g id=\"patch_61\">\n    <path clip-path=\"url(#p6b715c176e)\" d=\"M 120.114347 304.78 \nL 120.926371 304.78 \nL 120.926371 189.876154 \nL 120.114347 189.876154 \nz\n\" style=\"fill:#4c72b0;fill-opacity:0.5;stroke:#ffffff;stroke-linejoin:miter;stroke-width:0.086703;\"/>\n   </g>\n   <g id=\"patch_62\">\n    <path clip-path=\"url(#p6b715c176e)\" d=\"M 120.926371 304.78 \nL 121.738396 304.78 \nL 121.738396 84.298085 \nL 120.926371 84.298085 \nz\n\" style=\"fill:#4c72b0;fill-opacity:0.5;stroke:#ffffff;stroke-linejoin:miter;stroke-width:0.086703;\"/>\n   </g>\n   <g id=\"patch_63\">\n    <path clip-path=\"url(#p6b715c176e)\" d=\"M 121.738396 304.78 \nL 122.55042 304.78 \nL 122.55042 202.068111 \nL 121.738396 202.068111 \nz\n\" style=\"fill:#4c72b0;fill-opacity:0.5;stroke:#ffffff;stroke-linejoin:miter;stroke-width:0.086703;\"/>\n   </g>\n   <g id=\"patch_64\">\n    <path clip-path=\"url(#p6b715c176e)\" d=\"M 122.55042 304.78 \nL 123.362444 304.78 \nL 123.362444 199.886392 \nL 122.55042 199.886392 \nz\n\" style=\"fill:#4c72b0;fill-opacity:0.5;stroke:#ffffff;stroke-linejoin:miter;stroke-width:0.086703;\"/>\n   </g>\n   <g id=\"patch_65\">\n    <path clip-path=\"url(#p6b715c176e)\" d=\"M 123.362444 304.78 \nL 124.174469 304.78 \nL 124.174469 205.789866 \nL 123.362444 205.789866 \nz\n\" style=\"fill:#4c72b0;fill-opacity:0.5;stroke:#ffffff;stroke-linejoin:miter;stroke-width:0.086703;\"/>\n   </g>\n   <g id=\"patch_66\">\n    <path clip-path=\"url(#p6b715c176e)\" d=\"M 124.174469 304.78 \nL 124.986493 304.78 \nL 124.986493 214.858971 \nL 124.174469 214.858971 \nz\n\" style=\"fill:#4c72b0;fill-opacity:0.5;stroke:#ffffff;stroke-linejoin:miter;stroke-width:0.086703;\"/>\n   </g>\n   <g id=\"patch_67\">\n    <path clip-path=\"url(#p6b715c176e)\" d=\"M 124.986493 304.78 \nL 125.798518 304.78 \nL 125.798518 133.023134 \nL 124.986493 133.023134 \nz\n\" style=\"fill:#4c72b0;fill-opacity:0.5;stroke:#ffffff;stroke-linejoin:miter;stroke-width:0.086703;\"/>\n   </g>\n   <g id=\"patch_68\">\n    <path clip-path=\"url(#p6b715c176e)\" d=\"M 125.798518 304.78 \nL 126.610542 304.78 \nL 126.610542 219.222408 \nL 125.798518 219.222408 \nz\n\" style=\"fill:#4c72b0;fill-opacity:0.5;stroke:#ffffff;stroke-linejoin:miter;stroke-width:0.086703;\"/>\n   </g>\n   <g id=\"patch_69\">\n    <path clip-path=\"url(#p6b715c176e)\" d=\"M 126.610542 304.78 \nL 127.422566 304.78 \nL 127.422566 227.3076 \nL 126.610542 227.3076 \nz\n\" style=\"fill:#4c72b0;fill-opacity:0.5;stroke:#ffffff;stroke-linejoin:miter;stroke-width:0.086703;\"/>\n   </g>\n   <g id=\"patch_70\">\n    <path clip-path=\"url(#p6b715c176e)\" d=\"M 127.422566 304.78 \nL 128.234591 304.78 \nL 128.234591 226.794255 \nL 127.422566 226.794255 \nz\n\" style=\"fill:#4c72b0;fill-opacity:0.5;stroke:#ffffff;stroke-linejoin:miter;stroke-width:0.086703;\"/>\n   </g>\n   <g id=\"patch_71\">\n    <path clip-path=\"url(#p6b715c176e)\" d=\"M 128.234591 304.78 \nL 129.046615 304.78 \nL 129.046615 229.874328 \nL 128.234591 229.874328 \nz\n\" style=\"fill:#4c72b0;fill-opacity:0.5;stroke:#ffffff;stroke-linejoin:miter;stroke-width:0.086703;\"/>\n   </g>\n   <g id=\"patch_72\">\n    <path clip-path=\"url(#p6b715c176e)\" d=\"M 129.046615 304.78 \nL 129.85864 304.78 \nL 129.85864 232.697729 \nL 129.046615 232.697729 \nz\n\" style=\"fill:#4c72b0;fill-opacity:0.5;stroke:#ffffff;stroke-linejoin:miter;stroke-width:0.086703;\"/>\n   </g>\n   <g id=\"patch_73\">\n    <path clip-path=\"url(#p6b715c176e)\" d=\"M 129.85864 304.78 \nL 130.670664 304.78 \nL 130.670664 169.855677 \nL 129.85864 169.855677 \nz\n\" style=\"fill:#4c72b0;fill-opacity:0.5;stroke:#ffffff;stroke-linejoin:miter;stroke-width:0.086703;\"/>\n   </g>\n   <g id=\"patch_74\">\n    <path clip-path=\"url(#p6b715c176e)\" d=\"M 130.670664 304.78 \nL 131.482688 304.78 \nL 131.482688 239.242884 \nL 130.670664 239.242884 \nz\n\" style=\"fill:#4c72b0;fill-opacity:0.5;stroke:#ffffff;stroke-linejoin:miter;stroke-width:0.086703;\"/>\n   </g>\n   <g id=\"patch_75\">\n    <path clip-path=\"url(#p6b715c176e)\" d=\"M 131.482688 304.78 \nL 132.294713 304.78 \nL 132.294713 239.841788 \nL 131.482688 239.841788 \nz\n\" style=\"fill:#4c72b0;fill-opacity:0.5;stroke:#ffffff;stroke-linejoin:miter;stroke-width:0.086703;\"/>\n   </g>\n   <g id=\"patch_76\">\n    <path clip-path=\"url(#p6b715c176e)\" d=\"M 132.294713 304.78 \nL 133.106737 304.78 \nL 133.106737 243.905773 \nL 132.294713 243.905773 \nz\n\" style=\"fill:#4c72b0;fill-opacity:0.5;stroke:#ffffff;stroke-linejoin:miter;stroke-width:0.086703;\"/>\n   </g>\n   <g id=\"patch_77\">\n    <path clip-path=\"url(#p6b715c176e)\" d=\"M 133.106737 304.78 \nL 133.918762 304.78 \nL 133.918762 247.755865 \nL 133.106737 247.755865 \nz\n\" style=\"fill:#4c72b0;fill-opacity:0.5;stroke:#ffffff;stroke-linejoin:miter;stroke-width:0.086703;\"/>\n   </g>\n   <g id=\"patch_78\">\n    <path clip-path=\"url(#p6b715c176e)\" d=\"M 133.918762 304.78 \nL 134.730786 304.78 \nL 134.730786 195.480176 \nL 133.918762 195.480176 \nz\n\" style=\"fill:#4c72b0;fill-opacity:0.5;stroke:#ffffff;stroke-linejoin:miter;stroke-width:0.086703;\"/>\n   </g>\n   <g id=\"patch_79\">\n    <path clip-path=\"url(#p6b715c176e)\" d=\"M 134.730786 304.78 \nL 135.54281 304.78 \nL 135.54281 253.95879 \nL 134.730786 253.95879 \nz\n\" style=\"fill:#4c72b0;fill-opacity:0.5;stroke:#ffffff;stroke-linejoin:miter;stroke-width:0.086703;\"/>\n   </g>\n   <g id=\"patch_80\">\n    <path clip-path=\"url(#p6b715c176e)\" d=\"M 135.54281 304.78 \nL 136.354835 304.78 \nL 136.354835 255.071039 \nL 135.54281 255.071039 \nz\n\" style=\"fill:#4c72b0;fill-opacity:0.5;stroke:#ffffff;stroke-linejoin:miter;stroke-width:0.086703;\"/>\n   </g>\n   <g id=\"patch_81\">\n    <path clip-path=\"url(#p6b715c176e)\" d=\"M 136.354835 304.78 \nL 137.166859 304.78 \nL 137.166859 254.942703 \nL 136.354835 254.942703 \nz\n\" style=\"fill:#4c72b0;fill-opacity:0.5;stroke:#ffffff;stroke-linejoin:miter;stroke-width:0.086703;\"/>\n   </g>\n   <g id=\"patch_82\">\n    <path clip-path=\"url(#p6b715c176e)\" d=\"M 137.166859 304.78 \nL 137.978884 304.78 \nL 137.978884 258.5789 \nL 137.166859 258.5789 \nz\n\" style=\"fill:#4c72b0;fill-opacity:0.5;stroke:#ffffff;stroke-linejoin:miter;stroke-width:0.086703;\"/>\n   </g>\n   <g id=\"patch_83\">\n    <path clip-path=\"url(#p6b715c176e)\" d=\"M 137.978884 304.78 \nL 138.790908 304.78 \nL 138.790908 211.950013 \nL 137.978884 211.950013 \nz\n\" style=\"fill:#4c72b0;fill-opacity:0.5;stroke:#ffffff;stroke-linejoin:miter;stroke-width:0.086703;\"/>\n   </g>\n   <g id=\"patch_84\">\n    <path clip-path=\"url(#p6b715c176e)\" d=\"M 138.790908 304.78 \nL 139.602932 304.78 \nL 139.602932 260.418388 \nL 138.790908 260.418388 \nz\n\" style=\"fill:#4c72b0;fill-opacity:0.5;stroke:#ffffff;stroke-linejoin:miter;stroke-width:0.086703;\"/>\n   </g>\n   <g id=\"patch_85\">\n    <path clip-path=\"url(#p6b715c176e)\" d=\"M 139.602932 304.78 \nL 140.414957 304.78 \nL 140.414957 263.883471 \nL 139.602932 263.883471 \nz\n\" style=\"fill:#4c72b0;fill-opacity:0.5;stroke:#ffffff;stroke-linejoin:miter;stroke-width:0.086703;\"/>\n   </g>\n   <g id=\"patch_86\">\n    <path clip-path=\"url(#p6b715c176e)\" d=\"M 140.414957 304.78 \nL 141.226981 304.78 \nL 141.226981 267.47689 \nL 140.414957 267.47689 \nz\n\" style=\"fill:#4c72b0;fill-opacity:0.5;stroke:#ffffff;stroke-linejoin:miter;stroke-width:0.086703;\"/>\n   </g>\n   <g id=\"patch_87\">\n    <path clip-path=\"url(#p6b715c176e)\" d=\"M 141.226981 304.78 \nL 142.039006 304.78 \nL 142.039006 267.690784 \nL 141.226981 267.690784 \nz\n\" style=\"fill:#4c72b0;fill-opacity:0.5;stroke:#ffffff;stroke-linejoin:miter;stroke-width:0.086703;\"/>\n   </g>\n   <g id=\"patch_88\">\n    <path clip-path=\"url(#p6b715c176e)\" d=\"M 142.039006 304.78 \nL 142.85103 304.78 \nL 142.85103 268.589139 \nL 142.039006 268.589139 \nz\n\" style=\"fill:#4c72b0;fill-opacity:0.5;stroke:#ffffff;stroke-linejoin:miter;stroke-width:0.086703;\"/>\n   </g>\n   <g id=\"patch_89\">\n    <path clip-path=\"url(#p6b715c176e)\" d=\"M 142.85103 304.78 \nL 143.663054 304.78 \nL 143.663054 233.510526 \nL 142.85103 233.510526 \nz\n\" style=\"fill:#4c72b0;fill-opacity:0.5;stroke:#ffffff;stroke-linejoin:miter;stroke-width:0.086703;\"/>\n   </g>\n   <g id=\"patch_90\">\n    <path clip-path=\"url(#p6b715c176e)\" d=\"M 143.663054 304.78 \nL 144.475079 304.78 \nL 144.475079 270.6853 \nL 143.663054 270.6853 \nz\n\" style=\"fill:#4c72b0;fill-opacity:0.5;stroke:#ffffff;stroke-linejoin:miter;stroke-width:0.086703;\"/>\n   </g>\n   <g id=\"patch_91\">\n    <path clip-path=\"url(#p6b715c176e)\" d=\"M 144.475079 304.78 \nL 145.287103 304.78 \nL 145.287103 271.326981 \nL 144.475079 271.326981 \nz\n\" style=\"fill:#4c72b0;fill-opacity:0.5;stroke:#ffffff;stroke-linejoin:miter;stroke-width:0.086703;\"/>\n   </g>\n   <g id=\"patch_92\">\n    <path clip-path=\"url(#p6b715c176e)\" d=\"M 145.287103 304.78 \nL 146.099128 304.78 \nL 146.099128 274.364276 \nL 145.287103 274.364276 \nz\n\" style=\"fill:#4c72b0;fill-opacity:0.5;stroke:#ffffff;stroke-linejoin:miter;stroke-width:0.086703;\"/>\n   </g>\n   <g id=\"patch_93\">\n    <path clip-path=\"url(#p6b715c176e)\" d=\"M 146.099128 304.78 \nL 146.911152 304.78 \nL 146.911152 273.808152 \nL 146.099128 273.808152 \nz\n\" style=\"fill:#4c72b0;fill-opacity:0.5;stroke:#ffffff;stroke-linejoin:miter;stroke-width:0.086703;\"/>\n   </g>\n   <g id=\"patch_94\">\n    <path clip-path=\"url(#p6b715c176e)\" d=\"M 146.911152 304.78 \nL 147.723176 304.78 \nL 147.723176 249.167565 \nL 146.911152 249.167565 \nz\n\" style=\"fill:#4c72b0;fill-opacity:0.5;stroke:#ffffff;stroke-linejoin:miter;stroke-width:0.086703;\"/>\n   </g>\n   <g id=\"patch_95\">\n    <path clip-path=\"url(#p6b715c176e)\" d=\"M 147.723176 304.78 \nL 148.535201 304.78 \nL 148.535201 278.770492 \nL 147.723176 278.770492 \nz\n\" style=\"fill:#4c72b0;fill-opacity:0.5;stroke:#ffffff;stroke-linejoin:miter;stroke-width:0.086703;\"/>\n   </g>\n   <g id=\"patch_96\">\n    <path clip-path=\"url(#p6b715c176e)\" d=\"M 148.535201 304.78 \nL 149.347225 304.78 \nL 149.347225 276.802667 \nL 148.535201 276.802667 \nz\n\" style=\"fill:#4c72b0;fill-opacity:0.5;stroke:#ffffff;stroke-linejoin:miter;stroke-width:0.086703;\"/>\n   </g>\n   <g id=\"patch_97\">\n    <path clip-path=\"url(#p6b715c176e)\" d=\"M 149.347225 304.78 \nL 150.15925 304.78 \nL 150.15925 278.984386 \nL 149.347225 278.984386 \nz\n\" style=\"fill:#4c72b0;fill-opacity:0.5;stroke:#ffffff;stroke-linejoin:miter;stroke-width:0.086703;\"/>\n   </g>\n   <g id=\"patch_98\">\n    <path clip-path=\"url(#p6b715c176e)\" d=\"M 150.15925 304.78 \nL 150.971274 304.78 \nL 150.971274 280.182192 \nL 150.15925 280.182192 \nz\n\" style=\"fill:#4c72b0;fill-opacity:0.5;stroke:#ffffff;stroke-linejoin:miter;stroke-width:0.086703;\"/>\n   </g>\n   <g id=\"patch_99\">\n    <path clip-path=\"url(#p6b715c176e)\" d=\"M 150.971274 304.78 \nL 151.783298 304.78 \nL 151.783298 284.032284 \nL 150.971274 284.032284 \nz\n\" style=\"fill:#4c72b0;fill-opacity:0.5;stroke:#ffffff;stroke-linejoin:miter;stroke-width:0.086703;\"/>\n   </g>\n   <g id=\"patch_100\">\n    <path clip-path=\"url(#p6b715c176e)\" d=\"M 151.783298 304.78 \nL 152.595323 304.78 \nL 152.595323 258.536121 \nL 151.783298 258.536121 \nz\n\" style=\"fill:#4c72b0;fill-opacity:0.5;stroke:#ffffff;stroke-linejoin:miter;stroke-width:0.086703;\"/>\n   </g>\n   <g id=\"patch_101\">\n    <path clip-path=\"url(#p6b715c176e)\" d=\"M 152.595323 304.78 \nL 153.407347 304.78 \nL 153.407347 283.81839 \nL 152.595323 283.81839 \nz\n\" style=\"fill:#4c72b0;fill-opacity:0.5;stroke:#ffffff;stroke-linejoin:miter;stroke-width:0.086703;\"/>\n   </g>\n   <g id=\"patch_102\">\n    <path clip-path=\"url(#p6b715c176e)\" d=\"M 153.407347 304.78 \nL 154.219372 304.78 \nL 154.219372 285.657878 \nL 153.407347 285.657878 \nz\n\" style=\"fill:#4c72b0;fill-opacity:0.5;stroke:#ffffff;stroke-linejoin:miter;stroke-width:0.086703;\"/>\n   </g>\n   <g id=\"patch_103\">\n    <path clip-path=\"url(#p6b715c176e)\" d=\"M 154.219372 304.78 \nL 155.031396 304.78 \nL 155.031396 284.032284 \nL 154.219372 284.032284 \nz\n\" style=\"fill:#4c72b0;fill-opacity:0.5;stroke:#ffffff;stroke-linejoin:miter;stroke-width:0.086703;\"/>\n   </g>\n   <g id=\"patch_104\">\n    <path clip-path=\"url(#p6b715c176e)\" d=\"M 155.031396 304.78 \nL 155.84342 304.78 \nL 155.84342 285.23009 \nL 155.031396 285.23009 \nz\n\" style=\"fill:#4c72b0;fill-opacity:0.5;stroke:#ffffff;stroke-linejoin:miter;stroke-width:0.086703;\"/>\n   </g>\n   <g id=\"patch_105\">\n    <path clip-path=\"url(#p6b715c176e)\" d=\"M 155.84342 304.78 \nL 156.655445 304.78 \nL 156.655445 268.674696 \nL 155.84342 268.674696 \nz\n\" style=\"fill:#4c72b0;fill-opacity:0.5;stroke:#ffffff;stroke-linejoin:miter;stroke-width:0.086703;\"/>\n   </g>\n   <g id=\"patch_106\">\n    <path clip-path=\"url(#p6b715c176e)\" d=\"M 156.655445 304.78 \nL 157.467469 304.78 \nL 157.467469 286.556233 \nL 156.655445 286.556233 \nz\n\" style=\"fill:#4c72b0;fill-opacity:0.5;stroke:#ffffff;stroke-linejoin:miter;stroke-width:0.086703;\"/>\n   </g>\n   <g id=\"patch_107\">\n    <path clip-path=\"url(#p6b715c176e)\" d=\"M 157.467469 304.78 \nL 158.279494 304.78 \nL 158.279494 289.080182 \nL 157.467469 289.080182 \nz\n\" style=\"fill:#4c72b0;fill-opacity:0.5;stroke:#ffffff;stroke-linejoin:miter;stroke-width:0.086703;\"/>\n   </g>\n   <g id=\"patch_108\">\n    <path clip-path=\"url(#p6b715c176e)\" d=\"M 158.279494 304.78 \nL 159.091518 304.78 \nL 159.091518 289.550749 \nL 158.279494 289.550749 \nz\n\" style=\"fill:#4c72b0;fill-opacity:0.5;stroke:#ffffff;stroke-linejoin:miter;stroke-width:0.086703;\"/>\n   </g>\n   <g id=\"patch_109\">\n    <path clip-path=\"url(#p6b715c176e)\" d=\"M 159.091518 304.78 \nL 159.903542 304.78 \nL 159.903542 290.021315 \nL 159.091518 290.021315 \nz\n\" style=\"fill:#4c72b0;fill-opacity:0.5;stroke:#ffffff;stroke-linejoin:miter;stroke-width:0.086703;\"/>\n   </g>\n   <g id=\"patch_110\">\n    <path clip-path=\"url(#p6b715c176e)\" d=\"M 159.903542 304.78 \nL 160.715567 304.78 \nL 160.715567 274.9204 \nL 159.903542 274.9204 \nz\n\" style=\"fill:#4c72b0;fill-opacity:0.5;stroke:#ffffff;stroke-linejoin:miter;stroke-width:0.086703;\"/>\n   </g>\n   <g id=\"patch_111\">\n    <path clip-path=\"url(#p6b715c176e)\" d=\"M 160.715567 304.78 \nL 161.527591 304.78 \nL 161.527591 292.160255 \nL 160.715567 292.160255 \nz\n\" style=\"fill:#4c72b0;fill-opacity:0.5;stroke:#ffffff;stroke-linejoin:miter;stroke-width:0.086703;\"/>\n   </g>\n   <g id=\"patch_112\">\n    <path clip-path=\"url(#p6b715c176e)\" d=\"M 161.527591 304.78 \nL 162.339616 304.78 \nL 162.339616 292.459707 \nL 161.527591 292.459707 \nz\n\" style=\"fill:#4c72b0;fill-opacity:0.5;stroke:#ffffff;stroke-linejoin:miter;stroke-width:0.086703;\"/>\n   </g>\n   <g id=\"patch_113\">\n    <path clip-path=\"url(#p6b715c176e)\" d=\"M 162.339616 304.78 \nL 163.15164 304.78 \nL 163.15164 292.801937 \nL 162.339616 292.801937 \nz\n\" style=\"fill:#4c72b0;fill-opacity:0.5;stroke:#ffffff;stroke-linejoin:miter;stroke-width:0.086703;\"/>\n   </g>\n   <g id=\"patch_114\">\n    <path clip-path=\"url(#p6b715c176e)\" d=\"M 163.15164 304.78 \nL 163.963664 304.78 \nL 163.963664 293.101389 \nL 163.15164 293.101389 \nz\n\" style=\"fill:#4c72b0;fill-opacity:0.5;stroke:#ffffff;stroke-linejoin:miter;stroke-width:0.086703;\"/>\n   </g>\n   <g id=\"patch_115\">\n    <path clip-path=\"url(#p6b715c176e)\" d=\"M 163.963664 304.78 \nL 164.775689 304.78 \nL 164.775689 292.160255 \nL 163.963664 292.160255 \nz\n\" style=\"fill:#4c72b0;fill-opacity:0.5;stroke:#ffffff;stroke-linejoin:miter;stroke-width:0.086703;\"/>\n   </g>\n   <g id=\"patch_116\">\n    <path clip-path=\"url(#p6b715c176e)\" d=\"M 164.775689 304.78 \nL 165.587713 304.78 \nL 165.587713 282.235574 \nL 164.775689 282.235574 \nz\n\" style=\"fill:#4c72b0;fill-opacity:0.5;stroke:#ffffff;stroke-linejoin:miter;stroke-width:0.086703;\"/>\n   </g>\n   <g id=\"patch_117\">\n    <path clip-path=\"url(#p6b715c176e)\" d=\"M 165.587713 304.78 \nL 166.399738 304.78 \nL 166.399738 294.042522 \nL 165.587713 294.042522 \nz\n\" style=\"fill:#4c72b0;fill-opacity:0.5;stroke:#ffffff;stroke-linejoin:miter;stroke-width:0.086703;\"/>\n   </g>\n   <g id=\"patch_118\">\n    <path clip-path=\"url(#p6b715c176e)\" d=\"M 166.399738 304.78 \nL 167.211762 304.78 \nL 167.211762 294.47031 \nL 166.399738 294.47031 \nz\n\" style=\"fill:#4c72b0;fill-opacity:0.5;stroke:#ffffff;stroke-linejoin:miter;stroke-width:0.086703;\"/>\n   </g>\n   <g id=\"patch_119\">\n    <path clip-path=\"url(#p6b715c176e)\" d=\"M 167.211762 304.78 \nL 168.023786 304.78 \nL 168.023786 294.641425 \nL 167.211762 294.641425 \nz\n\" style=\"fill:#4c72b0;fill-opacity:0.5;stroke:#ffffff;stroke-linejoin:miter;stroke-width:0.086703;\"/>\n   </g>\n   <g id=\"patch_120\">\n    <path clip-path=\"url(#p6b715c176e)\" d=\"M 168.023786 304.78 \nL 168.835811 304.78 \nL 168.835811 295.53978 \nL 168.023786 295.53978 \nz\n\" style=\"fill:#4c72b0;fill-opacity:0.5;stroke:#ffffff;stroke-linejoin:miter;stroke-width:0.086703;\"/>\n   </g>\n   <g id=\"patch_121\">\n    <path clip-path=\"url(#p6b715c176e)\" d=\"M 168.835811 304.78 \nL 169.647835 304.78 \nL 169.647835 288.09627 \nL 168.835811 288.09627 \nz\n\" style=\"fill:#4c72b0;fill-opacity:0.5;stroke:#ffffff;stroke-linejoin:miter;stroke-width:0.086703;\"/>\n   </g>\n   <g id=\"patch_122\">\n    <path clip-path=\"url(#p6b715c176e)\" d=\"M 169.647835 304.78 \nL 170.459859 304.78 \nL 170.459859 297.037038 \nL 169.647835 297.037038 \nz\n\" style=\"fill:#4c72b0;fill-opacity:0.5;stroke:#ffffff;stroke-linejoin:miter;stroke-width:0.086703;\"/>\n   </g>\n   <g id=\"patch_123\">\n    <path clip-path=\"url(#p6b715c176e)\" d=\"M 170.459859 304.78 \nL 171.271884 304.78 \nL 171.271884 296.60925 \nL 170.459859 296.60925 \nz\n\" style=\"fill:#4c72b0;fill-opacity:0.5;stroke:#ffffff;stroke-linejoin:miter;stroke-width:0.086703;\"/>\n   </g>\n   <g id=\"patch_124\">\n    <path clip-path=\"url(#p6b715c176e)\" d=\"M 171.271884 304.78 \nL 172.083908 304.78 \nL 172.083908 297.764277 \nL 171.271884 297.764277 \nz\n\" style=\"fill:#4c72b0;fill-opacity:0.5;stroke:#ffffff;stroke-linejoin:miter;stroke-width:0.086703;\"/>\n   </g>\n   <g id=\"patch_125\">\n    <path clip-path=\"url(#p6b715c176e)\" d=\"M 172.083908 304.78 \nL 172.895933 304.78 \nL 172.895933 297.336489 \nL 172.083908 297.336489 \nz\n\" style=\"fill:#4c72b0;fill-opacity:0.5;stroke:#ffffff;stroke-linejoin:miter;stroke-width:0.086703;\"/>\n   </g>\n   <g id=\"patch_126\">\n    <path clip-path=\"url(#p6b715c176e)\" d=\"M 172.895933 304.78 \nL 173.707957 304.78 \nL 173.707957 297.892614 \nL 172.895933 297.892614 \nz\n\" style=\"fill:#4c72b0;fill-opacity:0.5;stroke:#ffffff;stroke-linejoin:miter;stroke-width:0.086703;\"/>\n   </g>\n   <g id=\"patch_127\">\n    <path clip-path=\"url(#p6b715c176e)\" d=\"M 173.707957 304.78 \nL 174.519981 304.78 \nL 174.519981 291.219122 \nL 173.707957 291.219122 \nz\n\" style=\"fill:#4c72b0;fill-opacity:0.5;stroke:#ffffff;stroke-linejoin:miter;stroke-width:0.086703;\"/>\n   </g>\n   <g id=\"patch_128\">\n    <path clip-path=\"url(#p6b715c176e)\" d=\"M 174.519981 304.78 \nL 175.332006 304.78 \nL 175.332006 298.149287 \nL 174.519981 298.149287 \nz\n\" style=\"fill:#4c72b0;fill-opacity:0.5;stroke:#ffffff;stroke-linejoin:miter;stroke-width:0.086703;\"/>\n   </g>\n   <g id=\"patch_129\">\n    <path clip-path=\"url(#p6b715c176e)\" d=\"M 175.332006 304.78 \nL 176.14403 304.78 \nL 176.14403 298.234844 \nL 175.332006 298.234844 \nz\n\" style=\"fill:#4c72b0;fill-opacity:0.5;stroke:#ffffff;stroke-linejoin:miter;stroke-width:0.086703;\"/>\n   </g>\n   <g id=\"patch_130\">\n    <path clip-path=\"url(#p6b715c176e)\" d=\"M 176.14403 304.78 \nL 176.956055 304.78 \nL 176.956055 299.347093 \nL 176.14403 299.347093 \nz\n\" style=\"fill:#4c72b0;fill-opacity:0.5;stroke:#ffffff;stroke-linejoin:miter;stroke-width:0.086703;\"/>\n   </g>\n   <g id=\"patch_131\">\n    <path clip-path=\"url(#p6b715c176e)\" d=\"M 176.956055 304.78 \nL 177.768079 304.78 \nL 177.768079 299.475429 \nL 176.956055 299.475429 \nz\n\" style=\"fill:#4c72b0;fill-opacity:0.5;stroke:#ffffff;stroke-linejoin:miter;stroke-width:0.086703;\"/>\n   </g>\n   <g id=\"patch_132\">\n    <path clip-path=\"url(#p6b715c176e)\" d=\"M 177.768079 304.78 \nL 178.580103 304.78 \nL 178.580103 293.015831 \nL 177.768079 293.015831 \nz\n\" style=\"fill:#4c72b0;fill-opacity:0.5;stroke:#ffffff;stroke-linejoin:miter;stroke-width:0.086703;\"/>\n   </g>\n   <g id=\"patch_133\">\n    <path clip-path=\"url(#p6b715c176e)\" d=\"M 178.580103 304.78 \nL 179.392128 304.78 \nL 179.392128 300.202669 \nL 178.580103 300.202669 \nz\n\" style=\"fill:#4c72b0;fill-opacity:0.5;stroke:#ffffff;stroke-linejoin:miter;stroke-width:0.086703;\"/>\n   </g>\n   <g id=\"patch_134\">\n    <path clip-path=\"url(#p6b715c176e)\" d=\"M 179.392128 304.78 \nL 180.204152 304.78 \nL 180.204152 299.860438 \nL 179.392128 299.860438 \nz\n\" style=\"fill:#4c72b0;fill-opacity:0.5;stroke:#ffffff;stroke-linejoin:miter;stroke-width:0.086703;\"/>\n   </g>\n   <g id=\"patch_135\">\n    <path clip-path=\"url(#p6b715c176e)\" d=\"M 180.204152 304.78 \nL 181.016177 304.78 \nL 181.016177 300.801572 \nL 180.204152 300.801572 \nz\n\" style=\"fill:#4c72b0;fill-opacity:0.5;stroke:#ffffff;stroke-linejoin:miter;stroke-width:0.086703;\"/>\n   </g>\n   <g id=\"patch_136\">\n    <path clip-path=\"url(#p6b715c176e)\" d=\"M 181.016177 304.78 \nL 181.828201 304.78 \nL 181.828201 300.587678 \nL 181.016177 300.587678 \nz\n\" style=\"fill:#4c72b0;fill-opacity:0.5;stroke:#ffffff;stroke-linejoin:miter;stroke-width:0.086703;\"/>\n   </g>\n   <g id=\"patch_137\">\n    <path clip-path=\"url(#p6b715c176e)\" d=\"M 181.828201 304.78 \nL 182.640225 304.78 \nL 182.640225 294.812541 \nL 181.828201 294.812541 \nz\n\" style=\"fill:#4c72b0;fill-opacity:0.5;stroke:#ffffff;stroke-linejoin:miter;stroke-width:0.086703;\"/>\n   </g>\n   <g id=\"patch_138\">\n    <path clip-path=\"url(#p6b715c176e)\" d=\"M 182.640225 304.78 \nL 183.45225 304.78 \nL 183.45225 301.357696 \nL 182.640225 301.357696 \nz\n\" style=\"fill:#4c72b0;fill-opacity:0.5;stroke:#ffffff;stroke-linejoin:miter;stroke-width:0.086703;\"/>\n   </g>\n   <g id=\"patch_139\">\n    <path clip-path=\"url(#p6b715c176e)\" d=\"M 183.45225 304.78 \nL 184.264274 304.78 \nL 184.264274 301.015466 \nL 183.45225 301.015466 \nz\n\" style=\"fill:#4c72b0;fill-opacity:0.5;stroke:#ffffff;stroke-linejoin:miter;stroke-width:0.086703;\"/>\n   </g>\n   <g id=\"patch_140\">\n    <path clip-path=\"url(#p6b715c176e)\" d=\"M 184.264274 304.78 \nL 185.076299 304.78 \nL 185.076299 300.673236 \nL 184.264274 300.673236 \nz\n\" style=\"fill:#4c72b0;fill-opacity:0.5;stroke:#ffffff;stroke-linejoin:miter;stroke-width:0.086703;\"/>\n   </g>\n   <g id=\"patch_141\">\n    <path clip-path=\"url(#p6b715c176e)\" d=\"M 185.076299 304.78 \nL 185.888323 304.78 \nL 185.888323 301.400475 \nL 185.076299 301.400475 \nz\n\" style=\"fill:#4c72b0;fill-opacity:0.5;stroke:#ffffff;stroke-linejoin:miter;stroke-width:0.086703;\"/>\n   </g>\n   <g id=\"patch_142\">\n    <path clip-path=\"url(#p6b715c176e)\" d=\"M 185.888323 304.78 \nL 186.700347 304.78 \nL 186.700347 301.913821 \nL 185.888323 301.913821 \nz\n\" style=\"fill:#4c72b0;fill-opacity:0.5;stroke:#ffffff;stroke-linejoin:miter;stroke-width:0.086703;\"/>\n   </g>\n   <g id=\"patch_143\">\n    <path clip-path=\"url(#p6b715c176e)\" d=\"M 186.700347 304.78 \nL 187.512372 304.78 \nL 187.512372 298.363181 \nL 186.700347 298.363181 \nz\n\" style=\"fill:#4c72b0;fill-opacity:0.5;stroke:#ffffff;stroke-linejoin:miter;stroke-width:0.086703;\"/>\n   </g>\n   <g id=\"patch_144\">\n    <path clip-path=\"url(#p6b715c176e)\" d=\"M 187.512372 304.78 \nL 188.324396 304.78 \nL 188.324396 301.314918 \nL 187.512372 301.314918 \nz\n\" style=\"fill:#4c72b0;fill-opacity:0.5;stroke:#ffffff;stroke-linejoin:miter;stroke-width:0.086703;\"/>\n   </g>\n   <g id=\"patch_145\">\n    <path clip-path=\"url(#p6b715c176e)\" d=\"M 188.324396 304.78 \nL 189.136421 304.78 \nL 189.136421 301.742705 \nL 188.324396 301.742705 \nz\n\" style=\"fill:#4c72b0;fill-opacity:0.5;stroke:#ffffff;stroke-linejoin:miter;stroke-width:0.086703;\"/>\n   </g>\n   <g id=\"patch_146\">\n    <path clip-path=\"url(#p6b715c176e)\" d=\"M 189.136421 304.78 \nL 189.948445 304.78 \nL 189.948445 301.57159 \nL 189.136421 301.57159 \nz\n\" style=\"fill:#4c72b0;fill-opacity:0.5;stroke:#ffffff;stroke-linejoin:miter;stroke-width:0.086703;\"/>\n   </g>\n   <g id=\"patch_147\">\n    <path clip-path=\"url(#p6b715c176e)\" d=\"M 189.948445 304.78 \nL 190.760469 304.78 \nL 190.760469 301.956599 \nL 189.948445 301.956599 \nz\n\" style=\"fill:#4c72b0;fill-opacity:0.5;stroke:#ffffff;stroke-linejoin:miter;stroke-width:0.086703;\"/>\n   </g>\n   <g id=\"patch_148\">\n    <path clip-path=\"url(#p6b715c176e)\" d=\"M 190.760469 304.78 \nL 191.572494 304.78 \nL 191.572494 299.646544 \nL 190.760469 299.646544 \nz\n\" style=\"fill:#4c72b0;fill-opacity:0.5;stroke:#ffffff;stroke-linejoin:miter;stroke-width:0.086703;\"/>\n   </g>\n   <g id=\"patch_149\">\n    <path clip-path=\"url(#p6b715c176e)\" d=\"M 191.572494 304.78 \nL 192.384518 304.78 \nL 192.384518 302.341609 \nL 191.572494 302.341609 \nz\n\" style=\"fill:#4c72b0;fill-opacity:0.5;stroke:#ffffff;stroke-linejoin:miter;stroke-width:0.086703;\"/>\n   </g>\n   <g id=\"patch_150\">\n    <path clip-path=\"url(#p6b715c176e)\" d=\"M 192.384518 304.78 \nL 193.196543 304.78 \nL 193.196543 302.127715 \nL 192.384518 302.127715 \nz\n\" style=\"fill:#4c72b0;fill-opacity:0.5;stroke:#ffffff;stroke-linejoin:miter;stroke-width:0.086703;\"/>\n   </g>\n   <g id=\"patch_151\">\n    <path clip-path=\"url(#p6b715c176e)\" d=\"M 193.196543 304.78 \nL 194.008567 304.78 \nL 194.008567 302.683839 \nL 193.196543 302.683839 \nz\n\" style=\"fill:#4c72b0;fill-opacity:0.5;stroke:#ffffff;stroke-linejoin:miter;stroke-width:0.086703;\"/>\n   </g>\n   <g id=\"patch_152\">\n    <path clip-path=\"url(#p6b715c176e)\" d=\"M 194.008567 304.78 \nL 194.820591 304.78 \nL 194.820591 302.854954 \nL 194.008567 302.854954 \nz\n\" style=\"fill:#4c72b0;fill-opacity:0.5;stroke:#ffffff;stroke-linejoin:miter;stroke-width:0.086703;\"/>\n   </g>\n   <g id=\"patch_153\">\n    <path clip-path=\"url(#p6b715c176e)\" d=\"M 194.820591 304.78 \nL 195.632616 304.78 \nL 195.632616 302.812175 \nL 194.820591 302.812175 \nz\n\" style=\"fill:#4c72b0;fill-opacity:0.5;stroke:#ffffff;stroke-linejoin:miter;stroke-width:0.086703;\"/>\n   </g>\n   <g id=\"patch_154\">\n    <path clip-path=\"url(#p6b715c176e)\" d=\"M 195.632616 304.78 \nL 196.44464 304.78 \nL 196.44464 300.50212 \nL 195.632616 300.50212 \nz\n\" style=\"fill:#4c72b0;fill-opacity:0.5;stroke:#ffffff;stroke-linejoin:miter;stroke-width:0.086703;\"/>\n   </g>\n   <g id=\"patch_155\">\n    <path clip-path=\"url(#p6b715c176e)\" d=\"M 196.44464 304.78 \nL 197.256665 304.78 \nL 197.256665 302.683839 \nL 196.44464 302.683839 \nz\n\" style=\"fill:#4c72b0;fill-opacity:0.5;stroke:#ffffff;stroke-linejoin:miter;stroke-width:0.086703;\"/>\n   </g>\n   <g id=\"patch_156\">\n    <path clip-path=\"url(#p6b715c176e)\" d=\"M 197.256665 304.78 \nL 198.068689 304.78 \nL 198.068689 302.769397 \nL 197.256665 302.769397 \nz\n\" style=\"fill:#4c72b0;fill-opacity:0.5;stroke:#ffffff;stroke-linejoin:miter;stroke-width:0.086703;\"/>\n   </g>\n   <g id=\"patch_157\">\n    <path clip-path=\"url(#p6b715c176e)\" d=\"M 198.068689 304.78 \nL 198.880713 304.78 \nL 198.880713 302.64106 \nL 198.068689 302.64106 \nz\n\" style=\"fill:#4c72b0;fill-opacity:0.5;stroke:#ffffff;stroke-linejoin:miter;stroke-width:0.086703;\"/>\n   </g>\n   <g id=\"patch_158\">\n    <path clip-path=\"url(#p6b715c176e)\" d=\"M 198.880713 304.78 \nL 199.692738 304.78 \nL 199.692738 303.026069 \nL 198.880713 303.026069 \nz\n\" style=\"fill:#4c72b0;fill-opacity:0.5;stroke:#ffffff;stroke-linejoin:miter;stroke-width:0.086703;\"/>\n   </g>\n   <g id=\"patch_159\">\n    <path clip-path=\"url(#p6b715c176e)\" d=\"M 199.692738 304.78 \nL 200.504762 304.78 \nL 200.504762 301.614369 \nL 199.692738 301.614369 \nz\n\" style=\"fill:#4c72b0;fill-opacity:0.5;stroke:#ffffff;stroke-linejoin:miter;stroke-width:0.086703;\"/>\n   </g>\n   <g id=\"patch_160\">\n    <path clip-path=\"url(#p6b715c176e)\" d=\"M 200.504762 304.78 \nL 201.316787 304.78 \nL 201.316787 303.111627 \nL 200.504762 303.111627 \nz\n\" style=\"fill:#4c72b0;fill-opacity:0.5;stroke:#ffffff;stroke-linejoin:miter;stroke-width:0.086703;\"/>\n   </g>\n   <g id=\"patch_161\">\n    <path clip-path=\"url(#p6b715c176e)\" d=\"M 201.316787 304.78 \nL 202.128811 304.78 \nL 202.128811 303.496636 \nL 201.316787 303.496636 \nz\n\" style=\"fill:#4c72b0;fill-opacity:0.5;stroke:#ffffff;stroke-linejoin:miter;stroke-width:0.086703;\"/>\n   </g>\n   <g id=\"patch_162\">\n    <path clip-path=\"url(#p6b715c176e)\" d=\"M 202.128811 304.78 \nL 202.940835 304.78 \nL 202.940835 303.282742 \nL 202.128811 303.282742 \nz\n\" style=\"fill:#4c72b0;fill-opacity:0.5;stroke:#ffffff;stroke-linejoin:miter;stroke-width:0.086703;\"/>\n   </g>\n   <g id=\"patch_163\">\n    <path clip-path=\"url(#p6b715c176e)\" d=\"M 202.940835 304.78 \nL 203.75286 304.78 \nL 203.75286 303.325521 \nL 202.940835 303.325521 \nz\n\" style=\"fill:#4c72b0;fill-opacity:0.5;stroke:#ffffff;stroke-linejoin:miter;stroke-width:0.086703;\"/>\n   </g>\n   <g id=\"patch_164\">\n    <path clip-path=\"url(#p6b715c176e)\" d=\"M 203.75286 304.78 \nL 204.564884 304.78 \nL 204.564884 302.726618 \nL 203.75286 302.726618 \nz\n\" style=\"fill:#4c72b0;fill-opacity:0.5;stroke:#ffffff;stroke-linejoin:miter;stroke-width:0.086703;\"/>\n   </g>\n   <g id=\"patch_165\">\n    <path clip-path=\"url(#p6b715c176e)\" d=\"M 204.564884 304.78 \nL 205.376909 304.78 \nL 205.376909 303.453857 \nL 204.564884 303.453857 \nz\n\" style=\"fill:#4c72b0;fill-opacity:0.5;stroke:#ffffff;stroke-linejoin:miter;stroke-width:0.086703;\"/>\n   </g>\n   <g id=\"patch_166\">\n    <path clip-path=\"url(#p6b715c176e)\" d=\"M 205.376909 304.78 \nL 206.188933 304.78 \nL 206.188933 303.796088 \nL 205.376909 303.796088 \nz\n\" style=\"fill:#4c72b0;fill-opacity:0.5;stroke:#ffffff;stroke-linejoin:miter;stroke-width:0.086703;\"/>\n   </g>\n   <g id=\"patch_167\">\n    <path clip-path=\"url(#p6b715c176e)\" d=\"M 206.188933 304.78 \nL 207.000957 304.78 \nL 207.000957 304.05276 \nL 206.188933 304.05276 \nz\n\" style=\"fill:#4c72b0;fill-opacity:0.5;stroke:#ffffff;stroke-linejoin:miter;stroke-width:0.086703;\"/>\n   </g>\n   <g id=\"patch_168\">\n    <path clip-path=\"url(#p6b715c176e)\" d=\"M 207.000957 304.78 \nL 207.812982 304.78 \nL 207.812982 303.71053 \nL 207.000957 303.71053 \nz\n\" style=\"fill:#4c72b0;fill-opacity:0.5;stroke:#ffffff;stroke-linejoin:miter;stroke-width:0.086703;\"/>\n   </g>\n   <g id=\"patch_169\">\n    <path clip-path=\"url(#p6b715c176e)\" d=\"M 207.812982 304.78 \nL 208.625006 304.78 \nL 208.625006 304.181097 \nL 207.812982 304.181097 \nz\n\" style=\"fill:#4c72b0;fill-opacity:0.5;stroke:#ffffff;stroke-linejoin:miter;stroke-width:0.086703;\"/>\n   </g>\n   <g id=\"patch_170\">\n    <path clip-path=\"url(#p6b715c176e)\" d=\"M 208.625006 304.78 \nL 209.437031 304.78 \nL 209.437031 302.64106 \nL 208.625006 302.64106 \nz\n\" style=\"fill:#4c72b0;fill-opacity:0.5;stroke:#ffffff;stroke-linejoin:miter;stroke-width:0.086703;\"/>\n   </g>\n   <g id=\"patch_171\">\n    <path clip-path=\"url(#p6b715c176e)\" d=\"M 209.437031 304.78 \nL 210.249055 304.78 \nL 210.249055 303.796088 \nL 209.437031 303.796088 \nz\n\" style=\"fill:#4c72b0;fill-opacity:0.5;stroke:#ffffff;stroke-linejoin:miter;stroke-width:0.086703;\"/>\n   </g>\n   <g id=\"patch_172\">\n    <path clip-path=\"url(#p6b715c176e)\" d=\"M 210.249055 304.78 \nL 211.061079 304.78 \nL 211.061079 303.967203 \nL 210.249055 303.967203 \nz\n\" style=\"fill:#4c72b0;fill-opacity:0.5;stroke:#ffffff;stroke-linejoin:miter;stroke-width:0.086703;\"/>\n   </g>\n   <g id=\"patch_173\">\n    <path clip-path=\"url(#p6b715c176e)\" d=\"M 211.061079 304.78 \nL 211.873104 304.78 \nL 211.873104 303.796088 \nL 211.061079 303.796088 \nz\n\" style=\"fill:#4c72b0;fill-opacity:0.5;stroke:#ffffff;stroke-linejoin:miter;stroke-width:0.086703;\"/>\n   </g>\n   <g id=\"patch_174\">\n    <path clip-path=\"url(#p6b715c176e)\" d=\"M 211.873104 304.78 \nL 212.685128 304.78 \nL 212.685128 304.309433 \nL 211.873104 304.309433 \nz\n\" style=\"fill:#4c72b0;fill-opacity:0.5;stroke:#ffffff;stroke-linejoin:miter;stroke-width:0.086703;\"/>\n   </g>\n   <g id=\"patch_175\">\n    <path clip-path=\"url(#p6b715c176e)\" d=\"M 212.685128 304.78 \nL 213.497153 304.78 \nL 213.497153 302.940512 \nL 212.685128 302.940512 \nz\n\" style=\"fill:#4c72b0;fill-opacity:0.5;stroke:#ffffff;stroke-linejoin:miter;stroke-width:0.086703;\"/>\n   </g>\n   <g id=\"patch_176\">\n    <path clip-path=\"url(#p6b715c176e)\" d=\"M 213.497153 304.78 \nL 214.309177 304.78 \nL 214.309177 304.266654 \nL 213.497153 304.266654 \nz\n\" style=\"fill:#4c72b0;fill-opacity:0.5;stroke:#ffffff;stroke-linejoin:miter;stroke-width:0.086703;\"/>\n   </g>\n   <g id=\"patch_177\">\n    <path clip-path=\"url(#p6b715c176e)\" d=\"M 214.309177 304.78 \nL 215.121201 304.78 \nL 215.121201 304.05276 \nL 214.309177 304.05276 \nz\n\" style=\"fill:#4c72b0;fill-opacity:0.5;stroke:#ffffff;stroke-linejoin:miter;stroke-width:0.086703;\"/>\n   </g>\n   <g id=\"patch_178\">\n    <path clip-path=\"url(#p6b715c176e)\" d=\"M 215.121201 304.78 \nL 215.933226 304.78 \nL 215.933226 304.009982 \nL 215.121201 304.009982 \nz\n\" style=\"fill:#4c72b0;fill-opacity:0.5;stroke:#ffffff;stroke-linejoin:miter;stroke-width:0.086703;\"/>\n   </g>\n   <g id=\"patch_179\">\n    <path clip-path=\"url(#p6b715c176e)\" d=\"M 215.933226 304.78 \nL 216.74525 304.78 \nL 216.74525 303.838866 \nL 215.933226 303.838866 \nz\n\" style=\"fill:#4c72b0;fill-opacity:0.5;stroke:#ffffff;stroke-linejoin:miter;stroke-width:0.086703;\"/>\n   </g>\n   <g id=\"patch_180\">\n    <path clip-path=\"url(#p6b715c176e)\" d=\"M 216.74525 304.78 \nL 217.557275 304.78 \nL 217.557275 303.838866 \nL 216.74525 303.838866 \nz\n\" style=\"fill:#4c72b0;fill-opacity:0.5;stroke:#ffffff;stroke-linejoin:miter;stroke-width:0.086703;\"/>\n   </g>\n   <g id=\"patch_181\">\n    <path clip-path=\"url(#p6b715c176e)\" d=\"M 217.557275 304.78 \nL 218.369299 304.78 \nL 218.369299 303.667751 \nL 217.557275 303.667751 \nz\n\" style=\"fill:#4c72b0;fill-opacity:0.5;stroke:#ffffff;stroke-linejoin:miter;stroke-width:0.086703;\"/>\n   </g>\n   <g id=\"patch_182\">\n    <path clip-path=\"url(#p6b715c176e)\" d=\"M 218.369299 304.78 \nL 219.181323 304.78 \nL 219.181323 304.394991 \nL 218.369299 304.394991 \nz\n\" style=\"fill:#4c72b0;fill-opacity:0.5;stroke:#ffffff;stroke-linejoin:miter;stroke-width:0.086703;\"/>\n   </g>\n   <g id=\"patch_183\">\n    <path clip-path=\"url(#p6b715c176e)\" d=\"M 219.181323 304.78 \nL 219.993348 304.78 \nL 219.993348 304.181097 \nL 219.181323 304.181097 \nz\n\" style=\"fill:#4c72b0;fill-opacity:0.5;stroke:#ffffff;stroke-linejoin:miter;stroke-width:0.086703;\"/>\n   </g>\n   <g id=\"patch_184\">\n    <path clip-path=\"url(#p6b715c176e)\" d=\"M 219.993348 304.78 \nL 220.805372 304.78 \nL 220.805372 303.924424 \nL 219.993348 303.924424 \nz\n\" style=\"fill:#4c72b0;fill-opacity:0.5;stroke:#ffffff;stroke-linejoin:miter;stroke-width:0.086703;\"/>\n   </g>\n   <g id=\"patch_185\">\n    <path clip-path=\"url(#p6b715c176e)\" d=\"M 220.805372 304.78 \nL 221.617397 304.78 \nL 221.617397 303.967203 \nL 220.805372 303.967203 \nz\n\" style=\"fill:#4c72b0;fill-opacity:0.5;stroke:#ffffff;stroke-linejoin:miter;stroke-width:0.086703;\"/>\n   </g>\n   <g id=\"patch_186\">\n    <path clip-path=\"url(#p6b715c176e)\" d=\"M 221.617397 304.78 \nL 222.429421 304.78 \nL 222.429421 303.881645 \nL 221.617397 303.881645 \nz\n\" style=\"fill:#4c72b0;fill-opacity:0.5;stroke:#ffffff;stroke-linejoin:miter;stroke-width:0.086703;\"/>\n   </g>\n   <g id=\"patch_187\">\n    <path clip-path=\"url(#p6b715c176e)\" d=\"M 222.429421 304.78 \nL 223.241445 304.78 \nL 223.241445 304.138318 \nL 222.429421 304.138318 \nz\n\" style=\"fill:#4c72b0;fill-opacity:0.5;stroke:#ffffff;stroke-linejoin:miter;stroke-width:0.086703;\"/>\n   </g>\n   <g id=\"patch_188\">\n    <path clip-path=\"url(#p6b715c176e)\" d=\"M 223.241445 304.78 \nL 224.05347 304.78 \nL 224.05347 304.352212 \nL 223.241445 304.352212 \nz\n\" style=\"fill:#4c72b0;fill-opacity:0.5;stroke:#ffffff;stroke-linejoin:miter;stroke-width:0.086703;\"/>\n   </g>\n   <g id=\"patch_189\">\n    <path clip-path=\"url(#p6b715c176e)\" d=\"M 224.05347 304.78 \nL 224.865494 304.78 \nL 224.865494 304.523327 \nL 224.05347 304.523327 \nz\n\" style=\"fill:#4c72b0;fill-opacity:0.5;stroke:#ffffff;stroke-linejoin:miter;stroke-width:0.086703;\"/>\n   </g>\n   <g id=\"patch_190\">\n    <path clip-path=\"url(#p6b715c176e)\" d=\"M 224.865494 304.78 \nL 225.677519 304.78 \nL 225.677519 304.43777 \nL 224.865494 304.43777 \nz\n\" style=\"fill:#4c72b0;fill-opacity:0.5;stroke:#ffffff;stroke-linejoin:miter;stroke-width:0.086703;\"/>\n   </g>\n   <g id=\"patch_191\">\n    <path clip-path=\"url(#p6b715c176e)\" d=\"M 225.677519 304.78 \nL 226.489543 304.78 \nL 226.489543 303.753309 \nL 225.677519 303.753309 \nz\n\" style=\"fill:#4c72b0;fill-opacity:0.5;stroke:#ffffff;stroke-linejoin:miter;stroke-width:0.086703;\"/>\n   </g>\n   <g id=\"patch_192\">\n    <path clip-path=\"url(#p6b715c176e)\" d=\"M 226.489543 304.78 \nL 227.301567 304.78 \nL 227.301567 304.223876 \nL 226.489543 304.223876 \nz\n\" style=\"fill:#4c72b0;fill-opacity:0.5;stroke:#ffffff;stroke-linejoin:miter;stroke-width:0.086703;\"/>\n   </g>\n   <g id=\"patch_193\">\n    <path clip-path=\"url(#p6b715c176e)\" d=\"M 227.301567 304.78 \nL 228.113592 304.78 \nL 228.113592 304.480548 \nL 227.301567 304.480548 \nz\n\" style=\"fill:#4c72b0;fill-opacity:0.5;stroke:#ffffff;stroke-linejoin:miter;stroke-width:0.086703;\"/>\n   </g>\n   <g id=\"patch_194\">\n    <path clip-path=\"url(#p6b715c176e)\" d=\"M 228.113592 304.78 \nL 228.925616 304.78 \nL 228.925616 304.352212 \nL 228.113592 304.352212 \nz\n\" style=\"fill:#4c72b0;fill-opacity:0.5;stroke:#ffffff;stroke-linejoin:miter;stroke-width:0.086703;\"/>\n   </g>\n   <g id=\"patch_195\">\n    <path clip-path=\"url(#p6b715c176e)\" d=\"M 228.925616 304.78 \nL 229.737641 304.78 \nL 229.737641 304.266654 \nL 228.925616 304.266654 \nz\n\" style=\"fill:#4c72b0;fill-opacity:0.5;stroke:#ffffff;stroke-linejoin:miter;stroke-width:0.086703;\"/>\n   </g>\n   <g id=\"patch_196\">\n    <path clip-path=\"url(#p6b715c176e)\" d=\"M 229.737641 304.78 \nL 230.549665 304.78 \nL 230.549665 304.309433 \nL 229.737641 304.309433 \nz\n\" style=\"fill:#4c72b0;fill-opacity:0.5;stroke:#ffffff;stroke-linejoin:miter;stroke-width:0.086703;\"/>\n   </g>\n   <g id=\"patch_197\">\n    <path clip-path=\"url(#p6b715c176e)\" d=\"M 230.549665 304.78 \nL 231.361689 304.78 \nL 231.361689 304.05276 \nL 230.549665 304.05276 \nz\n\" style=\"fill:#4c72b0;fill-opacity:0.5;stroke:#ffffff;stroke-linejoin:miter;stroke-width:0.086703;\"/>\n   </g>\n   <g id=\"patch_198\">\n    <path clip-path=\"url(#p6b715c176e)\" d=\"M 231.361689 304.78 \nL 232.173714 304.78 \nL 232.173714 304.523327 \nL 231.361689 304.523327 \nz\n\" style=\"fill:#4c72b0;fill-opacity:0.5;stroke:#ffffff;stroke-linejoin:miter;stroke-width:0.086703;\"/>\n   </g>\n   <g id=\"patch_199\">\n    <path clip-path=\"url(#p6b715c176e)\" d=\"M 232.173714 304.78 \nL 232.985738 304.78 \nL 232.985738 304.566106 \nL 232.173714 304.566106 \nz\n\" style=\"fill:#4c72b0;fill-opacity:0.5;stroke:#ffffff;stroke-linejoin:miter;stroke-width:0.086703;\"/>\n   </g>\n   <g id=\"patch_200\">\n    <path clip-path=\"url(#p6b715c176e)\" d=\"M 232.985738 304.78 \nL 233.797762 304.78 \nL 233.797762 304.523327 \nL 232.985738 304.523327 \nz\n\" style=\"fill:#4c72b0;fill-opacity:0.5;stroke:#ffffff;stroke-linejoin:miter;stroke-width:0.086703;\"/>\n   </g>\n   <g id=\"patch_201\">\n    <path clip-path=\"url(#p6b715c176e)\" d=\"M 233.797762 304.78 \nL 234.609787 304.78 \nL 234.609787 304.651664 \nL 233.797762 304.651664 \nz\n\" style=\"fill:#4c72b0;fill-opacity:0.5;stroke:#ffffff;stroke-linejoin:miter;stroke-width:0.086703;\"/>\n   </g>\n   <g id=\"patch_202\">\n    <path clip-path=\"url(#p6b715c176e)\" d=\"M 234.609787 304.78 \nL 235.421811 304.78 \nL 235.421811 304.394991 \nL 234.609787 304.394991 \nz\n\" style=\"fill:#4c72b0;fill-opacity:0.5;stroke:#ffffff;stroke-linejoin:miter;stroke-width:0.086703;\"/>\n   </g>\n   <g id=\"patch_203\">\n    <path clip-path=\"url(#p6b715c176e)\" d=\"M 235.421811 304.78 \nL 236.233836 304.78 \nL 236.233836 304.566106 \nL 235.421811 304.566106 \nz\n\" style=\"fill:#4c72b0;fill-opacity:0.5;stroke:#ffffff;stroke-linejoin:miter;stroke-width:0.086703;\"/>\n   </g>\n   <g id=\"patch_204\">\n    <path clip-path=\"url(#p6b715c176e)\" d=\"M 236.233836 304.78 \nL 237.04586 304.78 \nL 237.04586 304.651664 \nL 236.233836 304.651664 \nz\n\" style=\"fill:#4c72b0;fill-opacity:0.5;stroke:#ffffff;stroke-linejoin:miter;stroke-width:0.086703;\"/>\n   </g>\n   <g id=\"patch_205\">\n    <path clip-path=\"url(#p6b715c176e)\" d=\"M 237.04586 304.78 \nL 237.857884 304.78 \nL 237.857884 304.43777 \nL 237.04586 304.43777 \nz\n\" style=\"fill:#4c72b0;fill-opacity:0.5;stroke:#ffffff;stroke-linejoin:miter;stroke-width:0.086703;\"/>\n   </g>\n   <g id=\"patch_206\">\n    <path clip-path=\"url(#p6b715c176e)\" d=\"M 237.857884 304.78 \nL 238.669909 304.78 \nL 238.669909 304.352212 \nL 237.857884 304.352212 \nz\n\" style=\"fill:#4c72b0;fill-opacity:0.5;stroke:#ffffff;stroke-linejoin:miter;stroke-width:0.086703;\"/>\n   </g>\n   <g id=\"patch_207\">\n    <path clip-path=\"url(#p6b715c176e)\" d=\"M 238.669909 304.78 \nL 239.481933 304.78 \nL 239.481933 304.523327 \nL 238.669909 304.523327 \nz\n\" style=\"fill:#4c72b0;fill-opacity:0.5;stroke:#ffffff;stroke-linejoin:miter;stroke-width:0.086703;\"/>\n   </g>\n   <g id=\"patch_208\">\n    <path clip-path=\"url(#p6b715c176e)\" d=\"M 239.481933 304.78 \nL 240.293958 304.78 \nL 240.293958 304.480548 \nL 239.481933 304.480548 \nz\n\" style=\"fill:#4c72b0;fill-opacity:0.5;stroke:#ffffff;stroke-linejoin:miter;stroke-width:0.086703;\"/>\n   </g>\n   <g id=\"patch_209\">\n    <path clip-path=\"url(#p6b715c176e)\" d=\"M 240.293958 304.78 \nL 241.105982 304.78 \nL 241.105982 304.608885 \nL 240.293958 304.608885 \nz\n\" style=\"fill:#4c72b0;fill-opacity:0.5;stroke:#ffffff;stroke-linejoin:miter;stroke-width:0.086703;\"/>\n   </g>\n   <g id=\"patch_210\">\n    <path clip-path=\"url(#p6b715c176e)\" d=\"M 241.105982 304.78 \nL 241.918006 304.78 \nL 241.918006 304.694442 \nL 241.105982 304.694442 \nz\n\" style=\"fill:#4c72b0;fill-opacity:0.5;stroke:#ffffff;stroke-linejoin:miter;stroke-width:0.086703;\"/>\n   </g>\n   <g id=\"patch_211\">\n    <path clip-path=\"url(#p6b715c176e)\" d=\"M 241.918006 304.78 \nL 242.730031 304.78 \nL 242.730031 304.651664 \nL 241.918006 304.651664 \nz\n\" style=\"fill:#4c72b0;fill-opacity:0.5;stroke:#ffffff;stroke-linejoin:miter;stroke-width:0.086703;\"/>\n   </g>\n   <g id=\"patch_212\">\n    <path clip-path=\"url(#p6b715c176e)\" d=\"M 242.730031 304.78 \nL 243.542055 304.78 \nL 243.542055 304.737221 \nL 242.730031 304.737221 \nz\n\" style=\"fill:#4c72b0;fill-opacity:0.5;stroke:#ffffff;stroke-linejoin:miter;stroke-width:0.086703;\"/>\n   </g>\n   <g id=\"patch_213\">\n    <path clip-path=\"url(#p6b715c176e)\" d=\"M 243.542055 304.78 \nL 244.35408 304.78 \nL 244.35408 304.608885 \nL 243.542055 304.608885 \nz\n\" style=\"fill:#4c72b0;fill-opacity:0.5;stroke:#ffffff;stroke-linejoin:miter;stroke-width:0.086703;\"/>\n   </g>\n   <g id=\"patch_214\">\n    <path clip-path=\"url(#p6b715c176e)\" d=\"M 244.35408 304.78 \nL 245.166104 304.78 \nL 245.166104 304.651664 \nL 244.35408 304.651664 \nz\n\" style=\"fill:#4c72b0;fill-opacity:0.5;stroke:#ffffff;stroke-linejoin:miter;stroke-width:0.086703;\"/>\n   </g>\n   <g id=\"patch_215\">\n    <path clip-path=\"url(#p6b715c176e)\" d=\"M 245.166104 304.78 \nL 245.978128 304.78 \nL 245.978128 304.651664 \nL 245.166104 304.651664 \nz\n\" style=\"fill:#4c72b0;fill-opacity:0.5;stroke:#ffffff;stroke-linejoin:miter;stroke-width:0.086703;\"/>\n   </g>\n   <g id=\"patch_216\">\n    <path clip-path=\"url(#p6b715c176e)\" d=\"M 245.978128 304.78 \nL 246.790153 304.78 \nL 246.790153 304.694442 \nL 245.978128 304.694442 \nz\n\" style=\"fill:#4c72b0;fill-opacity:0.5;stroke:#ffffff;stroke-linejoin:miter;stroke-width:0.086703;\"/>\n   </g>\n   <g id=\"patch_217\">\n    <path clip-path=\"url(#p6b715c176e)\" d=\"M 246.790153 304.78 \nL 247.602177 304.78 \nL 247.602177 304.651664 \nL 246.790153 304.651664 \nz\n\" style=\"fill:#4c72b0;fill-opacity:0.5;stroke:#ffffff;stroke-linejoin:miter;stroke-width:0.086703;\"/>\n   </g>\n   <g id=\"patch_218\">\n    <path clip-path=\"url(#p6b715c176e)\" d=\"M 247.602177 304.78 \nL 248.414202 304.78 \nL 248.414202 304.480548 \nL 247.602177 304.480548 \nz\n\" style=\"fill:#4c72b0;fill-opacity:0.5;stroke:#ffffff;stroke-linejoin:miter;stroke-width:0.086703;\"/>\n   </g>\n   <g id=\"patch_219\">\n    <path clip-path=\"url(#p6b715c176e)\" d=\"M 248.414202 304.78 \nL 249.226226 304.78 \nL 249.226226 304.694442 \nL 248.414202 304.694442 \nz\n\" style=\"fill:#4c72b0;fill-opacity:0.5;stroke:#ffffff;stroke-linejoin:miter;stroke-width:0.086703;\"/>\n   </g>\n   <g id=\"patch_220\">\n    <path clip-path=\"url(#p6b715c176e)\" d=\"M 249.226226 304.78 \nL 250.03825 304.78 \nL 250.03825 304.694442 \nL 249.226226 304.694442 \nz\n\" style=\"fill:#4c72b0;fill-opacity:0.5;stroke:#ffffff;stroke-linejoin:miter;stroke-width:0.086703;\"/>\n   </g>\n   <g id=\"patch_221\">\n    <path clip-path=\"url(#p6b715c176e)\" d=\"M 250.03825 304.78 \nL 250.850275 304.78 \nL 250.850275 304.737221 \nL 250.03825 304.737221 \nz\n\" style=\"fill:#4c72b0;fill-opacity:0.5;stroke:#ffffff;stroke-linejoin:miter;stroke-width:0.086703;\"/>\n   </g>\n   <g id=\"patch_222\">\n    <path clip-path=\"url(#p6b715c176e)\" d=\"M 250.850275 304.78 \nL 251.662299 304.78 \nL 251.662299 304.651664 \nL 250.850275 304.651664 \nz\n\" style=\"fill:#4c72b0;fill-opacity:0.5;stroke:#ffffff;stroke-linejoin:miter;stroke-width:0.086703;\"/>\n   </g>\n   <g id=\"patch_223\">\n    <path clip-path=\"url(#p6b715c176e)\" d=\"M 251.662299 304.78 \nL 252.474324 304.78 \nL 252.474324 304.737221 \nL 251.662299 304.737221 \nz\n\" style=\"fill:#4c72b0;fill-opacity:0.5;stroke:#ffffff;stroke-linejoin:miter;stroke-width:0.086703;\"/>\n   </g>\n   <g id=\"patch_224\">\n    <path clip-path=\"url(#p6b715c176e)\" d=\"M 252.474324 304.78 \nL 253.286348 304.78 \nL 253.286348 304.694442 \nL 252.474324 304.694442 \nz\n\" style=\"fill:#4c72b0;fill-opacity:0.5;stroke:#ffffff;stroke-linejoin:miter;stroke-width:0.086703;\"/>\n   </g>\n   <g id=\"patch_225\">\n    <path clip-path=\"url(#p6b715c176e)\" d=\"M 253.286348 304.78 \nL 254.098372 304.78 \nL 254.098372 304.651664 \nL 253.286348 304.651664 \nz\n\" style=\"fill:#4c72b0;fill-opacity:0.5;stroke:#ffffff;stroke-linejoin:miter;stroke-width:0.086703;\"/>\n   </g>\n   <g id=\"patch_226\">\n    <path clip-path=\"url(#p6b715c176e)\" d=\"M 254.098372 304.78 \nL 254.910397 304.78 \nL 254.910397 304.78 \nL 254.098372 304.78 \nz\n\" style=\"fill:#4c72b0;fill-opacity:0.5;stroke:#ffffff;stroke-linejoin:miter;stroke-width:0.086703;\"/>\n   </g>\n   <g id=\"patch_227\">\n    <path clip-path=\"url(#p6b715c176e)\" d=\"M 254.910397 304.78 \nL 255.722421 304.78 \nL 255.722421 304.737221 \nL 254.910397 304.737221 \nz\n\" style=\"fill:#4c72b0;fill-opacity:0.5;stroke:#ffffff;stroke-linejoin:miter;stroke-width:0.086703;\"/>\n   </g>\n   <g id=\"patch_228\">\n    <path clip-path=\"url(#p6b715c176e)\" d=\"M 255.722421 304.78 \nL 256.534446 304.78 \nL 256.534446 304.694442 \nL 255.722421 304.694442 \nz\n\" style=\"fill:#4c72b0;fill-opacity:0.5;stroke:#ffffff;stroke-linejoin:miter;stroke-width:0.086703;\"/>\n   </g>\n   <g id=\"patch_229\">\n    <path clip-path=\"url(#p6b715c176e)\" d=\"M 256.534446 304.78 \nL 257.34647 304.78 \nL 257.34647 304.651664 \nL 256.534446 304.651664 \nz\n\" style=\"fill:#4c72b0;fill-opacity:0.5;stroke:#ffffff;stroke-linejoin:miter;stroke-width:0.086703;\"/>\n   </g>\n   <g id=\"patch_230\">\n    <path clip-path=\"url(#p6b715c176e)\" d=\"M 257.34647 304.78 \nL 258.158494 304.78 \nL 258.158494 304.78 \nL 257.34647 304.78 \nz\n\" style=\"fill:#4c72b0;fill-opacity:0.5;stroke:#ffffff;stroke-linejoin:miter;stroke-width:0.086703;\"/>\n   </g>\n   <g id=\"patch_231\">\n    <path clip-path=\"url(#p6b715c176e)\" d=\"M 258.158494 304.78 \nL 258.970519 304.78 \nL 258.970519 304.694442 \nL 258.158494 304.694442 \nz\n\" style=\"fill:#4c72b0;fill-opacity:0.5;stroke:#ffffff;stroke-linejoin:miter;stroke-width:0.086703;\"/>\n   </g>\n   <g id=\"patch_232\">\n    <path clip-path=\"url(#p6b715c176e)\" d=\"M 258.970519 304.78 \nL 259.782543 304.78 \nL 259.782543 304.694442 \nL 258.970519 304.694442 \nz\n\" style=\"fill:#4c72b0;fill-opacity:0.5;stroke:#ffffff;stroke-linejoin:miter;stroke-width:0.086703;\"/>\n   </g>\n   <g id=\"patch_233\">\n    <path clip-path=\"url(#p6b715c176e)\" d=\"M 259.782543 304.78 \nL 260.594568 304.78 \nL 260.594568 304.737221 \nL 259.782543 304.737221 \nz\n\" style=\"fill:#4c72b0;fill-opacity:0.5;stroke:#ffffff;stroke-linejoin:miter;stroke-width:0.086703;\"/>\n   </g>\n   <g id=\"patch_234\">\n    <path clip-path=\"url(#p6b715c176e)\" d=\"M 260.594568 304.78 \nL 261.406592 304.78 \nL 261.406592 304.78 \nL 260.594568 304.78 \nz\n\" style=\"fill:#4c72b0;fill-opacity:0.5;stroke:#ffffff;stroke-linejoin:miter;stroke-width:0.086703;\"/>\n   </g>\n   <g id=\"patch_235\">\n    <path clip-path=\"url(#p6b715c176e)\" d=\"M 261.406592 304.78 \nL 262.218616 304.78 \nL 262.218616 304.737221 \nL 261.406592 304.737221 \nz\n\" style=\"fill:#4c72b0;fill-opacity:0.5;stroke:#ffffff;stroke-linejoin:miter;stroke-width:0.086703;\"/>\n   </g>\n   <g id=\"patch_236\">\n    <path clip-path=\"url(#p6b715c176e)\" d=\"M 262.218616 304.78 \nL 263.030641 304.78 \nL 263.030641 304.737221 \nL 262.218616 304.737221 \nz\n\" style=\"fill:#4c72b0;fill-opacity:0.5;stroke:#ffffff;stroke-linejoin:miter;stroke-width:0.086703;\"/>\n   </g>\n   <g id=\"patch_237\">\n    <path clip-path=\"url(#p6b715c176e)\" d=\"M 263.030641 304.78 \nL 263.842665 304.78 \nL 263.842665 304.694442 \nL 263.030641 304.694442 \nz\n\" style=\"fill:#4c72b0;fill-opacity:0.5;stroke:#ffffff;stroke-linejoin:miter;stroke-width:0.086703;\"/>\n   </g>\n   <g id=\"patch_238\">\n    <path clip-path=\"url(#p6b715c176e)\" d=\"M 263.842665 304.78 \nL 264.65469 304.78 \nL 264.65469 304.78 \nL 263.842665 304.78 \nz\n\" style=\"fill:#4c72b0;fill-opacity:0.5;stroke:#ffffff;stroke-linejoin:miter;stroke-width:0.086703;\"/>\n   </g>\n   <g id=\"patch_239\">\n    <path clip-path=\"url(#p6b715c176e)\" d=\"M 264.65469 304.78 \nL 265.466714 304.78 \nL 265.466714 304.737221 \nL 264.65469 304.737221 \nz\n\" style=\"fill:#4c72b0;fill-opacity:0.5;stroke:#ffffff;stroke-linejoin:miter;stroke-width:0.086703;\"/>\n   </g>\n   <g id=\"patch_240\">\n    <path clip-path=\"url(#p6b715c176e)\" d=\"M 265.466714 304.78 \nL 266.278738 304.78 \nL 266.278738 304.566106 \nL 265.466714 304.566106 \nz\n\" style=\"fill:#4c72b0;fill-opacity:0.5;stroke:#ffffff;stroke-linejoin:miter;stroke-width:0.086703;\"/>\n   </g>\n   <g id=\"patch_241\">\n    <path clip-path=\"url(#p6b715c176e)\" d=\"M 266.278738 304.78 \nL 267.090763 304.78 \nL 267.090763 304.737221 \nL 266.278738 304.737221 \nz\n\" style=\"fill:#4c72b0;fill-opacity:0.5;stroke:#ffffff;stroke-linejoin:miter;stroke-width:0.086703;\"/>\n   </g>\n   <g id=\"patch_242\">\n    <path clip-path=\"url(#p6b715c176e)\" d=\"M 267.090763 304.78 \nL 267.902787 304.78 \nL 267.902787 304.694442 \nL 267.090763 304.694442 \nz\n\" style=\"fill:#4c72b0;fill-opacity:0.5;stroke:#ffffff;stroke-linejoin:miter;stroke-width:0.086703;\"/>\n   </g>\n   <g id=\"patch_243\">\n    <path clip-path=\"url(#p6b715c176e)\" d=\"M 267.902787 304.78 \nL 268.714812 304.78 \nL 268.714812 304.737221 \nL 267.902787 304.737221 \nz\n\" style=\"fill:#4c72b0;fill-opacity:0.5;stroke:#ffffff;stroke-linejoin:miter;stroke-width:0.086703;\"/>\n   </g>\n   <g id=\"patch_244\">\n    <path clip-path=\"url(#p6b715c176e)\" d=\"M 268.714812 304.78 \nL 269.526836 304.78 \nL 269.526836 304.78 \nL 268.714812 304.78 \nz\n\" style=\"fill:#4c72b0;fill-opacity:0.5;stroke:#ffffff;stroke-linejoin:miter;stroke-width:0.086703;\"/>\n   </g>\n   <g id=\"patch_245\">\n    <path clip-path=\"url(#p6b715c176e)\" d=\"M 269.526836 304.78 \nL 270.33886 304.78 \nL 270.33886 304.78 \nL 269.526836 304.78 \nz\n\" style=\"fill:#4c72b0;fill-opacity:0.5;stroke:#ffffff;stroke-linejoin:miter;stroke-width:0.086703;\"/>\n   </g>\n   <g id=\"patch_246\">\n    <path clip-path=\"url(#p6b715c176e)\" d=\"M 270.33886 304.78 \nL 271.150885 304.78 \nL 271.150885 304.78 \nL 270.33886 304.78 \nz\n\" style=\"fill:#4c72b0;fill-opacity:0.5;stroke:#ffffff;stroke-linejoin:miter;stroke-width:0.086703;\"/>\n   </g>\n   <g id=\"patch_247\">\n    <path clip-path=\"url(#p6b715c176e)\" d=\"M 271.150885 304.78 \nL 271.962909 304.78 \nL 271.962909 304.608885 \nL 271.150885 304.608885 \nz\n\" style=\"fill:#4c72b0;fill-opacity:0.5;stroke:#ffffff;stroke-linejoin:miter;stroke-width:0.086703;\"/>\n   </g>\n   <g id=\"patch_248\">\n    <path clip-path=\"url(#p6b715c176e)\" d=\"M 271.962909 304.78 \nL 272.774934 304.78 \nL 272.774934 304.737221 \nL 271.962909 304.737221 \nz\n\" style=\"fill:#4c72b0;fill-opacity:0.5;stroke:#ffffff;stroke-linejoin:miter;stroke-width:0.086703;\"/>\n   </g>\n   <g id=\"patch_249\">\n    <path clip-path=\"url(#p6b715c176e)\" d=\"M 272.774934 304.78 \nL 273.586958 304.78 \nL 273.586958 304.694442 \nL 272.774934 304.694442 \nz\n\" style=\"fill:#4c72b0;fill-opacity:0.5;stroke:#ffffff;stroke-linejoin:miter;stroke-width:0.086703;\"/>\n   </g>\n   <g id=\"patch_250\">\n    <path clip-path=\"url(#p6b715c176e)\" d=\"M 273.586958 304.78 \nL 274.398982 304.78 \nL 274.398982 304.694442 \nL 273.586958 304.694442 \nz\n\" style=\"fill:#4c72b0;fill-opacity:0.5;stroke:#ffffff;stroke-linejoin:miter;stroke-width:0.086703;\"/>\n   </g>\n   <g id=\"patch_251\">\n    <path clip-path=\"url(#p6b715c176e)\" d=\"M 274.398982 304.78 \nL 275.211007 304.78 \nL 275.211007 304.737221 \nL 274.398982 304.737221 \nz\n\" style=\"fill:#4c72b0;fill-opacity:0.5;stroke:#ffffff;stroke-linejoin:miter;stroke-width:0.086703;\"/>\n   </g>\n   <g id=\"patch_252\">\n    <path clip-path=\"url(#p6b715c176e)\" d=\"M 275.211007 304.78 \nL 276.023031 304.78 \nL 276.023031 304.737221 \nL 275.211007 304.737221 \nz\n\" style=\"fill:#4c72b0;fill-opacity:0.5;stroke:#ffffff;stroke-linejoin:miter;stroke-width:0.086703;\"/>\n   </g>\n   <g id=\"patch_253\">\n    <path clip-path=\"url(#p6b715c176e)\" d=\"M 276.023031 304.78 \nL 276.835056 304.78 \nL 276.835056 304.737221 \nL 276.023031 304.737221 \nz\n\" style=\"fill:#4c72b0;fill-opacity:0.5;stroke:#ffffff;stroke-linejoin:miter;stroke-width:0.086703;\"/>\n   </g>\n   <g id=\"patch_254\">\n    <path clip-path=\"url(#p6b715c176e)\" d=\"M 276.835056 304.78 \nL 277.64708 304.78 \nL 277.64708 304.78 \nL 276.835056 304.78 \nz\n\" style=\"fill:#4c72b0;fill-opacity:0.5;stroke:#ffffff;stroke-linejoin:miter;stroke-width:0.086703;\"/>\n   </g>\n   <g id=\"patch_255\">\n    <path clip-path=\"url(#p6b715c176e)\" d=\"M 277.64708 304.78 \nL 278.459104 304.78 \nL 278.459104 304.78 \nL 277.64708 304.78 \nz\n\" style=\"fill:#4c72b0;fill-opacity:0.5;stroke:#ffffff;stroke-linejoin:miter;stroke-width:0.086703;\"/>\n   </g>\n   <g id=\"patch_256\">\n    <path clip-path=\"url(#p6b715c176e)\" d=\"M 278.459104 304.78 \nL 279.271129 304.78 \nL 279.271129 304.737221 \nL 278.459104 304.737221 \nz\n\" style=\"fill:#4c72b0;fill-opacity:0.5;stroke:#ffffff;stroke-linejoin:miter;stroke-width:0.086703;\"/>\n   </g>\n   <g id=\"patch_257\">\n    <path clip-path=\"url(#p6b715c176e)\" d=\"M 279.271129 304.78 \nL 280.083153 304.78 \nL 280.083153 304.737221 \nL 279.271129 304.737221 \nz\n\" style=\"fill:#4c72b0;fill-opacity:0.5;stroke:#ffffff;stroke-linejoin:miter;stroke-width:0.086703;\"/>\n   </g>\n   <g id=\"patch_258\">\n    <path clip-path=\"url(#p6b715c176e)\" d=\"M 280.083153 304.78 \nL 280.895178 304.78 \nL 280.895178 304.78 \nL 280.083153 304.78 \nz\n\" style=\"fill:#4c72b0;fill-opacity:0.5;stroke:#ffffff;stroke-linejoin:miter;stroke-width:0.086703;\"/>\n   </g>\n   <g id=\"patch_259\">\n    <path clip-path=\"url(#p6b715c176e)\" d=\"M 280.895178 304.78 \nL 281.707202 304.78 \nL 281.707202 304.651664 \nL 280.895178 304.651664 \nz\n\" style=\"fill:#4c72b0;fill-opacity:0.5;stroke:#ffffff;stroke-linejoin:miter;stroke-width:0.086703;\"/>\n   </g>\n   <g id=\"patch_260\">\n    <path clip-path=\"url(#p6b715c176e)\" d=\"M 281.707202 304.78 \nL 282.519226 304.78 \nL 282.519226 304.737221 \nL 281.707202 304.737221 \nz\n\" style=\"fill:#4c72b0;fill-opacity:0.5;stroke:#ffffff;stroke-linejoin:miter;stroke-width:0.086703;\"/>\n   </g>\n   <g id=\"patch_261\">\n    <path clip-path=\"url(#p6b715c176e)\" d=\"M 282.519226 304.78 \nL 283.331251 304.78 \nL 283.331251 304.694442 \nL 282.519226 304.694442 \nz\n\" style=\"fill:#4c72b0;fill-opacity:0.5;stroke:#ffffff;stroke-linejoin:miter;stroke-width:0.086703;\"/>\n   </g>\n   <g id=\"patch_262\">\n    <path clip-path=\"url(#p6b715c176e)\" d=\"M 283.331251 304.78 \nL 284.143275 304.78 \nL 284.143275 304.78 \nL 283.331251 304.78 \nz\n\" style=\"fill:#4c72b0;fill-opacity:0.5;stroke:#ffffff;stroke-linejoin:miter;stroke-width:0.086703;\"/>\n   </g>\n   <g id=\"patch_263\">\n    <path clip-path=\"url(#p6b715c176e)\" d=\"M 284.143275 304.78 \nL 284.9553 304.78 \nL 284.9553 304.737221 \nL 284.143275 304.737221 \nz\n\" style=\"fill:#4c72b0;fill-opacity:0.5;stroke:#ffffff;stroke-linejoin:miter;stroke-width:0.086703;\"/>\n   </g>\n   <g id=\"patch_264\">\n    <path clip-path=\"url(#p6b715c176e)\" d=\"M 284.9553 304.78 \nL 285.767324 304.78 \nL 285.767324 304.78 \nL 284.9553 304.78 \nz\n\" style=\"fill:#4c72b0;fill-opacity:0.5;stroke:#ffffff;stroke-linejoin:miter;stroke-width:0.086703;\"/>\n   </g>\n   <g id=\"patch_265\">\n    <path clip-path=\"url(#p6b715c176e)\" d=\"M 285.767324 304.78 \nL 286.579348 304.78 \nL 286.579348 304.78 \nL 285.767324 304.78 \nz\n\" style=\"fill:#4c72b0;fill-opacity:0.5;stroke:#ffffff;stroke-linejoin:miter;stroke-width:0.086703;\"/>\n   </g>\n   <g id=\"patch_266\">\n    <path clip-path=\"url(#p6b715c176e)\" d=\"M 286.579348 304.78 \nL 287.391373 304.78 \nL 287.391373 304.78 \nL 286.579348 304.78 \nz\n\" style=\"fill:#4c72b0;fill-opacity:0.5;stroke:#ffffff;stroke-linejoin:miter;stroke-width:0.086703;\"/>\n   </g>\n   <g id=\"patch_267\">\n    <path clip-path=\"url(#p6b715c176e)\" d=\"M 287.391373 304.78 \nL 288.203397 304.78 \nL 288.203397 304.78 \nL 287.391373 304.78 \nz\n\" style=\"fill:#4c72b0;fill-opacity:0.5;stroke:#ffffff;stroke-linejoin:miter;stroke-width:0.086703;\"/>\n   </g>\n   <g id=\"patch_268\">\n    <path clip-path=\"url(#p6b715c176e)\" d=\"M 288.203397 304.78 \nL 289.015422 304.78 \nL 289.015422 304.78 \nL 288.203397 304.78 \nz\n\" style=\"fill:#4c72b0;fill-opacity:0.5;stroke:#ffffff;stroke-linejoin:miter;stroke-width:0.086703;\"/>\n   </g>\n   <g id=\"patch_269\">\n    <path clip-path=\"url(#p6b715c176e)\" d=\"M 289.015422 304.78 \nL 289.827446 304.78 \nL 289.827446 304.737221 \nL 289.015422 304.737221 \nz\n\" style=\"fill:#4c72b0;fill-opacity:0.5;stroke:#ffffff;stroke-linejoin:miter;stroke-width:0.086703;\"/>\n   </g>\n   <g id=\"patch_270\">\n    <path clip-path=\"url(#p6b715c176e)\" d=\"M 289.827446 304.78 \nL 290.63947 304.78 \nL 290.63947 304.78 \nL 289.827446 304.78 \nz\n\" style=\"fill:#4c72b0;fill-opacity:0.5;stroke:#ffffff;stroke-linejoin:miter;stroke-width:0.086703;\"/>\n   </g>\n   <g id=\"patch_271\">\n    <path clip-path=\"url(#p6b715c176e)\" d=\"M 290.63947 304.78 \nL 291.451495 304.78 \nL 291.451495 304.78 \nL 290.63947 304.78 \nz\n\" style=\"fill:#4c72b0;fill-opacity:0.5;stroke:#ffffff;stroke-linejoin:miter;stroke-width:0.086703;\"/>\n   </g>\n   <g id=\"patch_272\">\n    <path clip-path=\"url(#p6b715c176e)\" d=\"M 291.451495 304.78 \nL 292.263519 304.78 \nL 292.263519 304.737221 \nL 291.451495 304.737221 \nz\n\" style=\"fill:#4c72b0;fill-opacity:0.5;stroke:#ffffff;stroke-linejoin:miter;stroke-width:0.086703;\"/>\n   </g>\n   <g id=\"patch_273\">\n    <path clip-path=\"url(#p6b715c176e)\" d=\"M 292.263519 304.78 \nL 293.075543 304.78 \nL 293.075543 304.78 \nL 292.263519 304.78 \nz\n\" style=\"fill:#4c72b0;fill-opacity:0.5;stroke:#ffffff;stroke-linejoin:miter;stroke-width:0.086703;\"/>\n   </g>\n   <g id=\"patch_274\">\n    <path clip-path=\"url(#p6b715c176e)\" d=\"M 293.075543 304.78 \nL 293.887568 304.78 \nL 293.887568 304.78 \nL 293.075543 304.78 \nz\n\" style=\"fill:#4c72b0;fill-opacity:0.5;stroke:#ffffff;stroke-linejoin:miter;stroke-width:0.086703;\"/>\n   </g>\n   <g id=\"patch_275\">\n    <path clip-path=\"url(#p6b715c176e)\" d=\"M 293.887568 304.78 \nL 294.699592 304.78 \nL 294.699592 304.78 \nL 293.887568 304.78 \nz\n\" style=\"fill:#4c72b0;fill-opacity:0.5;stroke:#ffffff;stroke-linejoin:miter;stroke-width:0.086703;\"/>\n   </g>\n   <g id=\"patch_276\">\n    <path clip-path=\"url(#p6b715c176e)\" d=\"M 294.699592 304.78 \nL 295.511617 304.78 \nL 295.511617 304.78 \nL 294.699592 304.78 \nz\n\" style=\"fill:#4c72b0;fill-opacity:0.5;stroke:#ffffff;stroke-linejoin:miter;stroke-width:0.086703;\"/>\n   </g>\n   <g id=\"patch_277\">\n    <path clip-path=\"url(#p6b715c176e)\" d=\"M 295.511617 304.78 \nL 296.323641 304.78 \nL 296.323641 304.78 \nL 295.511617 304.78 \nz\n\" style=\"fill:#4c72b0;fill-opacity:0.5;stroke:#ffffff;stroke-linejoin:miter;stroke-width:0.086703;\"/>\n   </g>\n   <g id=\"patch_278\">\n    <path clip-path=\"url(#p6b715c176e)\" d=\"M 296.323641 304.78 \nL 297.135665 304.78 \nL 297.135665 304.78 \nL 296.323641 304.78 \nz\n\" style=\"fill:#4c72b0;fill-opacity:0.5;stroke:#ffffff;stroke-linejoin:miter;stroke-width:0.086703;\"/>\n   </g>\n   <g id=\"patch_279\">\n    <path clip-path=\"url(#p6b715c176e)\" d=\"M 297.135665 304.78 \nL 297.94769 304.78 \nL 297.94769 304.78 \nL 297.135665 304.78 \nz\n\" style=\"fill:#4c72b0;fill-opacity:0.5;stroke:#ffffff;stroke-linejoin:miter;stroke-width:0.086703;\"/>\n   </g>\n   <g id=\"patch_280\">\n    <path clip-path=\"url(#p6b715c176e)\" d=\"M 297.94769 304.78 \nL 298.759714 304.78 \nL 298.759714 304.78 \nL 297.94769 304.78 \nz\n\" style=\"fill:#4c72b0;fill-opacity:0.5;stroke:#ffffff;stroke-linejoin:miter;stroke-width:0.086703;\"/>\n   </g>\n   <g id=\"patch_281\">\n    <path clip-path=\"url(#p6b715c176e)\" d=\"M 298.759714 304.78 \nL 299.571739 304.78 \nL 299.571739 304.78 \nL 298.759714 304.78 \nz\n\" style=\"fill:#4c72b0;fill-opacity:0.5;stroke:#ffffff;stroke-linejoin:miter;stroke-width:0.086703;\"/>\n   </g>\n   <g id=\"patch_282\">\n    <path clip-path=\"url(#p6b715c176e)\" d=\"M 299.571739 304.78 \nL 300.383763 304.78 \nL 300.383763 304.737221 \nL 299.571739 304.737221 \nz\n\" style=\"fill:#4c72b0;fill-opacity:0.5;stroke:#ffffff;stroke-linejoin:miter;stroke-width:0.086703;\"/>\n   </g>\n   <g id=\"patch_283\">\n    <path clip-path=\"url(#p6b715c176e)\" d=\"M 300.383763 304.78 \nL 301.195787 304.78 \nL 301.195787 304.737221 \nL 300.383763 304.737221 \nz\n\" style=\"fill:#4c72b0;fill-opacity:0.5;stroke:#ffffff;stroke-linejoin:miter;stroke-width:0.086703;\"/>\n   </g>\n   <g id=\"patch_284\">\n    <path clip-path=\"url(#p6b715c176e)\" d=\"M 301.195787 304.78 \nL 302.007812 304.78 \nL 302.007812 304.78 \nL 301.195787 304.78 \nz\n\" style=\"fill:#4c72b0;fill-opacity:0.5;stroke:#ffffff;stroke-linejoin:miter;stroke-width:0.086703;\"/>\n   </g>\n   <g id=\"patch_285\">\n    <path clip-path=\"url(#p6b715c176e)\" d=\"M 302.007812 304.78 \nL 302.819836 304.78 \nL 302.819836 304.78 \nL 302.007812 304.78 \nz\n\" style=\"fill:#4c72b0;fill-opacity:0.5;stroke:#ffffff;stroke-linejoin:miter;stroke-width:0.086703;\"/>\n   </g>\n   <g id=\"patch_286\">\n    <path clip-path=\"url(#p6b715c176e)\" d=\"M 302.819836 304.78 \nL 303.631861 304.78 \nL 303.631861 304.78 \nL 302.819836 304.78 \nz\n\" style=\"fill:#4c72b0;fill-opacity:0.5;stroke:#ffffff;stroke-linejoin:miter;stroke-width:0.086703;\"/>\n   </g>\n   <g id=\"patch_287\">\n    <path clip-path=\"url(#p6b715c176e)\" d=\"M 303.631861 304.78 \nL 304.443885 304.78 \nL 304.443885 304.78 \nL 303.631861 304.78 \nz\n\" style=\"fill:#4c72b0;fill-opacity:0.5;stroke:#ffffff;stroke-linejoin:miter;stroke-width:0.086703;\"/>\n   </g>\n   <g id=\"patch_288\">\n    <path clip-path=\"url(#p6b715c176e)\" d=\"M 304.443885 304.78 \nL 305.255909 304.78 \nL 305.255909 304.78 \nL 304.443885 304.78 \nz\n\" style=\"fill:#4c72b0;fill-opacity:0.5;stroke:#ffffff;stroke-linejoin:miter;stroke-width:0.086703;\"/>\n   </g>\n   <g id=\"patch_289\">\n    <path clip-path=\"url(#p6b715c176e)\" d=\"M 305.255909 304.78 \nL 306.067934 304.78 \nL 306.067934 304.78 \nL 305.255909 304.78 \nz\n\" style=\"fill:#4c72b0;fill-opacity:0.5;stroke:#ffffff;stroke-linejoin:miter;stroke-width:0.086703;\"/>\n   </g>\n   <g id=\"patch_290\">\n    <path clip-path=\"url(#p6b715c176e)\" d=\"M 306.067934 304.78 \nL 306.879958 304.78 \nL 306.879958 304.78 \nL 306.067934 304.78 \nz\n\" style=\"fill:#4c72b0;fill-opacity:0.5;stroke:#ffffff;stroke-linejoin:miter;stroke-width:0.086703;\"/>\n   </g>\n   <g id=\"patch_291\">\n    <path clip-path=\"url(#p6b715c176e)\" d=\"M 306.879958 304.78 \nL 307.691983 304.78 \nL 307.691983 304.78 \nL 306.879958 304.78 \nz\n\" style=\"fill:#4c72b0;fill-opacity:0.5;stroke:#ffffff;stroke-linejoin:miter;stroke-width:0.086703;\"/>\n   </g>\n   <g id=\"patch_292\">\n    <path clip-path=\"url(#p6b715c176e)\" d=\"M 307.691983 304.78 \nL 308.504007 304.78 \nL 308.504007 304.78 \nL 307.691983 304.78 \nz\n\" style=\"fill:#4c72b0;fill-opacity:0.5;stroke:#ffffff;stroke-linejoin:miter;stroke-width:0.086703;\"/>\n   </g>\n   <g id=\"patch_293\">\n    <path clip-path=\"url(#p6b715c176e)\" d=\"M 308.504007 304.78 \nL 309.316031 304.78 \nL 309.316031 304.78 \nL 308.504007 304.78 \nz\n\" style=\"fill:#4c72b0;fill-opacity:0.5;stroke:#ffffff;stroke-linejoin:miter;stroke-width:0.086703;\"/>\n   </g>\n   <g id=\"patch_294\">\n    <path clip-path=\"url(#p6b715c176e)\" d=\"M 309.316031 304.78 \nL 310.128056 304.78 \nL 310.128056 304.78 \nL 309.316031 304.78 \nz\n\" style=\"fill:#4c72b0;fill-opacity:0.5;stroke:#ffffff;stroke-linejoin:miter;stroke-width:0.086703;\"/>\n   </g>\n   <g id=\"patch_295\">\n    <path clip-path=\"url(#p6b715c176e)\" d=\"M 310.128056 304.78 \nL 310.94008 304.78 \nL 310.94008 304.737221 \nL 310.128056 304.737221 \nz\n\" style=\"fill:#4c72b0;fill-opacity:0.5;stroke:#ffffff;stroke-linejoin:miter;stroke-width:0.086703;\"/>\n   </g>\n   <g id=\"patch_296\">\n    <path clip-path=\"url(#p6b715c176e)\" d=\"M 310.94008 304.78 \nL 311.752105 304.78 \nL 311.752105 304.737221 \nL 310.94008 304.737221 \nz\n\" style=\"fill:#4c72b0;fill-opacity:0.5;stroke:#ffffff;stroke-linejoin:miter;stroke-width:0.086703;\"/>\n   </g>\n   <g id=\"patch_297\">\n    <path clip-path=\"url(#p6b715c176e)\" d=\"M 311.752105 304.78 \nL 312.564129 304.78 \nL 312.564129 304.78 \nL 311.752105 304.78 \nz\n\" style=\"fill:#4c72b0;fill-opacity:0.5;stroke:#ffffff;stroke-linejoin:miter;stroke-width:0.086703;\"/>\n   </g>\n   <g id=\"patch_298\">\n    <path clip-path=\"url(#p6b715c176e)\" d=\"M 312.564129 304.78 \nL 313.376153 304.78 \nL 313.376153 304.78 \nL 312.564129 304.78 \nz\n\" style=\"fill:#4c72b0;fill-opacity:0.5;stroke:#ffffff;stroke-linejoin:miter;stroke-width:0.086703;\"/>\n   </g>\n   <g id=\"patch_299\">\n    <path clip-path=\"url(#p6b715c176e)\" d=\"M 313.376153 304.78 \nL 314.188178 304.78 \nL 314.188178 304.78 \nL 313.376153 304.78 \nz\n\" style=\"fill:#4c72b0;fill-opacity:0.5;stroke:#ffffff;stroke-linejoin:miter;stroke-width:0.086703;\"/>\n   </g>\n   <g id=\"patch_300\">\n    <path clip-path=\"url(#p6b715c176e)\" d=\"M 314.188178 304.78 \nL 315.000202 304.78 \nL 315.000202 304.78 \nL 314.188178 304.78 \nz\n\" style=\"fill:#4c72b0;fill-opacity:0.5;stroke:#ffffff;stroke-linejoin:miter;stroke-width:0.086703;\"/>\n   </g>\n   <g id=\"patch_301\">\n    <path clip-path=\"url(#p6b715c176e)\" d=\"M 315.000202 304.78 \nL 315.812227 304.78 \nL 315.812227 304.78 \nL 315.000202 304.78 \nz\n\" style=\"fill:#4c72b0;fill-opacity:0.5;stroke:#ffffff;stroke-linejoin:miter;stroke-width:0.086703;\"/>\n   </g>\n   <g id=\"patch_302\">\n    <path clip-path=\"url(#p6b715c176e)\" d=\"M 315.812227 304.78 \nL 316.624251 304.78 \nL 316.624251 304.78 \nL 315.812227 304.78 \nz\n\" style=\"fill:#4c72b0;fill-opacity:0.5;stroke:#ffffff;stroke-linejoin:miter;stroke-width:0.086703;\"/>\n   </g>\n   <g id=\"patch_303\">\n    <path clip-path=\"url(#p6b715c176e)\" d=\"M 316.624251 304.78 \nL 317.436275 304.78 \nL 317.436275 304.78 \nL 316.624251 304.78 \nz\n\" style=\"fill:#4c72b0;fill-opacity:0.5;stroke:#ffffff;stroke-linejoin:miter;stroke-width:0.086703;\"/>\n   </g>\n   <g id=\"patch_304\">\n    <path clip-path=\"url(#p6b715c176e)\" d=\"M 317.436275 304.78 \nL 318.2483 304.78 \nL 318.2483 304.78 \nL 317.436275 304.78 \nz\n\" style=\"fill:#4c72b0;fill-opacity:0.5;stroke:#ffffff;stroke-linejoin:miter;stroke-width:0.086703;\"/>\n   </g>\n   <g id=\"patch_305\">\n    <path clip-path=\"url(#p6b715c176e)\" d=\"M 318.2483 304.78 \nL 319.060324 304.78 \nL 319.060324 304.78 \nL 318.2483 304.78 \nz\n\" style=\"fill:#4c72b0;fill-opacity:0.5;stroke:#ffffff;stroke-linejoin:miter;stroke-width:0.086703;\"/>\n   </g>\n   <g id=\"patch_306\">\n    <path clip-path=\"url(#p6b715c176e)\" d=\"M 319.060324 304.78 \nL 319.872349 304.78 \nL 319.872349 304.78 \nL 319.060324 304.78 \nz\n\" style=\"fill:#4c72b0;fill-opacity:0.5;stroke:#ffffff;stroke-linejoin:miter;stroke-width:0.086703;\"/>\n   </g>\n   <g id=\"patch_307\">\n    <path clip-path=\"url(#p6b715c176e)\" d=\"M 319.872349 304.78 \nL 320.684373 304.78 \nL 320.684373 304.737221 \nL 319.872349 304.737221 \nz\n\" style=\"fill:#4c72b0;fill-opacity:0.5;stroke:#ffffff;stroke-linejoin:miter;stroke-width:0.086703;\"/>\n   </g>\n   <g id=\"patch_308\">\n    <path clip-path=\"url(#p6b715c176e)\" d=\"M 320.684373 304.78 \nL 321.496397 304.78 \nL 321.496397 304.78 \nL 320.684373 304.78 \nz\n\" style=\"fill:#4c72b0;fill-opacity:0.5;stroke:#ffffff;stroke-linejoin:miter;stroke-width:0.086703;\"/>\n   </g>\n   <g id=\"patch_309\">\n    <path clip-path=\"url(#p6b715c176e)\" d=\"M 321.496397 304.78 \nL 322.308422 304.78 \nL 322.308422 304.78 \nL 321.496397 304.78 \nz\n\" style=\"fill:#4c72b0;fill-opacity:0.5;stroke:#ffffff;stroke-linejoin:miter;stroke-width:0.086703;\"/>\n   </g>\n   <g id=\"patch_310\">\n    <path clip-path=\"url(#p6b715c176e)\" d=\"M 322.308422 304.78 \nL 323.120446 304.78 \nL 323.120446 304.78 \nL 322.308422 304.78 \nz\n\" style=\"fill:#4c72b0;fill-opacity:0.5;stroke:#ffffff;stroke-linejoin:miter;stroke-width:0.086703;\"/>\n   </g>\n   <g id=\"patch_311\">\n    <path clip-path=\"url(#p6b715c176e)\" d=\"M 323.120446 304.78 \nL 323.932471 304.78 \nL 323.932471 304.78 \nL 323.120446 304.78 \nz\n\" style=\"fill:#4c72b0;fill-opacity:0.5;stroke:#ffffff;stroke-linejoin:miter;stroke-width:0.086703;\"/>\n   </g>\n   <g id=\"patch_312\">\n    <path clip-path=\"url(#p6b715c176e)\" d=\"M 323.932471 304.78 \nL 324.744495 304.78 \nL 324.744495 304.78 \nL 323.932471 304.78 \nz\n\" style=\"fill:#4c72b0;fill-opacity:0.5;stroke:#ffffff;stroke-linejoin:miter;stroke-width:0.086703;\"/>\n   </g>\n   <g id=\"patch_313\">\n    <path clip-path=\"url(#p6b715c176e)\" d=\"M 324.744495 304.78 \nL 325.556519 304.78 \nL 325.556519 304.78 \nL 324.744495 304.78 \nz\n\" style=\"fill:#4c72b0;fill-opacity:0.5;stroke:#ffffff;stroke-linejoin:miter;stroke-width:0.086703;\"/>\n   </g>\n   <g id=\"patch_314\">\n    <path clip-path=\"url(#p6b715c176e)\" d=\"M 325.556519 304.78 \nL 326.368544 304.78 \nL 326.368544 304.78 \nL 325.556519 304.78 \nz\n\" style=\"fill:#4c72b0;fill-opacity:0.5;stroke:#ffffff;stroke-linejoin:miter;stroke-width:0.086703;\"/>\n   </g>\n   <g id=\"patch_315\">\n    <path clip-path=\"url(#p6b715c176e)\" d=\"M 326.368544 304.78 \nL 327.180568 304.78 \nL 327.180568 304.737221 \nL 326.368544 304.737221 \nz\n\" style=\"fill:#4c72b0;fill-opacity:0.5;stroke:#ffffff;stroke-linejoin:miter;stroke-width:0.086703;\"/>\n   </g>\n   <g id=\"line2d_12\">\n    <path clip-path=\"url(#p6b715c176e)\" d=\"M 73.016932 303.732093 \nL 74.294136 301.975064 \nL 75.57134 298.945779 \nL 76.848544 295.567245 \nL 78.125749 293.550689 \nL 79.402953 293.74662 \nL 81.957361 296.978784 \nL 83.234565 297.712934 \nL 84.51177 297.1267 \nL 85.788974 294.873315 \nL 87.066178 290.903306 \nL 88.343382 285.534263 \nL 89.620586 279.000689 \nL 90.897791 271.259458 \nL 93.452199 252.977677 \nL 96.006607 231.890897 \nL 98.561016 207.856545 \nL 101.115424 182.865728 \nL 102.392628 171.690066 \nL 103.669833 162.482075 \nL 104.947037 154.863547 \nL 106.224241 148.177399 \nL 107.501445 142.635786 \nL 108.778649 139.078289 \nL 110.055854 137.613638 \nL 111.333058 137.45668 \nL 112.610262 138.342854 \nL 113.887466 140.838264 \nL 115.164671 144.95169 \nL 117.719079 155.140347 \nL 118.996283 161.141369 \nL 120.273487 168.058048 \nL 122.827896 183.704846 \nL 125.382304 200.180229 \nL 126.659508 207.331765 \nL 129.213917 219.162736 \nL 131.768325 229.670225 \nL 134.322734 239.388344 \nL 135.599938 243.488895 \nL 140.708755 257.444143 \nL 141.985959 260.52797 \nL 147.094776 270.355091 \nL 149.649184 274.602821 \nL 152.203592 278.40912 \nL 154.758001 281.512645 \nL 161.144022 288.647633 \nL 162.421226 289.75991 \nL 167.530043 293.162072 \nL 170.084451 295.007364 \nL 171.361655 295.676824 \nL 176.470472 297.74361 \nL 180.302085 299.135711 \nL 186.688106 300.84388 \nL 190.519718 301.483669 \nL 194.351331 302.18941 \nL 199.460148 302.69285 \nL 204.568965 303.411399 \nL 207.123373 303.639426 \nL 244.162295 304.655786 \nL 253.102724 304.707683 \nL 278.646808 304.748277 \nL 288.864442 304.770862 \nL 327.180568 304.772457 \nL 327.180568 304.772457 \n\" style=\"fill:none;stroke:#4c72b0;stroke-linecap:round;stroke-width:1.5;\"/>\n   </g>\n   <g id=\"patch_316\">\n    <path d=\"M 60.30875 304.78 \nL 60.30875 7.2 \n\" style=\"fill:none;stroke:#262626;stroke-linecap:square;stroke-linejoin:miter;stroke-width:1.25;\"/>\n   </g>\n   <g id=\"patch_317\">\n    <path d=\"M 60.30875 304.78 \nL 339.88875 304.78 \n\" style=\"fill:none;stroke:#262626;stroke-linecap:square;stroke-linejoin:miter;stroke-width:1.25;\"/>\n   </g>\n  </g>\n </g>\n <defs>\n  <clipPath id=\"p6b715c176e\">\n   <rect height=\"297.58\" width=\"279.58\" x=\"60.30875\" y=\"7.2\"/>\n  </clipPath>\n </defs>\n</svg>\n"
          },
          "metadata": {}
        }
      ]
    },
    {
      "cell_type": "markdown",
      "source": [
        "Os limites inferior e superior são definidos com o valor de 3 vezes o desvio padrão à esquerda e direita da média.\n",
        "\n",
        "Avaliando nosso problema é perceptivel que o menor valor possivel para número de pedidos é 0, então fazemos este reajuste."
      ],
      "metadata": {
        "id": "UmrCNKPiI4Qg"
      }
    },
    {
      "cell_type": "code",
      "source": [
        "upper_limit = data['#Order'].mean() + 3*data['#Order'].std()\n",
        "lower_limit = data['#Order'].mean() - 3*data['#Order'].std()\n",
        "lower_limit = 0 if lower_limit < 0 else lower_limit\n",
        "\n",
        "print(\"Highest allowed\", upper_limit)\n",
        "print(\"Lowest allowed\", data['#Order'].mean() - 3*data['#Order'].std(), \"->\" , lower_limit)"
      ],
      "metadata": {
        "colab": {
          "base_uri": "https://localhost:8080/"
        },
        "id": "8m9_UJJcI7bZ",
        "outputId": "ebaaa6b5-9fd6-4a04-b7e6-dcd7b63bd085"
      },
      "execution_count": 21,
      "outputs": [
        {
          "output_type": "stream",
          "name": "stdout",
          "text": [
            "Highest allowed 159.6079356258474\n",
            "Lowest allowed -23.19655195801262 -> 0\n"
          ]
        }
      ]
    },
    {
      "cell_type": "markdown",
      "source": [
        "Apresentamos os outliers:"
      ],
      "metadata": {
        "id": "5s3DUc2KI_Fx"
      }
    },
    {
      "cell_type": "code",
      "source": [
        "outliers = data[(data['#Order'] > upper_limit)]\n",
        "outliers"
      ],
      "metadata": {
        "colab": {
          "base_uri": "https://localhost:8080/",
          "height": 424
        },
        "id": "lYZhMB40I_cZ",
        "outputId": "91933fb0-5c9c-4886-fccf-925cd8f548af"
      },
      "execution_count": 22,
      "outputs": [
        {
          "output_type": "execute_result",
          "data": {
            "text/plain": [
              "              ID  Store_id Store_Type Location_Type Region_Code        Date  \\\n",
              "306     T1000307       176         S4            L2          R3  2018-01-01   \n",
              "493     T1000494       337         S4            L2          R1  2018-01-02   \n",
              "594     T1000595       312         S4            L2          R1  2018-01-02   \n",
              "623     T1000624       175         S4            L2          R1  2018-01-02   \n",
              "786     T1000787       337         S4            L2          R1  2018-01-03   \n",
              "...          ...       ...        ...           ...         ...         ...   \n",
              "187689  T1187690       315         S4            L2          R1  2019-05-30   \n",
              "187794  T1187795       175         S4            L2          R1  2019-05-30   \n",
              "188036  T1188037       315         S4            L2          R1  2019-05-31   \n",
              "188241  T1188242       175         S4            L2          R1  2019-05-31   \n",
              "188320  T1188321       337         S4            L2          R1  2019-05-31   \n",
              "\n",
              "        Holiday Discount  #Order      Sales  \n",
              "306           1      Yes     180  126633.00  \n",
              "493           0      Yes     189  132699.00  \n",
              "594           0      Yes     167  113439.00  \n",
              "623           0      Yes     181  121248.00  \n",
              "786           0      Yes     189  142662.00  \n",
              "...         ...      ...     ...        ...  \n",
              "187689        0       No     173   99027.00  \n",
              "187794        0       No     180  104406.00  \n",
              "188036        1      Yes     168   96056.19  \n",
              "188241        1       No     179  103361.94  \n",
              "188320        1       No     171  110414.28  \n",
              "\n",
              "[2664 rows x 10 columns]"
            ],
            "text/html": [
              "\n",
              "  <div id=\"df-0fb09e65-ea55-4bfa-a3f5-d43523914d7d\">\n",
              "    <div class=\"colab-df-container\">\n",
              "      <div>\n",
              "<style scoped>\n",
              "    .dataframe tbody tr th:only-of-type {\n",
              "        vertical-align: middle;\n",
              "    }\n",
              "\n",
              "    .dataframe tbody tr th {\n",
              "        vertical-align: top;\n",
              "    }\n",
              "\n",
              "    .dataframe thead th {\n",
              "        text-align: right;\n",
              "    }\n",
              "</style>\n",
              "<table border=\"1\" class=\"dataframe\">\n",
              "  <thead>\n",
              "    <tr style=\"text-align: right;\">\n",
              "      <th></th>\n",
              "      <th>ID</th>\n",
              "      <th>Store_id</th>\n",
              "      <th>Store_Type</th>\n",
              "      <th>Location_Type</th>\n",
              "      <th>Region_Code</th>\n",
              "      <th>Date</th>\n",
              "      <th>Holiday</th>\n",
              "      <th>Discount</th>\n",
              "      <th>#Order</th>\n",
              "      <th>Sales</th>\n",
              "    </tr>\n",
              "  </thead>\n",
              "  <tbody>\n",
              "    <tr>\n",
              "      <th>306</th>\n",
              "      <td>T1000307</td>\n",
              "      <td>176</td>\n",
              "      <td>S4</td>\n",
              "      <td>L2</td>\n",
              "      <td>R3</td>\n",
              "      <td>2018-01-01</td>\n",
              "      <td>1</td>\n",
              "      <td>Yes</td>\n",
              "      <td>180</td>\n",
              "      <td>126633.00</td>\n",
              "    </tr>\n",
              "    <tr>\n",
              "      <th>493</th>\n",
              "      <td>T1000494</td>\n",
              "      <td>337</td>\n",
              "      <td>S4</td>\n",
              "      <td>L2</td>\n",
              "      <td>R1</td>\n",
              "      <td>2018-01-02</td>\n",
              "      <td>0</td>\n",
              "      <td>Yes</td>\n",
              "      <td>189</td>\n",
              "      <td>132699.00</td>\n",
              "    </tr>\n",
              "    <tr>\n",
              "      <th>594</th>\n",
              "      <td>T1000595</td>\n",
              "      <td>312</td>\n",
              "      <td>S4</td>\n",
              "      <td>L2</td>\n",
              "      <td>R1</td>\n",
              "      <td>2018-01-02</td>\n",
              "      <td>0</td>\n",
              "      <td>Yes</td>\n",
              "      <td>167</td>\n",
              "      <td>113439.00</td>\n",
              "    </tr>\n",
              "    <tr>\n",
              "      <th>623</th>\n",
              "      <td>T1000624</td>\n",
              "      <td>175</td>\n",
              "      <td>S4</td>\n",
              "      <td>L2</td>\n",
              "      <td>R1</td>\n",
              "      <td>2018-01-02</td>\n",
              "      <td>0</td>\n",
              "      <td>Yes</td>\n",
              "      <td>181</td>\n",
              "      <td>121248.00</td>\n",
              "    </tr>\n",
              "    <tr>\n",
              "      <th>786</th>\n",
              "      <td>T1000787</td>\n",
              "      <td>337</td>\n",
              "      <td>S4</td>\n",
              "      <td>L2</td>\n",
              "      <td>R1</td>\n",
              "      <td>2018-01-03</td>\n",
              "      <td>0</td>\n",
              "      <td>Yes</td>\n",
              "      <td>189</td>\n",
              "      <td>142662.00</td>\n",
              "    </tr>\n",
              "    <tr>\n",
              "      <th>...</th>\n",
              "      <td>...</td>\n",
              "      <td>...</td>\n",
              "      <td>...</td>\n",
              "      <td>...</td>\n",
              "      <td>...</td>\n",
              "      <td>...</td>\n",
              "      <td>...</td>\n",
              "      <td>...</td>\n",
              "      <td>...</td>\n",
              "      <td>...</td>\n",
              "    </tr>\n",
              "    <tr>\n",
              "      <th>187689</th>\n",
              "      <td>T1187690</td>\n",
              "      <td>315</td>\n",
              "      <td>S4</td>\n",
              "      <td>L2</td>\n",
              "      <td>R1</td>\n",
              "      <td>2019-05-30</td>\n",
              "      <td>0</td>\n",
              "      <td>No</td>\n",
              "      <td>173</td>\n",
              "      <td>99027.00</td>\n",
              "    </tr>\n",
              "    <tr>\n",
              "      <th>187794</th>\n",
              "      <td>T1187795</td>\n",
              "      <td>175</td>\n",
              "      <td>S4</td>\n",
              "      <td>L2</td>\n",
              "      <td>R1</td>\n",
              "      <td>2019-05-30</td>\n",
              "      <td>0</td>\n",
              "      <td>No</td>\n",
              "      <td>180</td>\n",
              "      <td>104406.00</td>\n",
              "    </tr>\n",
              "    <tr>\n",
              "      <th>188036</th>\n",
              "      <td>T1188037</td>\n",
              "      <td>315</td>\n",
              "      <td>S4</td>\n",
              "      <td>L2</td>\n",
              "      <td>R1</td>\n",
              "      <td>2019-05-31</td>\n",
              "      <td>1</td>\n",
              "      <td>Yes</td>\n",
              "      <td>168</td>\n",
              "      <td>96056.19</td>\n",
              "    </tr>\n",
              "    <tr>\n",
              "      <th>188241</th>\n",
              "      <td>T1188242</td>\n",
              "      <td>175</td>\n",
              "      <td>S4</td>\n",
              "      <td>L2</td>\n",
              "      <td>R1</td>\n",
              "      <td>2019-05-31</td>\n",
              "      <td>1</td>\n",
              "      <td>No</td>\n",
              "      <td>179</td>\n",
              "      <td>103361.94</td>\n",
              "    </tr>\n",
              "    <tr>\n",
              "      <th>188320</th>\n",
              "      <td>T1188321</td>\n",
              "      <td>337</td>\n",
              "      <td>S4</td>\n",
              "      <td>L2</td>\n",
              "      <td>R1</td>\n",
              "      <td>2019-05-31</td>\n",
              "      <td>1</td>\n",
              "      <td>No</td>\n",
              "      <td>171</td>\n",
              "      <td>110414.28</td>\n",
              "    </tr>\n",
              "  </tbody>\n",
              "</table>\n",
              "<p>2664 rows × 10 columns</p>\n",
              "</div>\n",
              "      <button class=\"colab-df-convert\" onclick=\"convertToInteractive('df-0fb09e65-ea55-4bfa-a3f5-d43523914d7d')\"\n",
              "              title=\"Convert this dataframe to an interactive table.\"\n",
              "              style=\"display:none;\">\n",
              "        \n",
              "  <svg xmlns=\"http://www.w3.org/2000/svg\" height=\"24px\"viewBox=\"0 0 24 24\"\n",
              "       width=\"24px\">\n",
              "    <path d=\"M0 0h24v24H0V0z\" fill=\"none\"/>\n",
              "    <path d=\"M18.56 5.44l.94 2.06.94-2.06 2.06-.94-2.06-.94-.94-2.06-.94 2.06-2.06.94zm-11 1L8.5 8.5l.94-2.06 2.06-.94-2.06-.94L8.5 2.5l-.94 2.06-2.06.94zm10 10l.94 2.06.94-2.06 2.06-.94-2.06-.94-.94-2.06-.94 2.06-2.06.94z\"/><path d=\"M17.41 7.96l-1.37-1.37c-.4-.4-.92-.59-1.43-.59-.52 0-1.04.2-1.43.59L10.3 9.45l-7.72 7.72c-.78.78-.78 2.05 0 2.83L4 21.41c.39.39.9.59 1.41.59.51 0 1.02-.2 1.41-.59l7.78-7.78 2.81-2.81c.8-.78.8-2.07 0-2.86zM5.41 20L4 18.59l7.72-7.72 1.47 1.35L5.41 20z\"/>\n",
              "  </svg>\n",
              "      </button>\n",
              "      \n",
              "  <style>\n",
              "    .colab-df-container {\n",
              "      display:flex;\n",
              "      flex-wrap:wrap;\n",
              "      gap: 12px;\n",
              "    }\n",
              "\n",
              "    .colab-df-convert {\n",
              "      background-color: #E8F0FE;\n",
              "      border: none;\n",
              "      border-radius: 50%;\n",
              "      cursor: pointer;\n",
              "      display: none;\n",
              "      fill: #1967D2;\n",
              "      height: 32px;\n",
              "      padding: 0 0 0 0;\n",
              "      width: 32px;\n",
              "    }\n",
              "\n",
              "    .colab-df-convert:hover {\n",
              "      background-color: #E2EBFA;\n",
              "      box-shadow: 0px 1px 2px rgba(60, 64, 67, 0.3), 0px 1px 3px 1px rgba(60, 64, 67, 0.15);\n",
              "      fill: #174EA6;\n",
              "    }\n",
              "\n",
              "    [theme=dark] .colab-df-convert {\n",
              "      background-color: #3B4455;\n",
              "      fill: #D2E3FC;\n",
              "    }\n",
              "\n",
              "    [theme=dark] .colab-df-convert:hover {\n",
              "      background-color: #434B5C;\n",
              "      box-shadow: 0px 1px 3px 1px rgba(0, 0, 0, 0.15);\n",
              "      filter: drop-shadow(0px 1px 2px rgba(0, 0, 0, 0.3));\n",
              "      fill: #FFFFFF;\n",
              "    }\n",
              "  </style>\n",
              "\n",
              "      <script>\n",
              "        const buttonEl =\n",
              "          document.querySelector('#df-0fb09e65-ea55-4bfa-a3f5-d43523914d7d button.colab-df-convert');\n",
              "        buttonEl.style.display =\n",
              "          google.colab.kernel.accessAllowed ? 'block' : 'none';\n",
              "\n",
              "        async function convertToInteractive(key) {\n",
              "          const element = document.querySelector('#df-0fb09e65-ea55-4bfa-a3f5-d43523914d7d');\n",
              "          const dataTable =\n",
              "            await google.colab.kernel.invokeFunction('convertToInteractive',\n",
              "                                                     [key], {});\n",
              "          if (!dataTable) return;\n",
              "\n",
              "          const docLinkHtml = 'Like what you see? Visit the ' +\n",
              "            '<a target=\"_blank\" href=https://colab.research.google.com/notebooks/data_table.ipynb>data table notebook</a>'\n",
              "            + ' to learn more about interactive tables.';\n",
              "          element.innerHTML = '';\n",
              "          dataTable['output_type'] = 'display_data';\n",
              "          await google.colab.output.renderOutput(dataTable, element);\n",
              "          const docLink = document.createElement('div');\n",
              "          docLink.innerHTML = docLinkHtml;\n",
              "          element.appendChild(docLink);\n",
              "        }\n",
              "      </script>\n",
              "    </div>\n",
              "  </div>\n",
              "  "
            ]
          },
          "metadata": {},
          "execution_count": 22
        }
      ]
    },
    {
      "cell_type": "markdown",
      "source": [
        "Apresentamos tambés informações relevantes dos outliers:"
      ],
      "metadata": {
        "id": "II2mlSjSJEgi"
      }
    },
    {
      "cell_type": "code",
      "source": [
        "outliers.describe()"
      ],
      "metadata": {
        "colab": {
          "base_uri": "https://localhost:8080/",
          "height": 300
        },
        "id": "pP6c_QeLJFXh",
        "outputId": "b8e08805-8663-4a71-f3ed-22c18be1068b"
      },
      "execution_count": 23,
      "outputs": [
        {
          "output_type": "execute_result",
          "data": {
            "text/plain": [
              "          Store_id      Holiday       #Order          Sales\n",
              "count  2664.000000  2664.000000  2664.000000    2664.000000\n",
              "mean    210.603979     0.075450   186.501877  108098.625349\n",
              "std      91.372366     0.264166    26.922456   20326.119677\n",
              "min       2.000000     0.000000   160.000000   65689.080000\n",
              "25%     146.000000     0.000000   168.000000   93855.750000\n",
              "50%     175.000000     0.000000   178.000000  104148.000000\n",
              "75%     312.000000     0.000000   198.000000  117324.000000\n",
              "max     357.000000     1.000000   371.000000  247215.000000"
            ],
            "text/html": [
              "\n",
              "  <div id=\"df-1bd3c869-b72e-4d2b-8c30-04d847f1e6b7\">\n",
              "    <div class=\"colab-df-container\">\n",
              "      <div>\n",
              "<style scoped>\n",
              "    .dataframe tbody tr th:only-of-type {\n",
              "        vertical-align: middle;\n",
              "    }\n",
              "\n",
              "    .dataframe tbody tr th {\n",
              "        vertical-align: top;\n",
              "    }\n",
              "\n",
              "    .dataframe thead th {\n",
              "        text-align: right;\n",
              "    }\n",
              "</style>\n",
              "<table border=\"1\" class=\"dataframe\">\n",
              "  <thead>\n",
              "    <tr style=\"text-align: right;\">\n",
              "      <th></th>\n",
              "      <th>Store_id</th>\n",
              "      <th>Holiday</th>\n",
              "      <th>#Order</th>\n",
              "      <th>Sales</th>\n",
              "    </tr>\n",
              "  </thead>\n",
              "  <tbody>\n",
              "    <tr>\n",
              "      <th>count</th>\n",
              "      <td>2664.000000</td>\n",
              "      <td>2664.000000</td>\n",
              "      <td>2664.000000</td>\n",
              "      <td>2664.000000</td>\n",
              "    </tr>\n",
              "    <tr>\n",
              "      <th>mean</th>\n",
              "      <td>210.603979</td>\n",
              "      <td>0.075450</td>\n",
              "      <td>186.501877</td>\n",
              "      <td>108098.625349</td>\n",
              "    </tr>\n",
              "    <tr>\n",
              "      <th>std</th>\n",
              "      <td>91.372366</td>\n",
              "      <td>0.264166</td>\n",
              "      <td>26.922456</td>\n",
              "      <td>20326.119677</td>\n",
              "    </tr>\n",
              "    <tr>\n",
              "      <th>min</th>\n",
              "      <td>2.000000</td>\n",
              "      <td>0.000000</td>\n",
              "      <td>160.000000</td>\n",
              "      <td>65689.080000</td>\n",
              "    </tr>\n",
              "    <tr>\n",
              "      <th>25%</th>\n",
              "      <td>146.000000</td>\n",
              "      <td>0.000000</td>\n",
              "      <td>168.000000</td>\n",
              "      <td>93855.750000</td>\n",
              "    </tr>\n",
              "    <tr>\n",
              "      <th>50%</th>\n",
              "      <td>175.000000</td>\n",
              "      <td>0.000000</td>\n",
              "      <td>178.000000</td>\n",
              "      <td>104148.000000</td>\n",
              "    </tr>\n",
              "    <tr>\n",
              "      <th>75%</th>\n",
              "      <td>312.000000</td>\n",
              "      <td>0.000000</td>\n",
              "      <td>198.000000</td>\n",
              "      <td>117324.000000</td>\n",
              "    </tr>\n",
              "    <tr>\n",
              "      <th>max</th>\n",
              "      <td>357.000000</td>\n",
              "      <td>1.000000</td>\n",
              "      <td>371.000000</td>\n",
              "      <td>247215.000000</td>\n",
              "    </tr>\n",
              "  </tbody>\n",
              "</table>\n",
              "</div>\n",
              "      <button class=\"colab-df-convert\" onclick=\"convertToInteractive('df-1bd3c869-b72e-4d2b-8c30-04d847f1e6b7')\"\n",
              "              title=\"Convert this dataframe to an interactive table.\"\n",
              "              style=\"display:none;\">\n",
              "        \n",
              "  <svg xmlns=\"http://www.w3.org/2000/svg\" height=\"24px\"viewBox=\"0 0 24 24\"\n",
              "       width=\"24px\">\n",
              "    <path d=\"M0 0h24v24H0V0z\" fill=\"none\"/>\n",
              "    <path d=\"M18.56 5.44l.94 2.06.94-2.06 2.06-.94-2.06-.94-.94-2.06-.94 2.06-2.06.94zm-11 1L8.5 8.5l.94-2.06 2.06-.94-2.06-.94L8.5 2.5l-.94 2.06-2.06.94zm10 10l.94 2.06.94-2.06 2.06-.94-2.06-.94-.94-2.06-.94 2.06-2.06.94z\"/><path d=\"M17.41 7.96l-1.37-1.37c-.4-.4-.92-.59-1.43-.59-.52 0-1.04.2-1.43.59L10.3 9.45l-7.72 7.72c-.78.78-.78 2.05 0 2.83L4 21.41c.39.39.9.59 1.41.59.51 0 1.02-.2 1.41-.59l7.78-7.78 2.81-2.81c.8-.78.8-2.07 0-2.86zM5.41 20L4 18.59l7.72-7.72 1.47 1.35L5.41 20z\"/>\n",
              "  </svg>\n",
              "      </button>\n",
              "      \n",
              "  <style>\n",
              "    .colab-df-container {\n",
              "      display:flex;\n",
              "      flex-wrap:wrap;\n",
              "      gap: 12px;\n",
              "    }\n",
              "\n",
              "    .colab-df-convert {\n",
              "      background-color: #E8F0FE;\n",
              "      border: none;\n",
              "      border-radius: 50%;\n",
              "      cursor: pointer;\n",
              "      display: none;\n",
              "      fill: #1967D2;\n",
              "      height: 32px;\n",
              "      padding: 0 0 0 0;\n",
              "      width: 32px;\n",
              "    }\n",
              "\n",
              "    .colab-df-convert:hover {\n",
              "      background-color: #E2EBFA;\n",
              "      box-shadow: 0px 1px 2px rgba(60, 64, 67, 0.3), 0px 1px 3px 1px rgba(60, 64, 67, 0.15);\n",
              "      fill: #174EA6;\n",
              "    }\n",
              "\n",
              "    [theme=dark] .colab-df-convert {\n",
              "      background-color: #3B4455;\n",
              "      fill: #D2E3FC;\n",
              "    }\n",
              "\n",
              "    [theme=dark] .colab-df-convert:hover {\n",
              "      background-color: #434B5C;\n",
              "      box-shadow: 0px 1px 3px 1px rgba(0, 0, 0, 0.15);\n",
              "      filter: drop-shadow(0px 1px 2px rgba(0, 0, 0, 0.3));\n",
              "      fill: #FFFFFF;\n",
              "    }\n",
              "  </style>\n",
              "\n",
              "      <script>\n",
              "        const buttonEl =\n",
              "          document.querySelector('#df-1bd3c869-b72e-4d2b-8c30-04d847f1e6b7 button.colab-df-convert');\n",
              "        buttonEl.style.display =\n",
              "          google.colab.kernel.accessAllowed ? 'block' : 'none';\n",
              "\n",
              "        async function convertToInteractive(key) {\n",
              "          const element = document.querySelector('#df-1bd3c869-b72e-4d2b-8c30-04d847f1e6b7');\n",
              "          const dataTable =\n",
              "            await google.colab.kernel.invokeFunction('convertToInteractive',\n",
              "                                                     [key], {});\n",
              "          if (!dataTable) return;\n",
              "\n",
              "          const docLinkHtml = 'Like what you see? Visit the ' +\n",
              "            '<a target=\"_blank\" href=https://colab.research.google.com/notebooks/data_table.ipynb>data table notebook</a>'\n",
              "            + ' to learn more about interactive tables.';\n",
              "          element.innerHTML = '';\n",
              "          dataTable['output_type'] = 'display_data';\n",
              "          await google.colab.output.renderOutput(dataTable, element);\n",
              "          const docLink = document.createElement('div');\n",
              "          docLink.innerHTML = docLinkHtml;\n",
              "          element.appendChild(docLink);\n",
              "        }\n",
              "      </script>\n",
              "    </div>\n",
              "  </div>\n",
              "  "
            ]
          },
          "metadata": {},
          "execution_count": 23
        }
      ]
    },
    {
      "cell_type": "markdown",
      "source": [
        "Por fim removemos os outliers obtendo trimmed_data e mais uma vez verificamos sua distribuição."
      ],
      "metadata": {
        "id": "Z1PZ1_1PJIzw"
      }
    },
    {
      "cell_type": "code",
      "source": [
        "trimmed_data = data[(data['#Order'] < upper_limit) & (data['#Order'] > lower_limit)]\n",
        "trimmed_data.describe()\n",
        "%config InlineBackend.figure_format = 'svg'\n",
        "sns.displot(data=trimmed_data, x=\"#Order\", kde=True)"
      ],
      "metadata": {
        "colab": {
          "base_uri": "https://localhost:8080/",
          "height": 503
        },
        "id": "ZEugp_vPJMuR",
        "outputId": "98de33e2-e254-4dcb-f0f8-44c84b6a3a42"
      },
      "execution_count": 24,
      "outputs": [
        {
          "output_type": "execute_result",
          "data": {
            "text/plain": [
              "<seaborn.axisgrid.FacetGrid at 0x7fd4699ffd90>"
            ]
          },
          "metadata": {},
          "execution_count": 24
        },
        {
          "output_type": "display_data",
          "data": {
            "text/plain": [
              "<Figure size 360x360 with 1 Axes>"
            ],
            "image/svg+xml": "<?xml version=\"1.0\" encoding=\"utf-8\" standalone=\"no\"?>\n<!DOCTYPE svg PUBLIC \"-//W3C//DTD SVG 1.1//EN\"\n  \"http://www.w3.org/Graphics/SVG/1.1/DTD/svg11.dtd\">\n<!-- Created with matplotlib (https://matplotlib.org/) -->\n<svg height=\"347.932219pt\" version=\"1.1\" viewBox=\"0 0 347.08875 347.932219\" width=\"347.08875pt\" xmlns=\"http://www.w3.org/2000/svg\" xmlns:xlink=\"http://www.w3.org/1999/xlink\">\n <defs>\n  <style type=\"text/css\">\n*{stroke-linecap:butt;stroke-linejoin:round;}\n  </style>\n </defs>\n <g id=\"figure_1\">\n  <g id=\"patch_1\">\n   <path d=\"M 0 347.932219 \nL 347.08875 347.932219 \nL 347.08875 0 \nL 0 0 \nz\n\" style=\"fill:#ffffff;\"/>\n  </g>\n  <g id=\"axes_1\">\n   <g id=\"patch_2\">\n    <path d=\"M 60.30875 304.972531 \nL 339.88875 304.972531 \nL 339.88875 11.144266 \nL 60.30875 11.144266 \nz\n\" style=\"fill:#ffffff;\"/>\n   </g>\n   <g id=\"matplotlib.axis_1\">\n    <g id=\"xtick_1\">\n     <g id=\"line2d_1\">\n      <defs>\n       <path d=\"M 0 0 \nL 0 6 \n\" id=\"mdbd5d8c9c1\" style=\"stroke:#262626;stroke-width:1.25;\"/>\n      </defs>\n      <g>\n       <use style=\"fill:#262626;stroke:#262626;stroke-width:1.25;\" x=\"71.408301\" xlink:href=\"#mdbd5d8c9c1\" y=\"304.972531\"/>\n      </g>\n     </g>\n     <g id=\"text_1\">\n      <!-- 0 -->\n      <defs>\n       <path d=\"M 31.78125 66.40625 \nQ 24.171875 66.40625 20.328125 58.90625 \nQ 16.5 51.421875 16.5 36.375 \nQ 16.5 21.390625 20.328125 13.890625 \nQ 24.171875 6.390625 31.78125 6.390625 \nQ 39.453125 6.390625 43.28125 13.890625 \nQ 47.125 21.390625 47.125 36.375 \nQ 47.125 51.421875 43.28125 58.90625 \nQ 39.453125 66.40625 31.78125 66.40625 \nz\nM 31.78125 74.21875 \nQ 44.046875 74.21875 50.515625 64.515625 \nQ 56.984375 54.828125 56.984375 36.375 \nQ 56.984375 17.96875 50.515625 8.265625 \nQ 44.046875 -1.421875 31.78125 -1.421875 \nQ 19.53125 -1.421875 13.0625 8.265625 \nQ 6.59375 17.96875 6.59375 36.375 \nQ 6.59375 54.828125 13.0625 64.515625 \nQ 19.53125 74.21875 31.78125 74.21875 \nz\n\" id=\"DejaVuSans-48\"/>\n      </defs>\n      <g style=\"fill:#262626;\" transform=\"translate(67.908926 322.830813)scale(0.11 -0.11)\">\n       <use xlink:href=\"#DejaVuSans-48\"/>\n      </g>\n     </g>\n    </g>\n    <g id=\"xtick_2\">\n     <g id=\"line2d_2\">\n      <g>\n       <use style=\"fill:#262626;stroke:#262626;stroke-width:1.25;\" x=\"111.624066\" xlink:href=\"#mdbd5d8c9c1\" y=\"304.972531\"/>\n      </g>\n     </g>\n     <g id=\"text_2\">\n      <!-- 25 -->\n      <defs>\n       <path d=\"M 19.1875 8.296875 \nL 53.609375 8.296875 \nL 53.609375 0 \nL 7.328125 0 \nL 7.328125 8.296875 \nQ 12.9375 14.109375 22.625 23.890625 \nQ 32.328125 33.6875 34.8125 36.53125 \nQ 39.546875 41.84375 41.421875 45.53125 \nQ 43.3125 49.21875 43.3125 52.78125 \nQ 43.3125 58.59375 39.234375 62.25 \nQ 35.15625 65.921875 28.609375 65.921875 \nQ 23.96875 65.921875 18.8125 64.3125 \nQ 13.671875 62.703125 7.8125 59.421875 \nL 7.8125 69.390625 \nQ 13.765625 71.78125 18.9375 73 \nQ 24.125 74.21875 28.421875 74.21875 \nQ 39.75 74.21875 46.484375 68.546875 \nQ 53.21875 62.890625 53.21875 53.421875 \nQ 53.21875 48.921875 51.53125 44.890625 \nQ 49.859375 40.875 45.40625 35.40625 \nQ 44.1875 33.984375 37.640625 27.21875 \nQ 31.109375 20.453125 19.1875 8.296875 \nz\n\" id=\"DejaVuSans-50\"/>\n       <path d=\"M 10.796875 72.90625 \nL 49.515625 72.90625 \nL 49.515625 64.59375 \nL 19.828125 64.59375 \nL 19.828125 46.734375 \nQ 21.96875 47.46875 24.109375 47.828125 \nQ 26.265625 48.1875 28.421875 48.1875 \nQ 40.625 48.1875 47.75 41.5 \nQ 54.890625 34.8125 54.890625 23.390625 \nQ 54.890625 11.625 47.5625 5.09375 \nQ 40.234375 -1.421875 26.90625 -1.421875 \nQ 22.3125 -1.421875 17.546875 -0.640625 \nQ 12.796875 0.140625 7.71875 1.703125 \nL 7.71875 11.625 \nQ 12.109375 9.234375 16.796875 8.0625 \nQ 21.484375 6.890625 26.703125 6.890625 \nQ 35.15625 6.890625 40.078125 11.328125 \nQ 45.015625 15.765625 45.015625 23.390625 \nQ 45.015625 31 40.078125 35.4375 \nQ 35.15625 39.890625 26.703125 39.890625 \nQ 22.75 39.890625 18.8125 39.015625 \nQ 14.890625 38.140625 10.796875 36.28125 \nz\n\" id=\"DejaVuSans-53\"/>\n      </defs>\n      <g style=\"fill:#262626;\" transform=\"translate(104.625316 322.830813)scale(0.11 -0.11)\">\n       <use xlink:href=\"#DejaVuSans-50\"/>\n       <use x=\"63.623047\" xlink:href=\"#DejaVuSans-53\"/>\n      </g>\n     </g>\n    </g>\n    <g id=\"xtick_3\">\n     <g id=\"line2d_3\">\n      <g>\n       <use style=\"fill:#262626;stroke:#262626;stroke-width:1.25;\" x=\"151.839832\" xlink:href=\"#mdbd5d8c9c1\" y=\"304.972531\"/>\n      </g>\n     </g>\n     <g id=\"text_3\">\n      <!-- 50 -->\n      <g style=\"fill:#262626;\" transform=\"translate(144.841082 322.830813)scale(0.11 -0.11)\">\n       <use xlink:href=\"#DejaVuSans-53\"/>\n       <use x=\"63.623047\" xlink:href=\"#DejaVuSans-48\"/>\n      </g>\n     </g>\n    </g>\n    <g id=\"xtick_4\">\n     <g id=\"line2d_4\">\n      <g>\n       <use style=\"fill:#262626;stroke:#262626;stroke-width:1.25;\" x=\"192.055597\" xlink:href=\"#mdbd5d8c9c1\" y=\"304.972531\"/>\n      </g>\n     </g>\n     <g id=\"text_4\">\n      <!-- 75 -->\n      <defs>\n       <path d=\"M 8.203125 72.90625 \nL 55.078125 72.90625 \nL 55.078125 68.703125 \nL 28.609375 0 \nL 18.3125 0 \nL 43.21875 64.59375 \nL 8.203125 64.59375 \nz\n\" id=\"DejaVuSans-55\"/>\n      </defs>\n      <g style=\"fill:#262626;\" transform=\"translate(185.056847 322.830813)scale(0.11 -0.11)\">\n       <use xlink:href=\"#DejaVuSans-55\"/>\n       <use x=\"63.623047\" xlink:href=\"#DejaVuSans-53\"/>\n      </g>\n     </g>\n    </g>\n    <g id=\"xtick_5\">\n     <g id=\"line2d_5\">\n      <g>\n       <use style=\"fill:#262626;stroke:#262626;stroke-width:1.25;\" x=\"232.271362\" xlink:href=\"#mdbd5d8c9c1\" y=\"304.972531\"/>\n      </g>\n     </g>\n     <g id=\"text_5\">\n      <!-- 100 -->\n      <defs>\n       <path d=\"M 12.40625 8.296875 \nL 28.515625 8.296875 \nL 28.515625 63.921875 \nL 10.984375 60.40625 \nL 10.984375 69.390625 \nL 28.421875 72.90625 \nL 38.28125 72.90625 \nL 38.28125 8.296875 \nL 54.390625 8.296875 \nL 54.390625 0 \nL 12.40625 0 \nz\n\" id=\"DejaVuSans-49\"/>\n      </defs>\n      <g style=\"fill:#262626;\" transform=\"translate(221.773237 322.830813)scale(0.11 -0.11)\">\n       <use xlink:href=\"#DejaVuSans-49\"/>\n       <use x=\"63.623047\" xlink:href=\"#DejaVuSans-48\"/>\n       <use x=\"127.246094\" xlink:href=\"#DejaVuSans-48\"/>\n      </g>\n     </g>\n    </g>\n    <g id=\"xtick_6\">\n     <g id=\"line2d_6\">\n      <g>\n       <use style=\"fill:#262626;stroke:#262626;stroke-width:1.25;\" x=\"272.487127\" xlink:href=\"#mdbd5d8c9c1\" y=\"304.972531\"/>\n      </g>\n     </g>\n     <g id=\"text_6\">\n      <!-- 125 -->\n      <g style=\"fill:#262626;\" transform=\"translate(261.989002 322.830813)scale(0.11 -0.11)\">\n       <use xlink:href=\"#DejaVuSans-49\"/>\n       <use x=\"63.623047\" xlink:href=\"#DejaVuSans-50\"/>\n       <use x=\"127.246094\" xlink:href=\"#DejaVuSans-53\"/>\n      </g>\n     </g>\n    </g>\n    <g id=\"xtick_7\">\n     <g id=\"line2d_7\">\n      <g>\n       <use style=\"fill:#262626;stroke:#262626;stroke-width:1.25;\" x=\"312.702893\" xlink:href=\"#mdbd5d8c9c1\" y=\"304.972531\"/>\n      </g>\n     </g>\n     <g id=\"text_7\">\n      <!-- 150 -->\n      <g style=\"fill:#262626;\" transform=\"translate(302.204768 322.830813)scale(0.11 -0.11)\">\n       <use xlink:href=\"#DejaVuSans-49\"/>\n       <use x=\"63.623047\" xlink:href=\"#DejaVuSans-53\"/>\n       <use x=\"127.246094\" xlink:href=\"#DejaVuSans-48\"/>\n      </g>\n     </g>\n    </g>\n    <g id=\"text_8\">\n     <!-- #Order -->\n     <defs>\n      <path d=\"M 51.125 44 \nL 36.921875 44 \nL 32.8125 27.6875 \nL 47.125 27.6875 \nz\nM 43.796875 71.78125 \nL 38.71875 51.515625 \nL 52.984375 51.515625 \nL 58.109375 71.78125 \nL 65.921875 71.78125 \nL 60.890625 51.515625 \nL 76.125 51.515625 \nL 76.125 44 \nL 58.984375 44 \nL 54.984375 27.6875 \nL 70.515625 27.6875 \nL 70.515625 20.21875 \nL 53.078125 20.21875 \nL 48 0 \nL 40.1875 0 \nL 45.21875 20.21875 \nL 30.90625 20.21875 \nL 25.875 0 \nL 18.015625 0 \nL 23.09375 20.21875 \nL 7.71875 20.21875 \nL 7.71875 27.6875 \nL 24.90625 27.6875 \nL 29 44 \nL 13.28125 44 \nL 13.28125 51.515625 \nL 30.90625 51.515625 \nL 35.890625 71.78125 \nz\n\" id=\"DejaVuSans-35\"/>\n      <path d=\"M 39.40625 66.21875 \nQ 28.65625 66.21875 22.328125 58.203125 \nQ 16.015625 50.203125 16.015625 36.375 \nQ 16.015625 22.609375 22.328125 14.59375 \nQ 28.65625 6.59375 39.40625 6.59375 \nQ 50.140625 6.59375 56.421875 14.59375 \nQ 62.703125 22.609375 62.703125 36.375 \nQ 62.703125 50.203125 56.421875 58.203125 \nQ 50.140625 66.21875 39.40625 66.21875 \nz\nM 39.40625 74.21875 \nQ 54.734375 74.21875 63.90625 63.9375 \nQ 73.09375 53.65625 73.09375 36.375 \nQ 73.09375 19.140625 63.90625 8.859375 \nQ 54.734375 -1.421875 39.40625 -1.421875 \nQ 24.03125 -1.421875 14.8125 8.828125 \nQ 5.609375 19.09375 5.609375 36.375 \nQ 5.609375 53.65625 14.8125 63.9375 \nQ 24.03125 74.21875 39.40625 74.21875 \nz\n\" id=\"DejaVuSans-79\"/>\n      <path d=\"M 41.109375 46.296875 \nQ 39.59375 47.171875 37.8125 47.578125 \nQ 36.03125 48 33.890625 48 \nQ 26.265625 48 22.1875 43.046875 \nQ 18.109375 38.09375 18.109375 28.8125 \nL 18.109375 0 \nL 9.078125 0 \nL 9.078125 54.6875 \nL 18.109375 54.6875 \nL 18.109375 46.1875 \nQ 20.953125 51.171875 25.484375 53.578125 \nQ 30.03125 56 36.53125 56 \nQ 37.453125 56 38.578125 55.875 \nQ 39.703125 55.765625 41.0625 55.515625 \nz\n\" id=\"DejaVuSans-114\"/>\n      <path d=\"M 45.40625 46.390625 \nL 45.40625 75.984375 \nL 54.390625 75.984375 \nL 54.390625 0 \nL 45.40625 0 \nL 45.40625 8.203125 \nQ 42.578125 3.328125 38.25 0.953125 \nQ 33.9375 -1.421875 27.875 -1.421875 \nQ 17.96875 -1.421875 11.734375 6.484375 \nQ 5.515625 14.40625 5.515625 27.296875 \nQ 5.515625 40.1875 11.734375 48.09375 \nQ 17.96875 56 27.875 56 \nQ 33.9375 56 38.25 53.625 \nQ 42.578125 51.265625 45.40625 46.390625 \nz\nM 14.796875 27.296875 \nQ 14.796875 17.390625 18.875 11.75 \nQ 22.953125 6.109375 30.078125 6.109375 \nQ 37.203125 6.109375 41.296875 11.75 \nQ 45.40625 17.390625 45.40625 27.296875 \nQ 45.40625 37.203125 41.296875 42.84375 \nQ 37.203125 48.484375 30.078125 48.484375 \nQ 22.953125 48.484375 18.875 42.84375 \nQ 14.796875 37.203125 14.796875 27.296875 \nz\n\" id=\"DejaVuSans-100\"/>\n      <path d=\"M 56.203125 29.59375 \nL 56.203125 25.203125 \nL 14.890625 25.203125 \nQ 15.484375 15.921875 20.484375 11.0625 \nQ 25.484375 6.203125 34.421875 6.203125 \nQ 39.59375 6.203125 44.453125 7.46875 \nQ 49.3125 8.734375 54.109375 11.28125 \nL 54.109375 2.78125 \nQ 49.265625 0.734375 44.1875 -0.34375 \nQ 39.109375 -1.421875 33.890625 -1.421875 \nQ 20.796875 -1.421875 13.15625 6.1875 \nQ 5.515625 13.8125 5.515625 26.8125 \nQ 5.515625 40.234375 12.765625 48.109375 \nQ 20.015625 56 32.328125 56 \nQ 43.359375 56 49.78125 48.890625 \nQ 56.203125 41.796875 56.203125 29.59375 \nz\nM 47.21875 32.234375 \nQ 47.125 39.59375 43.09375 43.984375 \nQ 39.0625 48.390625 32.421875 48.390625 \nQ 24.90625 48.390625 20.390625 44.140625 \nQ 15.875 39.890625 15.1875 32.171875 \nz\n\" id=\"DejaVuSans-101\"/>\n     </defs>\n     <g style=\"fill:#262626;\" transform=\"translate(178.01875 338.236594)scale(0.12 -0.12)\">\n      <use xlink:href=\"#DejaVuSans-35\"/>\n      <use x=\"83.789062\" xlink:href=\"#DejaVuSans-79\"/>\n      <use x=\"162.5\" xlink:href=\"#DejaVuSans-114\"/>\n      <use x=\"201.863281\" xlink:href=\"#DejaVuSans-100\"/>\n      <use x=\"265.339844\" xlink:href=\"#DejaVuSans-101\"/>\n      <use x=\"326.863281\" xlink:href=\"#DejaVuSans-114\"/>\n     </g>\n    </g>\n   </g>\n   <g id=\"matplotlib.axis_2\">\n    <g id=\"ytick_1\">\n     <g id=\"line2d_8\">\n      <defs>\n       <path d=\"M 0 0 \nL -6 0 \n\" id=\"m6bf0c514b5\" style=\"stroke:#262626;stroke-width:1.25;\"/>\n      </defs>\n      <g>\n       <use style=\"fill:#262626;stroke:#262626;stroke-width:1.25;\" x=\"60.30875\" xlink:href=\"#m6bf0c514b5\" y=\"304.972531\"/>\n      </g>\n     </g>\n     <g id=\"text_9\">\n      <!-- 0 -->\n      <g style=\"fill:#262626;\" transform=\"translate(43.81 309.151672)scale(0.11 -0.11)\">\n       <use xlink:href=\"#DejaVuSans-48\"/>\n      </g>\n     </g>\n    </g>\n    <g id=\"ytick_2\">\n     <g id=\"line2d_9\">\n      <g>\n       <use style=\"fill:#262626;stroke:#262626;stroke-width:1.25;\" x=\"60.30875\" xlink:href=\"#m6bf0c514b5\" y=\"263.030618\"/>\n      </g>\n     </g>\n     <g id=\"text_10\">\n      <!-- 1000 -->\n      <g style=\"fill:#262626;\" transform=\"translate(22.81375 267.209759)scale(0.11 -0.11)\">\n       <use xlink:href=\"#DejaVuSans-49\"/>\n       <use x=\"63.623047\" xlink:href=\"#DejaVuSans-48\"/>\n       <use x=\"127.246094\" xlink:href=\"#DejaVuSans-48\"/>\n       <use x=\"190.869141\" xlink:href=\"#DejaVuSans-48\"/>\n      </g>\n     </g>\n    </g>\n    <g id=\"ytick_3\">\n     <g id=\"line2d_10\">\n      <g>\n       <use style=\"fill:#262626;stroke:#262626;stroke-width:1.25;\" x=\"60.30875\" xlink:href=\"#m6bf0c514b5\" y=\"221.088705\"/>\n      </g>\n     </g>\n     <g id=\"text_11\">\n      <!-- 2000 -->\n      <g style=\"fill:#262626;\" transform=\"translate(22.81375 225.267846)scale(0.11 -0.11)\">\n       <use xlink:href=\"#DejaVuSans-50\"/>\n       <use x=\"63.623047\" xlink:href=\"#DejaVuSans-48\"/>\n       <use x=\"127.246094\" xlink:href=\"#DejaVuSans-48\"/>\n       <use x=\"190.869141\" xlink:href=\"#DejaVuSans-48\"/>\n      </g>\n     </g>\n    </g>\n    <g id=\"ytick_4\">\n     <g id=\"line2d_11\">\n      <g>\n       <use style=\"fill:#262626;stroke:#262626;stroke-width:1.25;\" x=\"60.30875\" xlink:href=\"#m6bf0c514b5\" y=\"179.146792\"/>\n      </g>\n     </g>\n     <g id=\"text_12\">\n      <!-- 3000 -->\n      <defs>\n       <path d=\"M 40.578125 39.3125 \nQ 47.65625 37.796875 51.625 33 \nQ 55.609375 28.21875 55.609375 21.1875 \nQ 55.609375 10.40625 48.1875 4.484375 \nQ 40.765625 -1.421875 27.09375 -1.421875 \nQ 22.515625 -1.421875 17.65625 -0.515625 \nQ 12.796875 0.390625 7.625 2.203125 \nL 7.625 11.71875 \nQ 11.71875 9.328125 16.59375 8.109375 \nQ 21.484375 6.890625 26.8125 6.890625 \nQ 36.078125 6.890625 40.9375 10.546875 \nQ 45.796875 14.203125 45.796875 21.1875 \nQ 45.796875 27.640625 41.28125 31.265625 \nQ 36.765625 34.90625 28.71875 34.90625 \nL 20.21875 34.90625 \nL 20.21875 43.015625 \nL 29.109375 43.015625 \nQ 36.375 43.015625 40.234375 45.921875 \nQ 44.09375 48.828125 44.09375 54.296875 \nQ 44.09375 59.90625 40.109375 62.90625 \nQ 36.140625 65.921875 28.71875 65.921875 \nQ 24.65625 65.921875 20.015625 65.03125 \nQ 15.375 64.15625 9.8125 62.3125 \nL 9.8125 71.09375 \nQ 15.4375 72.65625 20.34375 73.4375 \nQ 25.25 74.21875 29.59375 74.21875 \nQ 40.828125 74.21875 47.359375 69.109375 \nQ 53.90625 64.015625 53.90625 55.328125 \nQ 53.90625 49.265625 50.4375 45.09375 \nQ 46.96875 40.921875 40.578125 39.3125 \nz\n\" id=\"DejaVuSans-51\"/>\n      </defs>\n      <g style=\"fill:#262626;\" transform=\"translate(22.81375 183.325933)scale(0.11 -0.11)\">\n       <use xlink:href=\"#DejaVuSans-51\"/>\n       <use x=\"63.623047\" xlink:href=\"#DejaVuSans-48\"/>\n       <use x=\"127.246094\" xlink:href=\"#DejaVuSans-48\"/>\n       <use x=\"190.869141\" xlink:href=\"#DejaVuSans-48\"/>\n      </g>\n     </g>\n    </g>\n    <g id=\"ytick_5\">\n     <g id=\"line2d_12\">\n      <g>\n       <use style=\"fill:#262626;stroke:#262626;stroke-width:1.25;\" x=\"60.30875\" xlink:href=\"#m6bf0c514b5\" y=\"137.204879\"/>\n      </g>\n     </g>\n     <g id=\"text_13\">\n      <!-- 4000 -->\n      <defs>\n       <path d=\"M 37.796875 64.3125 \nL 12.890625 25.390625 \nL 37.796875 25.390625 \nz\nM 35.203125 72.90625 \nL 47.609375 72.90625 \nL 47.609375 25.390625 \nL 58.015625 25.390625 \nL 58.015625 17.1875 \nL 47.609375 17.1875 \nL 47.609375 0 \nL 37.796875 0 \nL 37.796875 17.1875 \nL 4.890625 17.1875 \nL 4.890625 26.703125 \nz\n\" id=\"DejaVuSans-52\"/>\n      </defs>\n      <g style=\"fill:#262626;\" transform=\"translate(22.81375 141.38402)scale(0.11 -0.11)\">\n       <use xlink:href=\"#DejaVuSans-52\"/>\n       <use x=\"63.623047\" xlink:href=\"#DejaVuSans-48\"/>\n       <use x=\"127.246094\" xlink:href=\"#DejaVuSans-48\"/>\n       <use x=\"190.869141\" xlink:href=\"#DejaVuSans-48\"/>\n      </g>\n     </g>\n    </g>\n    <g id=\"ytick_6\">\n     <g id=\"line2d_13\">\n      <g>\n       <use style=\"fill:#262626;stroke:#262626;stroke-width:1.25;\" x=\"60.30875\" xlink:href=\"#m6bf0c514b5\" y=\"95.262967\"/>\n      </g>\n     </g>\n     <g id=\"text_14\">\n      <!-- 5000 -->\n      <g style=\"fill:#262626;\" transform=\"translate(22.81375 99.442107)scale(0.11 -0.11)\">\n       <use xlink:href=\"#DejaVuSans-53\"/>\n       <use x=\"63.623047\" xlink:href=\"#DejaVuSans-48\"/>\n       <use x=\"127.246094\" xlink:href=\"#DejaVuSans-48\"/>\n       <use x=\"190.869141\" xlink:href=\"#DejaVuSans-48\"/>\n      </g>\n     </g>\n    </g>\n    <g id=\"ytick_7\">\n     <g id=\"line2d_14\">\n      <g>\n       <use style=\"fill:#262626;stroke:#262626;stroke-width:1.25;\" x=\"60.30875\" xlink:href=\"#m6bf0c514b5\" y=\"53.321054\"/>\n      </g>\n     </g>\n     <g id=\"text_15\">\n      <!-- 6000 -->\n      <defs>\n       <path d=\"M 33.015625 40.375 \nQ 26.375 40.375 22.484375 35.828125 \nQ 18.609375 31.296875 18.609375 23.390625 \nQ 18.609375 15.53125 22.484375 10.953125 \nQ 26.375 6.390625 33.015625 6.390625 \nQ 39.65625 6.390625 43.53125 10.953125 \nQ 47.40625 15.53125 47.40625 23.390625 \nQ 47.40625 31.296875 43.53125 35.828125 \nQ 39.65625 40.375 33.015625 40.375 \nz\nM 52.59375 71.296875 \nL 52.59375 62.3125 \nQ 48.875 64.0625 45.09375 64.984375 \nQ 41.3125 65.921875 37.59375 65.921875 \nQ 27.828125 65.921875 22.671875 59.328125 \nQ 17.53125 52.734375 16.796875 39.40625 \nQ 19.671875 43.65625 24.015625 45.921875 \nQ 28.375 48.1875 33.59375 48.1875 \nQ 44.578125 48.1875 50.953125 41.515625 \nQ 57.328125 34.859375 57.328125 23.390625 \nQ 57.328125 12.15625 50.6875 5.359375 \nQ 44.046875 -1.421875 33.015625 -1.421875 \nQ 20.359375 -1.421875 13.671875 8.265625 \nQ 6.984375 17.96875 6.984375 36.375 \nQ 6.984375 53.65625 15.1875 63.9375 \nQ 23.390625 74.21875 37.203125 74.21875 \nQ 40.921875 74.21875 44.703125 73.484375 \nQ 48.484375 72.75 52.59375 71.296875 \nz\n\" id=\"DejaVuSans-54\"/>\n      </defs>\n      <g style=\"fill:#262626;\" transform=\"translate(22.81375 57.500194)scale(0.11 -0.11)\">\n       <use xlink:href=\"#DejaVuSans-54\"/>\n       <use x=\"63.623047\" xlink:href=\"#DejaVuSans-48\"/>\n       <use x=\"127.246094\" xlink:href=\"#DejaVuSans-48\"/>\n       <use x=\"190.869141\" xlink:href=\"#DejaVuSans-48\"/>\n      </g>\n     </g>\n    </g>\n    <g id=\"ytick_8\">\n     <g id=\"line2d_15\">\n      <g>\n       <use style=\"fill:#262626;stroke:#262626;stroke-width:1.25;\" x=\"60.30875\" xlink:href=\"#m6bf0c514b5\" y=\"11.379141\"/>\n      </g>\n     </g>\n     <g id=\"text_16\">\n      <!-- 7000 -->\n      <g style=\"fill:#262626;\" transform=\"translate(22.81375 15.558281)scale(0.11 -0.11)\">\n       <use xlink:href=\"#DejaVuSans-55\"/>\n       <use x=\"63.623047\" xlink:href=\"#DejaVuSans-48\"/>\n       <use x=\"127.246094\" xlink:href=\"#DejaVuSans-48\"/>\n       <use x=\"190.869141\" xlink:href=\"#DejaVuSans-48\"/>\n      </g>\n     </g>\n    </g>\n    <g id=\"text_17\">\n     <!-- Count -->\n     <defs>\n      <path d=\"M 64.40625 67.28125 \nL 64.40625 56.890625 \nQ 59.421875 61.53125 53.78125 63.8125 \nQ 48.140625 66.109375 41.796875 66.109375 \nQ 29.296875 66.109375 22.65625 58.46875 \nQ 16.015625 50.828125 16.015625 36.375 \nQ 16.015625 21.96875 22.65625 14.328125 \nQ 29.296875 6.6875 41.796875 6.6875 \nQ 48.140625 6.6875 53.78125 8.984375 \nQ 59.421875 11.28125 64.40625 15.921875 \nL 64.40625 5.609375 \nQ 59.234375 2.09375 53.4375 0.328125 \nQ 47.65625 -1.421875 41.21875 -1.421875 \nQ 24.65625 -1.421875 15.125 8.703125 \nQ 5.609375 18.84375 5.609375 36.375 \nQ 5.609375 53.953125 15.125 64.078125 \nQ 24.65625 74.21875 41.21875 74.21875 \nQ 47.75 74.21875 53.53125 72.484375 \nQ 59.328125 70.75 64.40625 67.28125 \nz\n\" id=\"DejaVuSans-67\"/>\n      <path d=\"M 30.609375 48.390625 \nQ 23.390625 48.390625 19.1875 42.75 \nQ 14.984375 37.109375 14.984375 27.296875 \nQ 14.984375 17.484375 19.15625 11.84375 \nQ 23.34375 6.203125 30.609375 6.203125 \nQ 37.796875 6.203125 41.984375 11.859375 \nQ 46.1875 17.53125 46.1875 27.296875 \nQ 46.1875 37.015625 41.984375 42.703125 \nQ 37.796875 48.390625 30.609375 48.390625 \nz\nM 30.609375 56 \nQ 42.328125 56 49.015625 48.375 \nQ 55.71875 40.765625 55.71875 27.296875 \nQ 55.71875 13.875 49.015625 6.21875 \nQ 42.328125 -1.421875 30.609375 -1.421875 \nQ 18.84375 -1.421875 12.171875 6.21875 \nQ 5.515625 13.875 5.515625 27.296875 \nQ 5.515625 40.765625 12.171875 48.375 \nQ 18.84375 56 30.609375 56 \nz\n\" id=\"DejaVuSans-111\"/>\n      <path d=\"M 8.5 21.578125 \nL 8.5 54.6875 \nL 17.484375 54.6875 \nL 17.484375 21.921875 \nQ 17.484375 14.15625 20.5 10.265625 \nQ 23.53125 6.390625 29.59375 6.390625 \nQ 36.859375 6.390625 41.078125 11.03125 \nQ 45.3125 15.671875 45.3125 23.6875 \nL 45.3125 54.6875 \nL 54.296875 54.6875 \nL 54.296875 0 \nL 45.3125 0 \nL 45.3125 8.40625 \nQ 42.046875 3.421875 37.71875 1 \nQ 33.40625 -1.421875 27.6875 -1.421875 \nQ 18.265625 -1.421875 13.375 4.4375 \nQ 8.5 10.296875 8.5 21.578125 \nz\nM 31.109375 56 \nz\n\" id=\"DejaVuSans-117\"/>\n      <path d=\"M 54.890625 33.015625 \nL 54.890625 0 \nL 45.90625 0 \nL 45.90625 32.71875 \nQ 45.90625 40.484375 42.875 44.328125 \nQ 39.84375 48.1875 33.796875 48.1875 \nQ 26.515625 48.1875 22.3125 43.546875 \nQ 18.109375 38.921875 18.109375 30.90625 \nL 18.109375 0 \nL 9.078125 0 \nL 9.078125 54.6875 \nL 18.109375 54.6875 \nL 18.109375 46.1875 \nQ 21.34375 51.125 25.703125 53.5625 \nQ 30.078125 56 35.796875 56 \nQ 45.21875 56 50.046875 50.171875 \nQ 54.890625 44.34375 54.890625 33.015625 \nz\n\" id=\"DejaVuSans-110\"/>\n      <path d=\"M 18.3125 70.21875 \nL 18.3125 54.6875 \nL 36.8125 54.6875 \nL 36.8125 47.703125 \nL 18.3125 47.703125 \nL 18.3125 18.015625 \nQ 18.3125 11.328125 20.140625 9.421875 \nQ 21.96875 7.515625 27.59375 7.515625 \nL 36.8125 7.515625 \nL 36.8125 0 \nL 27.59375 0 \nQ 17.1875 0 13.234375 3.875 \nQ 9.28125 7.765625 9.28125 18.015625 \nL 9.28125 47.703125 \nL 2.6875 47.703125 \nL 2.6875 54.6875 \nL 9.28125 54.6875 \nL 9.28125 70.21875 \nz\n\" id=\"DejaVuSans-116\"/>\n     </defs>\n     <g style=\"fill:#262626;\" transform=\"translate(16.318125 175.876524)rotate(-90)scale(0.12 -0.12)\">\n      <use xlink:href=\"#DejaVuSans-67\"/>\n      <use x=\"69.824219\" xlink:href=\"#DejaVuSans-111\"/>\n      <use x=\"131.005859\" xlink:href=\"#DejaVuSans-117\"/>\n      <use x=\"194.384766\" xlink:href=\"#DejaVuSans-110\"/>\n      <use x=\"257.763672\" xlink:href=\"#DejaVuSans-116\"/>\n     </g>\n    </g>\n   </g>\n   <g id=\"patch_3\">\n    <path clip-path=\"url(#pe930f0c894)\" d=\"M 73.016932 304.972531 \nL 74.872141 304.972531 \nL 74.872141 304.846706 \nL 73.016932 304.846706 \nz\n\" style=\"fill:#4c72b0;fill-opacity:0.5;stroke:#ffffff;stroke-linejoin:miter;stroke-width:0.198087;\"/>\n   </g>\n   <g id=\"patch_4\">\n    <path clip-path=\"url(#pe930f0c894)\" d=\"M 74.872141 304.972531 \nL 76.72735 304.972531 \nL 76.72735 303.714274 \nL 74.872141 303.714274 \nz\n\" style=\"fill:#4c72b0;fill-opacity:0.5;stroke:#ffffff;stroke-linejoin:miter;stroke-width:0.198087;\"/>\n   </g>\n   <g id=\"patch_5\">\n    <path clip-path=\"url(#pe930f0c894)\" d=\"M 76.72735 304.972531 \nL 78.582559 304.972531 \nL 78.582559 300.862224 \nL 76.72735 300.862224 \nz\n\" style=\"fill:#4c72b0;fill-opacity:0.5;stroke:#ffffff;stroke-linejoin:miter;stroke-width:0.198087;\"/>\n   </g>\n   <g id=\"patch_6\">\n    <path clip-path=\"url(#pe930f0c894)\" d=\"M 78.582559 304.972531 \nL 80.437768 304.972531 \nL 80.437768 297.213277 \nL 78.582559 297.213277 \nz\n\" style=\"fill:#4c72b0;fill-opacity:0.5;stroke:#ffffff;stroke-linejoin:miter;stroke-width:0.198087;\"/>\n   </g>\n   <g id=\"patch_7\">\n    <path clip-path=\"url(#pe930f0c894)\" d=\"M 80.437768 304.972531 \nL 82.292977 304.972531 \nL 82.292977 293.899866 \nL 80.437768 293.899866 \nz\n\" style=\"fill:#4c72b0;fill-opacity:0.5;stroke:#ffffff;stroke-linejoin:miter;stroke-width:0.198087;\"/>\n   </g>\n   <g id=\"patch_8\">\n    <path clip-path=\"url(#pe930f0c894)\" d=\"M 82.292977 304.972531 \nL 84.148186 304.972531 \nL 84.148186 292.22219 \nL 82.292977 292.22219 \nz\n\" style=\"fill:#4c72b0;fill-opacity:0.5;stroke:#ffffff;stroke-linejoin:miter;stroke-width:0.198087;\"/>\n   </g>\n   <g id=\"patch_9\">\n    <path clip-path=\"url(#pe930f0c894)\" d=\"M 84.148186 304.972531 \nL 86.003395 304.972531 \nL 86.003395 280.939815 \nL 84.148186 280.939815 \nz\n\" style=\"fill:#4c72b0;fill-opacity:0.5;stroke:#ffffff;stroke-linejoin:miter;stroke-width:0.198087;\"/>\n   </g>\n   <g id=\"patch_10\">\n    <path clip-path=\"url(#pe930f0c894)\" d=\"M 86.003395 304.972531 \nL 87.858604 304.972531 \nL 87.858604 295.829194 \nL 86.003395 295.829194 \nz\n\" style=\"fill:#4c72b0;fill-opacity:0.5;stroke:#ffffff;stroke-linejoin:miter;stroke-width:0.198087;\"/>\n   </g>\n   <g id=\"patch_11\">\n    <path clip-path=\"url(#pe930f0c894)\" d=\"M 87.858604 304.972531 \nL 89.713813 304.972531 \nL 89.713813 298.219883 \nL 87.858604 298.219883 \nz\n\" style=\"fill:#4c72b0;fill-opacity:0.5;stroke:#ffffff;stroke-linejoin:miter;stroke-width:0.198087;\"/>\n   </g>\n   <g id=\"patch_12\">\n    <path clip-path=\"url(#pe930f0c894)\" d=\"M 89.713813 304.972531 \nL 91.569022 304.972531 \nL 91.569022 299.142605 \nL 89.713813 299.142605 \nz\n\" style=\"fill:#4c72b0;fill-opacity:0.5;stroke:#ffffff;stroke-linejoin:miter;stroke-width:0.198087;\"/>\n   </g>\n   <g id=\"patch_13\">\n    <path clip-path=\"url(#pe930f0c894)\" d=\"M 91.569022 304.972531 \nL 93.424231 304.972531 \nL 93.424231 299.729792 \nL 91.569022 299.729792 \nz\n\" style=\"fill:#4c72b0;fill-opacity:0.5;stroke:#ffffff;stroke-linejoin:miter;stroke-width:0.198087;\"/>\n   </g>\n   <g id=\"patch_14\">\n    <path clip-path=\"url(#pe930f0c894)\" d=\"M 93.424231 304.972531 \nL 95.27944 304.972531 \nL 95.27944 299.184547 \nL 93.424231 299.184547 \nz\n\" style=\"fill:#4c72b0;fill-opacity:0.5;stroke:#ffffff;stroke-linejoin:miter;stroke-width:0.198087;\"/>\n   </g>\n   <g id=\"patch_15\">\n    <path clip-path=\"url(#pe930f0c894)\" d=\"M 95.27944 304.972531 \nL 97.134649 304.972531 \nL 97.134649 299.436199 \nL 95.27944 299.436199 \nz\n\" style=\"fill:#4c72b0;fill-opacity:0.5;stroke:#ffffff;stroke-linejoin:miter;stroke-width:0.198087;\"/>\n   </g>\n   <g id=\"patch_16\">\n    <path clip-path=\"url(#pe930f0c894)\" d=\"M 97.134649 304.972531 \nL 98.989858 304.972531 \nL 98.989858 296.290555 \nL 97.134649 296.290555 \nz\n\" style=\"fill:#4c72b0;fill-opacity:0.5;stroke:#ffffff;stroke-linejoin:miter;stroke-width:0.198087;\"/>\n   </g>\n   <g id=\"patch_17\">\n    <path clip-path=\"url(#pe930f0c894)\" d=\"M 98.989858 304.972531 \nL 100.845067 304.972531 \nL 100.845067 299.562025 \nL 98.989858 299.562025 \nz\n\" style=\"fill:#4c72b0;fill-opacity:0.5;stroke:#ffffff;stroke-linejoin:miter;stroke-width:0.198087;\"/>\n   </g>\n   <g id=\"patch_18\">\n    <path clip-path=\"url(#pe930f0c894)\" d=\"M 100.845067 304.972531 \nL 102.700276 304.972531 \nL 102.700276 298.094058 \nL 100.845067 298.094058 \nz\n\" style=\"fill:#4c72b0;fill-opacity:0.5;stroke:#ffffff;stroke-linejoin:miter;stroke-width:0.198087;\"/>\n   </g>\n   <g id=\"patch_19\">\n    <path clip-path=\"url(#pe930f0c894)\" d=\"M 102.700276 304.972531 \nL 104.555485 304.972531 \nL 104.555485 295.409775 \nL 102.700276 295.409775 \nz\n\" style=\"fill:#4c72b0;fill-opacity:0.5;stroke:#ffffff;stroke-linejoin:miter;stroke-width:0.198087;\"/>\n   </g>\n   <g id=\"patch_20\">\n    <path clip-path=\"url(#pe930f0c894)\" d=\"M 104.555485 304.972531 \nL 106.410694 304.972531 \nL 106.410694 294.067634 \nL 104.555485 294.067634 \nz\n\" style=\"fill:#4c72b0;fill-opacity:0.5;stroke:#ffffff;stroke-linejoin:miter;stroke-width:0.198087;\"/>\n   </g>\n   <g id=\"patch_21\">\n    <path clip-path=\"url(#pe930f0c894)\" d=\"M 106.410694 304.972531 \nL 108.265903 304.972531 \nL 108.265903 290.04121 \nL 106.410694 290.04121 \nz\n\" style=\"fill:#4c72b0;fill-opacity:0.5;stroke:#ffffff;stroke-linejoin:miter;stroke-width:0.198087;\"/>\n   </g>\n   <g id=\"patch_22\">\n    <path clip-path=\"url(#pe930f0c894)\" d=\"M 108.265903 304.972531 \nL 110.121112 304.972531 \nL 110.121112 267.057042 \nL 108.265903 267.057042 \nz\n\" style=\"fill:#4c72b0;fill-opacity:0.5;stroke:#ffffff;stroke-linejoin:miter;stroke-width:0.198087;\"/>\n   </g>\n   <g id=\"patch_23\">\n    <path clip-path=\"url(#pe930f0c894)\" d=\"M 110.121112 304.972531 \nL 111.976321 304.972531 \nL 111.976321 284.672645 \nL 110.121112 284.672645 \nz\n\" style=\"fill:#4c72b0;fill-opacity:0.5;stroke:#ffffff;stroke-linejoin:miter;stroke-width:0.198087;\"/>\n   </g>\n   <g id=\"patch_24\">\n    <path clip-path=\"url(#pe930f0c894)\" d=\"M 111.976321 304.972531 \nL 113.83153 304.972531 \nL 113.83153 278.968545 \nL 111.976321 278.968545 \nz\n\" style=\"fill:#4c72b0;fill-opacity:0.5;stroke:#ffffff;stroke-linejoin:miter;stroke-width:0.198087;\"/>\n   </g>\n   <g id=\"patch_25\">\n    <path clip-path=\"url(#pe930f0c894)\" d=\"M 113.83153 304.972531 \nL 115.686739 304.972531 \nL 115.686739 275.319599 \nL 113.83153 275.319599 \nz\n\" style=\"fill:#4c72b0;fill-opacity:0.5;stroke:#ffffff;stroke-linejoin:miter;stroke-width:0.198087;\"/>\n   </g>\n   <g id=\"patch_26\">\n    <path clip-path=\"url(#pe930f0c894)\" d=\"M 115.686739 304.972531 \nL 117.541948 304.972531 \nL 117.541948 268.608893 \nL 115.686739 268.608893 \nz\n\" style=\"fill:#4c72b0;fill-opacity:0.5;stroke:#ffffff;stroke-linejoin:miter;stroke-width:0.198087;\"/>\n   </g>\n   <g id=\"patch_27\">\n    <path clip-path=\"url(#pe930f0c894)\" d=\"M 117.541948 304.972531 \nL 119.397157 304.972531 \nL 119.397157 265.085772 \nL 117.541948 265.085772 \nz\n\" style=\"fill:#4c72b0;fill-opacity:0.5;stroke:#ffffff;stroke-linejoin:miter;stroke-width:0.198087;\"/>\n   </g>\n   <g id=\"patch_28\">\n    <path clip-path=\"url(#pe930f0c894)\" d=\"M 119.397157 304.972531 \nL 121.252366 304.972531 \nL 121.252366 262.107896 \nL 119.397157 262.107896 \nz\n\" style=\"fill:#4c72b0;fill-opacity:0.5;stroke:#ffffff;stroke-linejoin:miter;stroke-width:0.198087;\"/>\n   </g>\n   <g id=\"patch_29\">\n    <path clip-path=\"url(#pe930f0c894)\" d=\"M 121.252366 304.972531 \nL 123.107575 304.972531 \nL 123.107575 207.331758 \nL 121.252366 207.331758 \nz\n\" style=\"fill:#4c72b0;fill-opacity:0.5;stroke:#ffffff;stroke-linejoin:miter;stroke-width:0.198087;\"/>\n   </g>\n   <g id=\"patch_30\">\n    <path clip-path=\"url(#pe930f0c894)\" d=\"M 123.107575 304.972531 \nL 124.962785 304.972531 \nL 124.962785 248.644542 \nL 123.107575 248.644542 \nz\n\" style=\"fill:#4c72b0;fill-opacity:0.5;stroke:#ffffff;stroke-linejoin:miter;stroke-width:0.198087;\"/>\n   </g>\n   <g id=\"patch_31\">\n    <path clip-path=\"url(#pe930f0c894)\" d=\"M 124.962785 304.972531 \nL 126.817994 304.972531 \nL 126.817994 241.975778 \nL 124.962785 241.975778 \nz\n\" style=\"fill:#4c72b0;fill-opacity:0.5;stroke:#ffffff;stroke-linejoin:miter;stroke-width:0.198087;\"/>\n   </g>\n   <g id=\"patch_32\">\n    <path clip-path=\"url(#pe930f0c894)\" d=\"M 126.817994 304.972531 \nL 128.673203 304.972531 \nL 128.673203 238.368774 \nL 126.817994 238.368774 \nz\n\" style=\"fill:#4c72b0;fill-opacity:0.5;stroke:#ffffff;stroke-linejoin:miter;stroke-width:0.198087;\"/>\n   </g>\n   <g id=\"patch_33\">\n    <path clip-path=\"url(#pe930f0c894)\" d=\"M 128.673203 304.972531 \nL 130.528412 304.972531 \nL 130.528412 231.867777 \nL 128.673203 231.867777 \nz\n\" style=\"fill:#4c72b0;fill-opacity:0.5;stroke:#ffffff;stroke-linejoin:miter;stroke-width:0.198087;\"/>\n   </g>\n   <g id=\"patch_34\">\n    <path clip-path=\"url(#pe930f0c894)\" d=\"M 130.528412 304.972531 \nL 132.383621 304.972531 \nL 132.383621 224.318233 \nL 130.528412 224.318233 \nz\n\" style=\"fill:#4c72b0;fill-opacity:0.5;stroke:#ffffff;stroke-linejoin:miter;stroke-width:0.198087;\"/>\n   </g>\n   <g id=\"patch_35\">\n    <path clip-path=\"url(#pe930f0c894)\" d=\"M 132.383621 304.972531 \nL 134.23883 304.972531 \nL 134.23883 133.807585 \nL 132.383621 133.807585 \nz\n\" style=\"fill:#4c72b0;fill-opacity:0.5;stroke:#ffffff;stroke-linejoin:miter;stroke-width:0.198087;\"/>\n   </g>\n   <g id=\"patch_36\">\n    <path clip-path=\"url(#pe930f0c894)\" d=\"M 134.23883 304.972531 \nL 136.094039 304.972531 \nL 136.094039 213.455277 \nL 134.23883 213.455277 \nz\n\" style=\"fill:#4c72b0;fill-opacity:0.5;stroke:#ffffff;stroke-linejoin:miter;stroke-width:0.198087;\"/>\n   </g>\n   <g id=\"patch_37\">\n    <path clip-path=\"url(#pe930f0c894)\" d=\"M 136.094039 304.972531 \nL 137.949248 304.972531 \nL 137.949248 198.146479 \nL 136.094039 198.146479 \nz\n\" style=\"fill:#4c72b0;fill-opacity:0.5;stroke:#ffffff;stroke-linejoin:miter;stroke-width:0.198087;\"/>\n   </g>\n   <g id=\"patch_38\">\n    <path clip-path=\"url(#pe930f0c894)\" d=\"M 137.949248 304.972531 \nL 139.804457 304.972531 \nL 139.804457 198.440072 \nL 137.949248 198.440072 \nz\n\" style=\"fill:#4c72b0;fill-opacity:0.5;stroke:#ffffff;stroke-linejoin:miter;stroke-width:0.198087;\"/>\n   </g>\n   <g id=\"patch_39\">\n    <path clip-path=\"url(#pe930f0c894)\" d=\"M 139.804457 304.972531 \nL 141.659666 304.972531 \nL 141.659666 190.72276 \nL 139.804457 190.72276 \nz\n\" style=\"fill:#4c72b0;fill-opacity:0.5;stroke:#ffffff;stroke-linejoin:miter;stroke-width:0.198087;\"/>\n   </g>\n   <g id=\"patch_40\">\n    <path clip-path=\"url(#pe930f0c894)\" d=\"M 141.659666 304.972531 \nL 143.514875 304.972531 \nL 143.514875 187.786827 \nL 141.659666 187.786827 \nz\n\" style=\"fill:#4c72b0;fill-opacity:0.5;stroke:#ffffff;stroke-linejoin:miter;stroke-width:0.198087;\"/>\n   </g>\n   <g id=\"patch_41\">\n    <path clip-path=\"url(#pe930f0c894)\" d=\"M 143.514875 304.972531 \nL 145.370084 304.972531 \nL 145.370084 186.444685 \nL 143.514875 186.444685 \nz\n\" style=\"fill:#4c72b0;fill-opacity:0.5;stroke:#ffffff;stroke-linejoin:miter;stroke-width:0.198087;\"/>\n   </g>\n   <g id=\"patch_42\">\n    <path clip-path=\"url(#pe930f0c894)\" d=\"M 145.370084 304.972531 \nL 147.225293 304.972531 \nL 147.225293 57.473303 \nL 145.370084 57.473303 \nz\n\" style=\"fill:#4c72b0;fill-opacity:0.5;stroke:#ffffff;stroke-linejoin:miter;stroke-width:0.198087;\"/>\n   </g>\n   <g id=\"patch_43\">\n    <path clip-path=\"url(#pe930f0c894)\" d=\"M 147.225293 304.972531 \nL 149.080502 304.972531 \nL 149.080502 175.497846 \nL 147.225293 175.497846 \nz\n\" style=\"fill:#4c72b0;fill-opacity:0.5;stroke:#ffffff;stroke-linejoin:miter;stroke-width:0.198087;\"/>\n   </g>\n   <g id=\"patch_44\">\n    <path clip-path=\"url(#pe930f0c894)\" d=\"M 149.080502 304.972531 \nL 150.935711 304.972531 \nL 150.935711 174.826775 \nL 149.080502 174.826775 \nz\n\" style=\"fill:#4c72b0;fill-opacity:0.5;stroke:#ffffff;stroke-linejoin:miter;stroke-width:0.198087;\"/>\n   </g>\n   <g id=\"patch_45\">\n    <path clip-path=\"url(#pe930f0c894)\" d=\"M 150.935711 304.972531 \nL 152.79092 304.972531 \nL 152.79092 169.206559 \nL 150.935711 169.206559 \nz\n\" style=\"fill:#4c72b0;fill-opacity:0.5;stroke:#ffffff;stroke-linejoin:miter;stroke-width:0.198087;\"/>\n   </g>\n   <g id=\"patch_46\">\n    <path clip-path=\"url(#pe930f0c894)\" d=\"M 152.79092 304.972531 \nL 154.646129 304.972531 \nL 154.646129 165.138194 \nL 152.79092 165.138194 \nz\n\" style=\"fill:#4c72b0;fill-opacity:0.5;stroke:#ffffff;stroke-linejoin:miter;stroke-width:0.198087;\"/>\n   </g>\n   <g id=\"patch_47\">\n    <path clip-path=\"url(#pe930f0c894)\" d=\"M 154.646129 304.972531 \nL 156.501338 304.972531 \nL 156.501338 166.941696 \nL 154.646129 166.941696 \nz\n\" style=\"fill:#4c72b0;fill-opacity:0.5;stroke:#ffffff;stroke-linejoin:miter;stroke-width:0.198087;\"/>\n   </g>\n   <g id=\"patch_48\">\n    <path clip-path=\"url(#pe930f0c894)\" d=\"M 156.501338 304.972531 \nL 158.356547 304.972531 \nL 158.356547 25.136088 \nL 156.501338 25.136088 \nz\n\" style=\"fill:#4c72b0;fill-opacity:0.5;stroke:#ffffff;stroke-linejoin:miter;stroke-width:0.198087;\"/>\n   </g>\n   <g id=\"patch_49\">\n    <path clip-path=\"url(#pe930f0c894)\" d=\"M 158.356547 304.972531 \nL 160.211756 304.972531 \nL 160.211756 168.912966 \nL 158.356547 168.912966 \nz\n\" style=\"fill:#4c72b0;fill-opacity:0.5;stroke:#ffffff;stroke-linejoin:miter;stroke-width:0.198087;\"/>\n   </g>\n   <g id=\"patch_50\">\n    <path clip-path=\"url(#pe930f0c894)\" d=\"M 160.211756 304.972531 \nL 162.066965 304.972531 \nL 162.066965 163.75411 \nL 160.211756 163.75411 \nz\n\" style=\"fill:#4c72b0;fill-opacity:0.5;stroke:#ffffff;stroke-linejoin:miter;stroke-width:0.198087;\"/>\n   </g>\n   <g id=\"patch_51\">\n    <path clip-path=\"url(#pe930f0c894)\" d=\"M 162.066965 304.972531 \nL 163.922174 304.972531 \nL 163.922174 167.738592 \nL 162.066965 167.738592 \nz\n\" style=\"fill:#4c72b0;fill-opacity:0.5;stroke:#ffffff;stroke-linejoin:miter;stroke-width:0.198087;\"/>\n   </g>\n   <g id=\"patch_52\">\n    <path clip-path=\"url(#pe930f0c894)\" d=\"M 163.922174 304.972531 \nL 165.777383 304.972531 \nL 165.777383 166.731986 \nL 163.922174 166.731986 \nz\n\" style=\"fill:#4c72b0;fill-opacity:0.5;stroke:#ffffff;stroke-linejoin:miter;stroke-width:0.198087;\"/>\n   </g>\n   <g id=\"patch_53\">\n    <path clip-path=\"url(#pe930f0c894)\" d=\"M 165.777383 304.972531 \nL 167.632592 304.972531 \nL 167.632592 161.615073 \nL 165.777383 161.615073 \nz\n\" style=\"fill:#4c72b0;fill-opacity:0.5;stroke:#ffffff;stroke-linejoin:miter;stroke-width:0.198087;\"/>\n   </g>\n   <g id=\"patch_54\">\n    <path clip-path=\"url(#pe930f0c894)\" d=\"M 167.632592 304.972531 \nL 169.487801 304.972531 \nL 169.487801 168.409663 \nL 167.632592 168.409663 \nz\n\" style=\"fill:#4c72b0;fill-opacity:0.5;stroke:#ffffff;stroke-linejoin:miter;stroke-width:0.198087;\"/>\n   </g>\n   <g id=\"patch_55\">\n    <path clip-path=\"url(#pe930f0c894)\" d=\"M 169.487801 304.972531 \nL 171.34301 304.972531 \nL 171.34301 44.890729 \nL 169.487801 44.890729 \nz\n\" style=\"fill:#4c72b0;fill-opacity:0.5;stroke:#ffffff;stroke-linejoin:miter;stroke-width:0.198087;\"/>\n   </g>\n   <g id=\"patch_56\">\n    <path clip-path=\"url(#pe930f0c894)\" d=\"M 171.34301 304.972531 \nL 173.198219 304.972531 \nL 173.198219 172.771622 \nL 171.34301 172.771622 \nz\n\" style=\"fill:#4c72b0;fill-opacity:0.5;stroke:#ffffff;stroke-linejoin:miter;stroke-width:0.198087;\"/>\n   </g>\n   <g id=\"patch_57\">\n    <path clip-path=\"url(#pe930f0c894)\" d=\"M 173.198219 304.972531 \nL 175.053428 304.972531 \nL 175.053428 177.301348 \nL 173.198219 177.301348 \nz\n\" style=\"fill:#4c72b0;fill-opacity:0.5;stroke:#ffffff;stroke-linejoin:miter;stroke-width:0.198087;\"/>\n   </g>\n   <g id=\"patch_58\">\n    <path clip-path=\"url(#pe930f0c894)\" d=\"M 175.053428 304.972531 \nL 176.908637 304.972531 \nL 176.908637 182.16661 \nL 175.053428 182.16661 \nz\n\" style=\"fill:#4c72b0;fill-opacity:0.5;stroke:#ffffff;stroke-linejoin:miter;stroke-width:0.198087;\"/>\n   </g>\n   <g id=\"patch_59\">\n    <path clip-path=\"url(#pe930f0c894)\" d=\"M 176.908637 304.972531 \nL 178.763846 304.972531 \nL 178.763846 180.19534 \nL 176.908637 180.19534 \nz\n\" style=\"fill:#4c72b0;fill-opacity:0.5;stroke:#ffffff;stroke-linejoin:miter;stroke-width:0.198087;\"/>\n   </g>\n   <g id=\"patch_60\">\n    <path clip-path=\"url(#pe930f0c894)\" d=\"M 178.763846 304.972531 \nL 180.619055 304.972531 \nL 180.619055 185.731673 \nL 178.763846 185.731673 \nz\n\" style=\"fill:#4c72b0;fill-opacity:0.5;stroke:#ffffff;stroke-linejoin:miter;stroke-width:0.198087;\"/>\n   </g>\n   <g id=\"patch_61\">\n    <path clip-path=\"url(#pe930f0c894)\" d=\"M 180.619055 304.972531 \nL 182.474264 304.972531 \nL 182.474264 73.327346 \nL 180.619055 73.327346 \nz\n\" style=\"fill:#4c72b0;fill-opacity:0.5;stroke:#ffffff;stroke-linejoin:miter;stroke-width:0.198087;\"/>\n   </g>\n   <g id=\"patch_62\">\n    <path clip-path=\"url(#pe930f0c894)\" d=\"M 182.474264 304.972531 \nL 184.329473 304.972531 \nL 184.329473 196.049383 \nL 182.474264 196.049383 \nz\n\" style=\"fill:#4c72b0;fill-opacity:0.5;stroke:#ffffff;stroke-linejoin:miter;stroke-width:0.198087;\"/>\n   </g>\n   <g id=\"patch_63\">\n    <path clip-path=\"url(#pe930f0c894)\" d=\"M 184.329473 304.972531 \nL 186.184682 304.972531 \nL 186.184682 197.72706 \nL 184.329473 197.72706 \nz\n\" style=\"fill:#4c72b0;fill-opacity:0.5;stroke:#ffffff;stroke-linejoin:miter;stroke-width:0.198087;\"/>\n   </g>\n   <g id=\"patch_64\">\n    <path clip-path=\"url(#pe930f0c894)\" d=\"M 186.184682 304.972531 \nL 188.039891 304.972531 \nL 188.039891 204.269998 \nL 186.184682 204.269998 \nz\n\" style=\"fill:#4c72b0;fill-opacity:0.5;stroke:#ffffff;stroke-linejoin:miter;stroke-width:0.198087;\"/>\n   </g>\n   <g id=\"patch_65\">\n    <path clip-path=\"url(#pe930f0c894)\" d=\"M 188.039891 304.972531 \nL 189.8951 304.972531 \nL 189.8951 202.130961 \nL 188.039891 202.130961 \nz\n\" style=\"fill:#4c72b0;fill-opacity:0.5;stroke:#ffffff;stroke-linejoin:miter;stroke-width:0.198087;\"/>\n   </g>\n   <g id=\"patch_66\">\n    <path clip-path=\"url(#pe930f0c894)\" d=\"M 189.8951 304.972531 \nL 191.750309 304.972531 \nL 191.750309 207.918945 \nL 189.8951 207.918945 \nz\n\" style=\"fill:#4c72b0;fill-opacity:0.5;stroke:#ffffff;stroke-linejoin:miter;stroke-width:0.198087;\"/>\n   </g>\n   <g id=\"patch_67\">\n    <path clip-path=\"url(#pe930f0c894)\" d=\"M 191.750309 304.972531 \nL 193.605518 304.972531 \nL 193.605518 216.81063 \nL 191.750309 216.81063 \nz\n\" style=\"fill:#4c72b0;fill-opacity:0.5;stroke:#ffffff;stroke-linejoin:miter;stroke-width:0.198087;\"/>\n   </g>\n   <g id=\"patch_68\">\n    <path clip-path=\"url(#pe930f0c894)\" d=\"M 193.605518 304.972531 \nL 195.460727 304.972531 \nL 195.460727 136.575751 \nL 193.605518 136.575751 \nz\n\" style=\"fill:#4c72b0;fill-opacity:0.5;stroke:#ffffff;stroke-linejoin:miter;stroke-width:0.198087;\"/>\n   </g>\n   <g id=\"patch_69\">\n    <path clip-path=\"url(#pe930f0c894)\" d=\"M 195.460727 304.972531 \nL 197.315936 304.972531 \nL 197.315936 221.088705 \nL 195.460727 221.088705 \nz\n\" style=\"fill:#4c72b0;fill-opacity:0.5;stroke:#ffffff;stroke-linejoin:miter;stroke-width:0.198087;\"/>\n   </g>\n   <g id=\"patch_70\">\n    <path clip-path=\"url(#pe930f0c894)\" d=\"M 197.315936 304.972531 \nL 199.171145 304.972531 \nL 199.171145 229.015727 \nL 197.315936 229.015727 \nz\n\" style=\"fill:#4c72b0;fill-opacity:0.5;stroke:#ffffff;stroke-linejoin:miter;stroke-width:0.198087;\"/>\n   </g>\n   <g id=\"patch_71\">\n    <path clip-path=\"url(#pe930f0c894)\" d=\"M 199.171145 304.972531 \nL 201.026355 304.972531 \nL 201.026355 228.512424 \nL 199.171145 228.512424 \nz\n\" style=\"fill:#4c72b0;fill-opacity:0.5;stroke:#ffffff;stroke-linejoin:miter;stroke-width:0.198087;\"/>\n   </g>\n   <g id=\"patch_72\">\n    <path clip-path=\"url(#pe930f0c894)\" d=\"M 201.026355 304.972531 \nL 202.881564 304.972531 \nL 202.881564 231.532242 \nL 201.026355 231.532242 \nz\n\" style=\"fill:#4c72b0;fill-opacity:0.5;stroke:#ffffff;stroke-linejoin:miter;stroke-width:0.198087;\"/>\n   </g>\n   <g id=\"patch_73\">\n    <path clip-path=\"url(#pe930f0c894)\" d=\"M 202.881564 304.972531 \nL 204.736773 304.972531 \nL 204.736773 234.300408 \nL 202.881564 234.300408 \nz\n\" style=\"fill:#4c72b0;fill-opacity:0.5;stroke:#ffffff;stroke-linejoin:miter;stroke-width:0.198087;\"/>\n   </g>\n   <g id=\"patch_74\">\n    <path clip-path=\"url(#pe930f0c894)\" d=\"M 204.736773 304.972531 \nL 206.591982 304.972531 \nL 206.591982 172.687738 \nL 204.736773 172.687738 \nz\n\" style=\"fill:#4c72b0;fill-opacity:0.5;stroke:#ffffff;stroke-linejoin:miter;stroke-width:0.198087;\"/>\n   </g>\n   <g id=\"patch_75\">\n    <path clip-path=\"url(#pe930f0c894)\" d=\"M 206.591982 304.972531 \nL 208.447191 304.972531 \nL 208.447191 240.717521 \nL 206.591982 240.717521 \nz\n\" style=\"fill:#4c72b0;fill-opacity:0.5;stroke:#ffffff;stroke-linejoin:miter;stroke-width:0.198087;\"/>\n   </g>\n   <g id=\"patch_76\">\n    <path clip-path=\"url(#pe930f0c894)\" d=\"M 208.447191 304.972531 \nL 210.3024 304.972531 \nL 210.3024 241.304707 \nL 208.447191 241.304707 \nz\n\" style=\"fill:#4c72b0;fill-opacity:0.5;stroke:#ffffff;stroke-linejoin:miter;stroke-width:0.198087;\"/>\n   </g>\n   <g id=\"patch_77\">\n    <path clip-path=\"url(#pe930f0c894)\" d=\"M 210.3024 304.972531 \nL 212.157609 304.972531 \nL 212.157609 245.289189 \nL 210.3024 245.289189 \nz\n\" style=\"fill:#4c72b0;fill-opacity:0.5;stroke:#ffffff;stroke-linejoin:miter;stroke-width:0.198087;\"/>\n   </g>\n   <g id=\"patch_78\">\n    <path clip-path=\"url(#pe930f0c894)\" d=\"M 212.157609 304.972531 \nL 214.012818 304.972531 \nL 214.012818 249.063961 \nL 212.157609 249.063961 \nz\n\" style=\"fill:#4c72b0;fill-opacity:0.5;stroke:#ffffff;stroke-linejoin:miter;stroke-width:0.198087;\"/>\n   </g>\n   <g id=\"patch_79\">\n    <path clip-path=\"url(#pe930f0c894)\" d=\"M 214.012818 304.972531 \nL 215.868027 304.972531 \nL 215.868027 250.78358 \nL 214.012818 250.78358 \nz\n\" style=\"fill:#4c72b0;fill-opacity:0.5;stroke:#ffffff;stroke-linejoin:miter;stroke-width:0.198087;\"/>\n   </g>\n   <g id=\"patch_80\">\n    <path clip-path=\"url(#pe930f0c894)\" d=\"M 215.868027 304.972531 \nL 217.723236 304.972531 \nL 217.723236 251.999895 \nL 215.868027 251.999895 \nz\n\" style=\"fill:#4c72b0;fill-opacity:0.5;stroke:#ffffff;stroke-linejoin:miter;stroke-width:0.198087;\"/>\n   </g>\n   <g id=\"patch_81\">\n    <path clip-path=\"url(#pe930f0c894)\" d=\"M 217.723236 304.972531 \nL 219.578445 304.972531 \nL 219.578445 206.409036 \nL 217.723236 206.409036 \nz\n\" style=\"fill:#4c72b0;fill-opacity:0.5;stroke:#ffffff;stroke-linejoin:miter;stroke-width:0.198087;\"/>\n   </g>\n   <g id=\"patch_82\">\n    <path clip-path=\"url(#pe930f0c894)\" d=\"M 219.578445 304.972531 \nL 221.433654 304.972531 \nL 221.433654 256.110203 \nL 219.578445 256.110203 \nz\n\" style=\"fill:#4c72b0;fill-opacity:0.5;stroke:#ffffff;stroke-linejoin:miter;stroke-width:0.198087;\"/>\n   </g>\n   <g id=\"patch_83\">\n    <path clip-path=\"url(#pe930f0c894)\" d=\"M 221.433654 304.972531 \nL 223.288863 304.972531 \nL 223.288863 259.675265 \nL 221.433654 259.675265 \nz\n\" style=\"fill:#4c72b0;fill-opacity:0.5;stroke:#ffffff;stroke-linejoin:miter;stroke-width:0.198087;\"/>\n   </g>\n   <g id=\"patch_84\">\n    <path clip-path=\"url(#pe930f0c894)\" d=\"M 223.288863 304.972531 \nL 225.144072 304.972531 \nL 225.144072 258.375066 \nL 223.288863 258.375066 \nz\n\" style=\"fill:#4c72b0;fill-opacity:0.5;stroke:#ffffff;stroke-linejoin:miter;stroke-width:0.198087;\"/>\n   </g>\n   <g id=\"patch_85\">\n    <path clip-path=\"url(#pe930f0c894)\" d=\"M 225.144072 304.972531 \nL 226.999281 304.972531 \nL 226.999281 260.556045 \nL 225.144072 260.556045 \nz\n\" style=\"fill:#4c72b0;fill-opacity:0.5;stroke:#ffffff;stroke-linejoin:miter;stroke-width:0.198087;\"/>\n   </g>\n   <g id=\"patch_86\">\n    <path clip-path=\"url(#pe930f0c894)\" d=\"M 226.999281 304.972531 \nL 228.85449 304.972531 \nL 228.85449 261.478768 \nL 226.999281 261.478768 \nz\n\" style=\"fill:#4c72b0;fill-opacity:0.5;stroke:#ffffff;stroke-linejoin:miter;stroke-width:0.198087;\"/>\n   </g>\n   <g id=\"patch_87\">\n    <path clip-path=\"url(#pe930f0c894)\" d=\"M 228.85449 304.972531 \nL 230.709699 304.972531 \nL 230.709699 228.302714 \nL 228.85449 228.302714 \nz\n\" style=\"fill:#4c72b0;fill-opacity:0.5;stroke:#ffffff;stroke-linejoin:miter;stroke-width:0.198087;\"/>\n   </g>\n   <g id=\"patch_88\">\n    <path clip-path=\"url(#pe930f0c894)\" d=\"M 230.709699 304.972531 \nL 232.564908 304.972531 \nL 232.564908 268.608893 \nL 230.709699 268.608893 \nz\n\" style=\"fill:#4c72b0;fill-opacity:0.5;stroke:#ffffff;stroke-linejoin:miter;stroke-width:0.198087;\"/>\n   </g>\n   <g id=\"patch_89\">\n    <path clip-path=\"url(#pe930f0c894)\" d=\"M 232.564908 304.972531 \nL 234.420117 304.972531 \nL 234.420117 269.489673 \nL 232.564908 269.489673 \nz\n\" style=\"fill:#4c72b0;fill-opacity:0.5;stroke:#ffffff;stroke-linejoin:miter;stroke-width:0.198087;\"/>\n   </g>\n   <g id=\"patch_90\">\n    <path clip-path=\"url(#pe930f0c894)\" d=\"M 234.420117 304.972531 \nL 236.275326 304.972531 \nL 236.275326 270.74793 \nL 234.420117 270.74793 \nz\n\" style=\"fill:#4c72b0;fill-opacity:0.5;stroke:#ffffff;stroke-linejoin:miter;stroke-width:0.198087;\"/>\n   </g>\n   <g id=\"patch_91\">\n    <path clip-path=\"url(#pe930f0c894)\" d=\"M 236.275326 304.972531 \nL 238.130535 304.972531 \nL 238.130535 269.321905 \nL 236.275326 269.321905 \nz\n\" style=\"fill:#4c72b0;fill-opacity:0.5;stroke:#ffffff;stroke-linejoin:miter;stroke-width:0.198087;\"/>\n   </g>\n   <g id=\"patch_92\">\n    <path clip-path=\"url(#pe930f0c894)\" d=\"M 238.130535 304.972531 \nL 239.985744 304.972531 \nL 239.985744 271.544827 \nL 238.130535 271.544827 \nz\n\" style=\"fill:#4c72b0;fill-opacity:0.5;stroke:#ffffff;stroke-linejoin:miter;stroke-width:0.198087;\"/>\n   </g>\n   <g id=\"patch_93\">\n    <path clip-path=\"url(#pe930f0c894)\" d=\"M 239.985744 304.972531 \nL 241.840953 304.972531 \nL 241.840953 272.173955 \nL 239.985744 272.173955 \nz\n\" style=\"fill:#4c72b0;fill-opacity:0.5;stroke:#ffffff;stroke-linejoin:miter;stroke-width:0.198087;\"/>\n   </g>\n   <g id=\"patch_94\">\n    <path clip-path=\"url(#pe930f0c894)\" d=\"M 241.840953 304.972531 \nL 243.696162 304.972531 \nL 243.696162 244.785886 \nL 241.840953 244.785886 \nz\n\" style=\"fill:#4c72b0;fill-opacity:0.5;stroke:#ffffff;stroke-linejoin:miter;stroke-width:0.198087;\"/>\n   </g>\n   <g id=\"patch_95\">\n    <path clip-path=\"url(#pe930f0c894)\" d=\"M 243.696162 304.972531 \nL 245.551371 304.972531 \nL 245.551371 277.668346 \nL 243.696162 277.668346 \nz\n\" style=\"fill:#4c72b0;fill-opacity:0.5;stroke:#ffffff;stroke-linejoin:miter;stroke-width:0.198087;\"/>\n   </g>\n   <g id=\"patch_96\">\n    <path clip-path=\"url(#pe930f0c894)\" d=\"M 245.551371 304.972531 \nL 247.40658 304.972531 \nL 247.40658 277.75223 \nL 245.551371 277.75223 \nz\n\" style=\"fill:#4c72b0;fill-opacity:0.5;stroke:#ffffff;stroke-linejoin:miter;stroke-width:0.198087;\"/>\n   </g>\n   <g id=\"patch_97\">\n    <path clip-path=\"url(#pe930f0c894)\" d=\"M 247.40658 304.972531 \nL 249.261789 304.972531 \nL 249.261789 279.471848 \nL 247.40658 279.471848 \nz\n\" style=\"fill:#4c72b0;fill-opacity:0.5;stroke:#ffffff;stroke-linejoin:miter;stroke-width:0.198087;\"/>\n   </g>\n   <g id=\"patch_98\">\n    <path clip-path=\"url(#pe930f0c894)\" d=\"M 249.261789 304.972531 \nL 251.116998 304.972531 \nL 251.116998 277.54252 \nL 249.261789 277.54252 \nz\n\" style=\"fill:#4c72b0;fill-opacity:0.5;stroke:#ffffff;stroke-linejoin:miter;stroke-width:0.198087;\"/>\n   </g>\n   <g id=\"patch_99\">\n    <path clip-path=\"url(#pe930f0c894)\" d=\"M 251.116998 304.972531 \nL 252.972207 304.972531 \nL 252.972207 279.681558 \nL 251.116998 279.681558 \nz\n\" style=\"fill:#4c72b0;fill-opacity:0.5;stroke:#ffffff;stroke-linejoin:miter;stroke-width:0.198087;\"/>\n   </g>\n   <g id=\"patch_100\">\n    <path clip-path=\"url(#pe930f0c894)\" d=\"M 252.972207 304.972531 \nL 254.827416 304.972531 \nL 254.827416 260.514104 \nL 252.972207 260.514104 \nz\n\" style=\"fill:#4c72b0;fill-opacity:0.5;stroke:#ffffff;stroke-linejoin:miter;stroke-width:0.198087;\"/>\n   </g>\n   <g id=\"patch_101\">\n    <path clip-path=\"url(#pe930f0c894)\" d=\"M 254.827416 304.972531 \nL 256.682625 304.972531 \nL 256.682625 281.401176 \nL 254.827416 281.401176 \nz\n\" style=\"fill:#4c72b0;fill-opacity:0.5;stroke:#ffffff;stroke-linejoin:miter;stroke-width:0.198087;\"/>\n   </g>\n   <g id=\"patch_102\">\n    <path clip-path=\"url(#pe930f0c894)\" d=\"M 256.682625 304.972531 \nL 258.537834 304.972531 \nL 258.537834 283.204678 \nL 256.682625 283.204678 \nz\n\" style=\"fill:#4c72b0;fill-opacity:0.5;stroke:#ffffff;stroke-linejoin:miter;stroke-width:0.198087;\"/>\n   </g>\n   <g id=\"patch_103\">\n    <path clip-path=\"url(#pe930f0c894)\" d=\"M 258.537834 304.972531 \nL 260.393043 304.972531 \nL 260.393043 284.420994 \nL 258.537834 284.420994 \nz\n\" style=\"fill:#4c72b0;fill-opacity:0.5;stroke:#ffffff;stroke-linejoin:miter;stroke-width:0.198087;\"/>\n   </g>\n   <g id=\"patch_104\">\n    <path clip-path=\"url(#pe930f0c894)\" d=\"M 260.393043 304.972531 \nL 262.248252 304.972531 \nL 262.248252 286.224496 \nL 260.393043 286.224496 \nz\n\" style=\"fill:#4c72b0;fill-opacity:0.5;stroke:#ffffff;stroke-linejoin:miter;stroke-width:0.198087;\"/>\n   </g>\n   <g id=\"patch_105\">\n    <path clip-path=\"url(#pe930f0c894)\" d=\"M 262.248252 304.972531 \nL 264.103461 304.972531 \nL 264.103461 284.630704 \nL 262.248252 284.630704 \nz\n\" style=\"fill:#4c72b0;fill-opacity:0.5;stroke:#ffffff;stroke-linejoin:miter;stroke-width:0.198087;\"/>\n   </g>\n   <g id=\"patch_106\">\n    <path clip-path=\"url(#pe930f0c894)\" d=\"M 264.103461 304.972531 \nL 265.95867 304.972531 \nL 265.95867 285.805077 \nL 264.103461 285.805077 \nz\n\" style=\"fill:#4c72b0;fill-opacity:0.5;stroke:#ffffff;stroke-linejoin:miter;stroke-width:0.198087;\"/>\n   </g>\n   <g id=\"patch_107\">\n    <path clip-path=\"url(#pe930f0c894)\" d=\"M 265.95867 304.972531 \nL 267.813879 304.972531 \nL 267.813879 269.573557 \nL 265.95867 269.573557 \nz\n\" style=\"fill:#4c72b0;fill-opacity:0.5;stroke:#ffffff;stroke-linejoin:miter;stroke-width:0.198087;\"/>\n   </g>\n   <g id=\"patch_108\">\n    <path clip-path=\"url(#pe930f0c894)\" d=\"M 267.813879 304.972531 \nL 269.669088 304.972531 \nL 269.669088 287.105276 \nL 267.813879 287.105276 \nz\n\" style=\"fill:#4c72b0;fill-opacity:0.5;stroke:#ffffff;stroke-linejoin:miter;stroke-width:0.198087;\"/>\n   </g>\n   <g id=\"patch_109\">\n    <path clip-path=\"url(#pe930f0c894)\" d=\"M 269.669088 304.972531 \nL 271.524297 304.972531 \nL 271.524297 289.579849 \nL 269.669088 289.579849 \nz\n\" style=\"fill:#4c72b0;fill-opacity:0.5;stroke:#ffffff;stroke-linejoin:miter;stroke-width:0.198087;\"/>\n   </g>\n   <g id=\"patch_110\">\n    <path clip-path=\"url(#pe930f0c894)\" d=\"M 271.524297 304.972531 \nL 273.379506 304.972531 \nL 273.379506 290.04121 \nL 271.524297 290.04121 \nz\n\" style=\"fill:#4c72b0;fill-opacity:0.5;stroke:#ffffff;stroke-linejoin:miter;stroke-width:0.198087;\"/>\n   </g>\n   <g id=\"patch_111\">\n    <path clip-path=\"url(#pe930f0c894)\" d=\"M 273.379506 304.972531 \nL 275.234715 304.972531 \nL 275.234715 290.502571 \nL 273.379506 290.502571 \nz\n\" style=\"fill:#4c72b0;fill-opacity:0.5;stroke:#ffffff;stroke-linejoin:miter;stroke-width:0.198087;\"/>\n   </g>\n   <g id=\"patch_112\">\n    <path clip-path=\"url(#pe930f0c894)\" d=\"M 275.234715 304.972531 \nL 277.089925 304.972531 \nL 277.089925 289.579849 \nL 275.234715 289.579849 \nz\n\" style=\"fill:#4c72b0;fill-opacity:0.5;stroke:#ffffff;stroke-linejoin:miter;stroke-width:0.198087;\"/>\n   </g>\n   <g id=\"patch_113\">\n    <path clip-path=\"url(#pe930f0c894)\" d=\"M 277.089925 304.972531 \nL 278.945134 304.972531 \nL 278.945134 278.716894 \nL 277.089925 278.716894 \nz\n\" style=\"fill:#4c72b0;fill-opacity:0.5;stroke:#ffffff;stroke-linejoin:miter;stroke-width:0.198087;\"/>\n   </g>\n   <g id=\"patch_114\">\n    <path clip-path=\"url(#pe930f0c894)\" d=\"M 278.945134 304.972531 \nL 280.800343 304.972531 \nL 280.800343 292.89326 \nL 278.945134 292.89326 \nz\n\" style=\"fill:#4c72b0;fill-opacity:0.5;stroke:#ffffff;stroke-linejoin:miter;stroke-width:0.198087;\"/>\n   </g>\n   <g id=\"patch_115\">\n    <path clip-path=\"url(#pe930f0c894)\" d=\"M 280.800343 304.972531 \nL 282.655552 304.972531 \nL 282.655552 293.228796 \nL 280.800343 293.228796 \nz\n\" style=\"fill:#4c72b0;fill-opacity:0.5;stroke:#ffffff;stroke-linejoin:miter;stroke-width:0.198087;\"/>\n   </g>\n   <g id=\"patch_116\">\n    <path clip-path=\"url(#pe930f0c894)\" d=\"M 282.655552 304.972531 \nL 284.510761 304.972531 \nL 284.510761 293.522389 \nL 282.655552 293.522389 \nz\n\" style=\"fill:#4c72b0;fill-opacity:0.5;stroke:#ffffff;stroke-linejoin:miter;stroke-width:0.198087;\"/>\n   </g>\n   <g id=\"patch_117\">\n    <path clip-path=\"url(#pe930f0c894)\" d=\"M 284.510761 304.972531 \nL 286.36597 304.972531 \nL 286.36597 292.599667 \nL 284.510761 292.599667 \nz\n\" style=\"fill:#4c72b0;fill-opacity:0.5;stroke:#ffffff;stroke-linejoin:miter;stroke-width:0.198087;\"/>\n   </g>\n   <g id=\"patch_118\">\n    <path clip-path=\"url(#pe930f0c894)\" d=\"M 286.36597 304.972531 \nL 288.221179 304.972531 \nL 288.221179 294.235402 \nL 286.36597 294.235402 \nz\n\" style=\"fill:#4c72b0;fill-opacity:0.5;stroke:#ffffff;stroke-linejoin:miter;stroke-width:0.198087;\"/>\n   </g>\n   <g id=\"patch_119\">\n    <path clip-path=\"url(#pe930f0c894)\" d=\"M 288.221179 304.972531 \nL 290.076388 304.972531 \nL 290.076388 293.606273 \nL 288.221179 293.606273 \nz\n\" style=\"fill:#4c72b0;fill-opacity:0.5;stroke:#ffffff;stroke-linejoin:miter;stroke-width:0.198087;\"/>\n   </g>\n   <g id=\"patch_120\">\n    <path clip-path=\"url(#pe930f0c894)\" d=\"M 290.076388 304.972531 \nL 291.931597 304.972531 \nL 291.931597 284.33711 \nL 290.076388 284.33711 \nz\n\" style=\"fill:#4c72b0;fill-opacity:0.5;stroke:#ffffff;stroke-linejoin:miter;stroke-width:0.198087;\"/>\n   </g>\n   <g id=\"patch_121\">\n    <path clip-path=\"url(#pe930f0c894)\" d=\"M 291.931597 304.972531 \nL 293.786806 304.972531 \nL 293.786806 295.032298 \nL 291.931597 295.032298 \nz\n\" style=\"fill:#4c72b0;fill-opacity:0.5;stroke:#ffffff;stroke-linejoin:miter;stroke-width:0.198087;\"/>\n   </g>\n   <g id=\"patch_122\">\n    <path clip-path=\"url(#pe930f0c894)\" d=\"M 293.786806 304.972531 \nL 295.642015 304.972531 \nL 295.642015 295.913078 \nL 293.786806 295.913078 \nz\n\" style=\"fill:#4c72b0;fill-opacity:0.5;stroke:#ffffff;stroke-linejoin:miter;stroke-width:0.198087;\"/>\n   </g>\n   <g id=\"patch_123\">\n    <path clip-path=\"url(#pe930f0c894)\" d=\"M 295.642015 304.972531 \nL 297.497224 304.972531 \nL 297.497224 296.877742 \nL 295.642015 296.877742 \nz\n\" style=\"fill:#4c72b0;fill-opacity:0.5;stroke:#ffffff;stroke-linejoin:miter;stroke-width:0.198087;\"/>\n   </g>\n   <g id=\"patch_124\">\n    <path clip-path=\"url(#pe930f0c894)\" d=\"M 297.497224 304.972531 \nL 299.352433 304.972531 \nL 299.352433 296.709974 \nL 297.497224 296.709974 \nz\n\" style=\"fill:#4c72b0;fill-opacity:0.5;stroke:#ffffff;stroke-linejoin:miter;stroke-width:0.198087;\"/>\n   </g>\n   <g id=\"patch_125\">\n    <path clip-path=\"url(#pe930f0c894)\" d=\"M 299.352433 304.972531 \nL 301.207642 304.972531 \nL 301.207642 297.381045 \nL 299.352433 297.381045 \nz\n\" style=\"fill:#4c72b0;fill-opacity:0.5;stroke:#ffffff;stroke-linejoin:miter;stroke-width:0.198087;\"/>\n   </g>\n   <g id=\"patch_126\">\n    <path clip-path=\"url(#pe930f0c894)\" d=\"M 301.207642 304.972531 \nL 303.062851 304.972531 \nL 303.062851 290.083152 \nL 301.207642 290.083152 \nz\n\" style=\"fill:#4c72b0;fill-opacity:0.5;stroke:#ffffff;stroke-linejoin:miter;stroke-width:0.198087;\"/>\n   </g>\n   <g id=\"patch_127\">\n    <path clip-path=\"url(#pe930f0c894)\" d=\"M 303.062851 304.972531 \nL 304.91806 304.972531 \nL 304.91806 297.674638 \nL 303.062851 297.674638 \nz\n\" style=\"fill:#4c72b0;fill-opacity:0.5;stroke:#ffffff;stroke-linejoin:miter;stroke-width:0.198087;\"/>\n   </g>\n   <g id=\"patch_128\">\n    <path clip-path=\"url(#pe930f0c894)\" d=\"M 304.91806 304.972531 \nL 306.773269 304.972531 \nL 306.773269 298.219883 \nL 304.91806 298.219883 \nz\n\" style=\"fill:#4c72b0;fill-opacity:0.5;stroke:#ffffff;stroke-linejoin:miter;stroke-width:0.198087;\"/>\n   </g>\n   <g id=\"patch_129\">\n    <path clip-path=\"url(#pe930f0c894)\" d=\"M 306.773269 304.972531 \nL 308.628478 304.972531 \nL 308.628478 297.590755 \nL 306.773269 297.590755 \nz\n\" style=\"fill:#4c72b0;fill-opacity:0.5;stroke:#ffffff;stroke-linejoin:miter;stroke-width:0.198087;\"/>\n   </g>\n   <g id=\"patch_130\">\n    <path clip-path=\"url(#pe930f0c894)\" d=\"M 308.628478 304.972531 \nL 310.483687 304.972531 \nL 310.483687 299.058722 \nL 308.628478 299.058722 \nz\n\" style=\"fill:#4c72b0;fill-opacity:0.5;stroke:#ffffff;stroke-linejoin:miter;stroke-width:0.198087;\"/>\n   </g>\n   <g id=\"patch_131\">\n    <path clip-path=\"url(#pe930f0c894)\" d=\"M 310.483687 304.972531 \nL 312.338896 304.972531 \nL 312.338896 298.471535 \nL 310.483687 298.471535 \nz\n\" style=\"fill:#4c72b0;fill-opacity:0.5;stroke:#ffffff;stroke-linejoin:miter;stroke-width:0.198087;\"/>\n   </g>\n   <g id=\"patch_132\">\n    <path clip-path=\"url(#pe930f0c894)\" d=\"M 312.338896 304.972531 \nL 314.194105 304.972531 \nL 314.194105 298.555419 \nL 312.338896 298.555419 \nz\n\" style=\"fill:#4c72b0;fill-opacity:0.5;stroke:#ffffff;stroke-linejoin:miter;stroke-width:0.198087;\"/>\n   </g>\n   <g id=\"patch_133\">\n    <path clip-path=\"url(#pe930f0c894)\" d=\"M 314.194105 304.972531 \nL 316.049314 304.972531 \nL 316.049314 294.445111 \nL 314.194105 294.445111 \nz\n\" style=\"fill:#4c72b0;fill-opacity:0.5;stroke:#ffffff;stroke-linejoin:miter;stroke-width:0.198087;\"/>\n   </g>\n   <g id=\"patch_134\">\n    <path clip-path=\"url(#pe930f0c894)\" d=\"M 316.049314 304.972531 \nL 317.904523 304.972531 \nL 317.904523 299.184547 \nL 316.049314 299.184547 \nz\n\" style=\"fill:#4c72b0;fill-opacity:0.5;stroke:#ffffff;stroke-linejoin:miter;stroke-width:0.198087;\"/>\n   </g>\n   <g id=\"patch_135\">\n    <path clip-path=\"url(#pe930f0c894)\" d=\"M 317.904523 304.972531 \nL 319.759732 304.972531 \nL 319.759732 299.226489 \nL 317.904523 299.226489 \nz\n\" style=\"fill:#4c72b0;fill-opacity:0.5;stroke:#ffffff;stroke-linejoin:miter;stroke-width:0.198087;\"/>\n   </g>\n   <g id=\"patch_136\">\n    <path clip-path=\"url(#pe930f0c894)\" d=\"M 319.759732 304.972531 \nL 321.614941 304.972531 \nL 321.614941 300.484747 \nL 319.759732 300.484747 \nz\n\" style=\"fill:#4c72b0;fill-opacity:0.5;stroke:#ffffff;stroke-linejoin:miter;stroke-width:0.198087;\"/>\n   </g>\n   <g id=\"patch_137\">\n    <path clip-path=\"url(#pe930f0c894)\" d=\"M 321.614941 304.972531 \nL 323.47015 304.972531 \nL 323.47015 300.149211 \nL 321.614941 300.149211 \nz\n\" style=\"fill:#4c72b0;fill-opacity:0.5;stroke:#ffffff;stroke-linejoin:miter;stroke-width:0.198087;\"/>\n   </g>\n   <g id=\"patch_138\">\n    <path clip-path=\"url(#pe930f0c894)\" d=\"M 323.47015 304.972531 \nL 325.325359 304.972531 \nL 325.325359 301.071933 \nL 323.47015 301.071933 \nz\n\" style=\"fill:#4c72b0;fill-opacity:0.5;stroke:#ffffff;stroke-linejoin:miter;stroke-width:0.198087;\"/>\n   </g>\n   <g id=\"patch_139\">\n    <path clip-path=\"url(#pe930f0c894)\" d=\"M 325.325359 304.972531 \nL 327.180568 304.972531 \nL 327.180568 295.493659 \nL 325.325359 295.493659 \nz\n\" style=\"fill:#4c72b0;fill-opacity:0.5;stroke:#ffffff;stroke-linejoin:miter;stroke-width:0.198087;\"/>\n   </g>\n   <g id=\"line2d_16\">\n    <path clip-path=\"url(#pe930f0c894)\" d=\"M 73.016932 303.671887 \nL 74.294136 302.826138 \nL 75.57134 301.678478 \nL 76.848544 300.257666 \nL 80.680157 295.570865 \nL 81.957361 294.439406 \nL 83.234565 293.762575 \nL 84.51177 293.583379 \nL 85.788974 293.859942 \nL 87.066178 294.481552 \nL 92.174995 297.635736 \nL 93.452199 298.12509 \nL 94.729403 298.425549 \nL 96.006607 298.520627 \nL 97.283812 298.38103 \nL 98.561016 297.967157 \nL 99.83822 297.241641 \nL 101.115424 296.183371 \nL 102.392628 294.795557 \nL 103.669833 293.105015 \nL 104.947037 291.153919 \nL 107.501445 286.636762 \nL 110.055854 281.401887 \nL 112.610262 275.304067 \nL 115.164671 268.300922 \nL 118.996283 256.880733 \nL 121.550692 248.883852 \nL 124.1051 240.251981 \nL 126.659508 230.891963 \nL 131.768325 211.086818 \nL 139.43155 180.761961 \nL 140.708755 176.495582 \nL 141.985959 172.651445 \nL 144.540367 166.03217 \nL 147.094776 160.247877 \nL 149.649184 154.835771 \nL 150.926388 152.339282 \nL 152.203592 150.116443 \nL 153.480797 148.280124 \nL 154.758001 146.904108 \nL 156.035205 145.992739 \nL 157.312409 145.476714 \nL 158.589613 145.239414 \nL 161.144022 145.17977 \nL 162.421226 145.290933 \nL 163.69843 145.570226 \nL 164.975634 146.125149 \nL 166.252839 147.04668 \nL 167.530043 148.363674 \nL 168.807247 150.025173 \nL 171.361655 153.92953 \nL 176.470472 162.229494 \nL 179.024881 167.017255 \nL 181.579289 172.563789 \nL 185.410902 181.80569 \nL 189.242514 191.704034 \nL 194.351331 205.389912 \nL 196.905739 211.273726 \nL 199.460148 216.332675 \nL 203.291761 223.22128 \nL 207.123373 229.719031 \nL 213.509394 239.957766 \nL 216.063803 243.728312 \nL 218.618211 246.954444 \nL 221.172619 249.685637 \nL 225.004232 253.6156 \nL 227.55864 256.595476 \nL 230.113049 259.676144 \nL 232.667457 262.319473 \nL 235.221866 264.347273 \nL 239.053478 267.086493 \nL 246.716703 273.186123 \nL 253.102724 277.320131 \nL 256.934337 279.635642 \nL 260.76595 281.602637 \nL 276.0924 288.670691 \nL 279.924013 290.239784 \nL 282.478421 291.0361 \nL 291.418851 293.257517 \nL 299.082076 295.633354 \nL 302.913688 296.419155 \nL 320.794547 299.403124 \nL 323.348956 300.127694 \nL 325.903364 301.196399 \nL 327.180568 301.858258 \nL 327.180568 301.858258 \n\" style=\"fill:none;stroke:#4c72b0;stroke-linecap:round;stroke-width:1.5;\"/>\n   </g>\n   <g id=\"patch_140\">\n    <path d=\"M 60.30875 304.972531 \nL 60.30875 11.144266 \n\" style=\"fill:none;stroke:#262626;stroke-linecap:square;stroke-linejoin:miter;stroke-width:1.25;\"/>\n   </g>\n   <g id=\"patch_141\">\n    <path d=\"M 60.30875 304.972531 \nL 339.88875 304.972531 \n\" style=\"fill:none;stroke:#262626;stroke-linecap:square;stroke-linejoin:miter;stroke-width:1.25;\"/>\n   </g>\n  </g>\n </g>\n <defs>\n  <clipPath id=\"pe930f0c894\">\n   <rect height=\"293.828265\" width=\"279.58\" x=\"60.30875\" y=\"11.144266\"/>\n  </clipPath>\n </defs>\n</svg>\n"
          },
          "metadata": {}
        }
      ]
    },
    {
      "cell_type": "markdown",
      "source": [
        "Distribuição do número de pedidos de acordo com o tipo de loja:\n",
        "\n",
        "*   S1\n",
        "*   S2\n",
        "*   S3\n",
        "*   S4\n",
        "\n"
      ],
      "metadata": {
        "id": "7VR6kOHkJgHB"
      }
    },
    {
      "cell_type": "code",
      "source": [
        "pie = data[\"Store_Type\"].value_counts()\n",
        "store = pie.index\n",
        "orders = pie.values\n",
        "\n",
        "fig = px.pie(data, values=orders, names=store)\n",
        "fig.show()"
      ],
      "metadata": {
        "colab": {
          "base_uri": "https://localhost:8080/",
          "height": 542
        },
        "id": "aKnAMX9UJhkg",
        "outputId": "b268672e-c789-48f8-cbca-0e07099609a2"
      },
      "execution_count": 25,
      "outputs": [
        {
          "output_type": "display_data",
          "data": {
            "text/html": [
              "<html>\n",
              "<head><meta charset=\"utf-8\" /></head>\n",
              "<body>\n",
              "    <div>            <script src=\"https://cdnjs.cloudflare.com/ajax/libs/mathjax/2.7.5/MathJax.js?config=TeX-AMS-MML_SVG\"></script><script type=\"text/javascript\">if (window.MathJax) {MathJax.Hub.Config({SVG: {font: \"STIX-Web\"}});}</script>                <script type=\"text/javascript\">window.PlotlyConfig = {MathJaxConfig: 'local'};</script>\n",
              "        <script src=\"https://cdn.plot.ly/plotly-2.8.3.min.js\"></script>                <div id=\"c9e98286-593f-432e-82ac-7e582f248afd\" class=\"plotly-graph-div\" style=\"height:525px; width:100%;\"></div>            <script type=\"text/javascript\">                                    window.PLOTLYENV=window.PLOTLYENV || {};                                    if (document.getElementById(\"c9e98286-593f-432e-82ac-7e582f248afd\")) {                    Plotly.newPlot(                        \"c9e98286-593f-432e-82ac-7e582f248afd\",                        [{\"domain\":{\"x\":[0.0,1.0],\"y\":[0.0,1.0]},\"hovertemplate\":\"label=%{label}<br>value=%{value}<extra></extra>\",\"labels\":[\"S1\",\"S4\",\"S2\",\"S3\"],\"legendgroup\":\"\",\"name\":\"\",\"showlegend\":true,\"values\":[88752,45924,28896,24768],\"type\":\"pie\"}],                        {\"template\":{\"data\":{\"bar\":[{\"error_x\":{\"color\":\"#2a3f5f\"},\"error_y\":{\"color\":\"#2a3f5f\"},\"marker\":{\"line\":{\"color\":\"#E5ECF6\",\"width\":0.5},\"pattern\":{\"fillmode\":\"overlay\",\"size\":10,\"solidity\":0.2}},\"type\":\"bar\"}],\"barpolar\":[{\"marker\":{\"line\":{\"color\":\"#E5ECF6\",\"width\":0.5},\"pattern\":{\"fillmode\":\"overlay\",\"size\":10,\"solidity\":0.2}},\"type\":\"barpolar\"}],\"carpet\":[{\"aaxis\":{\"endlinecolor\":\"#2a3f5f\",\"gridcolor\":\"white\",\"linecolor\":\"white\",\"minorgridcolor\":\"white\",\"startlinecolor\":\"#2a3f5f\"},\"baxis\":{\"endlinecolor\":\"#2a3f5f\",\"gridcolor\":\"white\",\"linecolor\":\"white\",\"minorgridcolor\":\"white\",\"startlinecolor\":\"#2a3f5f\"},\"type\":\"carpet\"}],\"choropleth\":[{\"colorbar\":{\"outlinewidth\":0,\"ticks\":\"\"},\"type\":\"choropleth\"}],\"contour\":[{\"colorbar\":{\"outlinewidth\":0,\"ticks\":\"\"},\"colorscale\":[[0.0,\"#0d0887\"],[0.1111111111111111,\"#46039f\"],[0.2222222222222222,\"#7201a8\"],[0.3333333333333333,\"#9c179e\"],[0.4444444444444444,\"#bd3786\"],[0.5555555555555556,\"#d8576b\"],[0.6666666666666666,\"#ed7953\"],[0.7777777777777778,\"#fb9f3a\"],[0.8888888888888888,\"#fdca26\"],[1.0,\"#f0f921\"]],\"type\":\"contour\"}],\"contourcarpet\":[{\"colorbar\":{\"outlinewidth\":0,\"ticks\":\"\"},\"type\":\"contourcarpet\"}],\"heatmap\":[{\"colorbar\":{\"outlinewidth\":0,\"ticks\":\"\"},\"colorscale\":[[0.0,\"#0d0887\"],[0.1111111111111111,\"#46039f\"],[0.2222222222222222,\"#7201a8\"],[0.3333333333333333,\"#9c179e\"],[0.4444444444444444,\"#bd3786\"],[0.5555555555555556,\"#d8576b\"],[0.6666666666666666,\"#ed7953\"],[0.7777777777777778,\"#fb9f3a\"],[0.8888888888888888,\"#fdca26\"],[1.0,\"#f0f921\"]],\"type\":\"heatmap\"}],\"heatmapgl\":[{\"colorbar\":{\"outlinewidth\":0,\"ticks\":\"\"},\"colorscale\":[[0.0,\"#0d0887\"],[0.1111111111111111,\"#46039f\"],[0.2222222222222222,\"#7201a8\"],[0.3333333333333333,\"#9c179e\"],[0.4444444444444444,\"#bd3786\"],[0.5555555555555556,\"#d8576b\"],[0.6666666666666666,\"#ed7953\"],[0.7777777777777778,\"#fb9f3a\"],[0.8888888888888888,\"#fdca26\"],[1.0,\"#f0f921\"]],\"type\":\"heatmapgl\"}],\"histogram\":[{\"marker\":{\"pattern\":{\"fillmode\":\"overlay\",\"size\":10,\"solidity\":0.2}},\"type\":\"histogram\"}],\"histogram2d\":[{\"colorbar\":{\"outlinewidth\":0,\"ticks\":\"\"},\"colorscale\":[[0.0,\"#0d0887\"],[0.1111111111111111,\"#46039f\"],[0.2222222222222222,\"#7201a8\"],[0.3333333333333333,\"#9c179e\"],[0.4444444444444444,\"#bd3786\"],[0.5555555555555556,\"#d8576b\"],[0.6666666666666666,\"#ed7953\"],[0.7777777777777778,\"#fb9f3a\"],[0.8888888888888888,\"#fdca26\"],[1.0,\"#f0f921\"]],\"type\":\"histogram2d\"}],\"histogram2dcontour\":[{\"colorbar\":{\"outlinewidth\":0,\"ticks\":\"\"},\"colorscale\":[[0.0,\"#0d0887\"],[0.1111111111111111,\"#46039f\"],[0.2222222222222222,\"#7201a8\"],[0.3333333333333333,\"#9c179e\"],[0.4444444444444444,\"#bd3786\"],[0.5555555555555556,\"#d8576b\"],[0.6666666666666666,\"#ed7953\"],[0.7777777777777778,\"#fb9f3a\"],[0.8888888888888888,\"#fdca26\"],[1.0,\"#f0f921\"]],\"type\":\"histogram2dcontour\"}],\"mesh3d\":[{\"colorbar\":{\"outlinewidth\":0,\"ticks\":\"\"},\"type\":\"mesh3d\"}],\"parcoords\":[{\"line\":{\"colorbar\":{\"outlinewidth\":0,\"ticks\":\"\"}},\"type\":\"parcoords\"}],\"pie\":[{\"automargin\":true,\"type\":\"pie\"}],\"scatter\":[{\"marker\":{\"colorbar\":{\"outlinewidth\":0,\"ticks\":\"\"}},\"type\":\"scatter\"}],\"scatter3d\":[{\"line\":{\"colorbar\":{\"outlinewidth\":0,\"ticks\":\"\"}},\"marker\":{\"colorbar\":{\"outlinewidth\":0,\"ticks\":\"\"}},\"type\":\"scatter3d\"}],\"scattercarpet\":[{\"marker\":{\"colorbar\":{\"outlinewidth\":0,\"ticks\":\"\"}},\"type\":\"scattercarpet\"}],\"scattergeo\":[{\"marker\":{\"colorbar\":{\"outlinewidth\":0,\"ticks\":\"\"}},\"type\":\"scattergeo\"}],\"scattergl\":[{\"marker\":{\"colorbar\":{\"outlinewidth\":0,\"ticks\":\"\"}},\"type\":\"scattergl\"}],\"scattermapbox\":[{\"marker\":{\"colorbar\":{\"outlinewidth\":0,\"ticks\":\"\"}},\"type\":\"scattermapbox\"}],\"scatterpolar\":[{\"marker\":{\"colorbar\":{\"outlinewidth\":0,\"ticks\":\"\"}},\"type\":\"scatterpolar\"}],\"scatterpolargl\":[{\"marker\":{\"colorbar\":{\"outlinewidth\":0,\"ticks\":\"\"}},\"type\":\"scatterpolargl\"}],\"scatterternary\":[{\"marker\":{\"colorbar\":{\"outlinewidth\":0,\"ticks\":\"\"}},\"type\":\"scatterternary\"}],\"surface\":[{\"colorbar\":{\"outlinewidth\":0,\"ticks\":\"\"},\"colorscale\":[[0.0,\"#0d0887\"],[0.1111111111111111,\"#46039f\"],[0.2222222222222222,\"#7201a8\"],[0.3333333333333333,\"#9c179e\"],[0.4444444444444444,\"#bd3786\"],[0.5555555555555556,\"#d8576b\"],[0.6666666666666666,\"#ed7953\"],[0.7777777777777778,\"#fb9f3a\"],[0.8888888888888888,\"#fdca26\"],[1.0,\"#f0f921\"]],\"type\":\"surface\"}],\"table\":[{\"cells\":{\"fill\":{\"color\":\"#EBF0F8\"},\"line\":{\"color\":\"white\"}},\"header\":{\"fill\":{\"color\":\"#C8D4E3\"},\"line\":{\"color\":\"white\"}},\"type\":\"table\"}]},\"layout\":{\"annotationdefaults\":{\"arrowcolor\":\"#2a3f5f\",\"arrowhead\":0,\"arrowwidth\":1},\"autotypenumbers\":\"strict\",\"coloraxis\":{\"colorbar\":{\"outlinewidth\":0,\"ticks\":\"\"}},\"colorscale\":{\"diverging\":[[0,\"#8e0152\"],[0.1,\"#c51b7d\"],[0.2,\"#de77ae\"],[0.3,\"#f1b6da\"],[0.4,\"#fde0ef\"],[0.5,\"#f7f7f7\"],[0.6,\"#e6f5d0\"],[0.7,\"#b8e186\"],[0.8,\"#7fbc41\"],[0.9,\"#4d9221\"],[1,\"#276419\"]],\"sequential\":[[0.0,\"#0d0887\"],[0.1111111111111111,\"#46039f\"],[0.2222222222222222,\"#7201a8\"],[0.3333333333333333,\"#9c179e\"],[0.4444444444444444,\"#bd3786\"],[0.5555555555555556,\"#d8576b\"],[0.6666666666666666,\"#ed7953\"],[0.7777777777777778,\"#fb9f3a\"],[0.8888888888888888,\"#fdca26\"],[1.0,\"#f0f921\"]],\"sequentialminus\":[[0.0,\"#0d0887\"],[0.1111111111111111,\"#46039f\"],[0.2222222222222222,\"#7201a8\"],[0.3333333333333333,\"#9c179e\"],[0.4444444444444444,\"#bd3786\"],[0.5555555555555556,\"#d8576b\"],[0.6666666666666666,\"#ed7953\"],[0.7777777777777778,\"#fb9f3a\"],[0.8888888888888888,\"#fdca26\"],[1.0,\"#f0f921\"]]},\"colorway\":[\"#636efa\",\"#EF553B\",\"#00cc96\",\"#ab63fa\",\"#FFA15A\",\"#19d3f3\",\"#FF6692\",\"#B6E880\",\"#FF97FF\",\"#FECB52\"],\"font\":{\"color\":\"#2a3f5f\"},\"geo\":{\"bgcolor\":\"white\",\"lakecolor\":\"white\",\"landcolor\":\"#E5ECF6\",\"showlakes\":true,\"showland\":true,\"subunitcolor\":\"white\"},\"hoverlabel\":{\"align\":\"left\"},\"hovermode\":\"closest\",\"mapbox\":{\"style\":\"light\"},\"paper_bgcolor\":\"white\",\"plot_bgcolor\":\"#E5ECF6\",\"polar\":{\"angularaxis\":{\"gridcolor\":\"white\",\"linecolor\":\"white\",\"ticks\":\"\"},\"bgcolor\":\"#E5ECF6\",\"radialaxis\":{\"gridcolor\":\"white\",\"linecolor\":\"white\",\"ticks\":\"\"}},\"scene\":{\"xaxis\":{\"backgroundcolor\":\"#E5ECF6\",\"gridcolor\":\"white\",\"gridwidth\":2,\"linecolor\":\"white\",\"showbackground\":true,\"ticks\":\"\",\"zerolinecolor\":\"white\"},\"yaxis\":{\"backgroundcolor\":\"#E5ECF6\",\"gridcolor\":\"white\",\"gridwidth\":2,\"linecolor\":\"white\",\"showbackground\":true,\"ticks\":\"\",\"zerolinecolor\":\"white\"},\"zaxis\":{\"backgroundcolor\":\"#E5ECF6\",\"gridcolor\":\"white\",\"gridwidth\":2,\"linecolor\":\"white\",\"showbackground\":true,\"ticks\":\"\",\"zerolinecolor\":\"white\"}},\"shapedefaults\":{\"line\":{\"color\":\"#2a3f5f\"}},\"ternary\":{\"aaxis\":{\"gridcolor\":\"white\",\"linecolor\":\"white\",\"ticks\":\"\"},\"baxis\":{\"gridcolor\":\"white\",\"linecolor\":\"white\",\"ticks\":\"\"},\"bgcolor\":\"#E5ECF6\",\"caxis\":{\"gridcolor\":\"white\",\"linecolor\":\"white\",\"ticks\":\"\"}},\"title\":{\"x\":0.05},\"xaxis\":{\"automargin\":true,\"gridcolor\":\"white\",\"linecolor\":\"white\",\"ticks\":\"\",\"title\":{\"standoff\":15},\"zerolinecolor\":\"white\",\"zerolinewidth\":2},\"yaxis\":{\"automargin\":true,\"gridcolor\":\"white\",\"linecolor\":\"white\",\"ticks\":\"\",\"title\":{\"standoff\":15},\"zerolinecolor\":\"white\",\"zerolinewidth\":2}}},\"legend\":{\"tracegroupgap\":0},\"margin\":{\"t\":60}},                        {\"responsive\": true}                    ).then(function(){\n",
              "                            \n",
              "var gd = document.getElementById('c9e98286-593f-432e-82ac-7e582f248afd');\n",
              "var x = new MutationObserver(function (mutations, observer) {{\n",
              "        var display = window.getComputedStyle(gd).display;\n",
              "        if (!display || display === 'none') {{\n",
              "            console.log([gd, 'removed!']);\n",
              "            Plotly.purge(gd);\n",
              "            observer.disconnect();\n",
              "        }}\n",
              "}});\n",
              "\n",
              "// Listen for the removal of the full notebook cells\n",
              "var notebookContainer = gd.closest('#notebook-container');\n",
              "if (notebookContainer) {{\n",
              "    x.observe(notebookContainer, {childList: true});\n",
              "}}\n",
              "\n",
              "// Listen for the clearing of the current output cell\n",
              "var outputEl = gd.closest('.output');\n",
              "if (outputEl) {{\n",
              "    x.observe(outputEl, {childList: true});\n",
              "}}\n",
              "\n",
              "                        })                };                            </script>        </div>\n",
              "</body>\n",
              "</html>"
            ]
          },
          "metadata": {}
        }
      ]
    },
    {
      "cell_type": "markdown",
      "source": [
        "Número de pedido recebidos de acordo com a localização\n",
        "\n",
        "L1\n",
        "L2\n",
        "L3\n",
        "L4\n",
        "L5"
      ],
      "metadata": {
        "id": "V7mO2AQnJqao"
      }
    },
    {
      "cell_type": "code",
      "source": [
        "pie2 = data[\"Location_Type\"].value_counts()\n",
        "location = pie2.index\n",
        "orders = pie2.values\n",
        "\n",
        "fig = px.pie(data, values=orders, names=location)\n",
        "fig.show()"
      ],
      "metadata": {
        "colab": {
          "base_uri": "https://localhost:8080/",
          "height": 542
        },
        "id": "IX88yItTJsu4",
        "outputId": "2d06c0b6-c7fc-42cd-bc9c-9d120ba710ed"
      },
      "execution_count": 26,
      "outputs": [
        {
          "output_type": "display_data",
          "data": {
            "text/html": [
              "<html>\n",
              "<head><meta charset=\"utf-8\" /></head>\n",
              "<body>\n",
              "    <div>            <script src=\"https://cdnjs.cloudflare.com/ajax/libs/mathjax/2.7.5/MathJax.js?config=TeX-AMS-MML_SVG\"></script><script type=\"text/javascript\">if (window.MathJax) {MathJax.Hub.Config({SVG: {font: \"STIX-Web\"}});}</script>                <script type=\"text/javascript\">window.PlotlyConfig = {MathJaxConfig: 'local'};</script>\n",
              "        <script src=\"https://cdn.plot.ly/plotly-2.8.3.min.js\"></script>                <div id=\"5b23eade-a63a-4b45-ae32-1b4d60ca0a39\" class=\"plotly-graph-div\" style=\"height:525px; width:100%;\"></div>            <script type=\"text/javascript\">                                    window.PLOTLYENV=window.PLOTLYENV || {};                                    if (document.getElementById(\"5b23eade-a63a-4b45-ae32-1b4d60ca0a39\")) {                    Plotly.newPlot(                        \"5b23eade-a63a-4b45-ae32-1b4d60ca0a39\",                        [{\"domain\":{\"x\":[0.0,1.0],\"y\":[0.0,1.0]},\"hovertemplate\":\"label=%{label}<br>value=%{value}<extra></extra>\",\"labels\":[\"L1\",\"L2\",\"L3\",\"L5\",\"L4\"],\"legendgroup\":\"\",\"name\":\"\",\"showlegend\":true,\"values\":[85140,48504,29928,13932,10836],\"type\":\"pie\"}],                        {\"template\":{\"data\":{\"bar\":[{\"error_x\":{\"color\":\"#2a3f5f\"},\"error_y\":{\"color\":\"#2a3f5f\"},\"marker\":{\"line\":{\"color\":\"#E5ECF6\",\"width\":0.5},\"pattern\":{\"fillmode\":\"overlay\",\"size\":10,\"solidity\":0.2}},\"type\":\"bar\"}],\"barpolar\":[{\"marker\":{\"line\":{\"color\":\"#E5ECF6\",\"width\":0.5},\"pattern\":{\"fillmode\":\"overlay\",\"size\":10,\"solidity\":0.2}},\"type\":\"barpolar\"}],\"carpet\":[{\"aaxis\":{\"endlinecolor\":\"#2a3f5f\",\"gridcolor\":\"white\",\"linecolor\":\"white\",\"minorgridcolor\":\"white\",\"startlinecolor\":\"#2a3f5f\"},\"baxis\":{\"endlinecolor\":\"#2a3f5f\",\"gridcolor\":\"white\",\"linecolor\":\"white\",\"minorgridcolor\":\"white\",\"startlinecolor\":\"#2a3f5f\"},\"type\":\"carpet\"}],\"choropleth\":[{\"colorbar\":{\"outlinewidth\":0,\"ticks\":\"\"},\"type\":\"choropleth\"}],\"contour\":[{\"colorbar\":{\"outlinewidth\":0,\"ticks\":\"\"},\"colorscale\":[[0.0,\"#0d0887\"],[0.1111111111111111,\"#46039f\"],[0.2222222222222222,\"#7201a8\"],[0.3333333333333333,\"#9c179e\"],[0.4444444444444444,\"#bd3786\"],[0.5555555555555556,\"#d8576b\"],[0.6666666666666666,\"#ed7953\"],[0.7777777777777778,\"#fb9f3a\"],[0.8888888888888888,\"#fdca26\"],[1.0,\"#f0f921\"]],\"type\":\"contour\"}],\"contourcarpet\":[{\"colorbar\":{\"outlinewidth\":0,\"ticks\":\"\"},\"type\":\"contourcarpet\"}],\"heatmap\":[{\"colorbar\":{\"outlinewidth\":0,\"ticks\":\"\"},\"colorscale\":[[0.0,\"#0d0887\"],[0.1111111111111111,\"#46039f\"],[0.2222222222222222,\"#7201a8\"],[0.3333333333333333,\"#9c179e\"],[0.4444444444444444,\"#bd3786\"],[0.5555555555555556,\"#d8576b\"],[0.6666666666666666,\"#ed7953\"],[0.7777777777777778,\"#fb9f3a\"],[0.8888888888888888,\"#fdca26\"],[1.0,\"#f0f921\"]],\"type\":\"heatmap\"}],\"heatmapgl\":[{\"colorbar\":{\"outlinewidth\":0,\"ticks\":\"\"},\"colorscale\":[[0.0,\"#0d0887\"],[0.1111111111111111,\"#46039f\"],[0.2222222222222222,\"#7201a8\"],[0.3333333333333333,\"#9c179e\"],[0.4444444444444444,\"#bd3786\"],[0.5555555555555556,\"#d8576b\"],[0.6666666666666666,\"#ed7953\"],[0.7777777777777778,\"#fb9f3a\"],[0.8888888888888888,\"#fdca26\"],[1.0,\"#f0f921\"]],\"type\":\"heatmapgl\"}],\"histogram\":[{\"marker\":{\"pattern\":{\"fillmode\":\"overlay\",\"size\":10,\"solidity\":0.2}},\"type\":\"histogram\"}],\"histogram2d\":[{\"colorbar\":{\"outlinewidth\":0,\"ticks\":\"\"},\"colorscale\":[[0.0,\"#0d0887\"],[0.1111111111111111,\"#46039f\"],[0.2222222222222222,\"#7201a8\"],[0.3333333333333333,\"#9c179e\"],[0.4444444444444444,\"#bd3786\"],[0.5555555555555556,\"#d8576b\"],[0.6666666666666666,\"#ed7953\"],[0.7777777777777778,\"#fb9f3a\"],[0.8888888888888888,\"#fdca26\"],[1.0,\"#f0f921\"]],\"type\":\"histogram2d\"}],\"histogram2dcontour\":[{\"colorbar\":{\"outlinewidth\":0,\"ticks\":\"\"},\"colorscale\":[[0.0,\"#0d0887\"],[0.1111111111111111,\"#46039f\"],[0.2222222222222222,\"#7201a8\"],[0.3333333333333333,\"#9c179e\"],[0.4444444444444444,\"#bd3786\"],[0.5555555555555556,\"#d8576b\"],[0.6666666666666666,\"#ed7953\"],[0.7777777777777778,\"#fb9f3a\"],[0.8888888888888888,\"#fdca26\"],[1.0,\"#f0f921\"]],\"type\":\"histogram2dcontour\"}],\"mesh3d\":[{\"colorbar\":{\"outlinewidth\":0,\"ticks\":\"\"},\"type\":\"mesh3d\"}],\"parcoords\":[{\"line\":{\"colorbar\":{\"outlinewidth\":0,\"ticks\":\"\"}},\"type\":\"parcoords\"}],\"pie\":[{\"automargin\":true,\"type\":\"pie\"}],\"scatter\":[{\"marker\":{\"colorbar\":{\"outlinewidth\":0,\"ticks\":\"\"}},\"type\":\"scatter\"}],\"scatter3d\":[{\"line\":{\"colorbar\":{\"outlinewidth\":0,\"ticks\":\"\"}},\"marker\":{\"colorbar\":{\"outlinewidth\":0,\"ticks\":\"\"}},\"type\":\"scatter3d\"}],\"scattercarpet\":[{\"marker\":{\"colorbar\":{\"outlinewidth\":0,\"ticks\":\"\"}},\"type\":\"scattercarpet\"}],\"scattergeo\":[{\"marker\":{\"colorbar\":{\"outlinewidth\":0,\"ticks\":\"\"}},\"type\":\"scattergeo\"}],\"scattergl\":[{\"marker\":{\"colorbar\":{\"outlinewidth\":0,\"ticks\":\"\"}},\"type\":\"scattergl\"}],\"scattermapbox\":[{\"marker\":{\"colorbar\":{\"outlinewidth\":0,\"ticks\":\"\"}},\"type\":\"scattermapbox\"}],\"scatterpolar\":[{\"marker\":{\"colorbar\":{\"outlinewidth\":0,\"ticks\":\"\"}},\"type\":\"scatterpolar\"}],\"scatterpolargl\":[{\"marker\":{\"colorbar\":{\"outlinewidth\":0,\"ticks\":\"\"}},\"type\":\"scatterpolargl\"}],\"scatterternary\":[{\"marker\":{\"colorbar\":{\"outlinewidth\":0,\"ticks\":\"\"}},\"type\":\"scatterternary\"}],\"surface\":[{\"colorbar\":{\"outlinewidth\":0,\"ticks\":\"\"},\"colorscale\":[[0.0,\"#0d0887\"],[0.1111111111111111,\"#46039f\"],[0.2222222222222222,\"#7201a8\"],[0.3333333333333333,\"#9c179e\"],[0.4444444444444444,\"#bd3786\"],[0.5555555555555556,\"#d8576b\"],[0.6666666666666666,\"#ed7953\"],[0.7777777777777778,\"#fb9f3a\"],[0.8888888888888888,\"#fdca26\"],[1.0,\"#f0f921\"]],\"type\":\"surface\"}],\"table\":[{\"cells\":{\"fill\":{\"color\":\"#EBF0F8\"},\"line\":{\"color\":\"white\"}},\"header\":{\"fill\":{\"color\":\"#C8D4E3\"},\"line\":{\"color\":\"white\"}},\"type\":\"table\"}]},\"layout\":{\"annotationdefaults\":{\"arrowcolor\":\"#2a3f5f\",\"arrowhead\":0,\"arrowwidth\":1},\"autotypenumbers\":\"strict\",\"coloraxis\":{\"colorbar\":{\"outlinewidth\":0,\"ticks\":\"\"}},\"colorscale\":{\"diverging\":[[0,\"#8e0152\"],[0.1,\"#c51b7d\"],[0.2,\"#de77ae\"],[0.3,\"#f1b6da\"],[0.4,\"#fde0ef\"],[0.5,\"#f7f7f7\"],[0.6,\"#e6f5d0\"],[0.7,\"#b8e186\"],[0.8,\"#7fbc41\"],[0.9,\"#4d9221\"],[1,\"#276419\"]],\"sequential\":[[0.0,\"#0d0887\"],[0.1111111111111111,\"#46039f\"],[0.2222222222222222,\"#7201a8\"],[0.3333333333333333,\"#9c179e\"],[0.4444444444444444,\"#bd3786\"],[0.5555555555555556,\"#d8576b\"],[0.6666666666666666,\"#ed7953\"],[0.7777777777777778,\"#fb9f3a\"],[0.8888888888888888,\"#fdca26\"],[1.0,\"#f0f921\"]],\"sequentialminus\":[[0.0,\"#0d0887\"],[0.1111111111111111,\"#46039f\"],[0.2222222222222222,\"#7201a8\"],[0.3333333333333333,\"#9c179e\"],[0.4444444444444444,\"#bd3786\"],[0.5555555555555556,\"#d8576b\"],[0.6666666666666666,\"#ed7953\"],[0.7777777777777778,\"#fb9f3a\"],[0.8888888888888888,\"#fdca26\"],[1.0,\"#f0f921\"]]},\"colorway\":[\"#636efa\",\"#EF553B\",\"#00cc96\",\"#ab63fa\",\"#FFA15A\",\"#19d3f3\",\"#FF6692\",\"#B6E880\",\"#FF97FF\",\"#FECB52\"],\"font\":{\"color\":\"#2a3f5f\"},\"geo\":{\"bgcolor\":\"white\",\"lakecolor\":\"white\",\"landcolor\":\"#E5ECF6\",\"showlakes\":true,\"showland\":true,\"subunitcolor\":\"white\"},\"hoverlabel\":{\"align\":\"left\"},\"hovermode\":\"closest\",\"mapbox\":{\"style\":\"light\"},\"paper_bgcolor\":\"white\",\"plot_bgcolor\":\"#E5ECF6\",\"polar\":{\"angularaxis\":{\"gridcolor\":\"white\",\"linecolor\":\"white\",\"ticks\":\"\"},\"bgcolor\":\"#E5ECF6\",\"radialaxis\":{\"gridcolor\":\"white\",\"linecolor\":\"white\",\"ticks\":\"\"}},\"scene\":{\"xaxis\":{\"backgroundcolor\":\"#E5ECF6\",\"gridcolor\":\"white\",\"gridwidth\":2,\"linecolor\":\"white\",\"showbackground\":true,\"ticks\":\"\",\"zerolinecolor\":\"white\"},\"yaxis\":{\"backgroundcolor\":\"#E5ECF6\",\"gridcolor\":\"white\",\"gridwidth\":2,\"linecolor\":\"white\",\"showbackground\":true,\"ticks\":\"\",\"zerolinecolor\":\"white\"},\"zaxis\":{\"backgroundcolor\":\"#E5ECF6\",\"gridcolor\":\"white\",\"gridwidth\":2,\"linecolor\":\"white\",\"showbackground\":true,\"ticks\":\"\",\"zerolinecolor\":\"white\"}},\"shapedefaults\":{\"line\":{\"color\":\"#2a3f5f\"}},\"ternary\":{\"aaxis\":{\"gridcolor\":\"white\",\"linecolor\":\"white\",\"ticks\":\"\"},\"baxis\":{\"gridcolor\":\"white\",\"linecolor\":\"white\",\"ticks\":\"\"},\"bgcolor\":\"#E5ECF6\",\"caxis\":{\"gridcolor\":\"white\",\"linecolor\":\"white\",\"ticks\":\"\"}},\"title\":{\"x\":0.05},\"xaxis\":{\"automargin\":true,\"gridcolor\":\"white\",\"linecolor\":\"white\",\"ticks\":\"\",\"title\":{\"standoff\":15},\"zerolinecolor\":\"white\",\"zerolinewidth\":2},\"yaxis\":{\"automargin\":true,\"gridcolor\":\"white\",\"linecolor\":\"white\",\"ticks\":\"\",\"title\":{\"standoff\":15},\"zerolinecolor\":\"white\",\"zerolinewidth\":2}}},\"legend\":{\"tracegroupgap\":0},\"margin\":{\"t\":60}},                        {\"responsive\": true}                    ).then(function(){\n",
              "                            \n",
              "var gd = document.getElementById('5b23eade-a63a-4b45-ae32-1b4d60ca0a39');\n",
              "var x = new MutationObserver(function (mutations, observer) {{\n",
              "        var display = window.getComputedStyle(gd).display;\n",
              "        if (!display || display === 'none') {{\n",
              "            console.log([gd, 'removed!']);\n",
              "            Plotly.purge(gd);\n",
              "            observer.disconnect();\n",
              "        }}\n",
              "}});\n",
              "\n",
              "// Listen for the removal of the full notebook cells\n",
              "var notebookContainer = gd.closest('#notebook-container');\n",
              "if (notebookContainer) {{\n",
              "    x.observe(notebookContainer, {childList: true});\n",
              "}}\n",
              "\n",
              "// Listen for the clearing of the current output cell\n",
              "var outputEl = gd.closest('.output');\n",
              "if (outputEl) {{\n",
              "    x.observe(outputEl, {childList: true});\n",
              "}}\n",
              "\n",
              "                        })                };                            </script>        </div>\n",
              "</body>\n",
              "</html>"
            ]
          },
          "metadata": {}
        }
      ]
    },
    {
      "cell_type": "markdown",
      "source": [
        "\n",
        "A distribuição de acordo com a existencia de descontos.\n",
        "\n",
        "De acordo com o gráfico, a maioria das compras é realizada com ausência de desconto."
      ],
      "metadata": {
        "id": "Re08xQfLJyz4"
      }
    },
    {
      "cell_type": "code",
      "source": [
        "pie3 = data[\"Discount\"].value_counts()\n",
        "discount = pie3.index\n",
        "orders = pie3.values\n",
        "\n",
        "fig = px.pie(data, values=orders, names=discount)\n",
        "fig.show()"
      ],
      "metadata": {
        "colab": {
          "base_uri": "https://localhost:8080/",
          "height": 542
        },
        "id": "p5weQUsTJ6bI",
        "outputId": "8e6d8b1e-4aeb-4e9b-b0c0-fc5b3d498c6f"
      },
      "execution_count": 27,
      "outputs": [
        {
          "output_type": "display_data",
          "data": {
            "text/html": [
              "<html>\n",
              "<head><meta charset=\"utf-8\" /></head>\n",
              "<body>\n",
              "    <div>            <script src=\"https://cdnjs.cloudflare.com/ajax/libs/mathjax/2.7.5/MathJax.js?config=TeX-AMS-MML_SVG\"></script><script type=\"text/javascript\">if (window.MathJax) {MathJax.Hub.Config({SVG: {font: \"STIX-Web\"}});}</script>                <script type=\"text/javascript\">window.PlotlyConfig = {MathJaxConfig: 'local'};</script>\n",
              "        <script src=\"https://cdn.plot.ly/plotly-2.8.3.min.js\"></script>                <div id=\"96fec615-c1b4-4dcd-b89a-764bf1978ab2\" class=\"plotly-graph-div\" style=\"height:525px; width:100%;\"></div>            <script type=\"text/javascript\">                                    window.PLOTLYENV=window.PLOTLYENV || {};                                    if (document.getElementById(\"96fec615-c1b4-4dcd-b89a-764bf1978ab2\")) {                    Plotly.newPlot(                        \"96fec615-c1b4-4dcd-b89a-764bf1978ab2\",                        [{\"domain\":{\"x\":[0.0,1.0],\"y\":[0.0,1.0]},\"hovertemplate\":\"label=%{label}<br>value=%{value}<extra></extra>\",\"labels\":[\"No\",\"Yes\"],\"legendgroup\":\"\",\"name\":\"\",\"showlegend\":true,\"values\":[104051,84289],\"type\":\"pie\"}],                        {\"template\":{\"data\":{\"bar\":[{\"error_x\":{\"color\":\"#2a3f5f\"},\"error_y\":{\"color\":\"#2a3f5f\"},\"marker\":{\"line\":{\"color\":\"#E5ECF6\",\"width\":0.5},\"pattern\":{\"fillmode\":\"overlay\",\"size\":10,\"solidity\":0.2}},\"type\":\"bar\"}],\"barpolar\":[{\"marker\":{\"line\":{\"color\":\"#E5ECF6\",\"width\":0.5},\"pattern\":{\"fillmode\":\"overlay\",\"size\":10,\"solidity\":0.2}},\"type\":\"barpolar\"}],\"carpet\":[{\"aaxis\":{\"endlinecolor\":\"#2a3f5f\",\"gridcolor\":\"white\",\"linecolor\":\"white\",\"minorgridcolor\":\"white\",\"startlinecolor\":\"#2a3f5f\"},\"baxis\":{\"endlinecolor\":\"#2a3f5f\",\"gridcolor\":\"white\",\"linecolor\":\"white\",\"minorgridcolor\":\"white\",\"startlinecolor\":\"#2a3f5f\"},\"type\":\"carpet\"}],\"choropleth\":[{\"colorbar\":{\"outlinewidth\":0,\"ticks\":\"\"},\"type\":\"choropleth\"}],\"contour\":[{\"colorbar\":{\"outlinewidth\":0,\"ticks\":\"\"},\"colorscale\":[[0.0,\"#0d0887\"],[0.1111111111111111,\"#46039f\"],[0.2222222222222222,\"#7201a8\"],[0.3333333333333333,\"#9c179e\"],[0.4444444444444444,\"#bd3786\"],[0.5555555555555556,\"#d8576b\"],[0.6666666666666666,\"#ed7953\"],[0.7777777777777778,\"#fb9f3a\"],[0.8888888888888888,\"#fdca26\"],[1.0,\"#f0f921\"]],\"type\":\"contour\"}],\"contourcarpet\":[{\"colorbar\":{\"outlinewidth\":0,\"ticks\":\"\"},\"type\":\"contourcarpet\"}],\"heatmap\":[{\"colorbar\":{\"outlinewidth\":0,\"ticks\":\"\"},\"colorscale\":[[0.0,\"#0d0887\"],[0.1111111111111111,\"#46039f\"],[0.2222222222222222,\"#7201a8\"],[0.3333333333333333,\"#9c179e\"],[0.4444444444444444,\"#bd3786\"],[0.5555555555555556,\"#d8576b\"],[0.6666666666666666,\"#ed7953\"],[0.7777777777777778,\"#fb9f3a\"],[0.8888888888888888,\"#fdca26\"],[1.0,\"#f0f921\"]],\"type\":\"heatmap\"}],\"heatmapgl\":[{\"colorbar\":{\"outlinewidth\":0,\"ticks\":\"\"},\"colorscale\":[[0.0,\"#0d0887\"],[0.1111111111111111,\"#46039f\"],[0.2222222222222222,\"#7201a8\"],[0.3333333333333333,\"#9c179e\"],[0.4444444444444444,\"#bd3786\"],[0.5555555555555556,\"#d8576b\"],[0.6666666666666666,\"#ed7953\"],[0.7777777777777778,\"#fb9f3a\"],[0.8888888888888888,\"#fdca26\"],[1.0,\"#f0f921\"]],\"type\":\"heatmapgl\"}],\"histogram\":[{\"marker\":{\"pattern\":{\"fillmode\":\"overlay\",\"size\":10,\"solidity\":0.2}},\"type\":\"histogram\"}],\"histogram2d\":[{\"colorbar\":{\"outlinewidth\":0,\"ticks\":\"\"},\"colorscale\":[[0.0,\"#0d0887\"],[0.1111111111111111,\"#46039f\"],[0.2222222222222222,\"#7201a8\"],[0.3333333333333333,\"#9c179e\"],[0.4444444444444444,\"#bd3786\"],[0.5555555555555556,\"#d8576b\"],[0.6666666666666666,\"#ed7953\"],[0.7777777777777778,\"#fb9f3a\"],[0.8888888888888888,\"#fdca26\"],[1.0,\"#f0f921\"]],\"type\":\"histogram2d\"}],\"histogram2dcontour\":[{\"colorbar\":{\"outlinewidth\":0,\"ticks\":\"\"},\"colorscale\":[[0.0,\"#0d0887\"],[0.1111111111111111,\"#46039f\"],[0.2222222222222222,\"#7201a8\"],[0.3333333333333333,\"#9c179e\"],[0.4444444444444444,\"#bd3786\"],[0.5555555555555556,\"#d8576b\"],[0.6666666666666666,\"#ed7953\"],[0.7777777777777778,\"#fb9f3a\"],[0.8888888888888888,\"#fdca26\"],[1.0,\"#f0f921\"]],\"type\":\"histogram2dcontour\"}],\"mesh3d\":[{\"colorbar\":{\"outlinewidth\":0,\"ticks\":\"\"},\"type\":\"mesh3d\"}],\"parcoords\":[{\"line\":{\"colorbar\":{\"outlinewidth\":0,\"ticks\":\"\"}},\"type\":\"parcoords\"}],\"pie\":[{\"automargin\":true,\"type\":\"pie\"}],\"scatter\":[{\"marker\":{\"colorbar\":{\"outlinewidth\":0,\"ticks\":\"\"}},\"type\":\"scatter\"}],\"scatter3d\":[{\"line\":{\"colorbar\":{\"outlinewidth\":0,\"ticks\":\"\"}},\"marker\":{\"colorbar\":{\"outlinewidth\":0,\"ticks\":\"\"}},\"type\":\"scatter3d\"}],\"scattercarpet\":[{\"marker\":{\"colorbar\":{\"outlinewidth\":0,\"ticks\":\"\"}},\"type\":\"scattercarpet\"}],\"scattergeo\":[{\"marker\":{\"colorbar\":{\"outlinewidth\":0,\"ticks\":\"\"}},\"type\":\"scattergeo\"}],\"scattergl\":[{\"marker\":{\"colorbar\":{\"outlinewidth\":0,\"ticks\":\"\"}},\"type\":\"scattergl\"}],\"scattermapbox\":[{\"marker\":{\"colorbar\":{\"outlinewidth\":0,\"ticks\":\"\"}},\"type\":\"scattermapbox\"}],\"scatterpolar\":[{\"marker\":{\"colorbar\":{\"outlinewidth\":0,\"ticks\":\"\"}},\"type\":\"scatterpolar\"}],\"scatterpolargl\":[{\"marker\":{\"colorbar\":{\"outlinewidth\":0,\"ticks\":\"\"}},\"type\":\"scatterpolargl\"}],\"scatterternary\":[{\"marker\":{\"colorbar\":{\"outlinewidth\":0,\"ticks\":\"\"}},\"type\":\"scatterternary\"}],\"surface\":[{\"colorbar\":{\"outlinewidth\":0,\"ticks\":\"\"},\"colorscale\":[[0.0,\"#0d0887\"],[0.1111111111111111,\"#46039f\"],[0.2222222222222222,\"#7201a8\"],[0.3333333333333333,\"#9c179e\"],[0.4444444444444444,\"#bd3786\"],[0.5555555555555556,\"#d8576b\"],[0.6666666666666666,\"#ed7953\"],[0.7777777777777778,\"#fb9f3a\"],[0.8888888888888888,\"#fdca26\"],[1.0,\"#f0f921\"]],\"type\":\"surface\"}],\"table\":[{\"cells\":{\"fill\":{\"color\":\"#EBF0F8\"},\"line\":{\"color\":\"white\"}},\"header\":{\"fill\":{\"color\":\"#C8D4E3\"},\"line\":{\"color\":\"white\"}},\"type\":\"table\"}]},\"layout\":{\"annotationdefaults\":{\"arrowcolor\":\"#2a3f5f\",\"arrowhead\":0,\"arrowwidth\":1},\"autotypenumbers\":\"strict\",\"coloraxis\":{\"colorbar\":{\"outlinewidth\":0,\"ticks\":\"\"}},\"colorscale\":{\"diverging\":[[0,\"#8e0152\"],[0.1,\"#c51b7d\"],[0.2,\"#de77ae\"],[0.3,\"#f1b6da\"],[0.4,\"#fde0ef\"],[0.5,\"#f7f7f7\"],[0.6,\"#e6f5d0\"],[0.7,\"#b8e186\"],[0.8,\"#7fbc41\"],[0.9,\"#4d9221\"],[1,\"#276419\"]],\"sequential\":[[0.0,\"#0d0887\"],[0.1111111111111111,\"#46039f\"],[0.2222222222222222,\"#7201a8\"],[0.3333333333333333,\"#9c179e\"],[0.4444444444444444,\"#bd3786\"],[0.5555555555555556,\"#d8576b\"],[0.6666666666666666,\"#ed7953\"],[0.7777777777777778,\"#fb9f3a\"],[0.8888888888888888,\"#fdca26\"],[1.0,\"#f0f921\"]],\"sequentialminus\":[[0.0,\"#0d0887\"],[0.1111111111111111,\"#46039f\"],[0.2222222222222222,\"#7201a8\"],[0.3333333333333333,\"#9c179e\"],[0.4444444444444444,\"#bd3786\"],[0.5555555555555556,\"#d8576b\"],[0.6666666666666666,\"#ed7953\"],[0.7777777777777778,\"#fb9f3a\"],[0.8888888888888888,\"#fdca26\"],[1.0,\"#f0f921\"]]},\"colorway\":[\"#636efa\",\"#EF553B\",\"#00cc96\",\"#ab63fa\",\"#FFA15A\",\"#19d3f3\",\"#FF6692\",\"#B6E880\",\"#FF97FF\",\"#FECB52\"],\"font\":{\"color\":\"#2a3f5f\"},\"geo\":{\"bgcolor\":\"white\",\"lakecolor\":\"white\",\"landcolor\":\"#E5ECF6\",\"showlakes\":true,\"showland\":true,\"subunitcolor\":\"white\"},\"hoverlabel\":{\"align\":\"left\"},\"hovermode\":\"closest\",\"mapbox\":{\"style\":\"light\"},\"paper_bgcolor\":\"white\",\"plot_bgcolor\":\"#E5ECF6\",\"polar\":{\"angularaxis\":{\"gridcolor\":\"white\",\"linecolor\":\"white\",\"ticks\":\"\"},\"bgcolor\":\"#E5ECF6\",\"radialaxis\":{\"gridcolor\":\"white\",\"linecolor\":\"white\",\"ticks\":\"\"}},\"scene\":{\"xaxis\":{\"backgroundcolor\":\"#E5ECF6\",\"gridcolor\":\"white\",\"gridwidth\":2,\"linecolor\":\"white\",\"showbackground\":true,\"ticks\":\"\",\"zerolinecolor\":\"white\"},\"yaxis\":{\"backgroundcolor\":\"#E5ECF6\",\"gridcolor\":\"white\",\"gridwidth\":2,\"linecolor\":\"white\",\"showbackground\":true,\"ticks\":\"\",\"zerolinecolor\":\"white\"},\"zaxis\":{\"backgroundcolor\":\"#E5ECF6\",\"gridcolor\":\"white\",\"gridwidth\":2,\"linecolor\":\"white\",\"showbackground\":true,\"ticks\":\"\",\"zerolinecolor\":\"white\"}},\"shapedefaults\":{\"line\":{\"color\":\"#2a3f5f\"}},\"ternary\":{\"aaxis\":{\"gridcolor\":\"white\",\"linecolor\":\"white\",\"ticks\":\"\"},\"baxis\":{\"gridcolor\":\"white\",\"linecolor\":\"white\",\"ticks\":\"\"},\"bgcolor\":\"#E5ECF6\",\"caxis\":{\"gridcolor\":\"white\",\"linecolor\":\"white\",\"ticks\":\"\"}},\"title\":{\"x\":0.05},\"xaxis\":{\"automargin\":true,\"gridcolor\":\"white\",\"linecolor\":\"white\",\"ticks\":\"\",\"title\":{\"standoff\":15},\"zerolinecolor\":\"white\",\"zerolinewidth\":2},\"yaxis\":{\"automargin\":true,\"gridcolor\":\"white\",\"linecolor\":\"white\",\"ticks\":\"\",\"title\":{\"standoff\":15},\"zerolinecolor\":\"white\",\"zerolinewidth\":2}}},\"legend\":{\"tracegroupgap\":0},\"margin\":{\"t\":60}},                        {\"responsive\": true}                    ).then(function(){\n",
              "                            \n",
              "var gd = document.getElementById('96fec615-c1b4-4dcd-b89a-764bf1978ab2');\n",
              "var x = new MutationObserver(function (mutations, observer) {{\n",
              "        var display = window.getComputedStyle(gd).display;\n",
              "        if (!display || display === 'none') {{\n",
              "            console.log([gd, 'removed!']);\n",
              "            Plotly.purge(gd);\n",
              "            observer.disconnect();\n",
              "        }}\n",
              "}});\n",
              "\n",
              "// Listen for the removal of the full notebook cells\n",
              "var notebookContainer = gd.closest('#notebook-container');\n",
              "if (notebookContainer) {{\n",
              "    x.observe(notebookContainer, {childList: true});\n",
              "}}\n",
              "\n",
              "// Listen for the clearing of the current output cell\n",
              "var outputEl = gd.closest('.output');\n",
              "if (outputEl) {{\n",
              "    x.observe(outputEl, {childList: true});\n",
              "}}\n",
              "\n",
              "                        })                };                            </script>        </div>\n",
              "</body>\n",
              "</html>"
            ]
          },
          "metadata": {}
        }
      ]
    },
    {
      "cell_type": "markdown",
      "source": [
        "A distribuição das compras entre dias úteis e feriados.\n",
        "\n",
        "De acordo com o gráfico, a maior quantidade de pedidos encontra-se nos dias úteis."
      ],
      "metadata": {
        "id": "BQQ5TPY8J-mQ"
      }
    },
    {
      "cell_type": "code",
      "source": [
        "pie4 = data[\"Holiday\"].value_counts()\n",
        "holiday = pie4.index\n",
        "orders = pie4.values\n",
        "\n",
        "fig = px.pie(data, values=orders, names=holiday)\n",
        "fig.show()"
      ],
      "metadata": {
        "colab": {
          "base_uri": "https://localhost:8080/",
          "height": 542
        },
        "id": "y2zL_bkiJ_GA",
        "outputId": "406d1485-03d3-415d-a35d-86609f4080b2"
      },
      "execution_count": 28,
      "outputs": [
        {
          "output_type": "display_data",
          "data": {
            "text/html": [
              "<html>\n",
              "<head><meta charset=\"utf-8\" /></head>\n",
              "<body>\n",
              "    <div>            <script src=\"https://cdnjs.cloudflare.com/ajax/libs/mathjax/2.7.5/MathJax.js?config=TeX-AMS-MML_SVG\"></script><script type=\"text/javascript\">if (window.MathJax) {MathJax.Hub.Config({SVG: {font: \"STIX-Web\"}});}</script>                <script type=\"text/javascript\">window.PlotlyConfig = {MathJaxConfig: 'local'};</script>\n",
              "        <script src=\"https://cdn.plot.ly/plotly-2.8.3.min.js\"></script>                <div id=\"794ea3af-1d57-4800-a03d-c827f81f008e\" class=\"plotly-graph-div\" style=\"height:525px; width:100%;\"></div>            <script type=\"text/javascript\">                                    window.PLOTLYENV=window.PLOTLYENV || {};                                    if (document.getElementById(\"794ea3af-1d57-4800-a03d-c827f81f008e\")) {                    Plotly.newPlot(                        \"794ea3af-1d57-4800-a03d-c827f81f008e\",                        [{\"domain\":{\"x\":[0.0,1.0],\"y\":[0.0,1.0]},\"hovertemplate\":\"label=%{label}<br>value=%{value}<extra></extra>\",\"labels\":[0,1],\"legendgroup\":\"\",\"name\":\"\",\"showlegend\":true,\"values\":[163520,24820],\"type\":\"pie\"}],                        {\"template\":{\"data\":{\"bar\":[{\"error_x\":{\"color\":\"#2a3f5f\"},\"error_y\":{\"color\":\"#2a3f5f\"},\"marker\":{\"line\":{\"color\":\"#E5ECF6\",\"width\":0.5},\"pattern\":{\"fillmode\":\"overlay\",\"size\":10,\"solidity\":0.2}},\"type\":\"bar\"}],\"barpolar\":[{\"marker\":{\"line\":{\"color\":\"#E5ECF6\",\"width\":0.5},\"pattern\":{\"fillmode\":\"overlay\",\"size\":10,\"solidity\":0.2}},\"type\":\"barpolar\"}],\"carpet\":[{\"aaxis\":{\"endlinecolor\":\"#2a3f5f\",\"gridcolor\":\"white\",\"linecolor\":\"white\",\"minorgridcolor\":\"white\",\"startlinecolor\":\"#2a3f5f\"},\"baxis\":{\"endlinecolor\":\"#2a3f5f\",\"gridcolor\":\"white\",\"linecolor\":\"white\",\"minorgridcolor\":\"white\",\"startlinecolor\":\"#2a3f5f\"},\"type\":\"carpet\"}],\"choropleth\":[{\"colorbar\":{\"outlinewidth\":0,\"ticks\":\"\"},\"type\":\"choropleth\"}],\"contour\":[{\"colorbar\":{\"outlinewidth\":0,\"ticks\":\"\"},\"colorscale\":[[0.0,\"#0d0887\"],[0.1111111111111111,\"#46039f\"],[0.2222222222222222,\"#7201a8\"],[0.3333333333333333,\"#9c179e\"],[0.4444444444444444,\"#bd3786\"],[0.5555555555555556,\"#d8576b\"],[0.6666666666666666,\"#ed7953\"],[0.7777777777777778,\"#fb9f3a\"],[0.8888888888888888,\"#fdca26\"],[1.0,\"#f0f921\"]],\"type\":\"contour\"}],\"contourcarpet\":[{\"colorbar\":{\"outlinewidth\":0,\"ticks\":\"\"},\"type\":\"contourcarpet\"}],\"heatmap\":[{\"colorbar\":{\"outlinewidth\":0,\"ticks\":\"\"},\"colorscale\":[[0.0,\"#0d0887\"],[0.1111111111111111,\"#46039f\"],[0.2222222222222222,\"#7201a8\"],[0.3333333333333333,\"#9c179e\"],[0.4444444444444444,\"#bd3786\"],[0.5555555555555556,\"#d8576b\"],[0.6666666666666666,\"#ed7953\"],[0.7777777777777778,\"#fb9f3a\"],[0.8888888888888888,\"#fdca26\"],[1.0,\"#f0f921\"]],\"type\":\"heatmap\"}],\"heatmapgl\":[{\"colorbar\":{\"outlinewidth\":0,\"ticks\":\"\"},\"colorscale\":[[0.0,\"#0d0887\"],[0.1111111111111111,\"#46039f\"],[0.2222222222222222,\"#7201a8\"],[0.3333333333333333,\"#9c179e\"],[0.4444444444444444,\"#bd3786\"],[0.5555555555555556,\"#d8576b\"],[0.6666666666666666,\"#ed7953\"],[0.7777777777777778,\"#fb9f3a\"],[0.8888888888888888,\"#fdca26\"],[1.0,\"#f0f921\"]],\"type\":\"heatmapgl\"}],\"histogram\":[{\"marker\":{\"pattern\":{\"fillmode\":\"overlay\",\"size\":10,\"solidity\":0.2}},\"type\":\"histogram\"}],\"histogram2d\":[{\"colorbar\":{\"outlinewidth\":0,\"ticks\":\"\"},\"colorscale\":[[0.0,\"#0d0887\"],[0.1111111111111111,\"#46039f\"],[0.2222222222222222,\"#7201a8\"],[0.3333333333333333,\"#9c179e\"],[0.4444444444444444,\"#bd3786\"],[0.5555555555555556,\"#d8576b\"],[0.6666666666666666,\"#ed7953\"],[0.7777777777777778,\"#fb9f3a\"],[0.8888888888888888,\"#fdca26\"],[1.0,\"#f0f921\"]],\"type\":\"histogram2d\"}],\"histogram2dcontour\":[{\"colorbar\":{\"outlinewidth\":0,\"ticks\":\"\"},\"colorscale\":[[0.0,\"#0d0887\"],[0.1111111111111111,\"#46039f\"],[0.2222222222222222,\"#7201a8\"],[0.3333333333333333,\"#9c179e\"],[0.4444444444444444,\"#bd3786\"],[0.5555555555555556,\"#d8576b\"],[0.6666666666666666,\"#ed7953\"],[0.7777777777777778,\"#fb9f3a\"],[0.8888888888888888,\"#fdca26\"],[1.0,\"#f0f921\"]],\"type\":\"histogram2dcontour\"}],\"mesh3d\":[{\"colorbar\":{\"outlinewidth\":0,\"ticks\":\"\"},\"type\":\"mesh3d\"}],\"parcoords\":[{\"line\":{\"colorbar\":{\"outlinewidth\":0,\"ticks\":\"\"}},\"type\":\"parcoords\"}],\"pie\":[{\"automargin\":true,\"type\":\"pie\"}],\"scatter\":[{\"marker\":{\"colorbar\":{\"outlinewidth\":0,\"ticks\":\"\"}},\"type\":\"scatter\"}],\"scatter3d\":[{\"line\":{\"colorbar\":{\"outlinewidth\":0,\"ticks\":\"\"}},\"marker\":{\"colorbar\":{\"outlinewidth\":0,\"ticks\":\"\"}},\"type\":\"scatter3d\"}],\"scattercarpet\":[{\"marker\":{\"colorbar\":{\"outlinewidth\":0,\"ticks\":\"\"}},\"type\":\"scattercarpet\"}],\"scattergeo\":[{\"marker\":{\"colorbar\":{\"outlinewidth\":0,\"ticks\":\"\"}},\"type\":\"scattergeo\"}],\"scattergl\":[{\"marker\":{\"colorbar\":{\"outlinewidth\":0,\"ticks\":\"\"}},\"type\":\"scattergl\"}],\"scattermapbox\":[{\"marker\":{\"colorbar\":{\"outlinewidth\":0,\"ticks\":\"\"}},\"type\":\"scattermapbox\"}],\"scatterpolar\":[{\"marker\":{\"colorbar\":{\"outlinewidth\":0,\"ticks\":\"\"}},\"type\":\"scatterpolar\"}],\"scatterpolargl\":[{\"marker\":{\"colorbar\":{\"outlinewidth\":0,\"ticks\":\"\"}},\"type\":\"scatterpolargl\"}],\"scatterternary\":[{\"marker\":{\"colorbar\":{\"outlinewidth\":0,\"ticks\":\"\"}},\"type\":\"scatterternary\"}],\"surface\":[{\"colorbar\":{\"outlinewidth\":0,\"ticks\":\"\"},\"colorscale\":[[0.0,\"#0d0887\"],[0.1111111111111111,\"#46039f\"],[0.2222222222222222,\"#7201a8\"],[0.3333333333333333,\"#9c179e\"],[0.4444444444444444,\"#bd3786\"],[0.5555555555555556,\"#d8576b\"],[0.6666666666666666,\"#ed7953\"],[0.7777777777777778,\"#fb9f3a\"],[0.8888888888888888,\"#fdca26\"],[1.0,\"#f0f921\"]],\"type\":\"surface\"}],\"table\":[{\"cells\":{\"fill\":{\"color\":\"#EBF0F8\"},\"line\":{\"color\":\"white\"}},\"header\":{\"fill\":{\"color\":\"#C8D4E3\"},\"line\":{\"color\":\"white\"}},\"type\":\"table\"}]},\"layout\":{\"annotationdefaults\":{\"arrowcolor\":\"#2a3f5f\",\"arrowhead\":0,\"arrowwidth\":1},\"autotypenumbers\":\"strict\",\"coloraxis\":{\"colorbar\":{\"outlinewidth\":0,\"ticks\":\"\"}},\"colorscale\":{\"diverging\":[[0,\"#8e0152\"],[0.1,\"#c51b7d\"],[0.2,\"#de77ae\"],[0.3,\"#f1b6da\"],[0.4,\"#fde0ef\"],[0.5,\"#f7f7f7\"],[0.6,\"#e6f5d0\"],[0.7,\"#b8e186\"],[0.8,\"#7fbc41\"],[0.9,\"#4d9221\"],[1,\"#276419\"]],\"sequential\":[[0.0,\"#0d0887\"],[0.1111111111111111,\"#46039f\"],[0.2222222222222222,\"#7201a8\"],[0.3333333333333333,\"#9c179e\"],[0.4444444444444444,\"#bd3786\"],[0.5555555555555556,\"#d8576b\"],[0.6666666666666666,\"#ed7953\"],[0.7777777777777778,\"#fb9f3a\"],[0.8888888888888888,\"#fdca26\"],[1.0,\"#f0f921\"]],\"sequentialminus\":[[0.0,\"#0d0887\"],[0.1111111111111111,\"#46039f\"],[0.2222222222222222,\"#7201a8\"],[0.3333333333333333,\"#9c179e\"],[0.4444444444444444,\"#bd3786\"],[0.5555555555555556,\"#d8576b\"],[0.6666666666666666,\"#ed7953\"],[0.7777777777777778,\"#fb9f3a\"],[0.8888888888888888,\"#fdca26\"],[1.0,\"#f0f921\"]]},\"colorway\":[\"#636efa\",\"#EF553B\",\"#00cc96\",\"#ab63fa\",\"#FFA15A\",\"#19d3f3\",\"#FF6692\",\"#B6E880\",\"#FF97FF\",\"#FECB52\"],\"font\":{\"color\":\"#2a3f5f\"},\"geo\":{\"bgcolor\":\"white\",\"lakecolor\":\"white\",\"landcolor\":\"#E5ECF6\",\"showlakes\":true,\"showland\":true,\"subunitcolor\":\"white\"},\"hoverlabel\":{\"align\":\"left\"},\"hovermode\":\"closest\",\"mapbox\":{\"style\":\"light\"},\"paper_bgcolor\":\"white\",\"plot_bgcolor\":\"#E5ECF6\",\"polar\":{\"angularaxis\":{\"gridcolor\":\"white\",\"linecolor\":\"white\",\"ticks\":\"\"},\"bgcolor\":\"#E5ECF6\",\"radialaxis\":{\"gridcolor\":\"white\",\"linecolor\":\"white\",\"ticks\":\"\"}},\"scene\":{\"xaxis\":{\"backgroundcolor\":\"#E5ECF6\",\"gridcolor\":\"white\",\"gridwidth\":2,\"linecolor\":\"white\",\"showbackground\":true,\"ticks\":\"\",\"zerolinecolor\":\"white\"},\"yaxis\":{\"backgroundcolor\":\"#E5ECF6\",\"gridcolor\":\"white\",\"gridwidth\":2,\"linecolor\":\"white\",\"showbackground\":true,\"ticks\":\"\",\"zerolinecolor\":\"white\"},\"zaxis\":{\"backgroundcolor\":\"#E5ECF6\",\"gridcolor\":\"white\",\"gridwidth\":2,\"linecolor\":\"white\",\"showbackground\":true,\"ticks\":\"\",\"zerolinecolor\":\"white\"}},\"shapedefaults\":{\"line\":{\"color\":\"#2a3f5f\"}},\"ternary\":{\"aaxis\":{\"gridcolor\":\"white\",\"linecolor\":\"white\",\"ticks\":\"\"},\"baxis\":{\"gridcolor\":\"white\",\"linecolor\":\"white\",\"ticks\":\"\"},\"bgcolor\":\"#E5ECF6\",\"caxis\":{\"gridcolor\":\"white\",\"linecolor\":\"white\",\"ticks\":\"\"}},\"title\":{\"x\":0.05},\"xaxis\":{\"automargin\":true,\"gridcolor\":\"white\",\"linecolor\":\"white\",\"ticks\":\"\",\"title\":{\"standoff\":15},\"zerolinecolor\":\"white\",\"zerolinewidth\":2},\"yaxis\":{\"automargin\":true,\"gridcolor\":\"white\",\"linecolor\":\"white\",\"ticks\":\"\",\"title\":{\"standoff\":15},\"zerolinecolor\":\"white\",\"zerolinewidth\":2}}},\"legend\":{\"tracegroupgap\":0},\"margin\":{\"t\":60}},                        {\"responsive\": true}                    ).then(function(){\n",
              "                            \n",
              "var gd = document.getElementById('794ea3af-1d57-4800-a03d-c827f81f008e');\n",
              "var x = new MutationObserver(function (mutations, observer) {{\n",
              "        var display = window.getComputedStyle(gd).display;\n",
              "        if (!display || display === 'none') {{\n",
              "            console.log([gd, 'removed!']);\n",
              "            Plotly.purge(gd);\n",
              "            observer.disconnect();\n",
              "        }}\n",
              "}});\n",
              "\n",
              "// Listen for the removal of the full notebook cells\n",
              "var notebookContainer = gd.closest('#notebook-container');\n",
              "if (notebookContainer) {{\n",
              "    x.observe(notebookContainer, {childList: true});\n",
              "}}\n",
              "\n",
              "// Listen for the clearing of the current output cell\n",
              "var outputEl = gd.closest('.output');\n",
              "if (outputEl) {{\n",
              "    x.observe(outputEl, {childList: true});\n",
              "}}\n",
              "\n",
              "                        })                };                            </script>        </div>\n",
              "</body>\n",
              "</html>"
            ]
          },
          "metadata": {}
        }
      ]
    },
    {
      "cell_type": "markdown",
      "source": [
        "##Implementação do algoritimo de Machine Learning\n"
      ],
      "metadata": {
        "id": "gA2969woKGoK"
      }
    },
    {
      "cell_type": "markdown",
      "source": [
        "Importe das bibliotecas:"
      ],
      "metadata": {
        "id": "k5Y9GhNJKNww"
      }
    },
    {
      "cell_type": "code",
      "source": [
        "from sklearn.model_selection import train_test_split\n",
        "import lightgbm as ltb\n",
        "import numpy as np\n",
        "from sklearn.metrics import mean_absolute_percentage_error\n",
        "import pandas as pd\n",
        "import matplotlib.pyplot as plt\n",
        "import seaborn as sns"
      ],
      "metadata": {
        "id": "rZX5U9D4KQ_4"
      },
      "execution_count": 29,
      "outputs": []
    },
    {
      "cell_type": "markdown",
      "source": [
        "Hiperparâmetros Store_Type Discount Location_Type Holiday\n",
        "\n",
        "Os hiperparâmetros foram selecionados de acordo os dados que mais influenciam na compra dos produtos, sendo eles o tipo de loja, localização, existência ou não de desconto e se a data é um feriado.\n",
        "\n",
        "Todos os dados foram convertidos em valores númericos a fim de realizar as operações de aprendizado de máquina."
      ],
      "metadata": {
        "id": "vo8n_LZ0KUlw"
      }
    },
    {
      "cell_type": "code",
      "source": [
        "replacer = {\n",
        "  \"Store_Type\": {\"S1\": 1, \"S2\": 2, \"S3\": 3, \"S4\": 4}, \n",
        "  \"Discount\": {\"No\": 0, \"Yes\": 1},\n",
        "  \"Location_Type\": {\"L1\": 1, \"L2\": 2, \"L3\": 3, \"L4\": 4, \"L5\": 5}\n",
        "}\n",
        "data = data.replace(replacer)"
      ],
      "metadata": {
        "id": "7g4w5QRXKXVi"
      },
      "execution_count": 30,
      "outputs": []
    },
    {
      "cell_type": "markdown",
      "source": [
        "Separamos Store_Type Discount Location_Type Holiday como variaveris de entrada x e #Order como objetivo(saída)\n",
        "\n",
        "Os dados foram divididos em 80% para treinamento e 20% para validação."
      ],
      "metadata": {
        "id": "THnG9D2sKZ9I"
      }
    },
    {
      "cell_type": "code",
      "source": [
        "x = np.array(data[[\"Store_Type\", \"Location_Type\", \"Holiday\", \"Discount\"]])\n",
        "y = np.array(data[\"#Order\"])\n",
        "\n",
        "x_train, x_test, y_train, y_test = train_test_split(\n",
        "  x, y, test_size=0.2, random_state=0\n",
        ")\n",
        "\n",
        "print(f'Número total de dados: {np.size(y)}')\n",
        "print(f'Número de dados para treino: {np.size(y_train)}')\n",
        "print(f'Número de dados para validação: {np.size(y_test)}')"
      ],
      "metadata": {
        "colab": {
          "base_uri": "https://localhost:8080/"
        },
        "id": "JPnfnCQzKa_4",
        "outputId": "ffaded35-65fc-43b6-aaa4-ccc1037a636f"
      },
      "execution_count": 31,
      "outputs": [
        {
          "output_type": "stream",
          "name": "stdout",
          "text": [
            "Número total de dados: 188340\n",
            "Número de dados para treino: 150672\n",
            "Número de dados para validação: 37668\n"
          ]
        }
      ]
    },
    {
      "cell_type": "markdown",
      "source": [
        "É utilizado o artigo BigMart Sales Prediction Using Machine Learning Techniques que utiliza a predição de vendas baseado nas filiais BigMart com o intuito de otimizar o volume de vendas utilizando vários métodos de aprendizado de máquina, disponibilizado em http://www.ijsred.com/volume3/issue4/IJSRED-V3I4P81.pdf como embasamento teórico. No artigo é apresentado um comparativo entre métodos de aprendizado de máquina utilizando o erro quadrático médio como parâmetro de performance, os métodos desenvolvidos foram gradient boost, decision tree, random forest, linear regression e ridge regression.\n",
        "\n",
        "O método de gradient boost apresentou o melhor desempenho comparativo, como o artigo apresenta um objetivo preditivo semelhante ao nosso, optamos pela utilização desse método.\n",
        "\n",
        "O algoritmo Gradient Boosting é uma técnica de aprendizado de máquina para problemas de regressão e classificação, que produz um modelo de previsão na forma de um conjunto de modelos de previsão fracos, geralmente árvores de decisão. Ele constrói o modelo em etapas, como outros métodos de reforço, e os generaliza, permitindo a otimização de uma função de perda diferenciável arbitrária.\n",
        "\n",
        "O objetivo do algoritmo é criar uma corrente de modelos fracos, onde cada um tem como objetivo minimizar o erro do modelo anterior, por meio de uma função de perda."
      ],
      "metadata": {
        "id": "JrqS4Zh3Kg8g"
      }
    },
    {
      "cell_type": "code",
      "source": [
        "model = ltb.LGBMRegressor()\n",
        "model.fit(x_train, y_train)"
      ],
      "metadata": {
        "colab": {
          "base_uri": "https://localhost:8080/"
        },
        "id": "LlDbWMkMKqN6",
        "outputId": "9dc7705c-de75-467f-96ec-be527b933b33"
      },
      "execution_count": 32,
      "outputs": [
        {
          "output_type": "execute_result",
          "data": {
            "text/plain": [
              "LGBMRegressor()"
            ]
          },
          "metadata": {},
          "execution_count": 32
        }
      ]
    },
    {
      "cell_type": "markdown",
      "source": [
        "Nesse ponto do trabalho aplica-se os dados de validação no modelo obtido. Depois é criado um dataframe com os valores preditivos e reais."
      ],
      "metadata": {
        "id": "dbGxpaJSKvbQ"
      }
    },
    {
      "cell_type": "code",
      "source": [
        "y_pred = model.predict(x_test)\n",
        "res = pd.DataFrame(data={\n",
        "  \"Predicted Orders\": y_pred.flatten(), \n",
        "  \"Real Orders\": y_test.flatten(),\n",
        "  \"Diff\": y_pred.flatten() - y_test.flatten(),\n",
        "})\n",
        "res.head()"
      ],
      "metadata": {
        "colab": {
          "base_uri": "https://localhost:8080/",
          "height": 206
        },
        "id": "12qQyXFTK1gp",
        "outputId": "a254cdc9-0dd9-485d-8f18-e41c8297f95f"
      },
      "execution_count": 33,
      "outputs": [
        {
          "output_type": "execute_result",
          "data": {
            "text/plain": [
              "   Predicted Orders  Real Orders       Diff\n",
              "0        100.011180          133 -32.988820\n",
              "1         47.499033           41   6.499033\n",
              "2         52.036968           33  19.036968\n",
              "3         39.589394           44  -4.410606\n",
              "4         41.290400           68 -26.709600"
            ],
            "text/html": [
              "\n",
              "  <div id=\"df-fab93332-13b9-48da-8c19-e9264a6b49f6\">\n",
              "    <div class=\"colab-df-container\">\n",
              "      <div>\n",
              "<style scoped>\n",
              "    .dataframe tbody tr th:only-of-type {\n",
              "        vertical-align: middle;\n",
              "    }\n",
              "\n",
              "    .dataframe tbody tr th {\n",
              "        vertical-align: top;\n",
              "    }\n",
              "\n",
              "    .dataframe thead th {\n",
              "        text-align: right;\n",
              "    }\n",
              "</style>\n",
              "<table border=\"1\" class=\"dataframe\">\n",
              "  <thead>\n",
              "    <tr style=\"text-align: right;\">\n",
              "      <th></th>\n",
              "      <th>Predicted Orders</th>\n",
              "      <th>Real Orders</th>\n",
              "      <th>Diff</th>\n",
              "    </tr>\n",
              "  </thead>\n",
              "  <tbody>\n",
              "    <tr>\n",
              "      <th>0</th>\n",
              "      <td>100.011180</td>\n",
              "      <td>133</td>\n",
              "      <td>-32.988820</td>\n",
              "    </tr>\n",
              "    <tr>\n",
              "      <th>1</th>\n",
              "      <td>47.499033</td>\n",
              "      <td>41</td>\n",
              "      <td>6.499033</td>\n",
              "    </tr>\n",
              "    <tr>\n",
              "      <th>2</th>\n",
              "      <td>52.036968</td>\n",
              "      <td>33</td>\n",
              "      <td>19.036968</td>\n",
              "    </tr>\n",
              "    <tr>\n",
              "      <th>3</th>\n",
              "      <td>39.589394</td>\n",
              "      <td>44</td>\n",
              "      <td>-4.410606</td>\n",
              "    </tr>\n",
              "    <tr>\n",
              "      <th>4</th>\n",
              "      <td>41.290400</td>\n",
              "      <td>68</td>\n",
              "      <td>-26.709600</td>\n",
              "    </tr>\n",
              "  </tbody>\n",
              "</table>\n",
              "</div>\n",
              "      <button class=\"colab-df-convert\" onclick=\"convertToInteractive('df-fab93332-13b9-48da-8c19-e9264a6b49f6')\"\n",
              "              title=\"Convert this dataframe to an interactive table.\"\n",
              "              style=\"display:none;\">\n",
              "        \n",
              "  <svg xmlns=\"http://www.w3.org/2000/svg\" height=\"24px\"viewBox=\"0 0 24 24\"\n",
              "       width=\"24px\">\n",
              "    <path d=\"M0 0h24v24H0V0z\" fill=\"none\"/>\n",
              "    <path d=\"M18.56 5.44l.94 2.06.94-2.06 2.06-.94-2.06-.94-.94-2.06-.94 2.06-2.06.94zm-11 1L8.5 8.5l.94-2.06 2.06-.94-2.06-.94L8.5 2.5l-.94 2.06-2.06.94zm10 10l.94 2.06.94-2.06 2.06-.94-2.06-.94-.94-2.06-.94 2.06-2.06.94z\"/><path d=\"M17.41 7.96l-1.37-1.37c-.4-.4-.92-.59-1.43-.59-.52 0-1.04.2-1.43.59L10.3 9.45l-7.72 7.72c-.78.78-.78 2.05 0 2.83L4 21.41c.39.39.9.59 1.41.59.51 0 1.02-.2 1.41-.59l7.78-7.78 2.81-2.81c.8-.78.8-2.07 0-2.86zM5.41 20L4 18.59l7.72-7.72 1.47 1.35L5.41 20z\"/>\n",
              "  </svg>\n",
              "      </button>\n",
              "      \n",
              "  <style>\n",
              "    .colab-df-container {\n",
              "      display:flex;\n",
              "      flex-wrap:wrap;\n",
              "      gap: 12px;\n",
              "    }\n",
              "\n",
              "    .colab-df-convert {\n",
              "      background-color: #E8F0FE;\n",
              "      border: none;\n",
              "      border-radius: 50%;\n",
              "      cursor: pointer;\n",
              "      display: none;\n",
              "      fill: #1967D2;\n",
              "      height: 32px;\n",
              "      padding: 0 0 0 0;\n",
              "      width: 32px;\n",
              "    }\n",
              "\n",
              "    .colab-df-convert:hover {\n",
              "      background-color: #E2EBFA;\n",
              "      box-shadow: 0px 1px 2px rgba(60, 64, 67, 0.3), 0px 1px 3px 1px rgba(60, 64, 67, 0.15);\n",
              "      fill: #174EA6;\n",
              "    }\n",
              "\n",
              "    [theme=dark] .colab-df-convert {\n",
              "      background-color: #3B4455;\n",
              "      fill: #D2E3FC;\n",
              "    }\n",
              "\n",
              "    [theme=dark] .colab-df-convert:hover {\n",
              "      background-color: #434B5C;\n",
              "      box-shadow: 0px 1px 3px 1px rgba(0, 0, 0, 0.15);\n",
              "      filter: drop-shadow(0px 1px 2px rgba(0, 0, 0, 0.3));\n",
              "      fill: #FFFFFF;\n",
              "    }\n",
              "  </style>\n",
              "\n",
              "      <script>\n",
              "        const buttonEl =\n",
              "          document.querySelector('#df-fab93332-13b9-48da-8c19-e9264a6b49f6 button.colab-df-convert');\n",
              "        buttonEl.style.display =\n",
              "          google.colab.kernel.accessAllowed ? 'block' : 'none';\n",
              "\n",
              "        async function convertToInteractive(key) {\n",
              "          const element = document.querySelector('#df-fab93332-13b9-48da-8c19-e9264a6b49f6');\n",
              "          const dataTable =\n",
              "            await google.colab.kernel.invokeFunction('convertToInteractive',\n",
              "                                                     [key], {});\n",
              "          if (!dataTable) return;\n",
              "\n",
              "          const docLinkHtml = 'Like what you see? Visit the ' +\n",
              "            '<a target=\"_blank\" href=https://colab.research.google.com/notebooks/data_table.ipynb>data table notebook</a>'\n",
              "            + ' to learn more about interactive tables.';\n",
              "          element.innerHTML = '';\n",
              "          dataTable['output_type'] = 'display_data';\n",
              "          await google.colab.output.renderOutput(dataTable, element);\n",
              "          const docLink = document.createElement('div');\n",
              "          docLink.innerHTML = docLinkHtml;\n",
              "          element.appendChild(docLink);\n",
              "        }\n",
              "      </script>\n",
              "    </div>\n",
              "  </div>\n",
              "  "
            ]
          },
          "metadata": {},
          "execution_count": 33
        }
      ]
    },
    {
      "cell_type": "markdown",
      "source": [
        "Um comparativo estatístico dos dados reais e previstos é gerado."
      ],
      "metadata": {
        "id": "xXLTbhPXK4rY"
      }
    },
    {
      "cell_type": "code",
      "source": [
        "pd.DataFrame(data={\n",
        "  \"Predicted Orders\": y_pred.flatten(), \n",
        "  \"Real Orders\": y_test.flatten(),\n",
        "}).describe()"
      ],
      "metadata": {
        "colab": {
          "base_uri": "https://localhost:8080/",
          "height": 300
        },
        "id": "bLrIS_VkK7xp",
        "outputId": "dbe7de26-5ec6-46a6-805c-ccfd58bec9a5"
      },
      "execution_count": 34,
      "outputs": [
        {
          "output_type": "execute_result",
          "data": {
            "text/plain": [
              "       Predicted Orders   Real Orders\n",
              "count      37668.000000  37668.000000\n",
              "mean          68.185509     68.245062\n",
              "std           23.369261     30.374489\n",
              "min           28.863085      0.000000\n",
              "25%           50.808985     48.000000\n",
              "50%           66.360633     63.000000\n",
              "75%           85.064921     82.000000\n",
              "max          122.225267    309.000000"
            ],
            "text/html": [
              "\n",
              "  <div id=\"df-fe00b7c7-21e7-4fab-b115-c4ce3cb8f50e\">\n",
              "    <div class=\"colab-df-container\">\n",
              "      <div>\n",
              "<style scoped>\n",
              "    .dataframe tbody tr th:only-of-type {\n",
              "        vertical-align: middle;\n",
              "    }\n",
              "\n",
              "    .dataframe tbody tr th {\n",
              "        vertical-align: top;\n",
              "    }\n",
              "\n",
              "    .dataframe thead th {\n",
              "        text-align: right;\n",
              "    }\n",
              "</style>\n",
              "<table border=\"1\" class=\"dataframe\">\n",
              "  <thead>\n",
              "    <tr style=\"text-align: right;\">\n",
              "      <th></th>\n",
              "      <th>Predicted Orders</th>\n",
              "      <th>Real Orders</th>\n",
              "    </tr>\n",
              "  </thead>\n",
              "  <tbody>\n",
              "    <tr>\n",
              "      <th>count</th>\n",
              "      <td>37668.000000</td>\n",
              "      <td>37668.000000</td>\n",
              "    </tr>\n",
              "    <tr>\n",
              "      <th>mean</th>\n",
              "      <td>68.185509</td>\n",
              "      <td>68.245062</td>\n",
              "    </tr>\n",
              "    <tr>\n",
              "      <th>std</th>\n",
              "      <td>23.369261</td>\n",
              "      <td>30.374489</td>\n",
              "    </tr>\n",
              "    <tr>\n",
              "      <th>min</th>\n",
              "      <td>28.863085</td>\n",
              "      <td>0.000000</td>\n",
              "    </tr>\n",
              "    <tr>\n",
              "      <th>25%</th>\n",
              "      <td>50.808985</td>\n",
              "      <td>48.000000</td>\n",
              "    </tr>\n",
              "    <tr>\n",
              "      <th>50%</th>\n",
              "      <td>66.360633</td>\n",
              "      <td>63.000000</td>\n",
              "    </tr>\n",
              "    <tr>\n",
              "      <th>75%</th>\n",
              "      <td>85.064921</td>\n",
              "      <td>82.000000</td>\n",
              "    </tr>\n",
              "    <tr>\n",
              "      <th>max</th>\n",
              "      <td>122.225267</td>\n",
              "      <td>309.000000</td>\n",
              "    </tr>\n",
              "  </tbody>\n",
              "</table>\n",
              "</div>\n",
              "      <button class=\"colab-df-convert\" onclick=\"convertToInteractive('df-fe00b7c7-21e7-4fab-b115-c4ce3cb8f50e')\"\n",
              "              title=\"Convert this dataframe to an interactive table.\"\n",
              "              style=\"display:none;\">\n",
              "        \n",
              "  <svg xmlns=\"http://www.w3.org/2000/svg\" height=\"24px\"viewBox=\"0 0 24 24\"\n",
              "       width=\"24px\">\n",
              "    <path d=\"M0 0h24v24H0V0z\" fill=\"none\"/>\n",
              "    <path d=\"M18.56 5.44l.94 2.06.94-2.06 2.06-.94-2.06-.94-.94-2.06-.94 2.06-2.06.94zm-11 1L8.5 8.5l.94-2.06 2.06-.94-2.06-.94L8.5 2.5l-.94 2.06-2.06.94zm10 10l.94 2.06.94-2.06 2.06-.94-2.06-.94-.94-2.06-.94 2.06-2.06.94z\"/><path d=\"M17.41 7.96l-1.37-1.37c-.4-.4-.92-.59-1.43-.59-.52 0-1.04.2-1.43.59L10.3 9.45l-7.72 7.72c-.78.78-.78 2.05 0 2.83L4 21.41c.39.39.9.59 1.41.59.51 0 1.02-.2 1.41-.59l7.78-7.78 2.81-2.81c.8-.78.8-2.07 0-2.86zM5.41 20L4 18.59l7.72-7.72 1.47 1.35L5.41 20z\"/>\n",
              "  </svg>\n",
              "      </button>\n",
              "      \n",
              "  <style>\n",
              "    .colab-df-container {\n",
              "      display:flex;\n",
              "      flex-wrap:wrap;\n",
              "      gap: 12px;\n",
              "    }\n",
              "\n",
              "    .colab-df-convert {\n",
              "      background-color: #E8F0FE;\n",
              "      border: none;\n",
              "      border-radius: 50%;\n",
              "      cursor: pointer;\n",
              "      display: none;\n",
              "      fill: #1967D2;\n",
              "      height: 32px;\n",
              "      padding: 0 0 0 0;\n",
              "      width: 32px;\n",
              "    }\n",
              "\n",
              "    .colab-df-convert:hover {\n",
              "      background-color: #E2EBFA;\n",
              "      box-shadow: 0px 1px 2px rgba(60, 64, 67, 0.3), 0px 1px 3px 1px rgba(60, 64, 67, 0.15);\n",
              "      fill: #174EA6;\n",
              "    }\n",
              "\n",
              "    [theme=dark] .colab-df-convert {\n",
              "      background-color: #3B4455;\n",
              "      fill: #D2E3FC;\n",
              "    }\n",
              "\n",
              "    [theme=dark] .colab-df-convert:hover {\n",
              "      background-color: #434B5C;\n",
              "      box-shadow: 0px 1px 3px 1px rgba(0, 0, 0, 0.15);\n",
              "      filter: drop-shadow(0px 1px 2px rgba(0, 0, 0, 0.3));\n",
              "      fill: #FFFFFF;\n",
              "    }\n",
              "  </style>\n",
              "\n",
              "      <script>\n",
              "        const buttonEl =\n",
              "          document.querySelector('#df-fe00b7c7-21e7-4fab-b115-c4ce3cb8f50e button.colab-df-convert');\n",
              "        buttonEl.style.display =\n",
              "          google.colab.kernel.accessAllowed ? 'block' : 'none';\n",
              "\n",
              "        async function convertToInteractive(key) {\n",
              "          const element = document.querySelector('#df-fe00b7c7-21e7-4fab-b115-c4ce3cb8f50e');\n",
              "          const dataTable =\n",
              "            await google.colab.kernel.invokeFunction('convertToInteractive',\n",
              "                                                     [key], {});\n",
              "          if (!dataTable) return;\n",
              "\n",
              "          const docLinkHtml = 'Like what you see? Visit the ' +\n",
              "            '<a target=\"_blank\" href=https://colab.research.google.com/notebooks/data_table.ipynb>data table notebook</a>'\n",
              "            + ' to learn more about interactive tables.';\n",
              "          element.innerHTML = '';\n",
              "          dataTable['output_type'] = 'display_data';\n",
              "          await google.colab.output.renderOutput(dataTable, element);\n",
              "          const docLink = document.createElement('div');\n",
              "          docLink.innerHTML = docLinkHtml;\n",
              "          element.appendChild(docLink);\n",
              "        }\n",
              "      </script>\n",
              "    </div>\n",
              "  </div>\n",
              "  "
            ]
          },
          "metadata": {},
          "execution_count": 34
        }
      ]
    },
    {
      "cell_type": "markdown",
      "source": [
        "$MAE = \\dfrac{\\sum_{i=0}^n|y_i - x_i|}{n}$\n",
        "\n",
        "$MAE =$ Erro médio absoluto\n",
        "\n",
        "$y_i =$ previsão\n",
        "\n",
        "$x_i =$ valor real\n",
        "\n",
        "$n = $ número total de dados\n",
        "\n",
        "Calculamos o valor médio do erro absoluto encontrando um valor de 25.11%."
      ],
      "metadata": {
        "id": "UXT3CEWyK_qB"
      }
    },
    {
      "cell_type": "code",
      "source": [
        "v = mean_absolute_percentage_error(y_test+1,y_pred+1) \n",
        "\n",
        "print(f'{v*100:.2f}%')"
      ],
      "metadata": {
        "colab": {
          "base_uri": "https://localhost:8080/"
        },
        "id": "8rb9qKsELC6h",
        "outputId": "43fafc05-d006-4e43-a022-9022f5c9fc82"
      },
      "execution_count": 35,
      "outputs": [
        {
          "output_type": "stream",
          "name": "stdout",
          "text": [
            "25.11%\n"
          ]
        }
      ]
    },
    {
      "cell_type": "markdown",
      "source": [
        "Utilizando uma distribuição da densidade (KDE kernel density estimate), um comparativo entre as distribuições dos dados reais e preditivos é realizado, podemos observar que a curva apresenta uma sobreposição satisfatória, em especial ao redor da média onde os resultados são obtidos com precisão. Para valores com alto grau de dispersão o modelo não apresenta um bom desempenho."
      ],
      "metadata": {
        "id": "Ql2_HScmLGCR"
      }
    },
    {
      "cell_type": "code",
      "source": [
        "fix, ax = plt.subplots()\n",
        "sns.kdeplot(res[\"Predicted Orders\"], cumulative=True, color='orange', label='Predicted Orders')\n",
        "sns.kdeplot(res[\"Real Orders\"], cumulative=True, color='b', label='Real Orders')\n",
        "plt.show()"
      ],
      "metadata": {
        "colab": {
          "base_uri": "https://localhost:8080/",
          "height": 378
        },
        "id": "v5LAXHXYLHHB",
        "outputId": "b64d80cb-dfae-46bd-ba26-2a1d550cd34e"
      },
      "execution_count": 36,
      "outputs": [
        {
          "output_type": "display_data",
          "data": {
            "text/plain": [
              "<Figure size 432x288 with 1 Axes>"
            ],
            "image/svg+xml": "<?xml version=\"1.0\" encoding=\"utf-8\" standalone=\"no\"?>\n<!DOCTYPE svg PUBLIC \"-//W3C//DTD SVG 1.1//EN\"\n  \"http://www.w3.org/Graphics/SVG/1.1/DTD/svg11.dtd\">\n<!-- Created with matplotlib (https://matplotlib.org/) -->\n<svg height=\"267.599688pt\" version=\"1.1\" viewBox=\"0 0 391.807187 267.599688\" width=\"391.807187pt\" xmlns=\"http://www.w3.org/2000/svg\" xmlns:xlink=\"http://www.w3.org/1999/xlink\">\n <defs>\n  <style type=\"text/css\">\n*{stroke-linecap:butt;stroke-linejoin:round;}\n  </style>\n </defs>\n <g id=\"figure_1\">\n  <g id=\"patch_1\">\n   <path d=\"M 0 267.599688 \nL 391.807187 267.599688 \nL 391.807187 0 \nL 0 0 \nz\n\" style=\"fill:#ffffff;\"/>\n  </g>\n  <g id=\"axes_1\">\n   <g id=\"patch_2\">\n    <path d=\"M 49.807187 224.64 \nL 384.607188 224.64 \nL 384.607188 7.2 \nL 49.807187 7.2 \nz\n\" style=\"fill:#ffffff;\"/>\n   </g>\n   <g id=\"matplotlib.axis_1\">\n    <g id=\"xtick_1\">\n     <g id=\"line2d_1\">\n      <defs>\n       <path d=\"M 0 0 \nL 0 6 \n\" id=\"m4b02761e30\" style=\"stroke:#262626;stroke-width:1.25;\"/>\n      </defs>\n      <g>\n       <use style=\"fill:#262626;stroke:#262626;stroke-width:1.25;\" x=\"75.206537\" xlink:href=\"#m4b02761e30\" y=\"224.64\"/>\n      </g>\n     </g>\n     <g id=\"text_1\">\n      <!-- 0 -->\n      <defs>\n       <path d=\"M 31.78125 66.40625 \nQ 24.171875 66.40625 20.328125 58.90625 \nQ 16.5 51.421875 16.5 36.375 \nQ 16.5 21.390625 20.328125 13.890625 \nQ 24.171875 6.390625 31.78125 6.390625 \nQ 39.453125 6.390625 43.28125 13.890625 \nQ 47.125 21.390625 47.125 36.375 \nQ 47.125 51.421875 43.28125 58.90625 \nQ 39.453125 66.40625 31.78125 66.40625 \nz\nM 31.78125 74.21875 \nQ 44.046875 74.21875 50.515625 64.515625 \nQ 56.984375 54.828125 56.984375 36.375 \nQ 56.984375 17.96875 50.515625 8.265625 \nQ 44.046875 -1.421875 31.78125 -1.421875 \nQ 19.53125 -1.421875 13.0625 8.265625 \nQ 6.59375 17.96875 6.59375 36.375 \nQ 6.59375 54.828125 13.0625 64.515625 \nQ 19.53125 74.21875 31.78125 74.21875 \nz\n\" id=\"DejaVuSans-48\"/>\n      </defs>\n      <g style=\"fill:#262626;\" transform=\"translate(71.707162 242.498281)scale(0.11 -0.11)\">\n       <use xlink:href=\"#DejaVuSans-48\"/>\n      </g>\n     </g>\n    </g>\n    <g id=\"xtick_2\">\n     <g id=\"line2d_2\">\n      <g>\n       <use style=\"fill:#262626;stroke:#262626;stroke-width:1.25;\" x=\"121.16144\" xlink:href=\"#m4b02761e30\" y=\"224.64\"/>\n      </g>\n     </g>\n     <g id=\"text_2\">\n      <!-- 50 -->\n      <defs>\n       <path d=\"M 10.796875 72.90625 \nL 49.515625 72.90625 \nL 49.515625 64.59375 \nL 19.828125 64.59375 \nL 19.828125 46.734375 \nQ 21.96875 47.46875 24.109375 47.828125 \nQ 26.265625 48.1875 28.421875 48.1875 \nQ 40.625 48.1875 47.75 41.5 \nQ 54.890625 34.8125 54.890625 23.390625 \nQ 54.890625 11.625 47.5625 5.09375 \nQ 40.234375 -1.421875 26.90625 -1.421875 \nQ 22.3125 -1.421875 17.546875 -0.640625 \nQ 12.796875 0.140625 7.71875 1.703125 \nL 7.71875 11.625 \nQ 12.109375 9.234375 16.796875 8.0625 \nQ 21.484375 6.890625 26.703125 6.890625 \nQ 35.15625 6.890625 40.078125 11.328125 \nQ 45.015625 15.765625 45.015625 23.390625 \nQ 45.015625 31 40.078125 35.4375 \nQ 35.15625 39.890625 26.703125 39.890625 \nQ 22.75 39.890625 18.8125 39.015625 \nQ 14.890625 38.140625 10.796875 36.28125 \nz\n\" id=\"DejaVuSans-53\"/>\n      </defs>\n      <g style=\"fill:#262626;\" transform=\"translate(114.16269 242.498281)scale(0.11 -0.11)\">\n       <use xlink:href=\"#DejaVuSans-53\"/>\n       <use x=\"63.623047\" xlink:href=\"#DejaVuSans-48\"/>\n      </g>\n     </g>\n    </g>\n    <g id=\"xtick_3\">\n     <g id=\"line2d_3\">\n      <g>\n       <use style=\"fill:#262626;stroke:#262626;stroke-width:1.25;\" x=\"167.116343\" xlink:href=\"#m4b02761e30\" y=\"224.64\"/>\n      </g>\n     </g>\n     <g id=\"text_3\">\n      <!-- 100 -->\n      <defs>\n       <path d=\"M 12.40625 8.296875 \nL 28.515625 8.296875 \nL 28.515625 63.921875 \nL 10.984375 60.40625 \nL 10.984375 69.390625 \nL 28.421875 72.90625 \nL 38.28125 72.90625 \nL 38.28125 8.296875 \nL 54.390625 8.296875 \nL 54.390625 0 \nL 12.40625 0 \nz\n\" id=\"DejaVuSans-49\"/>\n      </defs>\n      <g style=\"fill:#262626;\" transform=\"translate(156.618218 242.498281)scale(0.11 -0.11)\">\n       <use xlink:href=\"#DejaVuSans-49\"/>\n       <use x=\"63.623047\" xlink:href=\"#DejaVuSans-48\"/>\n       <use x=\"127.246094\" xlink:href=\"#DejaVuSans-48\"/>\n      </g>\n     </g>\n    </g>\n    <g id=\"xtick_4\">\n     <g id=\"line2d_4\">\n      <g>\n       <use style=\"fill:#262626;stroke:#262626;stroke-width:1.25;\" x=\"213.071246\" xlink:href=\"#m4b02761e30\" y=\"224.64\"/>\n      </g>\n     </g>\n     <g id=\"text_4\">\n      <!-- 150 -->\n      <g style=\"fill:#262626;\" transform=\"translate(202.573121 242.498281)scale(0.11 -0.11)\">\n       <use xlink:href=\"#DejaVuSans-49\"/>\n       <use x=\"63.623047\" xlink:href=\"#DejaVuSans-53\"/>\n       <use x=\"127.246094\" xlink:href=\"#DejaVuSans-48\"/>\n      </g>\n     </g>\n    </g>\n    <g id=\"xtick_5\">\n     <g id=\"line2d_5\">\n      <g>\n       <use style=\"fill:#262626;stroke:#262626;stroke-width:1.25;\" x=\"259.026149\" xlink:href=\"#m4b02761e30\" y=\"224.64\"/>\n      </g>\n     </g>\n     <g id=\"text_5\">\n      <!-- 200 -->\n      <defs>\n       <path d=\"M 19.1875 8.296875 \nL 53.609375 8.296875 \nL 53.609375 0 \nL 7.328125 0 \nL 7.328125 8.296875 \nQ 12.9375 14.109375 22.625 23.890625 \nQ 32.328125 33.6875 34.8125 36.53125 \nQ 39.546875 41.84375 41.421875 45.53125 \nQ 43.3125 49.21875 43.3125 52.78125 \nQ 43.3125 58.59375 39.234375 62.25 \nQ 35.15625 65.921875 28.609375 65.921875 \nQ 23.96875 65.921875 18.8125 64.3125 \nQ 13.671875 62.703125 7.8125 59.421875 \nL 7.8125 69.390625 \nQ 13.765625 71.78125 18.9375 73 \nQ 24.125 74.21875 28.421875 74.21875 \nQ 39.75 74.21875 46.484375 68.546875 \nQ 53.21875 62.890625 53.21875 53.421875 \nQ 53.21875 48.921875 51.53125 44.890625 \nQ 49.859375 40.875 45.40625 35.40625 \nQ 44.1875 33.984375 37.640625 27.21875 \nQ 31.109375 20.453125 19.1875 8.296875 \nz\n\" id=\"DejaVuSans-50\"/>\n      </defs>\n      <g style=\"fill:#262626;\" transform=\"translate(248.528024 242.498281)scale(0.11 -0.11)\">\n       <use xlink:href=\"#DejaVuSans-50\"/>\n       <use x=\"63.623047\" xlink:href=\"#DejaVuSans-48\"/>\n       <use x=\"127.246094\" xlink:href=\"#DejaVuSans-48\"/>\n      </g>\n     </g>\n    </g>\n    <g id=\"xtick_6\">\n     <g id=\"line2d_6\">\n      <g>\n       <use style=\"fill:#262626;stroke:#262626;stroke-width:1.25;\" x=\"304.981053\" xlink:href=\"#m4b02761e30\" y=\"224.64\"/>\n      </g>\n     </g>\n     <g id=\"text_6\">\n      <!-- 250 -->\n      <g style=\"fill:#262626;\" transform=\"translate(294.482928 242.498281)scale(0.11 -0.11)\">\n       <use xlink:href=\"#DejaVuSans-50\"/>\n       <use x=\"63.623047\" xlink:href=\"#DejaVuSans-53\"/>\n       <use x=\"127.246094\" xlink:href=\"#DejaVuSans-48\"/>\n      </g>\n     </g>\n    </g>\n    <g id=\"xtick_7\">\n     <g id=\"line2d_7\">\n      <g>\n       <use style=\"fill:#262626;stroke:#262626;stroke-width:1.25;\" x=\"350.935956\" xlink:href=\"#m4b02761e30\" y=\"224.64\"/>\n      </g>\n     </g>\n     <g id=\"text_7\">\n      <!-- 300 -->\n      <defs>\n       <path d=\"M 40.578125 39.3125 \nQ 47.65625 37.796875 51.625 33 \nQ 55.609375 28.21875 55.609375 21.1875 \nQ 55.609375 10.40625 48.1875 4.484375 \nQ 40.765625 -1.421875 27.09375 -1.421875 \nQ 22.515625 -1.421875 17.65625 -0.515625 \nQ 12.796875 0.390625 7.625 2.203125 \nL 7.625 11.71875 \nQ 11.71875 9.328125 16.59375 8.109375 \nQ 21.484375 6.890625 26.8125 6.890625 \nQ 36.078125 6.890625 40.9375 10.546875 \nQ 45.796875 14.203125 45.796875 21.1875 \nQ 45.796875 27.640625 41.28125 31.265625 \nQ 36.765625 34.90625 28.71875 34.90625 \nL 20.21875 34.90625 \nL 20.21875 43.015625 \nL 29.109375 43.015625 \nQ 36.375 43.015625 40.234375 45.921875 \nQ 44.09375 48.828125 44.09375 54.296875 \nQ 44.09375 59.90625 40.109375 62.90625 \nQ 36.140625 65.921875 28.71875 65.921875 \nQ 24.65625 65.921875 20.015625 65.03125 \nQ 15.375 64.15625 9.8125 62.3125 \nL 9.8125 71.09375 \nQ 15.4375 72.65625 20.34375 73.4375 \nQ 25.25 74.21875 29.59375 74.21875 \nQ 40.828125 74.21875 47.359375 69.109375 \nQ 53.90625 64.015625 53.90625 55.328125 \nQ 53.90625 49.265625 50.4375 45.09375 \nQ 46.96875 40.921875 40.578125 39.3125 \nz\n\" id=\"DejaVuSans-51\"/>\n      </defs>\n      <g style=\"fill:#262626;\" transform=\"translate(340.437831 242.498281)scale(0.11 -0.11)\">\n       <use xlink:href=\"#DejaVuSans-51\"/>\n       <use x=\"63.623047\" xlink:href=\"#DejaVuSans-48\"/>\n       <use x=\"127.246094\" xlink:href=\"#DejaVuSans-48\"/>\n      </g>\n     </g>\n    </g>\n    <g id=\"text_8\">\n     <!-- Predicted Orders -->\n     <defs>\n      <path d=\"M 19.671875 64.796875 \nL 19.671875 37.40625 \nL 32.078125 37.40625 \nQ 38.96875 37.40625 42.71875 40.96875 \nQ 46.484375 44.53125 46.484375 51.125 \nQ 46.484375 57.671875 42.71875 61.234375 \nQ 38.96875 64.796875 32.078125 64.796875 \nz\nM 9.8125 72.90625 \nL 32.078125 72.90625 \nQ 44.34375 72.90625 50.609375 67.359375 \nQ 56.890625 61.8125 56.890625 51.125 \nQ 56.890625 40.328125 50.609375 34.8125 \nQ 44.34375 29.296875 32.078125 29.296875 \nL 19.671875 29.296875 \nL 19.671875 0 \nL 9.8125 0 \nz\n\" id=\"DejaVuSans-80\"/>\n      <path d=\"M 41.109375 46.296875 \nQ 39.59375 47.171875 37.8125 47.578125 \nQ 36.03125 48 33.890625 48 \nQ 26.265625 48 22.1875 43.046875 \nQ 18.109375 38.09375 18.109375 28.8125 \nL 18.109375 0 \nL 9.078125 0 \nL 9.078125 54.6875 \nL 18.109375 54.6875 \nL 18.109375 46.1875 \nQ 20.953125 51.171875 25.484375 53.578125 \nQ 30.03125 56 36.53125 56 \nQ 37.453125 56 38.578125 55.875 \nQ 39.703125 55.765625 41.0625 55.515625 \nz\n\" id=\"DejaVuSans-114\"/>\n      <path d=\"M 56.203125 29.59375 \nL 56.203125 25.203125 \nL 14.890625 25.203125 \nQ 15.484375 15.921875 20.484375 11.0625 \nQ 25.484375 6.203125 34.421875 6.203125 \nQ 39.59375 6.203125 44.453125 7.46875 \nQ 49.3125 8.734375 54.109375 11.28125 \nL 54.109375 2.78125 \nQ 49.265625 0.734375 44.1875 -0.34375 \nQ 39.109375 -1.421875 33.890625 -1.421875 \nQ 20.796875 -1.421875 13.15625 6.1875 \nQ 5.515625 13.8125 5.515625 26.8125 \nQ 5.515625 40.234375 12.765625 48.109375 \nQ 20.015625 56 32.328125 56 \nQ 43.359375 56 49.78125 48.890625 \nQ 56.203125 41.796875 56.203125 29.59375 \nz\nM 47.21875 32.234375 \nQ 47.125 39.59375 43.09375 43.984375 \nQ 39.0625 48.390625 32.421875 48.390625 \nQ 24.90625 48.390625 20.390625 44.140625 \nQ 15.875 39.890625 15.1875 32.171875 \nz\n\" id=\"DejaVuSans-101\"/>\n      <path d=\"M 45.40625 46.390625 \nL 45.40625 75.984375 \nL 54.390625 75.984375 \nL 54.390625 0 \nL 45.40625 0 \nL 45.40625 8.203125 \nQ 42.578125 3.328125 38.25 0.953125 \nQ 33.9375 -1.421875 27.875 -1.421875 \nQ 17.96875 -1.421875 11.734375 6.484375 \nQ 5.515625 14.40625 5.515625 27.296875 \nQ 5.515625 40.1875 11.734375 48.09375 \nQ 17.96875 56 27.875 56 \nQ 33.9375 56 38.25 53.625 \nQ 42.578125 51.265625 45.40625 46.390625 \nz\nM 14.796875 27.296875 \nQ 14.796875 17.390625 18.875 11.75 \nQ 22.953125 6.109375 30.078125 6.109375 \nQ 37.203125 6.109375 41.296875 11.75 \nQ 45.40625 17.390625 45.40625 27.296875 \nQ 45.40625 37.203125 41.296875 42.84375 \nQ 37.203125 48.484375 30.078125 48.484375 \nQ 22.953125 48.484375 18.875 42.84375 \nQ 14.796875 37.203125 14.796875 27.296875 \nz\n\" id=\"DejaVuSans-100\"/>\n      <path d=\"M 9.421875 54.6875 \nL 18.40625 54.6875 \nL 18.40625 0 \nL 9.421875 0 \nz\nM 9.421875 75.984375 \nL 18.40625 75.984375 \nL 18.40625 64.59375 \nL 9.421875 64.59375 \nz\n\" id=\"DejaVuSans-105\"/>\n      <path d=\"M 48.78125 52.59375 \nL 48.78125 44.1875 \nQ 44.96875 46.296875 41.140625 47.34375 \nQ 37.3125 48.390625 33.40625 48.390625 \nQ 24.65625 48.390625 19.8125 42.84375 \nQ 14.984375 37.3125 14.984375 27.296875 \nQ 14.984375 17.28125 19.8125 11.734375 \nQ 24.65625 6.203125 33.40625 6.203125 \nQ 37.3125 6.203125 41.140625 7.25 \nQ 44.96875 8.296875 48.78125 10.40625 \nL 48.78125 2.09375 \nQ 45.015625 0.34375 40.984375 -0.53125 \nQ 36.96875 -1.421875 32.421875 -1.421875 \nQ 20.0625 -1.421875 12.78125 6.34375 \nQ 5.515625 14.109375 5.515625 27.296875 \nQ 5.515625 40.671875 12.859375 48.328125 \nQ 20.21875 56 33.015625 56 \nQ 37.15625 56 41.109375 55.140625 \nQ 45.0625 54.296875 48.78125 52.59375 \nz\n\" id=\"DejaVuSans-99\"/>\n      <path d=\"M 18.3125 70.21875 \nL 18.3125 54.6875 \nL 36.8125 54.6875 \nL 36.8125 47.703125 \nL 18.3125 47.703125 \nL 18.3125 18.015625 \nQ 18.3125 11.328125 20.140625 9.421875 \nQ 21.96875 7.515625 27.59375 7.515625 \nL 36.8125 7.515625 \nL 36.8125 0 \nL 27.59375 0 \nQ 17.1875 0 13.234375 3.875 \nQ 9.28125 7.765625 9.28125 18.015625 \nL 9.28125 47.703125 \nL 2.6875 47.703125 \nL 2.6875 54.6875 \nL 9.28125 54.6875 \nL 9.28125 70.21875 \nz\n\" id=\"DejaVuSans-116\"/>\n      <path id=\"DejaVuSans-32\"/>\n      <path d=\"M 39.40625 66.21875 \nQ 28.65625 66.21875 22.328125 58.203125 \nQ 16.015625 50.203125 16.015625 36.375 \nQ 16.015625 22.609375 22.328125 14.59375 \nQ 28.65625 6.59375 39.40625 6.59375 \nQ 50.140625 6.59375 56.421875 14.59375 \nQ 62.703125 22.609375 62.703125 36.375 \nQ 62.703125 50.203125 56.421875 58.203125 \nQ 50.140625 66.21875 39.40625 66.21875 \nz\nM 39.40625 74.21875 \nQ 54.734375 74.21875 63.90625 63.9375 \nQ 73.09375 53.65625 73.09375 36.375 \nQ 73.09375 19.140625 63.90625 8.859375 \nQ 54.734375 -1.421875 39.40625 -1.421875 \nQ 24.03125 -1.421875 14.8125 8.828125 \nQ 5.609375 19.09375 5.609375 36.375 \nQ 5.609375 53.65625 14.8125 63.9375 \nQ 24.03125 74.21875 39.40625 74.21875 \nz\n\" id=\"DejaVuSans-79\"/>\n      <path d=\"M 44.28125 53.078125 \nL 44.28125 44.578125 \nQ 40.484375 46.53125 36.375 47.5 \nQ 32.28125 48.484375 27.875 48.484375 \nQ 21.1875 48.484375 17.84375 46.4375 \nQ 14.5 44.390625 14.5 40.28125 \nQ 14.5 37.15625 16.890625 35.375 \nQ 19.28125 33.59375 26.515625 31.984375 \nL 29.59375 31.296875 \nQ 39.15625 29.25 43.1875 25.515625 \nQ 47.21875 21.78125 47.21875 15.09375 \nQ 47.21875 7.46875 41.1875 3.015625 \nQ 35.15625 -1.421875 24.609375 -1.421875 \nQ 20.21875 -1.421875 15.453125 -0.5625 \nQ 10.6875 0.296875 5.421875 2 \nL 5.421875 11.28125 \nQ 10.40625 8.6875 15.234375 7.390625 \nQ 20.0625 6.109375 24.8125 6.109375 \nQ 31.15625 6.109375 34.5625 8.28125 \nQ 37.984375 10.453125 37.984375 14.40625 \nQ 37.984375 18.0625 35.515625 20.015625 \nQ 33.0625 21.96875 24.703125 23.78125 \nL 21.578125 24.515625 \nQ 13.234375 26.265625 9.515625 29.90625 \nQ 5.8125 33.546875 5.8125 39.890625 \nQ 5.8125 47.609375 11.28125 51.796875 \nQ 16.75 56 26.8125 56 \nQ 31.78125 56 36.171875 55.265625 \nQ 40.578125 54.546875 44.28125 53.078125 \nz\n\" id=\"DejaVuSans-115\"/>\n     </defs>\n     <g style=\"fill:#262626;\" transform=\"translate(166.958125 257.904063)scale(0.12 -0.12)\">\n      <use xlink:href=\"#DejaVuSans-80\"/>\n      <use x=\"58.552734\" xlink:href=\"#DejaVuSans-114\"/>\n      <use x=\"97.416016\" xlink:href=\"#DejaVuSans-101\"/>\n      <use x=\"158.939453\" xlink:href=\"#DejaVuSans-100\"/>\n      <use x=\"222.416016\" xlink:href=\"#DejaVuSans-105\"/>\n      <use x=\"250.199219\" xlink:href=\"#DejaVuSans-99\"/>\n      <use x=\"305.179688\" xlink:href=\"#DejaVuSans-116\"/>\n      <use x=\"344.388672\" xlink:href=\"#DejaVuSans-101\"/>\n      <use x=\"405.912109\" xlink:href=\"#DejaVuSans-100\"/>\n      <use x=\"469.388672\" xlink:href=\"#DejaVuSans-32\"/>\n      <use x=\"501.175781\" xlink:href=\"#DejaVuSans-79\"/>\n      <use x=\"579.886719\" xlink:href=\"#DejaVuSans-114\"/>\n      <use x=\"619.25\" xlink:href=\"#DejaVuSans-100\"/>\n      <use x=\"682.726562\" xlink:href=\"#DejaVuSans-101\"/>\n      <use x=\"744.25\" xlink:href=\"#DejaVuSans-114\"/>\n      <use x=\"785.363281\" xlink:href=\"#DejaVuSans-115\"/>\n     </g>\n    </g>\n   </g>\n   <g id=\"matplotlib.axis_2\">\n    <g id=\"ytick_1\">\n     <g id=\"line2d_8\">\n      <defs>\n       <path d=\"M 0 0 \nL -6 0 \n\" id=\"m2e47b211a1\" style=\"stroke:#262626;stroke-width:1.25;\"/>\n      </defs>\n      <g>\n       <use style=\"fill:#262626;stroke:#262626;stroke-width:1.25;\" x=\"49.807187\" xlink:href=\"#m2e47b211a1\" y=\"224.64\"/>\n      </g>\n     </g>\n     <g id=\"text_9\">\n      <!-- 0.0 -->\n      <defs>\n       <path d=\"M 10.6875 12.40625 \nL 21 12.40625 \nL 21 0 \nL 10.6875 0 \nz\n\" id=\"DejaVuSans-46\"/>\n      </defs>\n      <g style=\"fill:#262626;\" transform=\"translate(22.81375 228.819141)scale(0.11 -0.11)\">\n       <use xlink:href=\"#DejaVuSans-48\"/>\n       <use x=\"63.623047\" xlink:href=\"#DejaVuSans-46\"/>\n       <use x=\"95.410156\" xlink:href=\"#DejaVuSans-48\"/>\n      </g>\n     </g>\n    </g>\n    <g id=\"ytick_2\">\n     <g id=\"line2d_9\">\n      <g>\n       <use style=\"fill:#262626;stroke:#262626;stroke-width:1.25;\" x=\"49.807187\" xlink:href=\"#m2e47b211a1\" y=\"183.222849\"/>\n      </g>\n     </g>\n     <g id=\"text_10\">\n      <!-- 0.2 -->\n      <g style=\"fill:#262626;\" transform=\"translate(22.81375 187.40199)scale(0.11 -0.11)\">\n       <use xlink:href=\"#DejaVuSans-48\"/>\n       <use x=\"63.623047\" xlink:href=\"#DejaVuSans-46\"/>\n       <use x=\"95.410156\" xlink:href=\"#DejaVuSans-50\"/>\n      </g>\n     </g>\n    </g>\n    <g id=\"ytick_3\">\n     <g id=\"line2d_10\">\n      <g>\n       <use style=\"fill:#262626;stroke:#262626;stroke-width:1.25;\" x=\"49.807187\" xlink:href=\"#m2e47b211a1\" y=\"141.805698\"/>\n      </g>\n     </g>\n     <g id=\"text_11\">\n      <!-- 0.4 -->\n      <defs>\n       <path d=\"M 37.796875 64.3125 \nL 12.890625 25.390625 \nL 37.796875 25.390625 \nz\nM 35.203125 72.90625 \nL 47.609375 72.90625 \nL 47.609375 25.390625 \nL 58.015625 25.390625 \nL 58.015625 17.1875 \nL 47.609375 17.1875 \nL 47.609375 0 \nL 37.796875 0 \nL 37.796875 17.1875 \nL 4.890625 17.1875 \nL 4.890625 26.703125 \nz\n\" id=\"DejaVuSans-52\"/>\n      </defs>\n      <g style=\"fill:#262626;\" transform=\"translate(22.81375 145.984839)scale(0.11 -0.11)\">\n       <use xlink:href=\"#DejaVuSans-48\"/>\n       <use x=\"63.623047\" xlink:href=\"#DejaVuSans-46\"/>\n       <use x=\"95.410156\" xlink:href=\"#DejaVuSans-52\"/>\n      </g>\n     </g>\n    </g>\n    <g id=\"ytick_4\">\n     <g id=\"line2d_11\">\n      <g>\n       <use style=\"fill:#262626;stroke:#262626;stroke-width:1.25;\" x=\"49.807187\" xlink:href=\"#m2e47b211a1\" y=\"100.388547\"/>\n      </g>\n     </g>\n     <g id=\"text_12\">\n      <!-- 0.6 -->\n      <defs>\n       <path d=\"M 33.015625 40.375 \nQ 26.375 40.375 22.484375 35.828125 \nQ 18.609375 31.296875 18.609375 23.390625 \nQ 18.609375 15.53125 22.484375 10.953125 \nQ 26.375 6.390625 33.015625 6.390625 \nQ 39.65625 6.390625 43.53125 10.953125 \nQ 47.40625 15.53125 47.40625 23.390625 \nQ 47.40625 31.296875 43.53125 35.828125 \nQ 39.65625 40.375 33.015625 40.375 \nz\nM 52.59375 71.296875 \nL 52.59375 62.3125 \nQ 48.875 64.0625 45.09375 64.984375 \nQ 41.3125 65.921875 37.59375 65.921875 \nQ 27.828125 65.921875 22.671875 59.328125 \nQ 17.53125 52.734375 16.796875 39.40625 \nQ 19.671875 43.65625 24.015625 45.921875 \nQ 28.375 48.1875 33.59375 48.1875 \nQ 44.578125 48.1875 50.953125 41.515625 \nQ 57.328125 34.859375 57.328125 23.390625 \nQ 57.328125 12.15625 50.6875 5.359375 \nQ 44.046875 -1.421875 33.015625 -1.421875 \nQ 20.359375 -1.421875 13.671875 8.265625 \nQ 6.984375 17.96875 6.984375 36.375 \nQ 6.984375 53.65625 15.1875 63.9375 \nQ 23.390625 74.21875 37.203125 74.21875 \nQ 40.921875 74.21875 44.703125 73.484375 \nQ 48.484375 72.75 52.59375 71.296875 \nz\n\" id=\"DejaVuSans-54\"/>\n      </defs>\n      <g style=\"fill:#262626;\" transform=\"translate(22.81375 104.567687)scale(0.11 -0.11)\">\n       <use xlink:href=\"#DejaVuSans-48\"/>\n       <use x=\"63.623047\" xlink:href=\"#DejaVuSans-46\"/>\n       <use x=\"95.410156\" xlink:href=\"#DejaVuSans-54\"/>\n      </g>\n     </g>\n    </g>\n    <g id=\"ytick_5\">\n     <g id=\"line2d_12\">\n      <g>\n       <use style=\"fill:#262626;stroke:#262626;stroke-width:1.25;\" x=\"49.807187\" xlink:href=\"#m2e47b211a1\" y=\"58.971396\"/>\n      </g>\n     </g>\n     <g id=\"text_13\">\n      <!-- 0.8 -->\n      <defs>\n       <path d=\"M 31.78125 34.625 \nQ 24.75 34.625 20.71875 30.859375 \nQ 16.703125 27.09375 16.703125 20.515625 \nQ 16.703125 13.921875 20.71875 10.15625 \nQ 24.75 6.390625 31.78125 6.390625 \nQ 38.8125 6.390625 42.859375 10.171875 \nQ 46.921875 13.96875 46.921875 20.515625 \nQ 46.921875 27.09375 42.890625 30.859375 \nQ 38.875 34.625 31.78125 34.625 \nz\nM 21.921875 38.8125 \nQ 15.578125 40.375 12.03125 44.71875 \nQ 8.5 49.078125 8.5 55.328125 \nQ 8.5 64.0625 14.71875 69.140625 \nQ 20.953125 74.21875 31.78125 74.21875 \nQ 42.671875 74.21875 48.875 69.140625 \nQ 55.078125 64.0625 55.078125 55.328125 \nQ 55.078125 49.078125 51.53125 44.71875 \nQ 48 40.375 41.703125 38.8125 \nQ 48.828125 37.15625 52.796875 32.3125 \nQ 56.78125 27.484375 56.78125 20.515625 \nQ 56.78125 9.90625 50.3125 4.234375 \nQ 43.84375 -1.421875 31.78125 -1.421875 \nQ 19.734375 -1.421875 13.25 4.234375 \nQ 6.78125 9.90625 6.78125 20.515625 \nQ 6.78125 27.484375 10.78125 32.3125 \nQ 14.796875 37.15625 21.921875 38.8125 \nz\nM 18.3125 54.390625 \nQ 18.3125 48.734375 21.84375 45.5625 \nQ 25.390625 42.390625 31.78125 42.390625 \nQ 38.140625 42.390625 41.71875 45.5625 \nQ 45.3125 48.734375 45.3125 54.390625 \nQ 45.3125 60.0625 41.71875 63.234375 \nQ 38.140625 66.40625 31.78125 66.40625 \nQ 25.390625 66.40625 21.84375 63.234375 \nQ 18.3125 60.0625 18.3125 54.390625 \nz\n\" id=\"DejaVuSans-56\"/>\n      </defs>\n      <g style=\"fill:#262626;\" transform=\"translate(22.81375 63.150536)scale(0.11 -0.11)\">\n       <use xlink:href=\"#DejaVuSans-48\"/>\n       <use x=\"63.623047\" xlink:href=\"#DejaVuSans-46\"/>\n       <use x=\"95.410156\" xlink:href=\"#DejaVuSans-56\"/>\n      </g>\n     </g>\n    </g>\n    <g id=\"ytick_6\">\n     <g id=\"line2d_13\">\n      <g>\n       <use style=\"fill:#262626;stroke:#262626;stroke-width:1.25;\" x=\"49.807187\" xlink:href=\"#m2e47b211a1\" y=\"17.554245\"/>\n      </g>\n     </g>\n     <g id=\"text_14\">\n      <!-- 1.0 -->\n      <g style=\"fill:#262626;\" transform=\"translate(22.81375 21.733385)scale(0.11 -0.11)\">\n       <use xlink:href=\"#DejaVuSans-49\"/>\n       <use x=\"63.623047\" xlink:href=\"#DejaVuSans-46\"/>\n       <use x=\"95.410156\" xlink:href=\"#DejaVuSans-48\"/>\n      </g>\n     </g>\n    </g>\n    <g id=\"text_15\">\n     <!-- Density -->\n     <defs>\n      <path d=\"M 19.671875 64.796875 \nL 19.671875 8.109375 \nL 31.59375 8.109375 \nQ 46.6875 8.109375 53.6875 14.9375 \nQ 60.6875 21.78125 60.6875 36.53125 \nQ 60.6875 51.171875 53.6875 57.984375 \nQ 46.6875 64.796875 31.59375 64.796875 \nz\nM 9.8125 72.90625 \nL 30.078125 72.90625 \nQ 51.265625 72.90625 61.171875 64.09375 \nQ 71.09375 55.28125 71.09375 36.53125 \nQ 71.09375 17.671875 61.125 8.828125 \nQ 51.171875 0 30.078125 0 \nL 9.8125 0 \nz\n\" id=\"DejaVuSans-68\"/>\n      <path d=\"M 54.890625 33.015625 \nL 54.890625 0 \nL 45.90625 0 \nL 45.90625 32.71875 \nQ 45.90625 40.484375 42.875 44.328125 \nQ 39.84375 48.1875 33.796875 48.1875 \nQ 26.515625 48.1875 22.3125 43.546875 \nQ 18.109375 38.921875 18.109375 30.90625 \nL 18.109375 0 \nL 9.078125 0 \nL 9.078125 54.6875 \nL 18.109375 54.6875 \nL 18.109375 46.1875 \nQ 21.34375 51.125 25.703125 53.5625 \nQ 30.078125 56 35.796875 56 \nQ 45.21875 56 50.046875 50.171875 \nQ 54.890625 44.34375 54.890625 33.015625 \nz\n\" id=\"DejaVuSans-110\"/>\n      <path d=\"M 32.171875 -5.078125 \nQ 28.375 -14.84375 24.75 -17.8125 \nQ 21.140625 -20.796875 15.09375 -20.796875 \nL 7.90625 -20.796875 \nL 7.90625 -13.28125 \nL 13.1875 -13.28125 \nQ 16.890625 -13.28125 18.9375 -11.515625 \nQ 21 -9.765625 23.484375 -3.21875 \nL 25.09375 0.875 \nL 2.984375 54.6875 \nL 12.5 54.6875 \nL 29.59375 11.921875 \nL 46.6875 54.6875 \nL 56.203125 54.6875 \nz\n\" id=\"DejaVuSans-121\"/>\n     </defs>\n     <g style=\"fill:#262626;\" transform=\"translate(16.318125 138.730313)rotate(-90)scale(0.12 -0.12)\">\n      <use xlink:href=\"#DejaVuSans-68\"/>\n      <use x=\"77.001953\" xlink:href=\"#DejaVuSans-101\"/>\n      <use x=\"138.525391\" xlink:href=\"#DejaVuSans-110\"/>\n      <use x=\"201.904297\" xlink:href=\"#DejaVuSans-115\"/>\n      <use x=\"254.003906\" xlink:href=\"#DejaVuSans-105\"/>\n      <use x=\"281.787109\" xlink:href=\"#DejaVuSans-116\"/>\n      <use x=\"320.996094\" xlink:href=\"#DejaVuSans-121\"/>\n     </g>\n    </g>\n   </g>\n   <g id=\"line2d_14\">\n    <path clip-path=\"url(#p9a114751f5)\" d=\"M 93.901443 224.64 \nL 98.490774 224.520707 \nL 100.020551 224.302011 \nL 101.550328 223.835769 \nL 102.570179 223.309822 \nL 103.59003 222.55271 \nL 104.609881 221.531395 \nL 105.629733 220.250485 \nL 107.15951 217.949937 \nL 109.199212 214.478268 \nL 111.238914 210.628249 \nL 112.768691 207.345648 \nL 114.298468 203.572914 \nL 115.828245 199.195033 \nL 117.358022 194.171721 \nL 118.887799 188.484413 \nL 120.417576 181.969342 \nL 121.947352 174.27112 \nL 123.477129 165.194283 \nL 126.026757 149.29561 \nL 127.046609 144.128401 \nL 128.06646 140.153378 \nL 129.086311 137.251021 \nL 132.145865 130.165818 \nL 133.165716 126.507733 \nL 134.185567 121.549418 \nL 135.205419 115.302331 \nL 138.774898 91.395379 \nL 139.794749 86.645045 \nL 140.8146 83.221618 \nL 141.834452 80.891805 \nL 142.854303 79.361938 \nL 143.874154 78.382378 \nL 144.894005 77.767073 \nL 146.423782 77.202676 \nL 147.953559 76.606584 \nL 148.97341 75.881366 \nL 149.993261 74.656156 \nL 151.013113 72.7824 \nL 152.032964 70.254775 \nL 155.602443 60.269682 \nL 156.622294 58.466219 \nL 157.642146 57.32235 \nL 158.661997 56.67196 \nL 160.191774 56.141858 \nL 161.211625 55.784695 \nL 162.231476 55.205815 \nL 163.251327 54.223459 \nL 164.271179 52.677214 \nL 165.29103 50.482914 \nL 166.310881 47.697106 \nL 169.880361 37.08309 \nL 170.900212 34.906037 \nL 171.920063 33.304118 \nL 172.939914 32.221365 \nL 173.959765 31.554701 \nL 174.979617 31.185353 \nL 176.509394 30.955228 \nL 179.568947 30.86855 \nL 181.60865 30.728456 \nL 182.628501 30.483496 \nL 183.648352 29.977309 \nL 184.668203 29.077437 \nL 185.688055 27.701406 \nL 186.707906 25.891517 \nL 189.257534 20.963958 \nL 190.277385 19.521675 \nL 191.297236 18.558556 \nL 192.317088 18.005358 \nL 193.336939 17.732055 \nL 194.866716 17.589043 \nL 195.376641 17.573475 \nL 195.376641 17.573475 \n\" style=\"fill:none;stroke:#ffa500;stroke-linecap:round;stroke-width:1.5;\"/>\n   </g>\n   <g id=\"line2d_15\">\n    <path clip-path=\"url(#p9a114751f5)\" d=\"M 65.025369 224.64 \nL 75.731628 224.53319 \nL 78.790559 224.258216 \nL 81.84949 223.732123 \nL 92.555748 221.448355 \nL 94.085214 220.977546 \nL 95.61468 220.367535 \nL 97.144145 219.574411 \nL 98.673611 218.557497 \nL 100.203076 217.282107 \nL 101.732542 215.720732 \nL 103.262007 213.851033 \nL 104.791473 211.6521 \nL 106.320938 209.10364 \nL 107.850404 206.189781 \nL 109.379869 202.902453 \nL 110.909335 199.239938 \nL 112.4388 195.204893 \nL 115.497731 186.077636 \nL 118.556662 175.769576 \nL 121.615593 164.545725 \nL 126.20399 146.566725 \nL 130.792386 128.572029 \nL 133.851317 117.130735 \nL 136.910248 106.340862 \nL 139.969179 96.399097 \nL 143.02811 87.46125 \nL 146.087041 79.532433 \nL 149.145972 72.527305 \nL 152.204903 66.386477 \nL 155.263834 61.020323 \nL 158.322765 56.243476 \nL 161.381696 51.916021 \nL 164.440627 48.037788 \nL 167.499558 44.602895 \nL 170.558489 41.515522 \nL 173.61742 38.721887 \nL 176.676352 36.220519 \nL 179.735283 34.004309 \nL 182.794214 32.068342 \nL 185.853145 30.38572 \nL 188.912076 28.909161 \nL 193.500472 26.998841 \nL 198.088869 25.373182 \nL 202.677265 23.970872 \nL 207.265662 22.807948 \nL 211.854058 21.908051 \nL 217.97192 20.957433 \nL 224.089782 20.209637 \nL 231.73711 19.516305 \nL 239.384437 19.015447 \nL 250.090696 18.505668 \nL 262.32642 18.161005 \nL 282.209472 17.83153 \nL 308.210385 17.647215 \nL 338.799695 17.577191 \nL 369.389006 17.554286 \nL 369.389006 17.554286 \n\" style=\"fill:none;stroke:#4c72b0;stroke-linecap:round;stroke-width:1.5;\"/>\n   </g>\n   <g id=\"patch_3\">\n    <path d=\"M 49.807187 224.64 \nL 49.807187 7.2 \n\" style=\"fill:none;stroke:#262626;stroke-linecap:square;stroke-linejoin:miter;stroke-width:1.25;\"/>\n   </g>\n   <g id=\"patch_4\">\n    <path d=\"M 384.607188 224.64 \nL 384.607188 7.2 \n\" style=\"fill:none;stroke:#262626;stroke-linecap:square;stroke-linejoin:miter;stroke-width:1.25;\"/>\n   </g>\n   <g id=\"patch_5\">\n    <path d=\"M 49.807187 224.64 \nL 384.607188 224.64 \n\" style=\"fill:none;stroke:#262626;stroke-linecap:square;stroke-linejoin:miter;stroke-width:1.25;\"/>\n   </g>\n   <g id=\"patch_6\">\n    <path d=\"M 49.807187 7.2 \nL 384.607188 7.2 \n\" style=\"fill:none;stroke:#262626;stroke-linecap:square;stroke-linejoin:miter;stroke-width:1.25;\"/>\n   </g>\n  </g>\n </g>\n <defs>\n  <clipPath id=\"p9a114751f5\">\n   <rect height=\"217.44\" width=\"334.8\" x=\"49.807187\" y=\"7.2\"/>\n  </clipPath>\n </defs>\n</svg>\n"
          },
          "metadata": {}
        }
      ]
    }
  ]
}